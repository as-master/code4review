{
 "cells": [
  {
   "cell_type": "markdown",
   "metadata": {},
   "source": [
    "# Определение стоимости автомобилей"
   ]
  },
  {
   "cell_type": "markdown",
   "metadata": {},
   "source": [
    "Сервис по продаже автомобилей с пробегом «Не бит, не крашен» разрабатывает приложение для привлечения новых клиентов. В нём можно быстро узнать рыночную стоимость своего автомобиля. В вашем распоряжении исторические данные: технические характеристики, комплектации и цены автомобилей. Вам нужно построить модель для определения стоимости. \n",
    "\n",
    "Заказчику важны:\n",
    "\n",
    "- качество предсказания;\n",
    "- скорость предсказания;\n",
    "- время обучения."
   ]
  },
  {
   "cell_type": "markdown",
   "metadata": {},
   "source": [
    "## Подготовка данных"
   ]
  },
  {
   "cell_type": "markdown",
   "metadata": {},
   "source": [
    "### Загрузка данных"
   ]
  },
  {
   "cell_type": "code",
   "execution_count": 1,
   "metadata": {},
   "outputs": [],
   "source": [
    "# Импорт необходимых библиотек для дальнейщего анализа данных: \n",
    "import pandas as pd\n",
    "import numpy as np\n",
    "import matplotlib.pyplot as plt\n",
    "import timeit"
   ]
  },
  {
   "cell_type": "code",
   "execution_count": 2,
   "metadata": {},
   "outputs": [],
   "source": [
    "# импорт библиотек ML\n",
    "from sklearn.preprocessing import OrdinalEncoder\n",
    "\n",
    "from sklearn.model_selection import train_test_split\n",
    "from sklearn.metrics import mean_squared_error, mean_absolute_error\n",
    "from sklearn.preprocessing import StandardScaler\n",
    "from sklearn.dummy import DummyRegressor\n",
    "from sklearn.model_selection import GridSearchCV\n",
    "\n",
    "from lightgbm import LGBMRegressor\n",
    "\n",
    "from catboost import CatBoostRegressor"
   ]
  },
  {
   "cell_type": "code",
   "execution_count": 3,
   "metadata": {},
   "outputs": [],
   "source": [
    "# Изменим настройки отображения количества строк и столбцов исходя из размера датафреймов\n",
    "pd.set_option(\"max_rows\", 151)\n",
    "pd.set_option(\"max_columns\", 20)"
   ]
  },
  {
   "cell_type": "code",
   "execution_count": 4,
   "metadata": {},
   "outputs": [],
   "source": [
    "try:\n",
    "    df = pd.read_csv('/datasets/autos.csv')\n",
    "except FileNotFoundError as err:\n",
    "    print ('Упс! Нет данных по адресу:', err)\n",
    "    df = pd.read_csv('autos.csv')"
   ]
  },
  {
   "cell_type": "code",
   "execution_count": 5,
   "metadata": {},
   "outputs": [
    {
     "name": "stdout",
     "output_type": "stream",
     "text": [
      "<class 'pandas.core.frame.DataFrame'>\n",
      "RangeIndex: 354369 entries, 0 to 354368\n",
      "Data columns (total 16 columns):\n",
      "DateCrawled          354369 non-null object\n",
      "Price                354369 non-null int64\n",
      "VehicleType          316879 non-null object\n",
      "RegistrationYear     354369 non-null int64\n",
      "Gearbox              334536 non-null object\n",
      "Power                354369 non-null int64\n",
      "Model                334664 non-null object\n",
      "Kilometer            354369 non-null int64\n",
      "RegistrationMonth    354369 non-null int64\n",
      "FuelType             321474 non-null object\n",
      "Brand                354369 non-null object\n",
      "NotRepaired          283215 non-null object\n",
      "DateCreated          354369 non-null object\n",
      "NumberOfPictures     354369 non-null int64\n",
      "PostalCode           354369 non-null int64\n",
      "LastSeen             354369 non-null object\n",
      "dtypes: int64(7), object(9)\n",
      "memory usage: 43.3+ MB\n"
     ]
    }
   ],
   "source": [
    "# Данные обучающей выборки\n",
    "df.info()"
   ]
  },
  {
   "cell_type": "code",
   "execution_count": 6,
   "metadata": {},
   "outputs": [],
   "source": [
    "# Количество строк в исходных данных\n",
    "initial_row_qnt = df.shape[0]"
   ]
  },
  {
   "cell_type": "code",
   "execution_count": 7,
   "metadata": {},
   "outputs": [
    {
     "data": {
      "text/html": [
       "<div>\n",
       "<style scoped>\n",
       "    .dataframe tbody tr th:only-of-type {\n",
       "        vertical-align: middle;\n",
       "    }\n",
       "\n",
       "    .dataframe tbody tr th {\n",
       "        vertical-align: top;\n",
       "    }\n",
       "\n",
       "    .dataframe thead th {\n",
       "        text-align: right;\n",
       "    }\n",
       "</style>\n",
       "<table border=\"1\" class=\"dataframe\">\n",
       "  <thead>\n",
       "    <tr style=\"text-align: right;\">\n",
       "      <th></th>\n",
       "      <th>DateCrawled</th>\n",
       "      <th>Price</th>\n",
       "      <th>VehicleType</th>\n",
       "      <th>RegistrationYear</th>\n",
       "      <th>Gearbox</th>\n",
       "      <th>Power</th>\n",
       "      <th>Model</th>\n",
       "      <th>Kilometer</th>\n",
       "      <th>RegistrationMonth</th>\n",
       "      <th>FuelType</th>\n",
       "      <th>Brand</th>\n",
       "      <th>NotRepaired</th>\n",
       "      <th>DateCreated</th>\n",
       "      <th>NumberOfPictures</th>\n",
       "      <th>PostalCode</th>\n",
       "      <th>LastSeen</th>\n",
       "    </tr>\n",
       "  </thead>\n",
       "  <tbody>\n",
       "    <tr>\n",
       "      <td>0</td>\n",
       "      <td>2016-03-24 11:52:17</td>\n",
       "      <td>480</td>\n",
       "      <td>NaN</td>\n",
       "      <td>1993</td>\n",
       "      <td>manual</td>\n",
       "      <td>0</td>\n",
       "      <td>golf</td>\n",
       "      <td>150000</td>\n",
       "      <td>0</td>\n",
       "      <td>petrol</td>\n",
       "      <td>volkswagen</td>\n",
       "      <td>NaN</td>\n",
       "      <td>2016-03-24 00:00:00</td>\n",
       "      <td>0</td>\n",
       "      <td>70435</td>\n",
       "      <td>2016-04-07 03:16:57</td>\n",
       "    </tr>\n",
       "    <tr>\n",
       "      <td>1</td>\n",
       "      <td>2016-03-24 10:58:45</td>\n",
       "      <td>18300</td>\n",
       "      <td>coupe</td>\n",
       "      <td>2011</td>\n",
       "      <td>manual</td>\n",
       "      <td>190</td>\n",
       "      <td>NaN</td>\n",
       "      <td>125000</td>\n",
       "      <td>5</td>\n",
       "      <td>gasoline</td>\n",
       "      <td>audi</td>\n",
       "      <td>yes</td>\n",
       "      <td>2016-03-24 00:00:00</td>\n",
       "      <td>0</td>\n",
       "      <td>66954</td>\n",
       "      <td>2016-04-07 01:46:50</td>\n",
       "    </tr>\n",
       "    <tr>\n",
       "      <td>2</td>\n",
       "      <td>2016-03-14 12:52:21</td>\n",
       "      <td>9800</td>\n",
       "      <td>suv</td>\n",
       "      <td>2004</td>\n",
       "      <td>auto</td>\n",
       "      <td>163</td>\n",
       "      <td>grand</td>\n",
       "      <td>125000</td>\n",
       "      <td>8</td>\n",
       "      <td>gasoline</td>\n",
       "      <td>jeep</td>\n",
       "      <td>NaN</td>\n",
       "      <td>2016-03-14 00:00:00</td>\n",
       "      <td>0</td>\n",
       "      <td>90480</td>\n",
       "      <td>2016-04-05 12:47:46</td>\n",
       "    </tr>\n",
       "    <tr>\n",
       "      <td>3</td>\n",
       "      <td>2016-03-17 16:54:04</td>\n",
       "      <td>1500</td>\n",
       "      <td>small</td>\n",
       "      <td>2001</td>\n",
       "      <td>manual</td>\n",
       "      <td>75</td>\n",
       "      <td>golf</td>\n",
       "      <td>150000</td>\n",
       "      <td>6</td>\n",
       "      <td>petrol</td>\n",
       "      <td>volkswagen</td>\n",
       "      <td>no</td>\n",
       "      <td>2016-03-17 00:00:00</td>\n",
       "      <td>0</td>\n",
       "      <td>91074</td>\n",
       "      <td>2016-03-17 17:40:17</td>\n",
       "    </tr>\n",
       "    <tr>\n",
       "      <td>4</td>\n",
       "      <td>2016-03-31 17:25:20</td>\n",
       "      <td>3600</td>\n",
       "      <td>small</td>\n",
       "      <td>2008</td>\n",
       "      <td>manual</td>\n",
       "      <td>69</td>\n",
       "      <td>fabia</td>\n",
       "      <td>90000</td>\n",
       "      <td>7</td>\n",
       "      <td>gasoline</td>\n",
       "      <td>skoda</td>\n",
       "      <td>no</td>\n",
       "      <td>2016-03-31 00:00:00</td>\n",
       "      <td>0</td>\n",
       "      <td>60437</td>\n",
       "      <td>2016-04-06 10:17:21</td>\n",
       "    </tr>\n",
       "    <tr>\n",
       "      <td>5</td>\n",
       "      <td>2016-04-04 17:36:23</td>\n",
       "      <td>650</td>\n",
       "      <td>sedan</td>\n",
       "      <td>1995</td>\n",
       "      <td>manual</td>\n",
       "      <td>102</td>\n",
       "      <td>3er</td>\n",
       "      <td>150000</td>\n",
       "      <td>10</td>\n",
       "      <td>petrol</td>\n",
       "      <td>bmw</td>\n",
       "      <td>yes</td>\n",
       "      <td>2016-04-04 00:00:00</td>\n",
       "      <td>0</td>\n",
       "      <td>33775</td>\n",
       "      <td>2016-04-06 19:17:07</td>\n",
       "    </tr>\n",
       "    <tr>\n",
       "      <td>6</td>\n",
       "      <td>2016-04-01 20:48:51</td>\n",
       "      <td>2200</td>\n",
       "      <td>convertible</td>\n",
       "      <td>2004</td>\n",
       "      <td>manual</td>\n",
       "      <td>109</td>\n",
       "      <td>2_reihe</td>\n",
       "      <td>150000</td>\n",
       "      <td>8</td>\n",
       "      <td>petrol</td>\n",
       "      <td>peugeot</td>\n",
       "      <td>no</td>\n",
       "      <td>2016-04-01 00:00:00</td>\n",
       "      <td>0</td>\n",
       "      <td>67112</td>\n",
       "      <td>2016-04-05 18:18:39</td>\n",
       "    </tr>\n",
       "    <tr>\n",
       "      <td>7</td>\n",
       "      <td>2016-03-21 18:54:38</td>\n",
       "      <td>0</td>\n",
       "      <td>sedan</td>\n",
       "      <td>1980</td>\n",
       "      <td>manual</td>\n",
       "      <td>50</td>\n",
       "      <td>other</td>\n",
       "      <td>40000</td>\n",
       "      <td>7</td>\n",
       "      <td>petrol</td>\n",
       "      <td>volkswagen</td>\n",
       "      <td>no</td>\n",
       "      <td>2016-03-21 00:00:00</td>\n",
       "      <td>0</td>\n",
       "      <td>19348</td>\n",
       "      <td>2016-03-25 16:47:58</td>\n",
       "    </tr>\n",
       "    <tr>\n",
       "      <td>8</td>\n",
       "      <td>2016-04-04 23:42:13</td>\n",
       "      <td>14500</td>\n",
       "      <td>bus</td>\n",
       "      <td>2014</td>\n",
       "      <td>manual</td>\n",
       "      <td>125</td>\n",
       "      <td>c_max</td>\n",
       "      <td>30000</td>\n",
       "      <td>8</td>\n",
       "      <td>petrol</td>\n",
       "      <td>ford</td>\n",
       "      <td>NaN</td>\n",
       "      <td>2016-04-04 00:00:00</td>\n",
       "      <td>0</td>\n",
       "      <td>94505</td>\n",
       "      <td>2016-04-04 23:42:13</td>\n",
       "    </tr>\n",
       "    <tr>\n",
       "      <td>9</td>\n",
       "      <td>2016-03-17 10:53:50</td>\n",
       "      <td>999</td>\n",
       "      <td>small</td>\n",
       "      <td>1998</td>\n",
       "      <td>manual</td>\n",
       "      <td>101</td>\n",
       "      <td>golf</td>\n",
       "      <td>150000</td>\n",
       "      <td>0</td>\n",
       "      <td>NaN</td>\n",
       "      <td>volkswagen</td>\n",
       "      <td>NaN</td>\n",
       "      <td>2016-03-17 00:00:00</td>\n",
       "      <td>0</td>\n",
       "      <td>27472</td>\n",
       "      <td>2016-03-31 17:17:06</td>\n",
       "    </tr>\n",
       "    <tr>\n",
       "      <td>10</td>\n",
       "      <td>2016-03-26 19:54:18</td>\n",
       "      <td>2000</td>\n",
       "      <td>sedan</td>\n",
       "      <td>2004</td>\n",
       "      <td>manual</td>\n",
       "      <td>105</td>\n",
       "      <td>3_reihe</td>\n",
       "      <td>150000</td>\n",
       "      <td>12</td>\n",
       "      <td>petrol</td>\n",
       "      <td>mazda</td>\n",
       "      <td>no</td>\n",
       "      <td>2016-03-26 00:00:00</td>\n",
       "      <td>0</td>\n",
       "      <td>96224</td>\n",
       "      <td>2016-04-06 10:45:34</td>\n",
       "    </tr>\n",
       "    <tr>\n",
       "      <td>11</td>\n",
       "      <td>2016-04-07 10:06:22</td>\n",
       "      <td>2799</td>\n",
       "      <td>wagon</td>\n",
       "      <td>2005</td>\n",
       "      <td>manual</td>\n",
       "      <td>140</td>\n",
       "      <td>passat</td>\n",
       "      <td>150000</td>\n",
       "      <td>12</td>\n",
       "      <td>gasoline</td>\n",
       "      <td>volkswagen</td>\n",
       "      <td>yes</td>\n",
       "      <td>2016-04-07 00:00:00</td>\n",
       "      <td>0</td>\n",
       "      <td>57290</td>\n",
       "      <td>2016-04-07 10:25:17</td>\n",
       "    </tr>\n",
       "    <tr>\n",
       "      <td>12</td>\n",
       "      <td>2016-03-15 22:49:09</td>\n",
       "      <td>999</td>\n",
       "      <td>wagon</td>\n",
       "      <td>1995</td>\n",
       "      <td>manual</td>\n",
       "      <td>115</td>\n",
       "      <td>passat</td>\n",
       "      <td>150000</td>\n",
       "      <td>11</td>\n",
       "      <td>petrol</td>\n",
       "      <td>volkswagen</td>\n",
       "      <td>NaN</td>\n",
       "      <td>2016-03-15 00:00:00</td>\n",
       "      <td>0</td>\n",
       "      <td>37269</td>\n",
       "      <td>2016-04-01 13:16:16</td>\n",
       "    </tr>\n",
       "    <tr>\n",
       "      <td>13</td>\n",
       "      <td>2016-03-21 21:37:40</td>\n",
       "      <td>2500</td>\n",
       "      <td>wagon</td>\n",
       "      <td>2004</td>\n",
       "      <td>manual</td>\n",
       "      <td>131</td>\n",
       "      <td>passat</td>\n",
       "      <td>150000</td>\n",
       "      <td>2</td>\n",
       "      <td>NaN</td>\n",
       "      <td>volkswagen</td>\n",
       "      <td>no</td>\n",
       "      <td>2016-03-21 00:00:00</td>\n",
       "      <td>0</td>\n",
       "      <td>90762</td>\n",
       "      <td>2016-03-23 02:50:54</td>\n",
       "    </tr>\n",
       "    <tr>\n",
       "      <td>14</td>\n",
       "      <td>2016-03-21 12:57:01</td>\n",
       "      <td>17999</td>\n",
       "      <td>suv</td>\n",
       "      <td>2011</td>\n",
       "      <td>manual</td>\n",
       "      <td>190</td>\n",
       "      <td>navara</td>\n",
       "      <td>70000</td>\n",
       "      <td>3</td>\n",
       "      <td>gasoline</td>\n",
       "      <td>nissan</td>\n",
       "      <td>no</td>\n",
       "      <td>2016-03-21 00:00:00</td>\n",
       "      <td>0</td>\n",
       "      <td>4177</td>\n",
       "      <td>2016-04-06 07:45:42</td>\n",
       "    </tr>\n",
       "    <tr>\n",
       "      <td>15</td>\n",
       "      <td>2016-03-11 21:39:15</td>\n",
       "      <td>450</td>\n",
       "      <td>small</td>\n",
       "      <td>1910</td>\n",
       "      <td>NaN</td>\n",
       "      <td>0</td>\n",
       "      <td>ka</td>\n",
       "      <td>5000</td>\n",
       "      <td>0</td>\n",
       "      <td>petrol</td>\n",
       "      <td>ford</td>\n",
       "      <td>NaN</td>\n",
       "      <td>2016-03-11 00:00:00</td>\n",
       "      <td>0</td>\n",
       "      <td>24148</td>\n",
       "      <td>2016-03-19 08:46:47</td>\n",
       "    </tr>\n",
       "    <tr>\n",
       "      <td>16</td>\n",
       "      <td>2016-04-01 12:46:46</td>\n",
       "      <td>300</td>\n",
       "      <td>NaN</td>\n",
       "      <td>2016</td>\n",
       "      <td>NaN</td>\n",
       "      <td>60</td>\n",
       "      <td>polo</td>\n",
       "      <td>150000</td>\n",
       "      <td>0</td>\n",
       "      <td>petrol</td>\n",
       "      <td>volkswagen</td>\n",
       "      <td>NaN</td>\n",
       "      <td>2016-04-01 00:00:00</td>\n",
       "      <td>0</td>\n",
       "      <td>38871</td>\n",
       "      <td>2016-04-01 12:46:46</td>\n",
       "    </tr>\n",
       "    <tr>\n",
       "      <td>17</td>\n",
       "      <td>2016-03-20 10:25:19</td>\n",
       "      <td>1750</td>\n",
       "      <td>small</td>\n",
       "      <td>2004</td>\n",
       "      <td>auto</td>\n",
       "      <td>75</td>\n",
       "      <td>twingo</td>\n",
       "      <td>150000</td>\n",
       "      <td>2</td>\n",
       "      <td>petrol</td>\n",
       "      <td>renault</td>\n",
       "      <td>no</td>\n",
       "      <td>2016-03-20 00:00:00</td>\n",
       "      <td>0</td>\n",
       "      <td>65599</td>\n",
       "      <td>2016-04-06 13:16:07</td>\n",
       "    </tr>\n",
       "    <tr>\n",
       "      <td>18</td>\n",
       "      <td>2016-03-23 15:48:05</td>\n",
       "      <td>7550</td>\n",
       "      <td>bus</td>\n",
       "      <td>2007</td>\n",
       "      <td>manual</td>\n",
       "      <td>136</td>\n",
       "      <td>c_max</td>\n",
       "      <td>150000</td>\n",
       "      <td>6</td>\n",
       "      <td>gasoline</td>\n",
       "      <td>ford</td>\n",
       "      <td>no</td>\n",
       "      <td>2016-03-23 00:00:00</td>\n",
       "      <td>0</td>\n",
       "      <td>88361</td>\n",
       "      <td>2016-04-05 18:45:11</td>\n",
       "    </tr>\n",
       "    <tr>\n",
       "      <td>19</td>\n",
       "      <td>2016-04-01 22:55:47</td>\n",
       "      <td>1850</td>\n",
       "      <td>bus</td>\n",
       "      <td>2004</td>\n",
       "      <td>manual</td>\n",
       "      <td>102</td>\n",
       "      <td>a_klasse</td>\n",
       "      <td>150000</td>\n",
       "      <td>1</td>\n",
       "      <td>petrol</td>\n",
       "      <td>mercedes_benz</td>\n",
       "      <td>no</td>\n",
       "      <td>2016-04-01 00:00:00</td>\n",
       "      <td>0</td>\n",
       "      <td>49565</td>\n",
       "      <td>2016-04-05 22:46:05</td>\n",
       "    </tr>\n",
       "    <tr>\n",
       "      <td>20</td>\n",
       "      <td>2016-04-01 19:56:48</td>\n",
       "      <td>10400</td>\n",
       "      <td>coupe</td>\n",
       "      <td>2009</td>\n",
       "      <td>manual</td>\n",
       "      <td>160</td>\n",
       "      <td>scirocco</td>\n",
       "      <td>100000</td>\n",
       "      <td>4</td>\n",
       "      <td>petrol</td>\n",
       "      <td>volkswagen</td>\n",
       "      <td>no</td>\n",
       "      <td>2016-04-01 00:00:00</td>\n",
       "      <td>0</td>\n",
       "      <td>75365</td>\n",
       "      <td>2016-04-05 16:45:49</td>\n",
       "    </tr>\n",
       "    <tr>\n",
       "      <td>21</td>\n",
       "      <td>2016-03-27 11:38:00</td>\n",
       "      <td>3699</td>\n",
       "      <td>sedan</td>\n",
       "      <td>2002</td>\n",
       "      <td>auto</td>\n",
       "      <td>231</td>\n",
       "      <td>5er</td>\n",
       "      <td>150000</td>\n",
       "      <td>7</td>\n",
       "      <td>petrol</td>\n",
       "      <td>bmw</td>\n",
       "      <td>no</td>\n",
       "      <td>2016-03-27 00:00:00</td>\n",
       "      <td>0</td>\n",
       "      <td>68309</td>\n",
       "      <td>2016-04-07 06:44:26</td>\n",
       "    </tr>\n",
       "    <tr>\n",
       "      <td>22</td>\n",
       "      <td>2016-03-23 14:52:51</td>\n",
       "      <td>2900</td>\n",
       "      <td>NaN</td>\n",
       "      <td>2018</td>\n",
       "      <td>manual</td>\n",
       "      <td>90</td>\n",
       "      <td>meriva</td>\n",
       "      <td>150000</td>\n",
       "      <td>5</td>\n",
       "      <td>petrol</td>\n",
       "      <td>opel</td>\n",
       "      <td>no</td>\n",
       "      <td>2016-03-23 00:00:00</td>\n",
       "      <td>0</td>\n",
       "      <td>49716</td>\n",
       "      <td>2016-03-31 01:16:33</td>\n",
       "    </tr>\n",
       "    <tr>\n",
       "      <td>23</td>\n",
       "      <td>2016-03-12 19:43:07</td>\n",
       "      <td>450</td>\n",
       "      <td>small</td>\n",
       "      <td>1997</td>\n",
       "      <td>manual</td>\n",
       "      <td>50</td>\n",
       "      <td>arosa</td>\n",
       "      <td>150000</td>\n",
       "      <td>5</td>\n",
       "      <td>petrol</td>\n",
       "      <td>seat</td>\n",
       "      <td>no</td>\n",
       "      <td>2016-03-12 00:00:00</td>\n",
       "      <td>0</td>\n",
       "      <td>9526</td>\n",
       "      <td>2016-03-21 01:46:11</td>\n",
       "    </tr>\n",
       "    <tr>\n",
       "      <td>24</td>\n",
       "      <td>2016-03-13 20:40:49</td>\n",
       "      <td>500</td>\n",
       "      <td>sedan</td>\n",
       "      <td>1990</td>\n",
       "      <td>manual</td>\n",
       "      <td>118</td>\n",
       "      <td>other</td>\n",
       "      <td>150000</td>\n",
       "      <td>10</td>\n",
       "      <td>petrol</td>\n",
       "      <td>mercedes_benz</td>\n",
       "      <td>yes</td>\n",
       "      <td>2016-03-13 00:00:00</td>\n",
       "      <td>0</td>\n",
       "      <td>35390</td>\n",
       "      <td>2016-03-13 20:40:49</td>\n",
       "    </tr>\n",
       "    <tr>\n",
       "      <td>25</td>\n",
       "      <td>2016-03-18 21:44:09</td>\n",
       "      <td>2500</td>\n",
       "      <td>wagon</td>\n",
       "      <td>2002</td>\n",
       "      <td>auto</td>\n",
       "      <td>193</td>\n",
       "      <td>5er</td>\n",
       "      <td>150000</td>\n",
       "      <td>9</td>\n",
       "      <td>gasoline</td>\n",
       "      <td>bmw</td>\n",
       "      <td>yes</td>\n",
       "      <td>2016-03-18 00:00:00</td>\n",
       "      <td>0</td>\n",
       "      <td>73765</td>\n",
       "      <td>2016-03-18 21:44:09</td>\n",
       "    </tr>\n",
       "    <tr>\n",
       "      <td>26</td>\n",
       "      <td>2016-03-10 19:38:18</td>\n",
       "      <td>5555</td>\n",
       "      <td>NaN</td>\n",
       "      <td>2017</td>\n",
       "      <td>manual</td>\n",
       "      <td>125</td>\n",
       "      <td>c4</td>\n",
       "      <td>125000</td>\n",
       "      <td>4</td>\n",
       "      <td>NaN</td>\n",
       "      <td>citroen</td>\n",
       "      <td>no</td>\n",
       "      <td>2016-03-10 00:00:00</td>\n",
       "      <td>0</td>\n",
       "      <td>31139</td>\n",
       "      <td>2016-03-16 09:16:46</td>\n",
       "    </tr>\n",
       "    <tr>\n",
       "      <td>27</td>\n",
       "      <td>2016-03-07 12:51:23</td>\n",
       "      <td>6900</td>\n",
       "      <td>sedan</td>\n",
       "      <td>2008</td>\n",
       "      <td>manual</td>\n",
       "      <td>99</td>\n",
       "      <td>civic</td>\n",
       "      <td>60000</td>\n",
       "      <td>11</td>\n",
       "      <td>petrol</td>\n",
       "      <td>honda</td>\n",
       "      <td>no</td>\n",
       "      <td>2016-03-07 00:00:00</td>\n",
       "      <td>0</td>\n",
       "      <td>12621</td>\n",
       "      <td>2016-03-26 09:44:53</td>\n",
       "    </tr>\n",
       "    <tr>\n",
       "      <td>28</td>\n",
       "      <td>2016-03-09 11:56:38</td>\n",
       "      <td>1990</td>\n",
       "      <td>bus</td>\n",
       "      <td>1981</td>\n",
       "      <td>manual</td>\n",
       "      <td>50</td>\n",
       "      <td>transporter</td>\n",
       "      <td>5000</td>\n",
       "      <td>1</td>\n",
       "      <td>petrol</td>\n",
       "      <td>volkswagen</td>\n",
       "      <td>no</td>\n",
       "      <td>2016-03-09 00:00:00</td>\n",
       "      <td>0</td>\n",
       "      <td>87471</td>\n",
       "      <td>2016-03-10 07:44:33</td>\n",
       "    </tr>\n",
       "    <tr>\n",
       "      <td>29</td>\n",
       "      <td>2016-03-08 19:55:19</td>\n",
       "      <td>690</td>\n",
       "      <td>small</td>\n",
       "      <td>2003</td>\n",
       "      <td>manual</td>\n",
       "      <td>60</td>\n",
       "      <td>punto</td>\n",
       "      <td>150000</td>\n",
       "      <td>3</td>\n",
       "      <td>petrol</td>\n",
       "      <td>fiat</td>\n",
       "      <td>no</td>\n",
       "      <td>2016-03-08 00:00:00</td>\n",
       "      <td>0</td>\n",
       "      <td>86199</td>\n",
       "      <td>2016-03-09 11:45:28</td>\n",
       "    </tr>\n",
       "    <tr>\n",
       "      <td>30</td>\n",
       "      <td>2016-04-03 15:48:11</td>\n",
       "      <td>3300</td>\n",
       "      <td>sedan</td>\n",
       "      <td>1995</td>\n",
       "      <td>auto</td>\n",
       "      <td>113</td>\n",
       "      <td>e_klasse</td>\n",
       "      <td>150000</td>\n",
       "      <td>1</td>\n",
       "      <td>gasoline</td>\n",
       "      <td>mercedes_benz</td>\n",
       "      <td>no</td>\n",
       "      <td>2016-04-03 00:00:00</td>\n",
       "      <td>0</td>\n",
       "      <td>53879</td>\n",
       "      <td>2016-04-05 15:16:05</td>\n",
       "    </tr>\n",
       "    <tr>\n",
       "      <td>31</td>\n",
       "      <td>2016-03-29 16:57:02</td>\n",
       "      <td>899</td>\n",
       "      <td>NaN</td>\n",
       "      <td>2016</td>\n",
       "      <td>manual</td>\n",
       "      <td>60</td>\n",
       "      <td>clio</td>\n",
       "      <td>150000</td>\n",
       "      <td>6</td>\n",
       "      <td>petrol</td>\n",
       "      <td>renault</td>\n",
       "      <td>NaN</td>\n",
       "      <td>2016-03-29 00:00:00</td>\n",
       "      <td>0</td>\n",
       "      <td>37075</td>\n",
       "      <td>2016-03-29 17:43:07</td>\n",
       "    </tr>\n",
       "    <tr>\n",
       "      <td>32</td>\n",
       "      <td>2016-03-15 20:59:01</td>\n",
       "      <td>245</td>\n",
       "      <td>sedan</td>\n",
       "      <td>1994</td>\n",
       "      <td>NaN</td>\n",
       "      <td>0</td>\n",
       "      <td>golf</td>\n",
       "      <td>150000</td>\n",
       "      <td>2</td>\n",
       "      <td>petrol</td>\n",
       "      <td>volkswagen</td>\n",
       "      <td>no</td>\n",
       "      <td>2016-03-15 00:00:00</td>\n",
       "      <td>0</td>\n",
       "      <td>44145</td>\n",
       "      <td>2016-03-17 18:17:43</td>\n",
       "    </tr>\n",
       "    <tr>\n",
       "      <td>33</td>\n",
       "      <td>2016-03-25 21:48:47</td>\n",
       "      <td>18000</td>\n",
       "      <td>sedan</td>\n",
       "      <td>2007</td>\n",
       "      <td>auto</td>\n",
       "      <td>218</td>\n",
       "      <td>3er</td>\n",
       "      <td>20000</td>\n",
       "      <td>5</td>\n",
       "      <td>petrol</td>\n",
       "      <td>bmw</td>\n",
       "      <td>no</td>\n",
       "      <td>2016-03-25 00:00:00</td>\n",
       "      <td>0</td>\n",
       "      <td>39179</td>\n",
       "      <td>2016-04-07 04:45:21</td>\n",
       "    </tr>\n",
       "    <tr>\n",
       "      <td>34</td>\n",
       "      <td>2016-03-17 18:55:12</td>\n",
       "      <td>3500</td>\n",
       "      <td>sedan</td>\n",
       "      <td>2004</td>\n",
       "      <td>auto</td>\n",
       "      <td>122</td>\n",
       "      <td>e_klasse</td>\n",
       "      <td>150000</td>\n",
       "      <td>11</td>\n",
       "      <td>gasoline</td>\n",
       "      <td>mercedes_benz</td>\n",
       "      <td>no</td>\n",
       "      <td>2016-03-17 00:00:00</td>\n",
       "      <td>0</td>\n",
       "      <td>67071</td>\n",
       "      <td>2016-03-30 15:46:10</td>\n",
       "    </tr>\n",
       "    <tr>\n",
       "      <td>35</td>\n",
       "      <td>2016-03-08 07:54:46</td>\n",
       "      <td>350</td>\n",
       "      <td>NaN</td>\n",
       "      <td>2016</td>\n",
       "      <td>manual</td>\n",
       "      <td>75</td>\n",
       "      <td>golf</td>\n",
       "      <td>150000</td>\n",
       "      <td>4</td>\n",
       "      <td>petrol</td>\n",
       "      <td>volkswagen</td>\n",
       "      <td>no</td>\n",
       "      <td>2016-03-08 00:00:00</td>\n",
       "      <td>0</td>\n",
       "      <td>19386</td>\n",
       "      <td>2016-03-08 09:44:50</td>\n",
       "    </tr>\n",
       "    <tr>\n",
       "      <td>36</td>\n",
       "      <td>2016-03-11 11:50:37</td>\n",
       "      <td>1600</td>\n",
       "      <td>other</td>\n",
       "      <td>1991</td>\n",
       "      <td>manual</td>\n",
       "      <td>75</td>\n",
       "      <td>kadett</td>\n",
       "      <td>70000</td>\n",
       "      <td>0</td>\n",
       "      <td>NaN</td>\n",
       "      <td>opel</td>\n",
       "      <td>NaN</td>\n",
       "      <td>2016-03-11 00:00:00</td>\n",
       "      <td>0</td>\n",
       "      <td>2943</td>\n",
       "      <td>2016-04-07 03:46:09</td>\n",
       "    </tr>\n",
       "    <tr>\n",
       "      <td>37</td>\n",
       "      <td>2016-03-28 17:50:15</td>\n",
       "      <td>1500</td>\n",
       "      <td>NaN</td>\n",
       "      <td>2016</td>\n",
       "      <td>NaN</td>\n",
       "      <td>0</td>\n",
       "      <td>kangoo</td>\n",
       "      <td>150000</td>\n",
       "      <td>1</td>\n",
       "      <td>gasoline</td>\n",
       "      <td>renault</td>\n",
       "      <td>no</td>\n",
       "      <td>2016-03-28 00:00:00</td>\n",
       "      <td>0</td>\n",
       "      <td>46483</td>\n",
       "      <td>2016-03-30 09:18:02</td>\n",
       "    </tr>\n",
       "    <tr>\n",
       "      <td>38</td>\n",
       "      <td>2016-04-01 17:45:07</td>\n",
       "      <td>11900</td>\n",
       "      <td>other</td>\n",
       "      <td>2002</td>\n",
       "      <td>manual</td>\n",
       "      <td>129</td>\n",
       "      <td>other</td>\n",
       "      <td>150000</td>\n",
       "      <td>11</td>\n",
       "      <td>gasoline</td>\n",
       "      <td>volkswagen</td>\n",
       "      <td>no</td>\n",
       "      <td>2016-04-01 00:00:00</td>\n",
       "      <td>0</td>\n",
       "      <td>10551</td>\n",
       "      <td>2016-04-05 12:47:30</td>\n",
       "    </tr>\n",
       "    <tr>\n",
       "      <td>39</td>\n",
       "      <td>2016-03-25 15:50:30</td>\n",
       "      <td>1500</td>\n",
       "      <td>bus</td>\n",
       "      <td>1984</td>\n",
       "      <td>manual</td>\n",
       "      <td>70</td>\n",
       "      <td>other</td>\n",
       "      <td>150000</td>\n",
       "      <td>8</td>\n",
       "      <td>gasoline</td>\n",
       "      <td>mercedes_benz</td>\n",
       "      <td>no</td>\n",
       "      <td>2016-03-25 00:00:00</td>\n",
       "      <td>0</td>\n",
       "      <td>22767</td>\n",
       "      <td>2016-03-27 03:17:02</td>\n",
       "    </tr>\n",
       "    <tr>\n",
       "      <td>40</td>\n",
       "      <td>2016-03-26 22:06:17</td>\n",
       "      <td>0</td>\n",
       "      <td>NaN</td>\n",
       "      <td>1990</td>\n",
       "      <td>NaN</td>\n",
       "      <td>0</td>\n",
       "      <td>corsa</td>\n",
       "      <td>150000</td>\n",
       "      <td>1</td>\n",
       "      <td>petrol</td>\n",
       "      <td>opel</td>\n",
       "      <td>NaN</td>\n",
       "      <td>2016-03-26 00:00:00</td>\n",
       "      <td>0</td>\n",
       "      <td>56412</td>\n",
       "      <td>2016-03-27 17:43:34</td>\n",
       "    </tr>\n",
       "    <tr>\n",
       "      <td>41</td>\n",
       "      <td>2016-03-30 20:38:20</td>\n",
       "      <td>7500</td>\n",
       "      <td>sedan</td>\n",
       "      <td>2002</td>\n",
       "      <td>auto</td>\n",
       "      <td>306</td>\n",
       "      <td>e_klasse</td>\n",
       "      <td>150000</td>\n",
       "      <td>4</td>\n",
       "      <td>NaN</td>\n",
       "      <td>mercedes_benz</td>\n",
       "      <td>NaN</td>\n",
       "      <td>2016-03-30 00:00:00</td>\n",
       "      <td>0</td>\n",
       "      <td>33649</td>\n",
       "      <td>2016-04-03 11:44:49</td>\n",
       "    </tr>\n",
       "    <tr>\n",
       "      <td>42</td>\n",
       "      <td>2016-03-24 00:52:09</td>\n",
       "      <td>12500</td>\n",
       "      <td>sedan</td>\n",
       "      <td>2006</td>\n",
       "      <td>auto</td>\n",
       "      <td>231</td>\n",
       "      <td>5er</td>\n",
       "      <td>150000</td>\n",
       "      <td>11</td>\n",
       "      <td>gasoline</td>\n",
       "      <td>bmw</td>\n",
       "      <td>NaN</td>\n",
       "      <td>2016-03-23 00:00:00</td>\n",
       "      <td>0</td>\n",
       "      <td>46119</td>\n",
       "      <td>2016-04-04 16:18:19</td>\n",
       "    </tr>\n",
       "    <tr>\n",
       "      <td>43</td>\n",
       "      <td>2016-03-13 15:47:08</td>\n",
       "      <td>6990</td>\n",
       "      <td>sedan</td>\n",
       "      <td>2007</td>\n",
       "      <td>manual</td>\n",
       "      <td>95</td>\n",
       "      <td>one</td>\n",
       "      <td>100000</td>\n",
       "      <td>8</td>\n",
       "      <td>petrol</td>\n",
       "      <td>mini</td>\n",
       "      <td>no</td>\n",
       "      <td>2016-03-13 00:00:00</td>\n",
       "      <td>0</td>\n",
       "      <td>59174</td>\n",
       "      <td>2016-03-21 17:17:50</td>\n",
       "    </tr>\n",
       "    <tr>\n",
       "      <td>44</td>\n",
       "      <td>2016-03-17 12:44:43</td>\n",
       "      <td>3900</td>\n",
       "      <td>small</td>\n",
       "      <td>2008</td>\n",
       "      <td>auto</td>\n",
       "      <td>61</td>\n",
       "      <td>fortwo</td>\n",
       "      <td>80000</td>\n",
       "      <td>6</td>\n",
       "      <td>petrol</td>\n",
       "      <td>smart</td>\n",
       "      <td>NaN</td>\n",
       "      <td>2016-03-17 00:00:00</td>\n",
       "      <td>0</td>\n",
       "      <td>21073</td>\n",
       "      <td>2016-03-19 11:46:17</td>\n",
       "    </tr>\n",
       "    <tr>\n",
       "      <td>45</td>\n",
       "      <td>2016-03-29 18:57:46</td>\n",
       "      <td>590</td>\n",
       "      <td>small</td>\n",
       "      <td>1999</td>\n",
       "      <td>manual</td>\n",
       "      <td>75</td>\n",
       "      <td>clio</td>\n",
       "      <td>125000</td>\n",
       "      <td>8</td>\n",
       "      <td>petrol</td>\n",
       "      <td>renault</td>\n",
       "      <td>no</td>\n",
       "      <td>2016-03-29 00:00:00</td>\n",
       "      <td>0</td>\n",
       "      <td>84180</td>\n",
       "      <td>2016-03-29 18:57:46</td>\n",
       "    </tr>\n",
       "    <tr>\n",
       "      <td>46</td>\n",
       "      <td>2016-03-15 18:59:02</td>\n",
       "      <td>7999</td>\n",
       "      <td>sedan</td>\n",
       "      <td>2007</td>\n",
       "      <td>manual</td>\n",
       "      <td>177</td>\n",
       "      <td>1er</td>\n",
       "      <td>150000</td>\n",
       "      <td>8</td>\n",
       "      <td>gasoline</td>\n",
       "      <td>bmw</td>\n",
       "      <td>no</td>\n",
       "      <td>2016-03-15 00:00:00</td>\n",
       "      <td>0</td>\n",
       "      <td>53604</td>\n",
       "      <td>2016-03-16 16:47:48</td>\n",
       "    </tr>\n",
       "    <tr>\n",
       "      <td>47</td>\n",
       "      <td>2016-04-04 00:38:22</td>\n",
       "      <td>2100</td>\n",
       "      <td>wagon</td>\n",
       "      <td>1998</td>\n",
       "      <td>auto</td>\n",
       "      <td>193</td>\n",
       "      <td>5er</td>\n",
       "      <td>150000</td>\n",
       "      <td>2</td>\n",
       "      <td>petrol</td>\n",
       "      <td>bmw</td>\n",
       "      <td>no</td>\n",
       "      <td>2016-04-03 00:00:00</td>\n",
       "      <td>0</td>\n",
       "      <td>86157</td>\n",
       "      <td>2016-04-06 08:16:21</td>\n",
       "    </tr>\n",
       "    <tr>\n",
       "      <td>48</td>\n",
       "      <td>2016-03-25 14:40:12</td>\n",
       "      <td>7750</td>\n",
       "      <td>NaN</td>\n",
       "      <td>2017</td>\n",
       "      <td>manual</td>\n",
       "      <td>80</td>\n",
       "      <td>golf</td>\n",
       "      <td>100000</td>\n",
       "      <td>1</td>\n",
       "      <td>petrol</td>\n",
       "      <td>volkswagen</td>\n",
       "      <td>NaN</td>\n",
       "      <td>2016-03-25 00:00:00</td>\n",
       "      <td>0</td>\n",
       "      <td>48499</td>\n",
       "      <td>2016-03-31 21:47:44</td>\n",
       "    </tr>\n",
       "    <tr>\n",
       "      <td>49</td>\n",
       "      <td>2016-04-04 14:06:22</td>\n",
       "      <td>13500</td>\n",
       "      <td>bus</td>\n",
       "      <td>2012</td>\n",
       "      <td>auto</td>\n",
       "      <td>109</td>\n",
       "      <td>b_klasse</td>\n",
       "      <td>150000</td>\n",
       "      <td>7</td>\n",
       "      <td>gasoline</td>\n",
       "      <td>mercedes_benz</td>\n",
       "      <td>no</td>\n",
       "      <td>2016-04-04 00:00:00</td>\n",
       "      <td>0</td>\n",
       "      <td>35576</td>\n",
       "      <td>2016-04-05 12:09:29</td>\n",
       "    </tr>\n",
       "    <tr>\n",
       "      <td>50</td>\n",
       "      <td>2016-03-30 08:50:37</td>\n",
       "      <td>14800</td>\n",
       "      <td>convertible</td>\n",
       "      <td>2008</td>\n",
       "      <td>manual</td>\n",
       "      <td>170</td>\n",
       "      <td>1er</td>\n",
       "      <td>125000</td>\n",
       "      <td>4</td>\n",
       "      <td>petrol</td>\n",
       "      <td>bmw</td>\n",
       "      <td>NaN</td>\n",
       "      <td>2016-03-30 00:00:00</td>\n",
       "      <td>0</td>\n",
       "      <td>48691</td>\n",
       "      <td>2016-04-07 00:17:23</td>\n",
       "    </tr>\n",
       "    <tr>\n",
       "      <td>51</td>\n",
       "      <td>2016-03-07 18:57:08</td>\n",
       "      <td>2000</td>\n",
       "      <td>NaN</td>\n",
       "      <td>2017</td>\n",
       "      <td>manual</td>\n",
       "      <td>90</td>\n",
       "      <td>punto</td>\n",
       "      <td>150000</td>\n",
       "      <td>11</td>\n",
       "      <td>gasoline</td>\n",
       "      <td>fiat</td>\n",
       "      <td>yes</td>\n",
       "      <td>2016-03-07 00:00:00</td>\n",
       "      <td>0</td>\n",
       "      <td>66115</td>\n",
       "      <td>2016-03-07 18:57:08</td>\n",
       "    </tr>\n",
       "    <tr>\n",
       "      <td>52</td>\n",
       "      <td>2016-04-04 10:57:36</td>\n",
       "      <td>1400</td>\n",
       "      <td>NaN</td>\n",
       "      <td>2016</td>\n",
       "      <td>manual</td>\n",
       "      <td>55</td>\n",
       "      <td>other</td>\n",
       "      <td>5000</td>\n",
       "      <td>1</td>\n",
       "      <td>NaN</td>\n",
       "      <td>hyundai</td>\n",
       "      <td>NaN</td>\n",
       "      <td>2016-04-04 00:00:00</td>\n",
       "      <td>0</td>\n",
       "      <td>34454</td>\n",
       "      <td>2016-04-06 12:45:43</td>\n",
       "    </tr>\n",
       "    <tr>\n",
       "      <td>53</td>\n",
       "      <td>2016-03-29 18:53:48</td>\n",
       "      <td>7999</td>\n",
       "      <td>sedan</td>\n",
       "      <td>2008</td>\n",
       "      <td>auto</td>\n",
       "      <td>143</td>\n",
       "      <td>3er</td>\n",
       "      <td>150000</td>\n",
       "      <td>12</td>\n",
       "      <td>gasoline</td>\n",
       "      <td>bmw</td>\n",
       "      <td>NaN</td>\n",
       "      <td>2016-03-29 00:00:00</td>\n",
       "      <td>0</td>\n",
       "      <td>71083</td>\n",
       "      <td>2016-04-06 04:45:54</td>\n",
       "    </tr>\n",
       "    <tr>\n",
       "      <td>54</td>\n",
       "      <td>2016-03-17 07:56:40</td>\n",
       "      <td>4700</td>\n",
       "      <td>wagon</td>\n",
       "      <td>2005</td>\n",
       "      <td>manual</td>\n",
       "      <td>0</td>\n",
       "      <td>signum</td>\n",
       "      <td>150000</td>\n",
       "      <td>0</td>\n",
       "      <td>NaN</td>\n",
       "      <td>opel</td>\n",
       "      <td>no</td>\n",
       "      <td>2016-03-17 00:00:00</td>\n",
       "      <td>0</td>\n",
       "      <td>88433</td>\n",
       "      <td>2016-04-04 04:17:32</td>\n",
       "    </tr>\n",
       "    <tr>\n",
       "      <td>55</td>\n",
       "      <td>2016-03-26 10:39:35</td>\n",
       "      <td>550</td>\n",
       "      <td>wagon</td>\n",
       "      <td>1999</td>\n",
       "      <td>manual</td>\n",
       "      <td>0</td>\n",
       "      <td>astra</td>\n",
       "      <td>150000</td>\n",
       "      <td>8</td>\n",
       "      <td>gasoline</td>\n",
       "      <td>opel</td>\n",
       "      <td>yes</td>\n",
       "      <td>2016-03-26 00:00:00</td>\n",
       "      <td>0</td>\n",
       "      <td>56759</td>\n",
       "      <td>2016-04-01 23:17:27</td>\n",
       "    </tr>\n",
       "    <tr>\n",
       "      <td>56</td>\n",
       "      <td>2016-03-22 17:56:12</td>\n",
       "      <td>3000</td>\n",
       "      <td>convertible</td>\n",
       "      <td>2006</td>\n",
       "      <td>auto</td>\n",
       "      <td>61</td>\n",
       "      <td>fortwo</td>\n",
       "      <td>80000</td>\n",
       "      <td>1</td>\n",
       "      <td>petrol</td>\n",
       "      <td>smart</td>\n",
       "      <td>no</td>\n",
       "      <td>2016-03-22 00:00:00</td>\n",
       "      <td>0</td>\n",
       "      <td>12055</td>\n",
       "      <td>2016-03-22 17:56:12</td>\n",
       "    </tr>\n",
       "    <tr>\n",
       "      <td>57</td>\n",
       "      <td>2016-03-10 20:53:19</td>\n",
       "      <td>2399</td>\n",
       "      <td>NaN</td>\n",
       "      <td>2018</td>\n",
       "      <td>manual</td>\n",
       "      <td>64</td>\n",
       "      <td>other</td>\n",
       "      <td>125000</td>\n",
       "      <td>3</td>\n",
       "      <td>NaN</td>\n",
       "      <td>seat</td>\n",
       "      <td>no</td>\n",
       "      <td>2016-03-10 00:00:00</td>\n",
       "      <td>0</td>\n",
       "      <td>33397</td>\n",
       "      <td>2016-03-25 10:17:37</td>\n",
       "    </tr>\n",
       "    <tr>\n",
       "      <td>58</td>\n",
       "      <td>2016-03-31 08:57:44</td>\n",
       "      <td>1000</td>\n",
       "      <td>sedan</td>\n",
       "      <td>1998</td>\n",
       "      <td>manual</td>\n",
       "      <td>101</td>\n",
       "      <td>golf</td>\n",
       "      <td>150000</td>\n",
       "      <td>10</td>\n",
       "      <td>petrol</td>\n",
       "      <td>volkswagen</td>\n",
       "      <td>no</td>\n",
       "      <td>2016-03-31 00:00:00</td>\n",
       "      <td>0</td>\n",
       "      <td>39624</td>\n",
       "      <td>2016-04-06 03:15:47</td>\n",
       "    </tr>\n",
       "    <tr>\n",
       "      <td>59</td>\n",
       "      <td>2016-03-29 15:48:15</td>\n",
       "      <td>1</td>\n",
       "      <td>suv</td>\n",
       "      <td>1994</td>\n",
       "      <td>manual</td>\n",
       "      <td>286</td>\n",
       "      <td>NaN</td>\n",
       "      <td>150000</td>\n",
       "      <td>11</td>\n",
       "      <td>NaN</td>\n",
       "      <td>sonstige_autos</td>\n",
       "      <td>NaN</td>\n",
       "      <td>2016-03-29 00:00:00</td>\n",
       "      <td>0</td>\n",
       "      <td>53721</td>\n",
       "      <td>2016-04-06 01:44:38</td>\n",
       "    </tr>\n",
       "  </tbody>\n",
       "</table>\n",
       "</div>"
      ],
      "text/plain": [
       "            DateCrawled  Price  VehicleType  RegistrationYear Gearbox  Power  \\\n",
       "0   2016-03-24 11:52:17    480          NaN              1993  manual      0   \n",
       "1   2016-03-24 10:58:45  18300        coupe              2011  manual    190   \n",
       "2   2016-03-14 12:52:21   9800          suv              2004    auto    163   \n",
       "3   2016-03-17 16:54:04   1500        small              2001  manual     75   \n",
       "4   2016-03-31 17:25:20   3600        small              2008  manual     69   \n",
       "5   2016-04-04 17:36:23    650        sedan              1995  manual    102   \n",
       "6   2016-04-01 20:48:51   2200  convertible              2004  manual    109   \n",
       "7   2016-03-21 18:54:38      0        sedan              1980  manual     50   \n",
       "8   2016-04-04 23:42:13  14500          bus              2014  manual    125   \n",
       "9   2016-03-17 10:53:50    999        small              1998  manual    101   \n",
       "10  2016-03-26 19:54:18   2000        sedan              2004  manual    105   \n",
       "11  2016-04-07 10:06:22   2799        wagon              2005  manual    140   \n",
       "12  2016-03-15 22:49:09    999        wagon              1995  manual    115   \n",
       "13  2016-03-21 21:37:40   2500        wagon              2004  manual    131   \n",
       "14  2016-03-21 12:57:01  17999          suv              2011  manual    190   \n",
       "15  2016-03-11 21:39:15    450        small              1910     NaN      0   \n",
       "16  2016-04-01 12:46:46    300          NaN              2016     NaN     60   \n",
       "17  2016-03-20 10:25:19   1750        small              2004    auto     75   \n",
       "18  2016-03-23 15:48:05   7550          bus              2007  manual    136   \n",
       "19  2016-04-01 22:55:47   1850          bus              2004  manual    102   \n",
       "20  2016-04-01 19:56:48  10400        coupe              2009  manual    160   \n",
       "21  2016-03-27 11:38:00   3699        sedan              2002    auto    231   \n",
       "22  2016-03-23 14:52:51   2900          NaN              2018  manual     90   \n",
       "23  2016-03-12 19:43:07    450        small              1997  manual     50   \n",
       "24  2016-03-13 20:40:49    500        sedan              1990  manual    118   \n",
       "25  2016-03-18 21:44:09   2500        wagon              2002    auto    193   \n",
       "26  2016-03-10 19:38:18   5555          NaN              2017  manual    125   \n",
       "27  2016-03-07 12:51:23   6900        sedan              2008  manual     99   \n",
       "28  2016-03-09 11:56:38   1990          bus              1981  manual     50   \n",
       "29  2016-03-08 19:55:19    690        small              2003  manual     60   \n",
       "30  2016-04-03 15:48:11   3300        sedan              1995    auto    113   \n",
       "31  2016-03-29 16:57:02    899          NaN              2016  manual     60   \n",
       "32  2016-03-15 20:59:01    245        sedan              1994     NaN      0   \n",
       "33  2016-03-25 21:48:47  18000        sedan              2007    auto    218   \n",
       "34  2016-03-17 18:55:12   3500        sedan              2004    auto    122   \n",
       "35  2016-03-08 07:54:46    350          NaN              2016  manual     75   \n",
       "36  2016-03-11 11:50:37   1600        other              1991  manual     75   \n",
       "37  2016-03-28 17:50:15   1500          NaN              2016     NaN      0   \n",
       "38  2016-04-01 17:45:07  11900        other              2002  manual    129   \n",
       "39  2016-03-25 15:50:30   1500          bus              1984  manual     70   \n",
       "40  2016-03-26 22:06:17      0          NaN              1990     NaN      0   \n",
       "41  2016-03-30 20:38:20   7500        sedan              2002    auto    306   \n",
       "42  2016-03-24 00:52:09  12500        sedan              2006    auto    231   \n",
       "43  2016-03-13 15:47:08   6990        sedan              2007  manual     95   \n",
       "44  2016-03-17 12:44:43   3900        small              2008    auto     61   \n",
       "45  2016-03-29 18:57:46    590        small              1999  manual     75   \n",
       "46  2016-03-15 18:59:02   7999        sedan              2007  manual    177   \n",
       "47  2016-04-04 00:38:22   2100        wagon              1998    auto    193   \n",
       "48  2016-03-25 14:40:12   7750          NaN              2017  manual     80   \n",
       "49  2016-04-04 14:06:22  13500          bus              2012    auto    109   \n",
       "50  2016-03-30 08:50:37  14800  convertible              2008  manual    170   \n",
       "51  2016-03-07 18:57:08   2000          NaN              2017  manual     90   \n",
       "52  2016-04-04 10:57:36   1400          NaN              2016  manual     55   \n",
       "53  2016-03-29 18:53:48   7999        sedan              2008    auto    143   \n",
       "54  2016-03-17 07:56:40   4700        wagon              2005  manual      0   \n",
       "55  2016-03-26 10:39:35    550        wagon              1999  manual      0   \n",
       "56  2016-03-22 17:56:12   3000  convertible              2006    auto     61   \n",
       "57  2016-03-10 20:53:19   2399          NaN              2018  manual     64   \n",
       "58  2016-03-31 08:57:44   1000        sedan              1998  manual    101   \n",
       "59  2016-03-29 15:48:15      1          suv              1994  manual    286   \n",
       "\n",
       "          Model  Kilometer  RegistrationMonth  FuelType           Brand  \\\n",
       "0          golf     150000                  0    petrol      volkswagen   \n",
       "1           NaN     125000                  5  gasoline            audi   \n",
       "2         grand     125000                  8  gasoline            jeep   \n",
       "3          golf     150000                  6    petrol      volkswagen   \n",
       "4         fabia      90000                  7  gasoline           skoda   \n",
       "5           3er     150000                 10    petrol             bmw   \n",
       "6       2_reihe     150000                  8    petrol         peugeot   \n",
       "7         other      40000                  7    petrol      volkswagen   \n",
       "8         c_max      30000                  8    petrol            ford   \n",
       "9          golf     150000                  0       NaN      volkswagen   \n",
       "10      3_reihe     150000                 12    petrol           mazda   \n",
       "11       passat     150000                 12  gasoline      volkswagen   \n",
       "12       passat     150000                 11    petrol      volkswagen   \n",
       "13       passat     150000                  2       NaN      volkswagen   \n",
       "14       navara      70000                  3  gasoline          nissan   \n",
       "15           ka       5000                  0    petrol            ford   \n",
       "16         polo     150000                  0    petrol      volkswagen   \n",
       "17       twingo     150000                  2    petrol         renault   \n",
       "18        c_max     150000                  6  gasoline            ford   \n",
       "19     a_klasse     150000                  1    petrol   mercedes_benz   \n",
       "20     scirocco     100000                  4    petrol      volkswagen   \n",
       "21          5er     150000                  7    petrol             bmw   \n",
       "22       meriva     150000                  5    petrol            opel   \n",
       "23        arosa     150000                  5    petrol            seat   \n",
       "24        other     150000                 10    petrol   mercedes_benz   \n",
       "25          5er     150000                  9  gasoline             bmw   \n",
       "26           c4     125000                  4       NaN         citroen   \n",
       "27        civic      60000                 11    petrol           honda   \n",
       "28  transporter       5000                  1    petrol      volkswagen   \n",
       "29        punto     150000                  3    petrol            fiat   \n",
       "30     e_klasse     150000                  1  gasoline   mercedes_benz   \n",
       "31         clio     150000                  6    petrol         renault   \n",
       "32         golf     150000                  2    petrol      volkswagen   \n",
       "33          3er      20000                  5    petrol             bmw   \n",
       "34     e_klasse     150000                 11  gasoline   mercedes_benz   \n",
       "35         golf     150000                  4    petrol      volkswagen   \n",
       "36       kadett      70000                  0       NaN            opel   \n",
       "37       kangoo     150000                  1  gasoline         renault   \n",
       "38        other     150000                 11  gasoline      volkswagen   \n",
       "39        other     150000                  8  gasoline   mercedes_benz   \n",
       "40        corsa     150000                  1    petrol            opel   \n",
       "41     e_klasse     150000                  4       NaN   mercedes_benz   \n",
       "42          5er     150000                 11  gasoline             bmw   \n",
       "43          one     100000                  8    petrol            mini   \n",
       "44       fortwo      80000                  6    petrol           smart   \n",
       "45         clio     125000                  8    petrol         renault   \n",
       "46          1er     150000                  8  gasoline             bmw   \n",
       "47          5er     150000                  2    petrol             bmw   \n",
       "48         golf     100000                  1    petrol      volkswagen   \n",
       "49     b_klasse     150000                  7  gasoline   mercedes_benz   \n",
       "50          1er     125000                  4    petrol             bmw   \n",
       "51        punto     150000                 11  gasoline            fiat   \n",
       "52        other       5000                  1       NaN         hyundai   \n",
       "53          3er     150000                 12  gasoline             bmw   \n",
       "54       signum     150000                  0       NaN            opel   \n",
       "55        astra     150000                  8  gasoline            opel   \n",
       "56       fortwo      80000                  1    petrol           smart   \n",
       "57        other     125000                  3       NaN            seat   \n",
       "58         golf     150000                 10    petrol      volkswagen   \n",
       "59          NaN     150000                 11       NaN  sonstige_autos   \n",
       "\n",
       "   NotRepaired          DateCreated  NumberOfPictures  PostalCode  \\\n",
       "0          NaN  2016-03-24 00:00:00                 0       70435   \n",
       "1          yes  2016-03-24 00:00:00                 0       66954   \n",
       "2          NaN  2016-03-14 00:00:00                 0       90480   \n",
       "3           no  2016-03-17 00:00:00                 0       91074   \n",
       "4           no  2016-03-31 00:00:00                 0       60437   \n",
       "5          yes  2016-04-04 00:00:00                 0       33775   \n",
       "6           no  2016-04-01 00:00:00                 0       67112   \n",
       "7           no  2016-03-21 00:00:00                 0       19348   \n",
       "8          NaN  2016-04-04 00:00:00                 0       94505   \n",
       "9          NaN  2016-03-17 00:00:00                 0       27472   \n",
       "10          no  2016-03-26 00:00:00                 0       96224   \n",
       "11         yes  2016-04-07 00:00:00                 0       57290   \n",
       "12         NaN  2016-03-15 00:00:00                 0       37269   \n",
       "13          no  2016-03-21 00:00:00                 0       90762   \n",
       "14          no  2016-03-21 00:00:00                 0        4177   \n",
       "15         NaN  2016-03-11 00:00:00                 0       24148   \n",
       "16         NaN  2016-04-01 00:00:00                 0       38871   \n",
       "17          no  2016-03-20 00:00:00                 0       65599   \n",
       "18          no  2016-03-23 00:00:00                 0       88361   \n",
       "19          no  2016-04-01 00:00:00                 0       49565   \n",
       "20          no  2016-04-01 00:00:00                 0       75365   \n",
       "21          no  2016-03-27 00:00:00                 0       68309   \n",
       "22          no  2016-03-23 00:00:00                 0       49716   \n",
       "23          no  2016-03-12 00:00:00                 0        9526   \n",
       "24         yes  2016-03-13 00:00:00                 0       35390   \n",
       "25         yes  2016-03-18 00:00:00                 0       73765   \n",
       "26          no  2016-03-10 00:00:00                 0       31139   \n",
       "27          no  2016-03-07 00:00:00                 0       12621   \n",
       "28          no  2016-03-09 00:00:00                 0       87471   \n",
       "29          no  2016-03-08 00:00:00                 0       86199   \n",
       "30          no  2016-04-03 00:00:00                 0       53879   \n",
       "31         NaN  2016-03-29 00:00:00                 0       37075   \n",
       "32          no  2016-03-15 00:00:00                 0       44145   \n",
       "33          no  2016-03-25 00:00:00                 0       39179   \n",
       "34          no  2016-03-17 00:00:00                 0       67071   \n",
       "35          no  2016-03-08 00:00:00                 0       19386   \n",
       "36         NaN  2016-03-11 00:00:00                 0        2943   \n",
       "37          no  2016-03-28 00:00:00                 0       46483   \n",
       "38          no  2016-04-01 00:00:00                 0       10551   \n",
       "39          no  2016-03-25 00:00:00                 0       22767   \n",
       "40         NaN  2016-03-26 00:00:00                 0       56412   \n",
       "41         NaN  2016-03-30 00:00:00                 0       33649   \n",
       "42         NaN  2016-03-23 00:00:00                 0       46119   \n",
       "43          no  2016-03-13 00:00:00                 0       59174   \n",
       "44         NaN  2016-03-17 00:00:00                 0       21073   \n",
       "45          no  2016-03-29 00:00:00                 0       84180   \n",
       "46          no  2016-03-15 00:00:00                 0       53604   \n",
       "47          no  2016-04-03 00:00:00                 0       86157   \n",
       "48         NaN  2016-03-25 00:00:00                 0       48499   \n",
       "49          no  2016-04-04 00:00:00                 0       35576   \n",
       "50         NaN  2016-03-30 00:00:00                 0       48691   \n",
       "51         yes  2016-03-07 00:00:00                 0       66115   \n",
       "52         NaN  2016-04-04 00:00:00                 0       34454   \n",
       "53         NaN  2016-03-29 00:00:00                 0       71083   \n",
       "54          no  2016-03-17 00:00:00                 0       88433   \n",
       "55         yes  2016-03-26 00:00:00                 0       56759   \n",
       "56          no  2016-03-22 00:00:00                 0       12055   \n",
       "57          no  2016-03-10 00:00:00                 0       33397   \n",
       "58          no  2016-03-31 00:00:00                 0       39624   \n",
       "59         NaN  2016-03-29 00:00:00                 0       53721   \n",
       "\n",
       "               LastSeen  \n",
       "0   2016-04-07 03:16:57  \n",
       "1   2016-04-07 01:46:50  \n",
       "2   2016-04-05 12:47:46  \n",
       "3   2016-03-17 17:40:17  \n",
       "4   2016-04-06 10:17:21  \n",
       "5   2016-04-06 19:17:07  \n",
       "6   2016-04-05 18:18:39  \n",
       "7   2016-03-25 16:47:58  \n",
       "8   2016-04-04 23:42:13  \n",
       "9   2016-03-31 17:17:06  \n",
       "10  2016-04-06 10:45:34  \n",
       "11  2016-04-07 10:25:17  \n",
       "12  2016-04-01 13:16:16  \n",
       "13  2016-03-23 02:50:54  \n",
       "14  2016-04-06 07:45:42  \n",
       "15  2016-03-19 08:46:47  \n",
       "16  2016-04-01 12:46:46  \n",
       "17  2016-04-06 13:16:07  \n",
       "18  2016-04-05 18:45:11  \n",
       "19  2016-04-05 22:46:05  \n",
       "20  2016-04-05 16:45:49  \n",
       "21  2016-04-07 06:44:26  \n",
       "22  2016-03-31 01:16:33  \n",
       "23  2016-03-21 01:46:11  \n",
       "24  2016-03-13 20:40:49  \n",
       "25  2016-03-18 21:44:09  \n",
       "26  2016-03-16 09:16:46  \n",
       "27  2016-03-26 09:44:53  \n",
       "28  2016-03-10 07:44:33  \n",
       "29  2016-03-09 11:45:28  \n",
       "30  2016-04-05 15:16:05  \n",
       "31  2016-03-29 17:43:07  \n",
       "32  2016-03-17 18:17:43  \n",
       "33  2016-04-07 04:45:21  \n",
       "34  2016-03-30 15:46:10  \n",
       "35  2016-03-08 09:44:50  \n",
       "36  2016-04-07 03:46:09  \n",
       "37  2016-03-30 09:18:02  \n",
       "38  2016-04-05 12:47:30  \n",
       "39  2016-03-27 03:17:02  \n",
       "40  2016-03-27 17:43:34  \n",
       "41  2016-04-03 11:44:49  \n",
       "42  2016-04-04 16:18:19  \n",
       "43  2016-03-21 17:17:50  \n",
       "44  2016-03-19 11:46:17  \n",
       "45  2016-03-29 18:57:46  \n",
       "46  2016-03-16 16:47:48  \n",
       "47  2016-04-06 08:16:21  \n",
       "48  2016-03-31 21:47:44  \n",
       "49  2016-04-05 12:09:29  \n",
       "50  2016-04-07 00:17:23  \n",
       "51  2016-03-07 18:57:08  \n",
       "52  2016-04-06 12:45:43  \n",
       "53  2016-04-06 04:45:54  \n",
       "54  2016-04-04 04:17:32  \n",
       "55  2016-04-01 23:17:27  \n",
       "56  2016-03-22 17:56:12  \n",
       "57  2016-03-25 10:17:37  \n",
       "58  2016-04-06 03:15:47  \n",
       "59  2016-04-06 01:44:38  "
      ]
     },
     "execution_count": 7,
     "metadata": {},
     "output_type": "execute_result"
    }
   ],
   "source": [
    "# Оценика содержание датафрейма\n",
    "df.head(60)"
   ]
  },
  {
   "cell_type": "markdown",
   "metadata": {},
   "source": [
    "<b> Признаки </b>  \n",
    "DateCrawled — дата скачивания анкеты из базы  \n",
    "VehicleType — тип автомобильного кузова  \n",
    "RegistrationYear — год регистрации автомобиля  \n",
    "Gearbox — тип коробки передач  \n",
    "Power — мощность (л. с.)  \n",
    "Model — модель автомобиля  \n",
    "Kilometer — пробег (км)  \n",
    "RegistrationMonth — месяц регистрации автомобиля  \n",
    "FuelType — тип топлива  \n",
    "Brand — марка автомобиля  \n",
    "NotRepaired — была машина в ремонте или нет  \n",
    "DateCreated — дата создания анкеты  \n",
    "NumberOfPictures — количество фотографий автомобиля  \n",
    "PostalCode — почтовый индекс владельца анкеты (пользователя)  \n",
    "LastSeen — дата последней активности пользователя  \n",
    "<b>Целевой признак </b>  \n",
    "Price — цена (евро)"
   ]
  },
  {
   "cell_type": "markdown",
   "metadata": {},
   "source": [
    "### Предварительная обработка данных"
   ]
  },
  {
   "cell_type": "markdown",
   "metadata": {},
   "source": [
    "Убирем дублирующиеся строки"
   ]
  },
  {
   "cell_type": "code",
   "execution_count": 8,
   "metadata": {},
   "outputs": [
    {
     "data": {
      "text/plain": [
       "4"
      ]
     },
     "execution_count": 8,
     "metadata": {},
     "output_type": "execute_result"
    }
   ],
   "source": [
    "#Найдем общее количество дубликатов\n",
    "df.duplicated().sum()"
   ]
  },
  {
   "cell_type": "code",
   "execution_count": 9,
   "metadata": {},
   "outputs": [],
   "source": [
    "# Удалим повторяющиеся данные\n",
    "df = df.drop_duplicates().reset_index(drop = True)"
   ]
  },
  {
   "cell_type": "markdown",
   "metadata": {},
   "source": [
    "#### Предобработка признаков даты и времени"
   ]
  },
  {
   "cell_type": "markdown",
   "metadata": {},
   "source": [
    "Произведем предобработку данных касающихся признаков даты и времени"
   ]
  },
  {
   "cell_type": "markdown",
   "metadata": {},
   "source": [
    "Изменим формат даты/времени для признаков \"DateCrawled\", 'DateCreated', \"LastSeen\" и \"RegistrationYear\""
   ]
  },
  {
   "cell_type": "code",
   "execution_count": 10,
   "metadata": {},
   "outputs": [],
   "source": [
    "df['DateCrawled'] = pd.to_datetime(df['DateCrawled'])\n",
    "df['LastSeen'] = pd.to_datetime(df['LastSeen'])\n",
    "df['DateCreated'] = pd.to_datetime(df['DateCreated'])"
   ]
  },
  {
   "cell_type": "code",
   "execution_count": 11,
   "metadata": {},
   "outputs": [
    {
     "data": {
      "text/plain": [
       "2000    24490\n",
       "1999    22727\n",
       "2005    22109\n",
       "2001    20123\n",
       "2006    19900\n",
       "2003    19762\n",
       "2004    19611\n",
       "2002    19091\n",
       "1998    17899\n",
       "2007    17183\n",
       "2008    15391\n",
       "1997    14666\n",
       "2009    14503\n",
       "1996    10835\n",
       "2010    10764\n",
       "2017    10441\n",
       "2011     9909\n",
       "1995     9607\n",
       "2016     9599\n",
       "2012     7178\n",
       "1994     4841\n",
       "2013     4131\n",
       "2018     3959\n",
       "1993     3438\n",
       "1992     3002\n",
       "1990     2806\n",
       "1991     2762\n",
       "2014     2537\n",
       "1989     1318\n",
       "2015     1302\n",
       "1988      942\n",
       "1985      756\n",
       "1987      667\n",
       "1980      588\n",
       "1986      538\n",
       "1983      430\n",
       "1984      399\n",
       "1970      333\n",
       "1982      316\n",
       "1978      285\n",
       "1979      283\n",
       "1981      263\n",
       "1972      213\n",
       "1960      188\n",
       "1976      175\n",
       "1977      173\n",
       "1973      173\n",
       "1974      169\n",
       "1971      167\n",
       "1975      143\n",
       "1969      118\n",
       "1966      113\n",
       "1968      108\n",
       "1910      101\n",
       "1967       99\n",
       "1965       82\n",
       "1964       64\n",
       "1963       57\n",
       "1962       46\n",
       "1961       41\n",
       "1000       37\n",
       "1959       32\n",
       "1956       27\n",
       "9999       26\n",
       "2019       25\n",
       "1958       25\n",
       "1950       18\n",
       "5000       17\n",
       "1955       15\n",
       "1953       14\n",
       "1957       13\n",
       "1951       12\n",
       "1954       11\n",
       "1937       11\n",
       "1952        9\n",
       "1938        8\n",
       "3000        7\n",
       "1929        7\n",
       "6000        5\n",
       "1500        5\n",
       "1800        5\n",
       "1935        4\n",
       "1945        4\n",
       "1943        4\n",
       "2500        4\n",
       "1234        4\n",
       "7000        4\n",
       "1111        3\n",
       "9000        3\n",
       "1948        3\n",
       "4000        3\n",
       "1934        3\n",
       "1930        3\n",
       "1942        3\n",
       "1932        3\n",
       "1933        3\n",
       "1936        3\n",
       "2222        2\n",
       "1944        2\n",
       "2800        2\n",
       "5911        2\n",
       "1600        2\n",
       "1300        2\n",
       "1941        2\n",
       "4500        2\n",
       "1947        2\n",
       "1940        2\n",
       "5555        2\n",
       "1923        2\n",
       "8000        2\n",
       "1928        2\n",
       "5600        1\n",
       "3800        1\n",
       "1946        1\n",
       "4800        1\n",
       "7100        1\n",
       "8888        1\n",
       "5300        1\n",
       "1949        1\n",
       "7800        1\n",
       "1915        1\n",
       "2200        1\n",
       "1688        1\n",
       "1931        1\n",
       "1927        1\n",
       "1925        1\n",
       "3200        1\n",
       "1920        1\n",
       "1919        1\n",
       "1255        1\n",
       "1253        1\n",
       "2900        1\n",
       "1001        1\n",
       "5900        1\n",
       "7500        1\n",
       "6500        1\n",
       "2290        1\n",
       "1602        1\n",
       "8500        1\n",
       "2066        1\n",
       "1039        1\n",
       "8200        1\n",
       "9450        1\n",
       "9229        1\n",
       "9996        1\n",
       "4100        1\n",
       "3700        1\n",
       "3500        1\n",
       "1400        1\n",
       "1200        1\n",
       "8455        1\n",
       "Name: RegistrationYear, dtype: int64"
      ]
     },
     "execution_count": 11,
     "metadata": {},
     "output_type": "execute_result"
    }
   ],
   "source": [
    "df['RegistrationYear'].value_counts().sort_values(ascending = False)"
   ]
  },
  {
   "cell_type": "markdown",
   "metadata": {},
   "source": [
    "Автомобили с возростом более 40 лет считаются раритетными, оценки их стоимости является сложным мероприятием сильно зависящем от технического состояния, желаний владельца и покупателя и других признаков не приведенных в текущих данных. Для таких авто возможно имеет смысл создать еще одну модель, которая будет работь с авто возрастом более 25 лет. Поэтому исключим атомобили с годом регистрации автомобиля ранее 1976г. Так же исключим все значения больше 2019 года. Вероятно 8000 можно заменить на 1980, но во первых это не совсем точно, а во вторых нет смысла бороться за единичные объекты на фоне более чем достаточной по объему выборки."
   ]
  },
  {
   "cell_type": "code",
   "execution_count": 12,
   "metadata": {},
   "outputs": [],
   "source": [
    "df = df.loc[(df['RegistrationYear'] >= 1976) & (df['RegistrationYear'] <= 2016)]"
   ]
  },
  {
   "cell_type": "code",
   "execution_count": 13,
   "metadata": {},
   "outputs": [
    {
     "data": {
      "text/plain": [
       "0     33032\n",
       "3     32982\n",
       "6     30186\n",
       "4     28019\n",
       "5     27957\n",
       "7     25981\n",
       "10    25171\n",
       "12    23344\n",
       "11    23316\n",
       "9     22978\n",
       "1     22189\n",
       "8     21722\n",
       "2     20422\n",
       "Name: RegistrationMonth, dtype: int64"
      ]
     },
     "execution_count": 13,
     "metadata": {},
     "output_type": "execute_result"
    }
   ],
   "source": [
    "df['RegistrationMonth'].value_counts().sort_values(ascending = False)"
   ]
  },
  {
   "cell_type": "markdown",
   "metadata": {},
   "source": [
    "Нулевой месяц заменим на первый, так как все-таки принято возраст авто считать годами, то есть авто зарегистрированое в декабре по пришествию нового года добавляет к своему возрасту 1 год."
   ]
  },
  {
   "cell_type": "code",
   "execution_count": 14,
   "metadata": {},
   "outputs": [
    {
     "data": {
      "text/plain": [
       "1     55221\n",
       "3     32982\n",
       "6     30186\n",
       "4     28019\n",
       "5     27957\n",
       "7     25981\n",
       "10    25171\n",
       "12    23344\n",
       "11    23316\n",
       "9     22978\n",
       "8     21722\n",
       "2     20422\n",
       "Name: RegistrationMonth, dtype: int64"
      ]
     },
     "execution_count": 14,
     "metadata": {},
     "output_type": "execute_result"
    }
   ],
   "source": [
    "df['RegistrationMonth'] = df['RegistrationMonth'].replace([0], 1)    \n",
    "df['RegistrationMonth'].value_counts().sort_values(ascending = False)"
   ]
  },
  {
   "cell_type": "markdown",
   "metadata": {},
   "source": [
    "Объедимим два столбца, год и месяц регистрации в один столбец, так как данные признаки являются по сути одним, а именно датой регистрации"
   ]
  },
  {
   "cell_type": "code",
   "execution_count": 15,
   "metadata": {},
   "outputs": [],
   "source": [
    "df['reg_dt'] = df['RegistrationYear'].astype(str) + '_' + df['RegistrationMonth'].astype(str)\n",
    "df['reg_dt'] = pd.to_datetime(df['reg_dt'], format = '%Y_%m')"
   ]
  },
  {
   "cell_type": "code",
   "execution_count": 16,
   "metadata": {},
   "outputs": [],
   "source": [
    "# Удалим теперь уже не нужные столбцы с годом и месяцем регистрации по отдельности.\n",
    "df = df.drop(['RegistrationYear', 'RegistrationMonth'], axis = 1)"
   ]
  },
  {
   "cell_type": "markdown",
   "metadata": {},
   "source": [
    "Еще сократим 1 признак, найдем возраст автомобиля на момент создания объявления, таким образом вместо дат регистрации автомобилия 'reg_dt' и подачи объявления DateCreated' будет один признак 'car_age' возраст машины."
   ]
  },
  {
   "cell_type": "code",
   "execution_count": 17,
   "metadata": {},
   "outputs": [],
   "source": [
    "df['car_age'] = (df['DateCreated'] - df['reg_dt']).dt.days"
   ]
  },
  {
   "cell_type": "code",
   "execution_count": 18,
   "metadata": {},
   "outputs": [
    {
     "data": {
      "text/html": [
       "<div>\n",
       "<style scoped>\n",
       "    .dataframe tbody tr th:only-of-type {\n",
       "        vertical-align: middle;\n",
       "    }\n",
       "\n",
       "    .dataframe tbody tr th {\n",
       "        vertical-align: top;\n",
       "    }\n",
       "\n",
       "    .dataframe thead th {\n",
       "        text-align: right;\n",
       "    }\n",
       "</style>\n",
       "<table border=\"1\" class=\"dataframe\">\n",
       "  <thead>\n",
       "    <tr style=\"text-align: right;\">\n",
       "      <th></th>\n",
       "      <th>DateCrawled</th>\n",
       "      <th>Price</th>\n",
       "      <th>VehicleType</th>\n",
       "      <th>Gearbox</th>\n",
       "      <th>Power</th>\n",
       "      <th>Model</th>\n",
       "      <th>Kilometer</th>\n",
       "      <th>FuelType</th>\n",
       "      <th>Brand</th>\n",
       "      <th>NotRepaired</th>\n",
       "      <th>DateCreated</th>\n",
       "      <th>NumberOfPictures</th>\n",
       "      <th>PostalCode</th>\n",
       "      <th>LastSeen</th>\n",
       "      <th>reg_dt</th>\n",
       "      <th>car_age</th>\n",
       "    </tr>\n",
       "  </thead>\n",
       "  <tbody>\n",
       "    <tr>\n",
       "      <td>0</td>\n",
       "      <td>2016-03-24 11:52:17</td>\n",
       "      <td>480</td>\n",
       "      <td>NaN</td>\n",
       "      <td>manual</td>\n",
       "      <td>0</td>\n",
       "      <td>golf</td>\n",
       "      <td>150000</td>\n",
       "      <td>petrol</td>\n",
       "      <td>volkswagen</td>\n",
       "      <td>NaN</td>\n",
       "      <td>2016-03-24</td>\n",
       "      <td>0</td>\n",
       "      <td>70435</td>\n",
       "      <td>2016-04-07 03:16:57</td>\n",
       "      <td>1993-01-01</td>\n",
       "      <td>8483</td>\n",
       "    </tr>\n",
       "    <tr>\n",
       "      <td>1</td>\n",
       "      <td>2016-03-24 10:58:45</td>\n",
       "      <td>18300</td>\n",
       "      <td>coupe</td>\n",
       "      <td>manual</td>\n",
       "      <td>190</td>\n",
       "      <td>NaN</td>\n",
       "      <td>125000</td>\n",
       "      <td>gasoline</td>\n",
       "      <td>audi</td>\n",
       "      <td>yes</td>\n",
       "      <td>2016-03-24</td>\n",
       "      <td>0</td>\n",
       "      <td>66954</td>\n",
       "      <td>2016-04-07 01:46:50</td>\n",
       "      <td>2011-05-01</td>\n",
       "      <td>1789</td>\n",
       "    </tr>\n",
       "    <tr>\n",
       "      <td>2</td>\n",
       "      <td>2016-03-14 12:52:21</td>\n",
       "      <td>9800</td>\n",
       "      <td>suv</td>\n",
       "      <td>auto</td>\n",
       "      <td>163</td>\n",
       "      <td>grand</td>\n",
       "      <td>125000</td>\n",
       "      <td>gasoline</td>\n",
       "      <td>jeep</td>\n",
       "      <td>NaN</td>\n",
       "      <td>2016-03-14</td>\n",
       "      <td>0</td>\n",
       "      <td>90480</td>\n",
       "      <td>2016-04-05 12:47:46</td>\n",
       "      <td>2004-08-01</td>\n",
       "      <td>4243</td>\n",
       "    </tr>\n",
       "    <tr>\n",
       "      <td>3</td>\n",
       "      <td>2016-03-17 16:54:04</td>\n",
       "      <td>1500</td>\n",
       "      <td>small</td>\n",
       "      <td>manual</td>\n",
       "      <td>75</td>\n",
       "      <td>golf</td>\n",
       "      <td>150000</td>\n",
       "      <td>petrol</td>\n",
       "      <td>volkswagen</td>\n",
       "      <td>no</td>\n",
       "      <td>2016-03-17</td>\n",
       "      <td>0</td>\n",
       "      <td>91074</td>\n",
       "      <td>2016-03-17 17:40:17</td>\n",
       "      <td>2001-06-01</td>\n",
       "      <td>5403</td>\n",
       "    </tr>\n",
       "    <tr>\n",
       "      <td>4</td>\n",
       "      <td>2016-03-31 17:25:20</td>\n",
       "      <td>3600</td>\n",
       "      <td>small</td>\n",
       "      <td>manual</td>\n",
       "      <td>69</td>\n",
       "      <td>fabia</td>\n",
       "      <td>90000</td>\n",
       "      <td>gasoline</td>\n",
       "      <td>skoda</td>\n",
       "      <td>no</td>\n",
       "      <td>2016-03-31</td>\n",
       "      <td>0</td>\n",
       "      <td>60437</td>\n",
       "      <td>2016-04-06 10:17:21</td>\n",
       "      <td>2008-07-01</td>\n",
       "      <td>2830</td>\n",
       "    </tr>\n",
       "  </tbody>\n",
       "</table>\n",
       "</div>"
      ],
      "text/plain": [
       "          DateCrawled  Price VehicleType Gearbox  Power  Model  Kilometer  \\\n",
       "0 2016-03-24 11:52:17    480         NaN  manual      0   golf     150000   \n",
       "1 2016-03-24 10:58:45  18300       coupe  manual    190    NaN     125000   \n",
       "2 2016-03-14 12:52:21   9800         suv    auto    163  grand     125000   \n",
       "3 2016-03-17 16:54:04   1500       small  manual     75   golf     150000   \n",
       "4 2016-03-31 17:25:20   3600       small  manual     69  fabia      90000   \n",
       "\n",
       "   FuelType       Brand NotRepaired DateCreated  NumberOfPictures  PostalCode  \\\n",
       "0    petrol  volkswagen         NaN  2016-03-24                 0       70435   \n",
       "1  gasoline        audi         yes  2016-03-24                 0       66954   \n",
       "2  gasoline        jeep         NaN  2016-03-14                 0       90480   \n",
       "3    petrol  volkswagen          no  2016-03-17                 0       91074   \n",
       "4  gasoline       skoda          no  2016-03-31                 0       60437   \n",
       "\n",
       "             LastSeen     reg_dt  car_age  \n",
       "0 2016-04-07 03:16:57 1993-01-01     8483  \n",
       "1 2016-04-07 01:46:50 2011-05-01     1789  \n",
       "2 2016-04-05 12:47:46 2004-08-01     4243  \n",
       "3 2016-03-17 17:40:17 2001-06-01     5403  \n",
       "4 2016-04-06 10:17:21 2008-07-01     2830  "
      ]
     },
     "execution_count": 18,
     "metadata": {},
     "output_type": "execute_result"
    }
   ],
   "source": [
    "df.head()"
   ]
  },
  {
   "cell_type": "code",
   "execution_count": 19,
   "metadata": {},
   "outputs": [],
   "source": [
    "previous_row_qnt = initial_row_qnt"
   ]
  },
  {
   "cell_type": "code",
   "execution_count": 20,
   "metadata": {},
   "outputs": [],
   "source": [
    "def df_loss(data): \n",
    "    current_row_qnt = data.shape[0]\n",
    "    loss = 100 * (previous_row_qnt - current_row_qnt) / initial_row_qnt\n",
    "\n",
    "    print('Число объектов в датафрейме:', current_row_qnt)\n",
    "    print('Потери объектов в датафрейме, %:', loss)\n",
    "\n",
    "    return current_row_qnt"
   ]
  },
  {
   "cell_type": "code",
   "execution_count": 21,
   "metadata": {},
   "outputs": [
    {
     "name": "stdout",
     "output_type": "stream",
     "text": [
      "Число объектов в датафрейме: 337299\n",
      "Потери объектов в датафрейме, %: 4.817012774819468\n"
     ]
    }
   ],
   "source": [
    "# Найдем потери данных после очередного преобразования\n",
    "previous_row_qnt = df_loss(df)"
   ]
  },
  {
   "cell_type": "markdown",
   "metadata": {},
   "source": [
    "####  Предобработка количественных признаков."
   ]
  },
  {
   "cell_type": "code",
   "execution_count": 22,
   "metadata": {},
   "outputs": [],
   "source": [
    "# Количественные признаки\n",
    "num_ftrs = ['Power', 'Kilometer', 'NumberOfPictures']"
   ]
  },
  {
   "cell_type": "markdown",
   "metadata": {},
   "source": [
    "Целевой признак рассмотрим отдельно, немного позже. Признак 'NumberOfPictures' так же рассмотрим отдельно."
   ]
  },
  {
   "cell_type": "code",
   "execution_count": 23,
   "metadata": {},
   "outputs": [
    {
     "data": {
      "image/png": "[encoded data removed]",
      "text/plain": [
       "<Figure size 1152x576 with 2 Axes>"
      ]
     },
     "metadata": {
      "needs_background": "light"
     },
     "output_type": "display_data"
    }
   ],
   "source": [
    "fig = plt.figure(figsize=(16, 8))\n",
    "\n",
    "plt.subplot(1, 2, 1).set(title = 'Мощность двигателя, л.с')\n",
    "plt.boxplot(df['Power'])\n",
    "\n",
    "plt.subplot(1, 2, 2).set(title = 'Пробег, км')\n",
    "plt.boxplot(df['Kilometer'])\n",
    "\n",
    "plt.show()"
   ]
  },
  {
   "cell_type": "code",
   "execution_count": 24,
   "metadata": {},
   "outputs": [
    {
     "data": {
      "text/html": [
       "<div>\n",
       "<style scoped>\n",
       "    .dataframe tbody tr th:only-of-type {\n",
       "        vertical-align: middle;\n",
       "    }\n",
       "\n",
       "    .dataframe tbody tr th {\n",
       "        vertical-align: top;\n",
       "    }\n",
       "\n",
       "    .dataframe thead th {\n",
       "        text-align: right;\n",
       "    }\n",
       "</style>\n",
       "<table border=\"1\" class=\"dataframe\">\n",
       "  <thead>\n",
       "    <tr style=\"text-align: right;\">\n",
       "      <th></th>\n",
       "      <th>DateCrawled</th>\n",
       "      <th>Price</th>\n",
       "      <th>VehicleType</th>\n",
       "      <th>Gearbox</th>\n",
       "      <th>Power</th>\n",
       "      <th>Model</th>\n",
       "      <th>Kilometer</th>\n",
       "      <th>FuelType</th>\n",
       "      <th>Brand</th>\n",
       "      <th>NotRepaired</th>\n",
       "      <th>DateCreated</th>\n",
       "      <th>NumberOfPictures</th>\n",
       "      <th>PostalCode</th>\n",
       "      <th>LastSeen</th>\n",
       "      <th>reg_dt</th>\n",
       "      <th>car_age</th>\n",
       "    </tr>\n",
       "  </thead>\n",
       "  <tbody>\n",
       "    <tr>\n",
       "      <td>1816</td>\n",
       "      <td>2016-03-22 20:52:00</td>\n",
       "      <td>3200</td>\n",
       "      <td>small</td>\n",
       "      <td>manual</td>\n",
       "      <td>1398</td>\n",
       "      <td>corolla</td>\n",
       "      <td>5000</td>\n",
       "      <td>petrol</td>\n",
       "      <td>toyota</td>\n",
       "      <td>no</td>\n",
       "      <td>2016-03-22</td>\n",
       "      <td>0</td>\n",
       "      <td>22043</td>\n",
       "      <td>2016-03-22 21:43:26</td>\n",
       "      <td>2004-06-01</td>\n",
       "      <td>4312</td>\n",
       "    </tr>\n",
       "    <tr>\n",
       "      <td>2102</td>\n",
       "      <td>2016-03-21 11:55:22</td>\n",
       "      <td>0</td>\n",
       "      <td>sedan</td>\n",
       "      <td>NaN</td>\n",
       "      <td>1799</td>\n",
       "      <td>vectra</td>\n",
       "      <td>150000</td>\n",
       "      <td>petrol</td>\n",
       "      <td>opel</td>\n",
       "      <td>yes</td>\n",
       "      <td>2016-03-21</td>\n",
       "      <td>0</td>\n",
       "      <td>1723</td>\n",
       "      <td>2016-04-04 04:49:06</td>\n",
       "      <td>1999-01-01</td>\n",
       "      <td>6289</td>\n",
       "    </tr>\n",
       "    <tr>\n",
       "      <td>4060</td>\n",
       "      <td>2016-04-03 20:31:00</td>\n",
       "      <td>3100</td>\n",
       "      <td>sedan</td>\n",
       "      <td>manual</td>\n",
       "      <td>953</td>\n",
       "      <td>colt</td>\n",
       "      <td>150000</td>\n",
       "      <td>gasoline</td>\n",
       "      <td>mitsubishi</td>\n",
       "      <td>no</td>\n",
       "      <td>2016-04-03</td>\n",
       "      <td>0</td>\n",
       "      <td>60326</td>\n",
       "      <td>2016-04-07 14:56:46</td>\n",
       "      <td>2005-04-01</td>\n",
       "      <td>4020</td>\n",
       "    </tr>\n",
       "    <tr>\n",
       "      <td>5328</td>\n",
       "      <td>2016-03-29 19:44:48</td>\n",
       "      <td>500</td>\n",
       "      <td>wagon</td>\n",
       "      <td>manual</td>\n",
       "      <td>1001</td>\n",
       "      <td>astra</td>\n",
       "      <td>150000</td>\n",
       "      <td>petrol</td>\n",
       "      <td>opel</td>\n",
       "      <td>NaN</td>\n",
       "      <td>2016-03-29</td>\n",
       "      <td>0</td>\n",
       "      <td>33154</td>\n",
       "      <td>2016-04-06 05:44:36</td>\n",
       "      <td>1999-07-01</td>\n",
       "      <td>6116</td>\n",
       "    </tr>\n",
       "    <tr>\n",
       "      <td>6296</td>\n",
       "      <td>2016-03-31 23:50:47</td>\n",
       "      <td>599</td>\n",
       "      <td>small</td>\n",
       "      <td>manual</td>\n",
       "      <td>603</td>\n",
       "      <td>matiz</td>\n",
       "      <td>5000</td>\n",
       "      <td>petrol</td>\n",
       "      <td>chevrolet</td>\n",
       "      <td>yes</td>\n",
       "      <td>2016-03-31</td>\n",
       "      <td>0</td>\n",
       "      <td>44379</td>\n",
       "      <td>2016-04-01 03:41:52</td>\n",
       "      <td>2002-11-01</td>\n",
       "      <td>4899</td>\n",
       "    </tr>\n",
       "    <tr>\n",
       "      <td>...</td>\n",
       "      <td>...</td>\n",
       "      <td>...</td>\n",
       "      <td>...</td>\n",
       "      <td>...</td>\n",
       "      <td>...</td>\n",
       "      <td>...</td>\n",
       "      <td>...</td>\n",
       "      <td>...</td>\n",
       "      <td>...</td>\n",
       "      <td>...</td>\n",
       "      <td>...</td>\n",
       "      <td>...</td>\n",
       "      <td>...</td>\n",
       "      <td>...</td>\n",
       "      <td>...</td>\n",
       "      <td>...</td>\n",
       "    </tr>\n",
       "    <tr>\n",
       "      <td>348879</td>\n",
       "      <td>2016-03-13 11:51:57</td>\n",
       "      <td>7500</td>\n",
       "      <td>sedan</td>\n",
       "      <td>manual</td>\n",
       "      <td>1548</td>\n",
       "      <td>scenic</td>\n",
       "      <td>90000</td>\n",
       "      <td>petrol</td>\n",
       "      <td>renault</td>\n",
       "      <td>NaN</td>\n",
       "      <td>2016-03-13</td>\n",
       "      <td>0</td>\n",
       "      <td>24568</td>\n",
       "      <td>2016-04-06 15:17:39</td>\n",
       "      <td>2011-04-01</td>\n",
       "      <td>1808</td>\n",
       "    </tr>\n",
       "    <tr>\n",
       "      <td>348964</td>\n",
       "      <td>2016-04-04 18:53:25</td>\n",
       "      <td>250</td>\n",
       "      <td>small</td>\n",
       "      <td>manual</td>\n",
       "      <td>1241</td>\n",
       "      <td>ypsilon</td>\n",
       "      <td>150000</td>\n",
       "      <td>petrol</td>\n",
       "      <td>lancia</td>\n",
       "      <td>yes</td>\n",
       "      <td>2016-04-04</td>\n",
       "      <td>0</td>\n",
       "      <td>28259</td>\n",
       "      <td>2016-04-04 18:53:25</td>\n",
       "      <td>1999-05-01</td>\n",
       "      <td>6183</td>\n",
       "    </tr>\n",
       "    <tr>\n",
       "      <td>351943</td>\n",
       "      <td>2016-03-07 21:36:19</td>\n",
       "      <td>1500</td>\n",
       "      <td>bus</td>\n",
       "      <td>manual</td>\n",
       "      <td>1001</td>\n",
       "      <td>zafira</td>\n",
       "      <td>5000</td>\n",
       "      <td>gasoline</td>\n",
       "      <td>opel</td>\n",
       "      <td>no</td>\n",
       "      <td>2016-03-07</td>\n",
       "      <td>0</td>\n",
       "      <td>66117</td>\n",
       "      <td>2016-03-09 12:47:08</td>\n",
       "      <td>2001-07-01</td>\n",
       "      <td>5363</td>\n",
       "    </tr>\n",
       "    <tr>\n",
       "      <td>353629</td>\n",
       "      <td>2016-03-23 23:55:21</td>\n",
       "      <td>2400</td>\n",
       "      <td>sedan</td>\n",
       "      <td>manual</td>\n",
       "      <td>650</td>\n",
       "      <td>c2</td>\n",
       "      <td>150000</td>\n",
       "      <td>petrol</td>\n",
       "      <td>citroen</td>\n",
       "      <td>NaN</td>\n",
       "      <td>2016-03-23</td>\n",
       "      <td>0</td>\n",
       "      <td>45277</td>\n",
       "      <td>2016-03-27 01:15:17</td>\n",
       "      <td>2007-08-01</td>\n",
       "      <td>3157</td>\n",
       "    </tr>\n",
       "    <tr>\n",
       "      <td>354256</td>\n",
       "      <td>2016-03-09 17:59:03</td>\n",
       "      <td>399</td>\n",
       "      <td>other</td>\n",
       "      <td>NaN</td>\n",
       "      <td>1103</td>\n",
       "      <td>3er</td>\n",
       "      <td>150000</td>\n",
       "      <td>NaN</td>\n",
       "      <td>bmw</td>\n",
       "      <td>NaN</td>\n",
       "      <td>2016-03-09</td>\n",
       "      <td>0</td>\n",
       "      <td>56235</td>\n",
       "      <td>2016-03-17 09:17:08</td>\n",
       "      <td>1994-01-01</td>\n",
       "      <td>8103</td>\n",
       "    </tr>\n",
       "  </tbody>\n",
       "</table>\n",
       "<p>352 rows × 16 columns</p>\n",
       "</div>"
      ],
      "text/plain": [
       "               DateCrawled  Price VehicleType Gearbox  Power    Model  \\\n",
       "1816   2016-03-22 20:52:00   3200       small  manual   1398  corolla   \n",
       "2102   2016-03-21 11:55:22      0       sedan     NaN   1799   vectra   \n",
       "4060   2016-04-03 20:31:00   3100       sedan  manual    953     colt   \n",
       "5328   2016-03-29 19:44:48    500       wagon  manual   1001    astra   \n",
       "6296   2016-03-31 23:50:47    599       small  manual    603    matiz   \n",
       "...                    ...    ...         ...     ...    ...      ...   \n",
       "348879 2016-03-13 11:51:57   7500       sedan  manual   1548   scenic   \n",
       "348964 2016-04-04 18:53:25    250       small  manual   1241  ypsilon   \n",
       "351943 2016-03-07 21:36:19   1500         bus  manual   1001   zafira   \n",
       "353629 2016-03-23 23:55:21   2400       sedan  manual    650       c2   \n",
       "354256 2016-03-09 17:59:03    399       other     NaN   1103      3er   \n",
       "\n",
       "        Kilometer  FuelType       Brand NotRepaired DateCreated  \\\n",
       "1816         5000    petrol      toyota          no  2016-03-22   \n",
       "2102       150000    petrol        opel         yes  2016-03-21   \n",
       "4060       150000  gasoline  mitsubishi          no  2016-04-03   \n",
       "5328       150000    petrol        opel         NaN  2016-03-29   \n",
       "6296         5000    petrol   chevrolet         yes  2016-03-31   \n",
       "...           ...       ...         ...         ...         ...   \n",
       "348879      90000    petrol     renault         NaN  2016-03-13   \n",
       "348964     150000    petrol      lancia         yes  2016-04-04   \n",
       "351943       5000  gasoline        opel          no  2016-03-07   \n",
       "353629     150000    petrol     citroen         NaN  2016-03-23   \n",
       "354256     150000       NaN         bmw         NaN  2016-03-09   \n",
       "\n",
       "        NumberOfPictures  PostalCode            LastSeen     reg_dt  car_age  \n",
       "1816                   0       22043 2016-03-22 21:43:26 2004-06-01     4312  \n",
       "2102                   0        1723 2016-04-04 04:49:06 1999-01-01     6289  \n",
       "4060                   0       60326 2016-04-07 14:56:46 2005-04-01     4020  \n",
       "5328                   0       33154 2016-04-06 05:44:36 1999-07-01     6116  \n",
       "6296                   0       44379 2016-04-01 03:41:52 2002-11-01     4899  \n",
       "...                  ...         ...                 ...        ...      ...  \n",
       "348879                 0       24568 2016-04-06 15:17:39 2011-04-01     1808  \n",
       "348964                 0       28259 2016-04-04 18:53:25 1999-05-01     6183  \n",
       "351943                 0       66117 2016-03-09 12:47:08 2001-07-01     5363  \n",
       "353629                 0       45277 2016-03-27 01:15:17 2007-08-01     3157  \n",
       "354256                 0       56235 2016-03-17 09:17:08 1994-01-01     8103  \n",
       "\n",
       "[352 rows x 16 columns]"
      ]
     },
     "execution_count": 24,
     "metadata": {},
     "output_type": "execute_result"
    }
   ],
   "source": [
    "# df.query('Power > 600').query('Power < 20000')\n",
    "\n",
    "df.loc[(df['Power'] >= 600) & (df['Power'] <= 20000)]"
   ]
  },
  {
   "cell_type": "markdown",
   "metadata": {},
   "source": [
    "Ого! 20 000 лошадей, такому табуну позавидует любой драг кар. Но гражданскому автомобилю это многовато. Судя по всему, некоторые пользователи указывали вместо мощности объем двигателя, но такого признаки в наших данных нет. Установим максимальный порог 612 л.с. что соответствует Mercedes-Benz GLE Coupe или Audi RS Q8. Малолитражки c объемом 660 сс в датасет не попадут. Минимальный порог выберем 46 л.с. что характерно для кей каров. Таким образом избавимся и от нулевых значений заполнить которых даже на основании знания марки и модели может привести к погрешностям т.к. мощность может сильно отличаться в зависимости от комплектации. Снова посмотрим на бокс плот.  \n",
    "  \n",
    "Что касается пробегов, то к его значениям формально вопросов нет. Хотя отсутствие величин больше 150000 км несколько странно. Вероятно при сборе информации просто нельзя было указывать больше 150 000. А где таксисты с пробегами + 400 000 км? Но исходя из того, что ничего откорректировать здесь   мы не можем, оставим данный признак без изменений.\n"
   ]
  },
  {
   "cell_type": "code",
   "execution_count": 25,
   "metadata": {},
   "outputs": [],
   "source": [
    "df = df.loc[(df['Power'] >= 46) & (df['Power'] <= 612)]"
   ]
  },
  {
   "cell_type": "code",
   "execution_count": 26,
   "metadata": {},
   "outputs": [
    {
     "data": {
      "image/png": "[encoded data removed]",
      "text/plain": [
       "<Figure size 432x288 with 1 Axes>"
      ]
     },
     "metadata": {
      "needs_background": "light"
     },
     "output_type": "display_data"
    }
   ],
   "source": [
    "plt.boxplot(df['Power'])\n",
    "\n",
    "plt.show()"
   ]
  },
  {
   "cell_type": "markdown",
   "metadata": {},
   "source": [
    "Диапазон цен так же выберем из условий реальной стоимости автомобилей. Минимальным порогом выберем 100 евро, меньше это уже даром. Такие маленькие значения будут только портить реальную картину рыночной стоимости автомобиля и  обусловлены, либо ужасном состоянием, либо желанием владельца избавится от неликвида. Верхний предел неадекватных значений не имеет и ограничиваться не будет.  "
   ]
  },
  {
   "cell_type": "code",
   "execution_count": 27,
   "metadata": {},
   "outputs": [
    {
     "data": {
      "text/html": [
       "<div>\n",
       "<style scoped>\n",
       "    .dataframe tbody tr th:only-of-type {\n",
       "        vertical-align: middle;\n",
       "    }\n",
       "\n",
       "    .dataframe tbody tr th {\n",
       "        vertical-align: top;\n",
       "    }\n",
       "\n",
       "    .dataframe thead th {\n",
       "        text-align: right;\n",
       "    }\n",
       "</style>\n",
       "<table border=\"1\" class=\"dataframe\">\n",
       "  <thead>\n",
       "    <tr style=\"text-align: right;\">\n",
       "      <th></th>\n",
       "      <th>DateCrawled</th>\n",
       "      <th>Price</th>\n",
       "      <th>VehicleType</th>\n",
       "      <th>Gearbox</th>\n",
       "      <th>Power</th>\n",
       "      <th>Model</th>\n",
       "      <th>Kilometer</th>\n",
       "      <th>FuelType</th>\n",
       "      <th>Brand</th>\n",
       "      <th>NotRepaired</th>\n",
       "      <th>DateCreated</th>\n",
       "      <th>NumberOfPictures</th>\n",
       "      <th>PostalCode</th>\n",
       "      <th>LastSeen</th>\n",
       "      <th>reg_dt</th>\n",
       "      <th>car_age</th>\n",
       "    </tr>\n",
       "  </thead>\n",
       "  <tbody>\n",
       "    <tr>\n",
       "      <td>1</td>\n",
       "      <td>2016-03-24 10:58:45</td>\n",
       "      <td>18300</td>\n",
       "      <td>coupe</td>\n",
       "      <td>manual</td>\n",
       "      <td>190</td>\n",
       "      <td>NaN</td>\n",
       "      <td>125000</td>\n",
       "      <td>gasoline</td>\n",
       "      <td>audi</td>\n",
       "      <td>yes</td>\n",
       "      <td>2016-03-24</td>\n",
       "      <td>0</td>\n",
       "      <td>66954</td>\n",
       "      <td>2016-04-07 01:46:50</td>\n",
       "      <td>2011-05-01</td>\n",
       "      <td>1789</td>\n",
       "    </tr>\n",
       "    <tr>\n",
       "      <td>8</td>\n",
       "      <td>2016-04-04 23:42:13</td>\n",
       "      <td>14500</td>\n",
       "      <td>bus</td>\n",
       "      <td>manual</td>\n",
       "      <td>125</td>\n",
       "      <td>c_max</td>\n",
       "      <td>30000</td>\n",
       "      <td>petrol</td>\n",
       "      <td>ford</td>\n",
       "      <td>NaN</td>\n",
       "      <td>2016-04-04</td>\n",
       "      <td>0</td>\n",
       "      <td>94505</td>\n",
       "      <td>2016-04-04 23:42:13</td>\n",
       "      <td>2014-08-01</td>\n",
       "      <td>612</td>\n",
       "    </tr>\n",
       "    <tr>\n",
       "      <td>14</td>\n",
       "      <td>2016-03-21 12:57:01</td>\n",
       "      <td>17999</td>\n",
       "      <td>suv</td>\n",
       "      <td>manual</td>\n",
       "      <td>190</td>\n",
       "      <td>navara</td>\n",
       "      <td>70000</td>\n",
       "      <td>gasoline</td>\n",
       "      <td>nissan</td>\n",
       "      <td>no</td>\n",
       "      <td>2016-03-21</td>\n",
       "      <td>0</td>\n",
       "      <td>4177</td>\n",
       "      <td>2016-04-06 07:45:42</td>\n",
       "      <td>2011-03-01</td>\n",
       "      <td>1847</td>\n",
       "    </tr>\n",
       "    <tr>\n",
       "      <td>20</td>\n",
       "      <td>2016-04-01 19:56:48</td>\n",
       "      <td>10400</td>\n",
       "      <td>coupe</td>\n",
       "      <td>manual</td>\n",
       "      <td>160</td>\n",
       "      <td>scirocco</td>\n",
       "      <td>100000</td>\n",
       "      <td>petrol</td>\n",
       "      <td>volkswagen</td>\n",
       "      <td>no</td>\n",
       "      <td>2016-04-01</td>\n",
       "      <td>0</td>\n",
       "      <td>75365</td>\n",
       "      <td>2016-04-05 16:45:49</td>\n",
       "      <td>2009-04-01</td>\n",
       "      <td>2557</td>\n",
       "    </tr>\n",
       "    <tr>\n",
       "      <td>33</td>\n",
       "      <td>2016-03-25 21:48:47</td>\n",
       "      <td>18000</td>\n",
       "      <td>sedan</td>\n",
       "      <td>auto</td>\n",
       "      <td>218</td>\n",
       "      <td>3er</td>\n",
       "      <td>20000</td>\n",
       "      <td>petrol</td>\n",
       "      <td>bmw</td>\n",
       "      <td>no</td>\n",
       "      <td>2016-03-25</td>\n",
       "      <td>0</td>\n",
       "      <td>39179</td>\n",
       "      <td>2016-04-07 04:45:21</td>\n",
       "      <td>2007-05-01</td>\n",
       "      <td>3251</td>\n",
       "    </tr>\n",
       "    <tr>\n",
       "      <td>38</td>\n",
       "      <td>2016-04-01 17:45:07</td>\n",
       "      <td>11900</td>\n",
       "      <td>other</td>\n",
       "      <td>manual</td>\n",
       "      <td>129</td>\n",
       "      <td>other</td>\n",
       "      <td>150000</td>\n",
       "      <td>gasoline</td>\n",
       "      <td>volkswagen</td>\n",
       "      <td>no</td>\n",
       "      <td>2016-04-01</td>\n",
       "      <td>0</td>\n",
       "      <td>10551</td>\n",
       "      <td>2016-04-05 12:47:30</td>\n",
       "      <td>2002-11-01</td>\n",
       "      <td>4900</td>\n",
       "    </tr>\n",
       "    <tr>\n",
       "      <td>42</td>\n",
       "      <td>2016-03-24 00:52:09</td>\n",
       "      <td>12500</td>\n",
       "      <td>sedan</td>\n",
       "      <td>auto</td>\n",
       "      <td>231</td>\n",
       "      <td>5er</td>\n",
       "      <td>150000</td>\n",
       "      <td>gasoline</td>\n",
       "      <td>bmw</td>\n",
       "      <td>NaN</td>\n",
       "      <td>2016-03-23</td>\n",
       "      <td>0</td>\n",
       "      <td>46119</td>\n",
       "      <td>2016-04-04 16:18:19</td>\n",
       "      <td>2006-11-01</td>\n",
       "      <td>3430</td>\n",
       "    </tr>\n",
       "    <tr>\n",
       "      <td>49</td>\n",
       "      <td>2016-04-04 14:06:22</td>\n",
       "      <td>13500</td>\n",
       "      <td>bus</td>\n",
       "      <td>auto</td>\n",
       "      <td>109</td>\n",
       "      <td>b_klasse</td>\n",
       "      <td>150000</td>\n",
       "      <td>gasoline</td>\n",
       "      <td>mercedes_benz</td>\n",
       "      <td>no</td>\n",
       "      <td>2016-04-04</td>\n",
       "      <td>0</td>\n",
       "      <td>35576</td>\n",
       "      <td>2016-04-05 12:09:29</td>\n",
       "      <td>2012-07-01</td>\n",
       "      <td>1373</td>\n",
       "    </tr>\n",
       "    <tr>\n",
       "      <td>50</td>\n",
       "      <td>2016-03-30 08:50:37</td>\n",
       "      <td>14800</td>\n",
       "      <td>convertible</td>\n",
       "      <td>manual</td>\n",
       "      <td>170</td>\n",
       "      <td>1er</td>\n",
       "      <td>125000</td>\n",
       "      <td>petrol</td>\n",
       "      <td>bmw</td>\n",
       "      <td>NaN</td>\n",
       "      <td>2016-03-30</td>\n",
       "      <td>0</td>\n",
       "      <td>48691</td>\n",
       "      <td>2016-04-07 00:17:23</td>\n",
       "      <td>2008-04-01</td>\n",
       "      <td>2920</td>\n",
       "    </tr>\n",
       "    <tr>\n",
       "      <td>64</td>\n",
       "      <td>2016-03-07 22:36:54</td>\n",
       "      <td>14999</td>\n",
       "      <td>convertible</td>\n",
       "      <td>manual</td>\n",
       "      <td>218</td>\n",
       "      <td>3er</td>\n",
       "      <td>50000</td>\n",
       "      <td>petrol</td>\n",
       "      <td>bmw</td>\n",
       "      <td>no</td>\n",
       "      <td>2016-03-07</td>\n",
       "      <td>0</td>\n",
       "      <td>1129</td>\n",
       "      <td>2016-03-15 10:17:59</td>\n",
       "      <td>2007-08-01</td>\n",
       "      <td>3141</td>\n",
       "    </tr>\n",
       "    <tr>\n",
       "      <td>93</td>\n",
       "      <td>2016-03-10 11:44:54</td>\n",
       "      <td>14500</td>\n",
       "      <td>small</td>\n",
       "      <td>manual</td>\n",
       "      <td>86</td>\n",
       "      <td>a1</td>\n",
       "      <td>60000</td>\n",
       "      <td>petrol</td>\n",
       "      <td>audi</td>\n",
       "      <td>no</td>\n",
       "      <td>2016-03-10</td>\n",
       "      <td>0</td>\n",
       "      <td>31582</td>\n",
       "      <td>2016-04-07 01:15:35</td>\n",
       "      <td>2013-04-01</td>\n",
       "      <td>1074</td>\n",
       "    </tr>\n",
       "    <tr>\n",
       "      <td>134</td>\n",
       "      <td>2016-03-21 16:45:30</td>\n",
       "      <td>14499</td>\n",
       "      <td>sedan</td>\n",
       "      <td>auto</td>\n",
       "      <td>170</td>\n",
       "      <td>c_klasse</td>\n",
       "      <td>125000</td>\n",
       "      <td>gasoline</td>\n",
       "      <td>mercedes_benz</td>\n",
       "      <td>no</td>\n",
       "      <td>2016-03-21</td>\n",
       "      <td>0</td>\n",
       "      <td>13439</td>\n",
       "      <td>2016-04-06 15:45:36</td>\n",
       "      <td>2007-05-01</td>\n",
       "      <td>3247</td>\n",
       "    </tr>\n",
       "    <tr>\n",
       "      <td>170</td>\n",
       "      <td>2016-03-19 13:36:22</td>\n",
       "      <td>11890</td>\n",
       "      <td>bus</td>\n",
       "      <td>manual</td>\n",
       "      <td>116</td>\n",
       "      <td>c_max</td>\n",
       "      <td>150000</td>\n",
       "      <td>gasoline</td>\n",
       "      <td>ford</td>\n",
       "      <td>no</td>\n",
       "      <td>2016-03-19</td>\n",
       "      <td>0</td>\n",
       "      <td>97737</td>\n",
       "      <td>2016-04-06 18:48:10</td>\n",
       "      <td>2011-04-01</td>\n",
       "      <td>1814</td>\n",
       "    </tr>\n",
       "    <tr>\n",
       "      <td>172</td>\n",
       "      <td>2016-03-07 12:38:19</td>\n",
       "      <td>19750</td>\n",
       "      <td>convertible</td>\n",
       "      <td>manual</td>\n",
       "      <td>305</td>\n",
       "      <td>mustang</td>\n",
       "      <td>50000</td>\n",
       "      <td>petrol</td>\n",
       "      <td>ford</td>\n",
       "      <td>no</td>\n",
       "      <td>2016-03-07</td>\n",
       "      <td>0</td>\n",
       "      <td>38350</td>\n",
       "      <td>2016-03-12 20:18:29</td>\n",
       "      <td>2006-07-01</td>\n",
       "      <td>3537</td>\n",
       "    </tr>\n",
       "    <tr>\n",
       "      <td>175</td>\n",
       "      <td>2016-03-18 06:36:46</td>\n",
       "      <td>10500</td>\n",
       "      <td>bus</td>\n",
       "      <td>auto</td>\n",
       "      <td>150</td>\n",
       "      <td>vito</td>\n",
       "      <td>150000</td>\n",
       "      <td>gasoline</td>\n",
       "      <td>mercedes_benz</td>\n",
       "      <td>no</td>\n",
       "      <td>2016-03-18</td>\n",
       "      <td>0</td>\n",
       "      <td>33729</td>\n",
       "      <td>2016-04-05 21:47:51</td>\n",
       "      <td>2006-06-01</td>\n",
       "      <td>3578</td>\n",
       "    </tr>\n",
       "    <tr>\n",
       "      <td>176</td>\n",
       "      <td>2016-03-24 15:38:18</td>\n",
       "      <td>11000</td>\n",
       "      <td>sedan</td>\n",
       "      <td>manual</td>\n",
       "      <td>131</td>\n",
       "      <td>astra</td>\n",
       "      <td>70000</td>\n",
       "      <td>gasoline</td>\n",
       "      <td>opel</td>\n",
       "      <td>no</td>\n",
       "      <td>2016-03-24</td>\n",
       "      <td>0</td>\n",
       "      <td>34613</td>\n",
       "      <td>2016-04-05 11:56:32</td>\n",
       "      <td>2012-03-01</td>\n",
       "      <td>1484</td>\n",
       "    </tr>\n",
       "    <tr>\n",
       "      <td>179</td>\n",
       "      <td>2016-03-08 20:58:31</td>\n",
       "      <td>16449</td>\n",
       "      <td>wagon</td>\n",
       "      <td>auto</td>\n",
       "      <td>110</td>\n",
       "      <td>fabia</td>\n",
       "      <td>10000</td>\n",
       "      <td>petrol</td>\n",
       "      <td>skoda</td>\n",
       "      <td>no</td>\n",
       "      <td>2016-03-08</td>\n",
       "      <td>0</td>\n",
       "      <td>95502</td>\n",
       "      <td>2016-04-06 01:17:03</td>\n",
       "      <td>2015-08-01</td>\n",
       "      <td>220</td>\n",
       "    </tr>\n",
       "    <tr>\n",
       "      <td>182</td>\n",
       "      <td>2016-03-28 17:39:50</td>\n",
       "      <td>14300</td>\n",
       "      <td>sedan</td>\n",
       "      <td>manual</td>\n",
       "      <td>120</td>\n",
       "      <td>a4</td>\n",
       "      <td>60000</td>\n",
       "      <td>petrol</td>\n",
       "      <td>audi</td>\n",
       "      <td>no</td>\n",
       "      <td>2016-03-28</td>\n",
       "      <td>0</td>\n",
       "      <td>59494</td>\n",
       "      <td>2016-04-06 23:15:52</td>\n",
       "      <td>2011-05-01</td>\n",
       "      <td>1793</td>\n",
       "    </tr>\n",
       "    <tr>\n",
       "      <td>186</td>\n",
       "      <td>2016-03-16 15:51:08</td>\n",
       "      <td>14000</td>\n",
       "      <td>sedan</td>\n",
       "      <td>NaN</td>\n",
       "      <td>235</td>\n",
       "      <td>NaN</td>\n",
       "      <td>150000</td>\n",
       "      <td>NaN</td>\n",
       "      <td>bmw</td>\n",
       "      <td>no</td>\n",
       "      <td>2016-02-12</td>\n",
       "      <td>0</td>\n",
       "      <td>95131</td>\n",
       "      <td>2016-04-07 14:56:12</td>\n",
       "      <td>2008-01-01</td>\n",
       "      <td>2964</td>\n",
       "    </tr>\n",
       "    <tr>\n",
       "      <td>188</td>\n",
       "      <td>2016-03-20 23:48:31</td>\n",
       "      <td>13400</td>\n",
       "      <td>sedan</td>\n",
       "      <td>manual</td>\n",
       "      <td>170</td>\n",
       "      <td>3er</td>\n",
       "      <td>100000</td>\n",
       "      <td>petrol</td>\n",
       "      <td>bmw</td>\n",
       "      <td>no</td>\n",
       "      <td>2016-03-20</td>\n",
       "      <td>0</td>\n",
       "      <td>64289</td>\n",
       "      <td>2016-04-07 11:17:36</td>\n",
       "      <td>2008-12-01</td>\n",
       "      <td>2666</td>\n",
       "    </tr>\n",
       "    <tr>\n",
       "      <td>190</td>\n",
       "      <td>2016-03-08 21:52:34</td>\n",
       "      <td>11299</td>\n",
       "      <td>sedan</td>\n",
       "      <td>auto</td>\n",
       "      <td>250</td>\n",
       "      <td>golf</td>\n",
       "      <td>150000</td>\n",
       "      <td>petrol</td>\n",
       "      <td>volkswagen</td>\n",
       "      <td>no</td>\n",
       "      <td>2016-03-08</td>\n",
       "      <td>0</td>\n",
       "      <td>22083</td>\n",
       "      <td>2016-03-19 09:46:58</td>\n",
       "      <td>2006-08-01</td>\n",
       "      <td>3507</td>\n",
       "    </tr>\n",
       "    <tr>\n",
       "      <td>199</td>\n",
       "      <td>2016-04-02 23:54:43</td>\n",
       "      <td>11000</td>\n",
       "      <td>wagon</td>\n",
       "      <td>auto</td>\n",
       "      <td>231</td>\n",
       "      <td>5er</td>\n",
       "      <td>150000</td>\n",
       "      <td>gasoline</td>\n",
       "      <td>bmw</td>\n",
       "      <td>no</td>\n",
       "      <td>2016-04-02</td>\n",
       "      <td>0</td>\n",
       "      <td>76332</td>\n",
       "      <td>2016-04-07 07:16:22</td>\n",
       "      <td>2006-11-01</td>\n",
       "      <td>3440</td>\n",
       "    </tr>\n",
       "    <tr>\n",
       "      <td>203</td>\n",
       "      <td>2016-04-01 18:45:45</td>\n",
       "      <td>12999</td>\n",
       "      <td>wagon</td>\n",
       "      <td>auto</td>\n",
       "      <td>179</td>\n",
       "      <td>a6</td>\n",
       "      <td>150000</td>\n",
       "      <td>gasoline</td>\n",
       "      <td>audi</td>\n",
       "      <td>no</td>\n",
       "      <td>2016-04-01</td>\n",
       "      <td>0</td>\n",
       "      <td>25551</td>\n",
       "      <td>2016-04-05 14:18:28</td>\n",
       "      <td>2008-08-01</td>\n",
       "      <td>2800</td>\n",
       "    </tr>\n",
       "    <tr>\n",
       "      <td>204</td>\n",
       "      <td>2016-03-31 12:58:26</td>\n",
       "      <td>18400</td>\n",
       "      <td>wagon</td>\n",
       "      <td>auto</td>\n",
       "      <td>313</td>\n",
       "      <td>5er</td>\n",
       "      <td>150000</td>\n",
       "      <td>gasoline</td>\n",
       "      <td>bmw</td>\n",
       "      <td>no</td>\n",
       "      <td>2016-03-31</td>\n",
       "      <td>0</td>\n",
       "      <td>52477</td>\n",
       "      <td>2016-03-31 13:44:44</td>\n",
       "      <td>2011-11-01</td>\n",
       "      <td>1612</td>\n",
       "    </tr>\n",
       "    <tr>\n",
       "      <td>206</td>\n",
       "      <td>2016-03-27 23:48:09</td>\n",
       "      <td>12899</td>\n",
       "      <td>wagon</td>\n",
       "      <td>auto</td>\n",
       "      <td>140</td>\n",
       "      <td>a3</td>\n",
       "      <td>150000</td>\n",
       "      <td>gasoline</td>\n",
       "      <td>audi</td>\n",
       "      <td>no</td>\n",
       "      <td>2016-03-27</td>\n",
       "      <td>0</td>\n",
       "      <td>51109</td>\n",
       "      <td>2016-04-06 02:15:20</td>\n",
       "      <td>2009-09-01</td>\n",
       "      <td>2399</td>\n",
       "    </tr>\n",
       "    <tr>\n",
       "      <td>207</td>\n",
       "      <td>2016-03-31 19:52:39</td>\n",
       "      <td>10500</td>\n",
       "      <td>sedan</td>\n",
       "      <td>manual</td>\n",
       "      <td>143</td>\n",
       "      <td>3er</td>\n",
       "      <td>150000</td>\n",
       "      <td>gasoline</td>\n",
       "      <td>bmw</td>\n",
       "      <td>no</td>\n",
       "      <td>2016-03-31</td>\n",
       "      <td>0</td>\n",
       "      <td>29683</td>\n",
       "      <td>2016-04-06 14:18:03</td>\n",
       "      <td>2010-05-01</td>\n",
       "      <td>2161</td>\n",
       "    </tr>\n",
       "    <tr>\n",
       "      <td>210</td>\n",
       "      <td>2016-04-05 11:48:01</td>\n",
       "      <td>14900</td>\n",
       "      <td>sedan</td>\n",
       "      <td>manual</td>\n",
       "      <td>265</td>\n",
       "      <td>1er</td>\n",
       "      <td>150000</td>\n",
       "      <td>petrol</td>\n",
       "      <td>bmw</td>\n",
       "      <td>no</td>\n",
       "      <td>2016-04-05</td>\n",
       "      <td>0</td>\n",
       "      <td>14129</td>\n",
       "      <td>2016-04-05 11:48:01</td>\n",
       "      <td>2007-10-01</td>\n",
       "      <td>3109</td>\n",
       "    </tr>\n",
       "    <tr>\n",
       "      <td>221</td>\n",
       "      <td>2016-04-05 08:57:20</td>\n",
       "      <td>11800</td>\n",
       "      <td>sedan</td>\n",
       "      <td>auto</td>\n",
       "      <td>218</td>\n",
       "      <td>3er</td>\n",
       "      <td>150000</td>\n",
       "      <td>petrol</td>\n",
       "      <td>bmw</td>\n",
       "      <td>no</td>\n",
       "      <td>2016-04-05</td>\n",
       "      <td>0</td>\n",
       "      <td>88255</td>\n",
       "      <td>2016-04-07 12:17:52</td>\n",
       "      <td>2005-11-01</td>\n",
       "      <td>3808</td>\n",
       "    </tr>\n",
       "    <tr>\n",
       "      <td>236</td>\n",
       "      <td>2016-03-05 17:50:33</td>\n",
       "      <td>15700</td>\n",
       "      <td>sedan</td>\n",
       "      <td>manual</td>\n",
       "      <td>170</td>\n",
       "      <td>golf</td>\n",
       "      <td>90000</td>\n",
       "      <td>gasoline</td>\n",
       "      <td>volkswagen</td>\n",
       "      <td>no</td>\n",
       "      <td>2016-03-05</td>\n",
       "      <td>0</td>\n",
       "      <td>32832</td>\n",
       "      <td>2016-03-11 16:17:33</td>\n",
       "      <td>2011-03-01</td>\n",
       "      <td>1831</td>\n",
       "    </tr>\n",
       "    <tr>\n",
       "      <td>245</td>\n",
       "      <td>2016-03-30 20:42:52</td>\n",
       "      <td>14700</td>\n",
       "      <td>sedan</td>\n",
       "      <td>auto</td>\n",
       "      <td>211</td>\n",
       "      <td>golf</td>\n",
       "      <td>60000</td>\n",
       "      <td>petrol</td>\n",
       "      <td>volkswagen</td>\n",
       "      <td>yes</td>\n",
       "      <td>2016-03-30</td>\n",
       "      <td>0</td>\n",
       "      <td>42283</td>\n",
       "      <td>2016-04-07 12:45:20</td>\n",
       "      <td>2012-12-01</td>\n",
       "      <td>1215</td>\n",
       "    </tr>\n",
       "    <tr>\n",
       "      <td>252</td>\n",
       "      <td>2016-03-05 18:38:39</td>\n",
       "      <td>11919</td>\n",
       "      <td>small</td>\n",
       "      <td>auto</td>\n",
       "      <td>90</td>\n",
       "      <td>polo</td>\n",
       "      <td>30000</td>\n",
       "      <td>petrol</td>\n",
       "      <td>volkswagen</td>\n",
       "      <td>no</td>\n",
       "      <td>2016-03-05</td>\n",
       "      <td>0</td>\n",
       "      <td>6110</td>\n",
       "      <td>2016-04-07 04:46:28</td>\n",
       "      <td>2012-11-01</td>\n",
       "      <td>1220</td>\n",
       "    </tr>\n",
       "    <tr>\n",
       "      <td>254</td>\n",
       "      <td>2016-03-06 09:48:11</td>\n",
       "      <td>10800</td>\n",
       "      <td>small</td>\n",
       "      <td>manual</td>\n",
       "      <td>105</td>\n",
       "      <td>a1</td>\n",
       "      <td>125000</td>\n",
       "      <td>gasoline</td>\n",
       "      <td>audi</td>\n",
       "      <td>no</td>\n",
       "      <td>2016-03-06</td>\n",
       "      <td>0</td>\n",
       "      <td>24537</td>\n",
       "      <td>2016-03-09 22:18:06</td>\n",
       "      <td>2010-12-01</td>\n",
       "      <td>1922</td>\n",
       "    </tr>\n",
       "    <tr>\n",
       "      <td>270</td>\n",
       "      <td>2016-03-25 12:25:20</td>\n",
       "      <td>14950</td>\n",
       "      <td>bus</td>\n",
       "      <td>manual</td>\n",
       "      <td>140</td>\n",
       "      <td>touran</td>\n",
       "      <td>70000</td>\n",
       "      <td>petrol</td>\n",
       "      <td>volkswagen</td>\n",
       "      <td>no</td>\n",
       "      <td>2016-03-25</td>\n",
       "      <td>0</td>\n",
       "      <td>55129</td>\n",
       "      <td>2016-04-07 05:46:31</td>\n",
       "      <td>2009-03-01</td>\n",
       "      <td>2581</td>\n",
       "    </tr>\n",
       "    <tr>\n",
       "      <td>271</td>\n",
       "      <td>2016-03-28 18:38:30</td>\n",
       "      <td>14900</td>\n",
       "      <td>convertible</td>\n",
       "      <td>manual</td>\n",
       "      <td>170</td>\n",
       "      <td>z_reihe</td>\n",
       "      <td>70000</td>\n",
       "      <td>petrol</td>\n",
       "      <td>bmw</td>\n",
       "      <td>no</td>\n",
       "      <td>2016-03-28</td>\n",
       "      <td>0</td>\n",
       "      <td>16321</td>\n",
       "      <td>2016-04-07 00:17:37</td>\n",
       "      <td>2004-06-01</td>\n",
       "      <td>4318</td>\n",
       "    </tr>\n",
       "    <tr>\n",
       "      <td>274</td>\n",
       "      <td>2016-03-30 23:56:48</td>\n",
       "      <td>12000</td>\n",
       "      <td>suv</td>\n",
       "      <td>manual</td>\n",
       "      <td>101</td>\n",
       "      <td>tiguan</td>\n",
       "      <td>150000</td>\n",
       "      <td>gasoline</td>\n",
       "      <td>volkswagen</td>\n",
       "      <td>no</td>\n",
       "      <td>2016-03-30</td>\n",
       "      <td>0</td>\n",
       "      <td>1069</td>\n",
       "      <td>2016-03-31 07:43:22</td>\n",
       "      <td>2011-07-01</td>\n",
       "      <td>1734</td>\n",
       "    </tr>\n",
       "    <tr>\n",
       "      <td>282</td>\n",
       "      <td>2016-03-06 12:38:13</td>\n",
       "      <td>18700</td>\n",
       "      <td>coupe</td>\n",
       "      <td>auto</td>\n",
       "      <td>213</td>\n",
       "      <td>mustang</td>\n",
       "      <td>80000</td>\n",
       "      <td>petrol</td>\n",
       "      <td>ford</td>\n",
       "      <td>no</td>\n",
       "      <td>2016-03-06</td>\n",
       "      <td>0</td>\n",
       "      <td>97424</td>\n",
       "      <td>2016-04-06 05:44:39</td>\n",
       "      <td>2009-08-01</td>\n",
       "      <td>2409</td>\n",
       "    </tr>\n",
       "    <tr>\n",
       "      <td>284</td>\n",
       "      <td>2016-03-31 15:48:39</td>\n",
       "      <td>11550</td>\n",
       "      <td>coupe</td>\n",
       "      <td>auto</td>\n",
       "      <td>140</td>\n",
       "      <td>passat</td>\n",
       "      <td>125000</td>\n",
       "      <td>gasoline</td>\n",
       "      <td>volkswagen</td>\n",
       "      <td>no</td>\n",
       "      <td>2016-03-31</td>\n",
       "      <td>0</td>\n",
       "      <td>26931</td>\n",
       "      <td>2016-03-31 15:48:39</td>\n",
       "      <td>2009-12-01</td>\n",
       "      <td>2312</td>\n",
       "    </tr>\n",
       "    <tr>\n",
       "      <td>287</td>\n",
       "      <td>2016-03-19 16:40:33</td>\n",
       "      <td>16150</td>\n",
       "      <td>suv</td>\n",
       "      <td>manual</td>\n",
       "      <td>150</td>\n",
       "      <td>tiguan</td>\n",
       "      <td>30000</td>\n",
       "      <td>petrol</td>\n",
       "      <td>volkswagen</td>\n",
       "      <td>no</td>\n",
       "      <td>2016-03-19</td>\n",
       "      <td>0</td>\n",
       "      <td>6502</td>\n",
       "      <td>2016-04-07 02:15:37</td>\n",
       "      <td>2011-04-01</td>\n",
       "      <td>1814</td>\n",
       "    </tr>\n",
       "    <tr>\n",
       "      <td>313</td>\n",
       "      <td>2016-03-05 19:47:47</td>\n",
       "      <td>16500</td>\n",
       "      <td>coupe</td>\n",
       "      <td>manual</td>\n",
       "      <td>265</td>\n",
       "      <td>z_reihe</td>\n",
       "      <td>150000</td>\n",
       "      <td>petrol</td>\n",
       "      <td>bmw</td>\n",
       "      <td>no</td>\n",
       "      <td>2016-03-05</td>\n",
       "      <td>0</td>\n",
       "      <td>71083</td>\n",
       "      <td>2016-04-07 12:17:24</td>\n",
       "      <td>2007-03-01</td>\n",
       "      <td>3292</td>\n",
       "    </tr>\n",
       "    <tr>\n",
       "      <td>325</td>\n",
       "      <td>2016-03-16 17:38:52</td>\n",
       "      <td>11700</td>\n",
       "      <td>wagon</td>\n",
       "      <td>manual</td>\n",
       "      <td>170</td>\n",
       "      <td>other</td>\n",
       "      <td>150000</td>\n",
       "      <td>gasoline</td>\n",
       "      <td>mercedes_benz</td>\n",
       "      <td>no</td>\n",
       "      <td>2016-03-16</td>\n",
       "      <td>0</td>\n",
       "      <td>91717</td>\n",
       "      <td>2016-04-06 23:16:34</td>\n",
       "      <td>2008-07-01</td>\n",
       "      <td>2815</td>\n",
       "    </tr>\n",
       "    <tr>\n",
       "      <td>337</td>\n",
       "      <td>2016-03-20 11:44:15</td>\n",
       "      <td>18880</td>\n",
       "      <td>bus</td>\n",
       "      <td>manual</td>\n",
       "      <td>116</td>\n",
       "      <td>5_reihe</td>\n",
       "      <td>20000</td>\n",
       "      <td>gasoline</td>\n",
       "      <td>mazda</td>\n",
       "      <td>no</td>\n",
       "      <td>2016-03-20</td>\n",
       "      <td>0</td>\n",
       "      <td>59872</td>\n",
       "      <td>2016-04-06 08:46:43</td>\n",
       "      <td>2014-11-01</td>\n",
       "      <td>505</td>\n",
       "    </tr>\n",
       "    <tr>\n",
       "      <td>338</td>\n",
       "      <td>2016-03-19 17:48:55</td>\n",
       "      <td>11200</td>\n",
       "      <td>wagon</td>\n",
       "      <td>auto</td>\n",
       "      <td>177</td>\n",
       "      <td>5er</td>\n",
       "      <td>150000</td>\n",
       "      <td>gasoline</td>\n",
       "      <td>bmw</td>\n",
       "      <td>no</td>\n",
       "      <td>2016-03-19</td>\n",
       "      <td>0</td>\n",
       "      <td>91301</td>\n",
       "      <td>2016-04-01 07:49:21</td>\n",
       "      <td>2008-07-01</td>\n",
       "      <td>2818</td>\n",
       "    </tr>\n",
       "    <tr>\n",
       "      <td>341</td>\n",
       "      <td>2016-03-10 18:53:17</td>\n",
       "      <td>13849</td>\n",
       "      <td>sedan</td>\n",
       "      <td>manual</td>\n",
       "      <td>143</td>\n",
       "      <td>1er</td>\n",
       "      <td>80000</td>\n",
       "      <td>gasoline</td>\n",
       "      <td>bmw</td>\n",
       "      <td>no</td>\n",
       "      <td>2016-03-10</td>\n",
       "      <td>0</td>\n",
       "      <td>73485</td>\n",
       "      <td>2016-04-06 00:45:33</td>\n",
       "      <td>2010-12-01</td>\n",
       "      <td>1926</td>\n",
       "    </tr>\n",
       "    <tr>\n",
       "      <td>342</td>\n",
       "      <td>2016-03-26 19:58:06</td>\n",
       "      <td>13200</td>\n",
       "      <td>suv</td>\n",
       "      <td>manual</td>\n",
       "      <td>105</td>\n",
       "      <td>yeti</td>\n",
       "      <td>40000</td>\n",
       "      <td>petrol</td>\n",
       "      <td>skoda</td>\n",
       "      <td>no</td>\n",
       "      <td>2016-03-26</td>\n",
       "      <td>0</td>\n",
       "      <td>79400</td>\n",
       "      <td>2016-04-06 10:45:21</td>\n",
       "      <td>2013-03-01</td>\n",
       "      <td>1121</td>\n",
       "    </tr>\n",
       "    <tr>\n",
       "      <td>362</td>\n",
       "      <td>2016-03-30 13:53:41</td>\n",
       "      <td>16500</td>\n",
       "      <td>coupe</td>\n",
       "      <td>manual</td>\n",
       "      <td>218</td>\n",
       "      <td>6er</td>\n",
       "      <td>150000</td>\n",
       "      <td>petrol</td>\n",
       "      <td>bmw</td>\n",
       "      <td>no</td>\n",
       "      <td>2016-03-30</td>\n",
       "      <td>0</td>\n",
       "      <td>42719</td>\n",
       "      <td>2016-04-01 08:18:11</td>\n",
       "      <td>1983-10-01</td>\n",
       "      <td>11869</td>\n",
       "    </tr>\n",
       "    <tr>\n",
       "      <td>387</td>\n",
       "      <td>2016-03-07 07:55:46</td>\n",
       "      <td>10550</td>\n",
       "      <td>sedan</td>\n",
       "      <td>auto</td>\n",
       "      <td>105</td>\n",
       "      <td>golf</td>\n",
       "      <td>60000</td>\n",
       "      <td>petrol</td>\n",
       "      <td>volkswagen</td>\n",
       "      <td>no</td>\n",
       "      <td>2016-03-07</td>\n",
       "      <td>0</td>\n",
       "      <td>44309</td>\n",
       "      <td>2016-03-22 01:18:19</td>\n",
       "      <td>2012-10-01</td>\n",
       "      <td>1253</td>\n",
       "    </tr>\n",
       "    <tr>\n",
       "      <td>388</td>\n",
       "      <td>2016-03-13 14:23:08</td>\n",
       "      <td>17500</td>\n",
       "      <td>sedan</td>\n",
       "      <td>manual</td>\n",
       "      <td>122</td>\n",
       "      <td>a_klasse</td>\n",
       "      <td>40000</td>\n",
       "      <td>petrol</td>\n",
       "      <td>mercedes_benz</td>\n",
       "      <td>no</td>\n",
       "      <td>2016-03-13</td>\n",
       "      <td>0</td>\n",
       "      <td>55481</td>\n",
       "      <td>2016-04-06 00:15:30</td>\n",
       "      <td>2013-11-01</td>\n",
       "      <td>863</td>\n",
       "    </tr>\n",
       "    <tr>\n",
       "      <td>411</td>\n",
       "      <td>2016-04-04 12:43:25</td>\n",
       "      <td>15500</td>\n",
       "      <td>suv</td>\n",
       "      <td>auto</td>\n",
       "      <td>239</td>\n",
       "      <td>touareg</td>\n",
       "      <td>150000</td>\n",
       "      <td>gasoline</td>\n",
       "      <td>volkswagen</td>\n",
       "      <td>no</td>\n",
       "      <td>2016-04-04</td>\n",
       "      <td>0</td>\n",
       "      <td>45355</td>\n",
       "      <td>2016-04-06 13:44:33</td>\n",
       "      <td>2008-04-01</td>\n",
       "      <td>2925</td>\n",
       "    </tr>\n",
       "    <tr>\n",
       "      <td>412</td>\n",
       "      <td>2016-03-26 21:49:45</td>\n",
       "      <td>13950</td>\n",
       "      <td>other</td>\n",
       "      <td>manual</td>\n",
       "      <td>140</td>\n",
       "      <td>NaN</td>\n",
       "      <td>60000</td>\n",
       "      <td>gasoline</td>\n",
       "      <td>alfa_romeo</td>\n",
       "      <td>no</td>\n",
       "      <td>2016-03-26</td>\n",
       "      <td>0</td>\n",
       "      <td>86830</td>\n",
       "      <td>2016-04-06 14:15:39</td>\n",
       "      <td>2011-11-01</td>\n",
       "      <td>1607</td>\n",
       "    </tr>\n",
       "    <tr>\n",
       "      <td>414</td>\n",
       "      <td>2016-03-29 20:06:18</td>\n",
       "      <td>11500</td>\n",
       "      <td>small</td>\n",
       "      <td>auto</td>\n",
       "      <td>179</td>\n",
       "      <td>ibiza</td>\n",
       "      <td>50000</td>\n",
       "      <td>petrol</td>\n",
       "      <td>seat</td>\n",
       "      <td>no</td>\n",
       "      <td>2016-03-29</td>\n",
       "      <td>0</td>\n",
       "      <td>60596</td>\n",
       "      <td>2016-04-06 09:17:57</td>\n",
       "      <td>2010-11-01</td>\n",
       "      <td>1975</td>\n",
       "    </tr>\n",
       "    <tr>\n",
       "      <td>438</td>\n",
       "      <td>2016-03-26 17:39:51</td>\n",
       "      <td>13499</td>\n",
       "      <td>wagon</td>\n",
       "      <td>auto</td>\n",
       "      <td>160</td>\n",
       "      <td>golf</td>\n",
       "      <td>60000</td>\n",
       "      <td>petrol</td>\n",
       "      <td>volkswagen</td>\n",
       "      <td>no</td>\n",
       "      <td>2016-03-26</td>\n",
       "      <td>0</td>\n",
       "      <td>4107</td>\n",
       "      <td>2016-04-06 06:16:08</td>\n",
       "      <td>2010-04-01</td>\n",
       "      <td>2186</td>\n",
       "    </tr>\n",
       "    <tr>\n",
       "      <td>455</td>\n",
       "      <td>2016-03-19 18:38:15</td>\n",
       "      <td>14500</td>\n",
       "      <td>wagon</td>\n",
       "      <td>manual</td>\n",
       "      <td>140</td>\n",
       "      <td>a6</td>\n",
       "      <td>100000</td>\n",
       "      <td>gasoline</td>\n",
       "      <td>audi</td>\n",
       "      <td>no</td>\n",
       "      <td>2016-03-19</td>\n",
       "      <td>0</td>\n",
       "      <td>94060</td>\n",
       "      <td>2016-04-07 05:17:33</td>\n",
       "      <td>2007-03-01</td>\n",
       "      <td>3306</td>\n",
       "    </tr>\n",
       "    <tr>\n",
       "      <td>461</td>\n",
       "      <td>2016-03-18 18:47:36</td>\n",
       "      <td>12650</td>\n",
       "      <td>wagon</td>\n",
       "      <td>manual</td>\n",
       "      <td>258</td>\n",
       "      <td>5er</td>\n",
       "      <td>150000</td>\n",
       "      <td>petrol</td>\n",
       "      <td>bmw</td>\n",
       "      <td>no</td>\n",
       "      <td>2016-03-18</td>\n",
       "      <td>0</td>\n",
       "      <td>96114</td>\n",
       "      <td>2016-04-05 22:45:26</td>\n",
       "      <td>2006-06-01</td>\n",
       "      <td>3578</td>\n",
       "    </tr>\n",
       "    <tr>\n",
       "      <td>464</td>\n",
       "      <td>2016-03-17 18:52:52</td>\n",
       "      <td>14500</td>\n",
       "      <td>sedan</td>\n",
       "      <td>manual</td>\n",
       "      <td>160</td>\n",
       "      <td>a3</td>\n",
       "      <td>70000</td>\n",
       "      <td>petrol</td>\n",
       "      <td>audi</td>\n",
       "      <td>NaN</td>\n",
       "      <td>2016-03-17</td>\n",
       "      <td>0</td>\n",
       "      <td>73525</td>\n",
       "      <td>2016-04-07 06:16:47</td>\n",
       "      <td>2009-03-01</td>\n",
       "      <td>2573</td>\n",
       "    </tr>\n",
       "    <tr>\n",
       "      <td>469</td>\n",
       "      <td>2016-03-20 12:06:18</td>\n",
       "      <td>10550</td>\n",
       "      <td>wagon</td>\n",
       "      <td>manual</td>\n",
       "      <td>143</td>\n",
       "      <td>a4</td>\n",
       "      <td>125000</td>\n",
       "      <td>gasoline</td>\n",
       "      <td>audi</td>\n",
       "      <td>no</td>\n",
       "      <td>2016-03-20</td>\n",
       "      <td>0</td>\n",
       "      <td>65549</td>\n",
       "      <td>2016-03-27 00:46:19</td>\n",
       "      <td>2008-09-01</td>\n",
       "      <td>2757</td>\n",
       "    </tr>\n",
       "    <tr>\n",
       "      <td>472</td>\n",
       "      <td>2016-04-05 00:55:53</td>\n",
       "      <td>11500</td>\n",
       "      <td>sedan</td>\n",
       "      <td>manual</td>\n",
       "      <td>170</td>\n",
       "      <td>a6</td>\n",
       "      <td>150000</td>\n",
       "      <td>petrol</td>\n",
       "      <td>audi</td>\n",
       "      <td>no</td>\n",
       "      <td>2016-04-05</td>\n",
       "      <td>0</td>\n",
       "      <td>4275</td>\n",
       "      <td>2016-04-07 11:15:55</td>\n",
       "      <td>2010-01-01</td>\n",
       "      <td>2286</td>\n",
       "    </tr>\n",
       "    <tr>\n",
       "      <td>480</td>\n",
       "      <td>2016-04-02 10:51:44</td>\n",
       "      <td>16500</td>\n",
       "      <td>bus</td>\n",
       "      <td>manual</td>\n",
       "      <td>140</td>\n",
       "      <td>galaxy</td>\n",
       "      <td>80000</td>\n",
       "      <td>gasoline</td>\n",
       "      <td>ford</td>\n",
       "      <td>no</td>\n",
       "      <td>2016-04-02</td>\n",
       "      <td>0</td>\n",
       "      <td>59590</td>\n",
       "      <td>2016-04-04 07:50:58</td>\n",
       "      <td>2012-04-01</td>\n",
       "      <td>1462</td>\n",
       "    </tr>\n",
       "    <tr>\n",
       "      <td>484</td>\n",
       "      <td>2016-03-31 23:52:32</td>\n",
       "      <td>19900</td>\n",
       "      <td>bus</td>\n",
       "      <td>manual</td>\n",
       "      <td>150</td>\n",
       "      <td>viano</td>\n",
       "      <td>90000</td>\n",
       "      <td>gasoline</td>\n",
       "      <td>mercedes_benz</td>\n",
       "      <td>no</td>\n",
       "      <td>2016-03-31</td>\n",
       "      <td>0</td>\n",
       "      <td>59348</td>\n",
       "      <td>2016-04-07 03:17:20</td>\n",
       "      <td>2009-05-01</td>\n",
       "      <td>2526</td>\n",
       "    </tr>\n",
       "    <tr>\n",
       "      <td>485</td>\n",
       "      <td>2016-03-07 21:46:03</td>\n",
       "      <td>15200</td>\n",
       "      <td>sedan</td>\n",
       "      <td>auto</td>\n",
       "      <td>320</td>\n",
       "      <td>s_klasse</td>\n",
       "      <td>150000</td>\n",
       "      <td>gasoline</td>\n",
       "      <td>mercedes_benz</td>\n",
       "      <td>no</td>\n",
       "      <td>2016-03-07</td>\n",
       "      <td>0</td>\n",
       "      <td>29664</td>\n",
       "      <td>2016-04-06 01:45:50</td>\n",
       "      <td>2007-07-01</td>\n",
       "      <td>3172</td>\n",
       "    </tr>\n",
       "    <tr>\n",
       "      <td>494</td>\n",
       "      <td>2016-03-14 01:47:28</td>\n",
       "      <td>14650</td>\n",
       "      <td>sedan</td>\n",
       "      <td>manual</td>\n",
       "      <td>86</td>\n",
       "      <td>golf</td>\n",
       "      <td>20000</td>\n",
       "      <td>petrol</td>\n",
       "      <td>volkswagen</td>\n",
       "      <td>no</td>\n",
       "      <td>2016-03-13</td>\n",
       "      <td>0</td>\n",
       "      <td>38444</td>\n",
       "      <td>2016-04-05 01:15:23</td>\n",
       "      <td>2014-12-01</td>\n",
       "      <td>468</td>\n",
       "    </tr>\n",
       "  </tbody>\n",
       "</table>\n",
       "</div>"
      ],
      "text/plain": [
       "            DateCrawled  Price  VehicleType Gearbox  Power     Model  \\\n",
       "1   2016-03-24 10:58:45  18300        coupe  manual    190       NaN   \n",
       "8   2016-04-04 23:42:13  14500          bus  manual    125     c_max   \n",
       "14  2016-03-21 12:57:01  17999          suv  manual    190    navara   \n",
       "20  2016-04-01 19:56:48  10400        coupe  manual    160  scirocco   \n",
       "33  2016-03-25 21:48:47  18000        sedan    auto    218       3er   \n",
       "38  2016-04-01 17:45:07  11900        other  manual    129     other   \n",
       "42  2016-03-24 00:52:09  12500        sedan    auto    231       5er   \n",
       "49  2016-04-04 14:06:22  13500          bus    auto    109  b_klasse   \n",
       "50  2016-03-30 08:50:37  14800  convertible  manual    170       1er   \n",
       "64  2016-03-07 22:36:54  14999  convertible  manual    218       3er   \n",
       "93  2016-03-10 11:44:54  14500        small  manual     86        a1   \n",
       "134 2016-03-21 16:45:30  14499        sedan    auto    170  c_klasse   \n",
       "170 2016-03-19 13:36:22  11890          bus  manual    116     c_max   \n",
       "172 2016-03-07 12:38:19  19750  convertible  manual    305   mustang   \n",
       "175 2016-03-18 06:36:46  10500          bus    auto    150      vito   \n",
       "176 2016-03-24 15:38:18  11000        sedan  manual    131     astra   \n",
       "179 2016-03-08 20:58:31  16449        wagon    auto    110     fabia   \n",
       "182 2016-03-28 17:39:50  14300        sedan  manual    120        a4   \n",
       "186 2016-03-16 15:51:08  14000        sedan     NaN    235       NaN   \n",
       "188 2016-03-20 23:48:31  13400        sedan  manual    170       3er   \n",
       "190 2016-03-08 21:52:34  11299        sedan    auto    250      golf   \n",
       "199 2016-04-02 23:54:43  11000        wagon    auto    231       5er   \n",
       "203 2016-04-01 18:45:45  12999        wagon    auto    179        a6   \n",
       "204 2016-03-31 12:58:26  18400        wagon    auto    313       5er   \n",
       "206 2016-03-27 23:48:09  12899        wagon    auto    140        a3   \n",
       "207 2016-03-31 19:52:39  10500        sedan  manual    143       3er   \n",
       "210 2016-04-05 11:48:01  14900        sedan  manual    265       1er   \n",
       "221 2016-04-05 08:57:20  11800        sedan    auto    218       3er   \n",
       "236 2016-03-05 17:50:33  15700        sedan  manual    170      golf   \n",
       "245 2016-03-30 20:42:52  14700        sedan    auto    211      golf   \n",
       "252 2016-03-05 18:38:39  11919        small    auto     90      polo   \n",
       "254 2016-03-06 09:48:11  10800        small  manual    105        a1   \n",
       "270 2016-03-25 12:25:20  14950          bus  manual    140    touran   \n",
       "271 2016-03-28 18:38:30  14900  convertible  manual    170   z_reihe   \n",
       "274 2016-03-30 23:56:48  12000          suv  manual    101    tiguan   \n",
       "282 2016-03-06 12:38:13  18700        coupe    auto    213   mustang   \n",
       "284 2016-03-31 15:48:39  11550        coupe    auto    140    passat   \n",
       "287 2016-03-19 16:40:33  16150          suv  manual    150    tiguan   \n",
       "313 2016-03-05 19:47:47  16500        coupe  manual    265   z_reihe   \n",
       "325 2016-03-16 17:38:52  11700        wagon  manual    170     other   \n",
       "337 2016-03-20 11:44:15  18880          bus  manual    116   5_reihe   \n",
       "338 2016-03-19 17:48:55  11200        wagon    auto    177       5er   \n",
       "341 2016-03-10 18:53:17  13849        sedan  manual    143       1er   \n",
       "342 2016-03-26 19:58:06  13200          suv  manual    105      yeti   \n",
       "362 2016-03-30 13:53:41  16500        coupe  manual    218       6er   \n",
       "387 2016-03-07 07:55:46  10550        sedan    auto    105      golf   \n",
       "388 2016-03-13 14:23:08  17500        sedan  manual    122  a_klasse   \n",
       "411 2016-04-04 12:43:25  15500          suv    auto    239   touareg   \n",
       "412 2016-03-26 21:49:45  13950        other  manual    140       NaN   \n",
       "414 2016-03-29 20:06:18  11500        small    auto    179     ibiza   \n",
       "438 2016-03-26 17:39:51  13499        wagon    auto    160      golf   \n",
       "455 2016-03-19 18:38:15  14500        wagon  manual    140        a6   \n",
       "461 2016-03-18 18:47:36  12650        wagon  manual    258       5er   \n",
       "464 2016-03-17 18:52:52  14500        sedan  manual    160        a3   \n",
       "469 2016-03-20 12:06:18  10550        wagon  manual    143        a4   \n",
       "472 2016-04-05 00:55:53  11500        sedan  manual    170        a6   \n",
       "480 2016-04-02 10:51:44  16500          bus  manual    140    galaxy   \n",
       "484 2016-03-31 23:52:32  19900          bus  manual    150     viano   \n",
       "485 2016-03-07 21:46:03  15200        sedan    auto    320  s_klasse   \n",
       "494 2016-03-14 01:47:28  14650        sedan  manual     86      golf   \n",
       "\n",
       "     Kilometer  FuelType          Brand NotRepaired DateCreated  \\\n",
       "1       125000  gasoline           audi         yes  2016-03-24   \n",
       "8        30000    petrol           ford         NaN  2016-04-04   \n",
       "14       70000  gasoline         nissan          no  2016-03-21   \n",
       "20      100000    petrol     volkswagen          no  2016-04-01   \n",
       "33       20000    petrol            bmw          no  2016-03-25   \n",
       "38      150000  gasoline     volkswagen          no  2016-04-01   \n",
       "42      150000  gasoline            bmw         NaN  2016-03-23   \n",
       "49      150000  gasoline  mercedes_benz          no  2016-04-04   \n",
       "50      125000    petrol            bmw         NaN  2016-03-30   \n",
       "64       50000    petrol            bmw          no  2016-03-07   \n",
       "93       60000    petrol           audi          no  2016-03-10   \n",
       "134     125000  gasoline  mercedes_benz          no  2016-03-21   \n",
       "170     150000  gasoline           ford          no  2016-03-19   \n",
       "172      50000    petrol           ford          no  2016-03-07   \n",
       "175     150000  gasoline  mercedes_benz          no  2016-03-18   \n",
       "176      70000  gasoline           opel          no  2016-03-24   \n",
       "179      10000    petrol          skoda          no  2016-03-08   \n",
       "182      60000    petrol           audi          no  2016-03-28   \n",
       "186     150000       NaN            bmw          no  2016-02-12   \n",
       "188     100000    petrol            bmw          no  2016-03-20   \n",
       "190     150000    petrol     volkswagen          no  2016-03-08   \n",
       "199     150000  gasoline            bmw          no  2016-04-02   \n",
       "203     150000  gasoline           audi          no  2016-04-01   \n",
       "204     150000  gasoline            bmw          no  2016-03-31   \n",
       "206     150000  gasoline           audi          no  2016-03-27   \n",
       "207     150000  gasoline            bmw          no  2016-03-31   \n",
       "210     150000    petrol            bmw          no  2016-04-05   \n",
       "221     150000    petrol            bmw          no  2016-04-05   \n",
       "236      90000  gasoline     volkswagen          no  2016-03-05   \n",
       "245      60000    petrol     volkswagen         yes  2016-03-30   \n",
       "252      30000    petrol     volkswagen          no  2016-03-05   \n",
       "254     125000  gasoline           audi          no  2016-03-06   \n",
       "270      70000    petrol     volkswagen          no  2016-03-25   \n",
       "271      70000    petrol            bmw          no  2016-03-28   \n",
       "274     150000  gasoline     volkswagen          no  2016-03-30   \n",
       "282      80000    petrol           ford          no  2016-03-06   \n",
       "284     125000  gasoline     volkswagen          no  2016-03-31   \n",
       "287      30000    petrol     volkswagen          no  2016-03-19   \n",
       "313     150000    petrol            bmw          no  2016-03-05   \n",
       "325     150000  gasoline  mercedes_benz          no  2016-03-16   \n",
       "337      20000  gasoline          mazda          no  2016-03-20   \n",
       "338     150000  gasoline            bmw          no  2016-03-19   \n",
       "341      80000  gasoline            bmw          no  2016-03-10   \n",
       "342      40000    petrol          skoda          no  2016-03-26   \n",
       "362     150000    petrol            bmw          no  2016-03-30   \n",
       "387      60000    petrol     volkswagen          no  2016-03-07   \n",
       "388      40000    petrol  mercedes_benz          no  2016-03-13   \n",
       "411     150000  gasoline     volkswagen          no  2016-04-04   \n",
       "412      60000  gasoline     alfa_romeo          no  2016-03-26   \n",
       "414      50000    petrol           seat          no  2016-03-29   \n",
       "438      60000    petrol     volkswagen          no  2016-03-26   \n",
       "455     100000  gasoline           audi          no  2016-03-19   \n",
       "461     150000    petrol            bmw          no  2016-03-18   \n",
       "464      70000    petrol           audi         NaN  2016-03-17   \n",
       "469     125000  gasoline           audi          no  2016-03-20   \n",
       "472     150000    petrol           audi          no  2016-04-05   \n",
       "480      80000  gasoline           ford          no  2016-04-02   \n",
       "484      90000  gasoline  mercedes_benz          no  2016-03-31   \n",
       "485     150000  gasoline  mercedes_benz          no  2016-03-07   \n",
       "494      20000    petrol     volkswagen          no  2016-03-13   \n",
       "\n",
       "     NumberOfPictures  PostalCode            LastSeen     reg_dt  car_age  \n",
       "1                   0       66954 2016-04-07 01:46:50 2011-05-01     1789  \n",
       "8                   0       94505 2016-04-04 23:42:13 2014-08-01      612  \n",
       "14                  0        4177 2016-04-06 07:45:42 2011-03-01     1847  \n",
       "20                  0       75365 2016-04-05 16:45:49 2009-04-01     2557  \n",
       "33                  0       39179 2016-04-07 04:45:21 2007-05-01     3251  \n",
       "38                  0       10551 2016-04-05 12:47:30 2002-11-01     4900  \n",
       "42                  0       46119 2016-04-04 16:18:19 2006-11-01     3430  \n",
       "49                  0       35576 2016-04-05 12:09:29 2012-07-01     1373  \n",
       "50                  0       48691 2016-04-07 00:17:23 2008-04-01     2920  \n",
       "64                  0        1129 2016-03-15 10:17:59 2007-08-01     3141  \n",
       "93                  0       31582 2016-04-07 01:15:35 2013-04-01     1074  \n",
       "134                 0       13439 2016-04-06 15:45:36 2007-05-01     3247  \n",
       "170                 0       97737 2016-04-06 18:48:10 2011-04-01     1814  \n",
       "172                 0       38350 2016-03-12 20:18:29 2006-07-01     3537  \n",
       "175                 0       33729 2016-04-05 21:47:51 2006-06-01     3578  \n",
       "176                 0       34613 2016-04-05 11:56:32 2012-03-01     1484  \n",
       "179                 0       95502 2016-04-06 01:17:03 2015-08-01      220  \n",
       "182                 0       59494 2016-04-06 23:15:52 2011-05-01     1793  \n",
       "186                 0       95131 2016-04-07 14:56:12 2008-01-01     2964  \n",
       "188                 0       64289 2016-04-07 11:17:36 2008-12-01     2666  \n",
       "190                 0       22083 2016-03-19 09:46:58 2006-08-01     3507  \n",
       "199                 0       76332 2016-04-07 07:16:22 2006-11-01     3440  \n",
       "203                 0       25551 2016-04-05 14:18:28 2008-08-01     2800  \n",
       "204                 0       52477 2016-03-31 13:44:44 2011-11-01     1612  \n",
       "206                 0       51109 2016-04-06 02:15:20 2009-09-01     2399  \n",
       "207                 0       29683 2016-04-06 14:18:03 2010-05-01     2161  \n",
       "210                 0       14129 2016-04-05 11:48:01 2007-10-01     3109  \n",
       "221                 0       88255 2016-04-07 12:17:52 2005-11-01     3808  \n",
       "236                 0       32832 2016-03-11 16:17:33 2011-03-01     1831  \n",
       "245                 0       42283 2016-04-07 12:45:20 2012-12-01     1215  \n",
       "252                 0        6110 2016-04-07 04:46:28 2012-11-01     1220  \n",
       "254                 0       24537 2016-03-09 22:18:06 2010-12-01     1922  \n",
       "270                 0       55129 2016-04-07 05:46:31 2009-03-01     2581  \n",
       "271                 0       16321 2016-04-07 00:17:37 2004-06-01     4318  \n",
       "274                 0        1069 2016-03-31 07:43:22 2011-07-01     1734  \n",
       "282                 0       97424 2016-04-06 05:44:39 2009-08-01     2409  \n",
       "284                 0       26931 2016-03-31 15:48:39 2009-12-01     2312  \n",
       "287                 0        6502 2016-04-07 02:15:37 2011-04-01     1814  \n",
       "313                 0       71083 2016-04-07 12:17:24 2007-03-01     3292  \n",
       "325                 0       91717 2016-04-06 23:16:34 2008-07-01     2815  \n",
       "337                 0       59872 2016-04-06 08:46:43 2014-11-01      505  \n",
       "338                 0       91301 2016-04-01 07:49:21 2008-07-01     2818  \n",
       "341                 0       73485 2016-04-06 00:45:33 2010-12-01     1926  \n",
       "342                 0       79400 2016-04-06 10:45:21 2013-03-01     1121  \n",
       "362                 0       42719 2016-04-01 08:18:11 1983-10-01    11869  \n",
       "387                 0       44309 2016-03-22 01:18:19 2012-10-01     1253  \n",
       "388                 0       55481 2016-04-06 00:15:30 2013-11-01      863  \n",
       "411                 0       45355 2016-04-06 13:44:33 2008-04-01     2925  \n",
       "412                 0       86830 2016-04-06 14:15:39 2011-11-01     1607  \n",
       "414                 0       60596 2016-04-06 09:17:57 2010-11-01     1975  \n",
       "438                 0        4107 2016-04-06 06:16:08 2010-04-01     2186  \n",
       "455                 0       94060 2016-04-07 05:17:33 2007-03-01     3306  \n",
       "461                 0       96114 2016-04-05 22:45:26 2006-06-01     3578  \n",
       "464                 0       73525 2016-04-07 06:16:47 2009-03-01     2573  \n",
       "469                 0       65549 2016-03-27 00:46:19 2008-09-01     2757  \n",
       "472                 0        4275 2016-04-07 11:15:55 2010-01-01     2286  \n",
       "480                 0       59590 2016-04-04 07:50:58 2012-04-01     1462  \n",
       "484                 0       59348 2016-04-07 03:17:20 2009-05-01     2526  \n",
       "485                 0       29664 2016-04-06 01:45:50 2007-07-01     3172  \n",
       "494                 0       38444 2016-04-05 01:15:23 2014-12-01      468  "
      ]
     },
     "execution_count": 27,
     "metadata": {},
     "output_type": "execute_result"
    }
   ],
   "source": [
    "df.query('Price > 10000').head(60)"
   ]
  },
  {
   "cell_type": "code",
   "execution_count": 28,
   "metadata": {},
   "outputs": [
    {
     "data": {
      "image/png": "[encoded data removed]",
      "text/plain": [
       "<Figure size 432x288 with 1 Axes>"
      ]
     },
     "metadata": {
      "needs_background": "light"
     },
     "output_type": "display_data"
    }
   ],
   "source": [
    "df = df.loc[df['Price'] >= 100]\n",
    "\n",
    "plt.boxplot(df['Price'])\n",
    "\n",
    "plt.show()"
   ]
  },
  {
   "cell_type": "markdown",
   "metadata": {},
   "source": [
    "Рассмотри признак количества фотографий автомобиля"
   ]
  },
  {
   "cell_type": "code",
   "execution_count": 29,
   "metadata": {},
   "outputs": [
    {
     "data": {
      "image/png": "[encoded data removed]",
      "text/plain": [
       "<Figure size 432x288 with 1 Axes>"
      ]
     },
     "metadata": {
      "needs_background": "light"
     },
     "output_type": "display_data"
    }
   ],
   "source": [
    "plt.boxplot(df['NumberOfPictures'])\n",
    "\n",
    "plt.show()"
   ]
  },
  {
   "cell_type": "markdown",
   "metadata": {},
   "source": [
    "Чтож, можно описать ситуацию, как нет данных. Везде количество картинок равно нулю. Здесь либо ошибка при передачи данных, либо фото действительно нет. Данный признак считаем абсолючтно бесполезным, его можно удалить."
   ]
  },
  {
   "cell_type": "code",
   "execution_count": 30,
   "metadata": {},
   "outputs": [],
   "source": [
    "del df['NumberOfPictures']"
   ]
  },
  {
   "cell_type": "code",
   "execution_count": 31,
   "metadata": {},
   "outputs": [
    {
     "name": "stdout",
     "output_type": "stream",
     "text": [
      "Число объектов в датафрейме: 289109\n",
      "Потери объектов в датафрейме, %: 13.598819309815475\n"
     ]
    }
   ],
   "source": [
    "# Найдем потери данных после очередного преобразования\n",
    "previous_row_qnt = df_loss(df)"
   ]
  },
  {
   "cell_type": "markdown",
   "metadata": {},
   "source": [
    "####  Предобработка категориальных признаков."
   ]
  },
  {
   "cell_type": "markdown",
   "metadata": {},
   "source": [
    "Посмотрим какие типы кузовов, модели и марки представлены в нашем датафрейме, а так же варианты трансмиссий"
   ]
  },
  {
   "cell_type": "code",
   "execution_count": 32,
   "metadata": {},
   "outputs": [
    {
     "data": {
      "text/plain": [
       "array(['coupe', 'suv', 'small', 'sedan', 'convertible', 'bus', 'wagon',\n",
       "       nan, 'other'], dtype=object)"
      ]
     },
     "execution_count": 32,
     "metadata": {},
     "output_type": "execute_result"
    }
   ],
   "source": [
    "df['VehicleType'].unique()"
   ]
  },
  {
   "cell_type": "code",
   "execution_count": 33,
   "metadata": {},
   "outputs": [
    {
     "data": {
      "text/plain": [
       "array([nan, 'grand', 'golf', 'fabia', '3er', '2_reihe', 'c_max',\n",
       "       '3_reihe', 'passat', 'navara', 'polo', 'twingo', 'a_klasse',\n",
       "       'scirocco', '5er', 'arosa', 'other', 'civic', 'transporter',\n",
       "       'punto', 'e_klasse', 'clio', 'kadett', 'one', 'fortwo', '1er',\n",
       "       'b_klasse', 'a8', 'jetta', 'fiesta', 'c_klasse', 'micra', 'vito',\n",
       "       'sprinter', 'astra', '156', 'escort', 'forester', 'xc_reihe',\n",
       "       'scenic', 'ka', 'a1', 'focus', 'a4', 'tt', 'a6', 'jazz', 'omega',\n",
       "       'slk', '7er', 'combo', 'corsa', '80', '147', 'z_reihe', 'sorento',\n",
       "       'ibiza', 'mustang', 'eos', 'touran', 'getz', 'insignia', 'almera',\n",
       "       'megane', 'a3', 'r19', 'caddy', 'mondeo', 'cordoba', 'colt',\n",
       "       'impreza', 'vectra', 'lupo', 'berlingo', 'tiguan', '6_reihe', 'c4',\n",
       "       'panda', 'up', 'i_reihe', 'ceed', 'kangoo', '5_reihe', 'yeti',\n",
       "       'octavia', 'zafira', 'mii', 'rx_reihe', '6er', 'modus', 'fox',\n",
       "       'matiz', 'beetle', 'rio', 'touareg', 'logan', 'spider', 'cuore',\n",
       "       's_max', 'a2', 'galaxy', 'c3', 'viano', 's_klasse', '1_reihe',\n",
       "       'sharan', 'avensis', 'roomster', 'sl', 'santa', 'leon', 'cooper',\n",
       "       '4_reihe', 'a5', 'sportage', 'laguna', 'ptcruiser', 'clk',\n",
       "       'primera', 'espace', 'exeo', '159', 'transit', 'juke', 'x_reihe',\n",
       "       'v40', 'carisma', 'accord', 'corolla', 'lanos', 'phaeton', 'verso',\n",
       "       'swift', 'rav', 'qashqai', 'picanto', 'boxster', 'superb', 'stilo',\n",
       "       'alhambra', 'roadster', 'ypsilon', 'galant', 'justy', '90',\n",
       "       'sirion', 'signum', 'crossfire', 'agila', 'duster', 'v50',\n",
       "       'mx_reihe', 'meriva', 'c_reihe', 'v_klasse', 'm_klasse', 'yaris',\n",
       "       'c5', 'aygo', 'seicento', 'cc', 'carnival', 'fusion', '911',\n",
       "       'bora', 'forfour', 'cl', 'tigra', '300c', '500', '100', 'cr_reihe',\n",
       "       'spark', 'kuga', 'x_type', 'ducato', 's_type', 'x_trail', 'toledo',\n",
       "       'altea', 'voyager', 'calibra', 'v70', 'bravo', 'tucson', 'c1',\n",
       "       'citigo', 'jimny', 'cayenne', 'wrangler', 'lybra', 'lancer',\n",
       "       'captiva', 'discovery', 'freelander', 'sandero', 'q7', 'note',\n",
       "       'antara', '900', 'cherokee', 'clubman', 'defender', 'cx_reihe',\n",
       "       'legacy', 'pajero', 'auris', 'c2', 'niva', 's60', 'm_reihe',\n",
       "       'nubira', 'vivaro', 'g_klasse', 'lodgy', 'range_rover', '850',\n",
       "       'q3', 'serie_2', 'glk', 'charade', 'croma', 'outlander', 'kaefer',\n",
       "       'doblo', 'musa', '9000', 'kalos', 'v60', '200', '145', 'b_max',\n",
       "       'range_rover_sport', 'aveo', 'rangerover', 'q5', 'move',\n",
       "       'range_rover_evoque', 'materia', 'delta', 'terios', 'gl', 'kalina',\n",
       "       'elefantino', 'i3', 'samara', 'amarok', '601', 'kappa', 'serie_3'],\n",
       "      dtype=object)"
      ]
     },
     "execution_count": 33,
     "metadata": {},
     "output_type": "execute_result"
    }
   ],
   "source": [
    "df['Model'].unique()"
   ]
  },
  {
   "cell_type": "code",
   "execution_count": 34,
   "metadata": {},
   "outputs": [
    {
     "data": {
      "text/plain": [
       "array(['audi', 'jeep', 'volkswagen', 'skoda', 'bmw', 'peugeot', 'ford',\n",
       "       'mazda', 'nissan', 'renault', 'mercedes_benz', 'seat', 'honda',\n",
       "       'fiat', 'opel', 'mini', 'smart', 'hyundai', 'alfa_romeo', 'subaru',\n",
       "       'volvo', 'mitsubishi', 'kia', 'lancia', 'citroen', 'toyota',\n",
       "       'chevrolet', 'dacia', 'suzuki', 'daihatsu', 'chrysler',\n",
       "       'sonstige_autos', 'jaguar', 'daewoo', 'rover', 'porsche', 'saab',\n",
       "       'land_rover', 'lada', 'trabant'], dtype=object)"
      ]
     },
     "execution_count": 34,
     "metadata": {},
     "output_type": "execute_result"
    }
   ],
   "source": [
    "df['Brand'].unique()"
   ]
  },
  {
   "cell_type": "code",
   "execution_count": 35,
   "metadata": {},
   "outputs": [
    {
     "data": {
      "text/plain": [
       "array(['manual', 'auto', nan], dtype=object)"
      ]
     },
     "execution_count": 35,
     "metadata": {},
     "output_type": "execute_result"
    }
   ],
   "source": [
    "df['Gearbox'].unique()"
   ]
  },
  {
   "cell_type": "code",
   "execution_count": 36,
   "metadata": {},
   "outputs": [
    {
     "data": {
      "text/plain": [
       "array(['yes', nan, 'no'], dtype=object)"
      ]
     },
     "execution_count": 36,
     "metadata": {},
     "output_type": "execute_result"
    }
   ],
   "source": [
    "df['NotRepaired'].unique()"
   ]
  },
  {
   "cell_type": "markdown",
   "metadata": {},
   "source": [
    "Общее количество пропусков"
   ]
  },
  {
   "cell_type": "code",
   "execution_count": 37,
   "metadata": {},
   "outputs": [
    {
     "data": {
      "text/plain": [
       "NotRepaired    0.141808\n",
       "FuelType       0.050856\n",
       "VehicleType    0.036111\n",
       "Model          0.035637\n",
       "Gearbox        0.016800\n",
       "car_age        0.000000\n",
       "reg_dt         0.000000\n",
       "LastSeen       0.000000\n",
       "PostalCode     0.000000\n",
       "DateCreated    0.000000\n",
       "Brand          0.000000\n",
       "Kilometer      0.000000\n",
       "Power          0.000000\n",
       "Price          0.000000\n",
       "DateCrawled    0.000000\n",
       "dtype: float64"
      ]
     },
     "execution_count": 37,
     "metadata": {},
     "output_type": "execute_result"
    }
   ],
   "source": [
    "df.isna().mean().sort_values(ascending = False)"
   ]
  },
  {
   "cell_type": "markdown",
   "metadata": {},
   "source": [
    "Пропуски в модели автомобиля и типа КПП заполнить на основании статистических данных и логических предположений без вероятности внесения существенных ошибок невозможно, поэтому данные строки придется удалить, это повлечет к потери 5% данных. Однако это необходимая мера для получения корректного датафрейма"
   ]
  },
  {
   "cell_type": "code",
   "execution_count": 38,
   "metadata": {
    "scrolled": true
   },
   "outputs": [
    {
     "data": {
      "text/plain": [
       "NotRepaired    0.130154\n",
       "FuelType       0.041386\n",
       "VehicleType    0.029363\n",
       "car_age        0.000000\n",
       "reg_dt         0.000000\n",
       "LastSeen       0.000000\n",
       "PostalCode     0.000000\n",
       "DateCreated    0.000000\n",
       "Brand          0.000000\n",
       "Kilometer      0.000000\n",
       "Model          0.000000\n",
       "Power          0.000000\n",
       "Gearbox        0.000000\n",
       "Price          0.000000\n",
       "DateCrawled    0.000000\n",
       "dtype: float64"
      ]
     },
     "execution_count": 38,
     "metadata": {},
     "output_type": "execute_result"
    }
   ],
   "source": [
    "df.dropna(subset = ['Gearbox','Model'], inplace = True)\n",
    "df.isna().mean().sort_values(ascending = False)"
   ]
  },
  {
   "cell_type": "code",
   "execution_count": 39,
   "metadata": {},
   "outputs": [
    {
     "name": "stdout",
     "output_type": "stream",
     "text": [
      "Число объектов в датафрейме: 274559\n",
      "Потери объектов в датафрейме, %: 4.105889623528017\n"
     ]
    }
   ],
   "source": [
    "# Найдем потери данных после очередного преобразования\n",
    "previous_row_qnt = df_loss(df)"
   ]
  },
  {
   "cell_type": "markdown",
   "metadata": {},
   "source": [
    "Для чистоты данных пришлось пожертвовать еще 4.6 % объема данных"
   ]
  },
  {
   "cell_type": "markdown",
   "metadata": {},
   "source": [
    "<b> Заполнение неуказанных типов кузовов </b>"
   ]
  },
  {
   "cell_type": "code",
   "execution_count": 40,
   "metadata": {},
   "outputs": [],
   "source": [
    "df['VehicleType'] = df['VehicleType'].fillna('unknown')"
   ]
  },
  {
   "cell_type": "code",
   "execution_count": 41,
   "metadata": {},
   "outputs": [
    {
     "data": {
      "text/plain": [
       "array(['suv', 'small', 'sedan', 'convertible', 'bus', 'wagon', 'coupe',\n",
       "       'unknown', 'other'], dtype=object)"
      ]
     },
     "execution_count": 41,
     "metadata": {},
     "output_type": "execute_result"
    }
   ],
   "source": [
    "vehicle_type_list = df['VehicleType'].unique()\n",
    "vehicle_type_list"
   ]
  },
  {
   "cell_type": "markdown",
   "metadata": {},
   "source": [
    "Для того чтобы определить неуказанный тип кузова воспользуемся статистическими данными, а именно определим наиболее часто встречаемый в данных тип кузова и присвоем его пропущенному в зависимости от модели автомобиля."
   ]
  },
  {
   "cell_type": "code",
   "execution_count": 42,
   "metadata": {},
   "outputs": [
    {
     "data": {
      "text/html": [
       "<div>\n",
       "<style scoped>\n",
       "    .dataframe tbody tr th:only-of-type {\n",
       "        vertical-align: middle;\n",
       "    }\n",
       "\n",
       "    .dataframe tbody tr th {\n",
       "        vertical-align: top;\n",
       "    }\n",
       "\n",
       "    .dataframe thead tr th {\n",
       "        text-align: left;\n",
       "    }\n",
       "\n",
       "    .dataframe thead tr:last-of-type th {\n",
       "        text-align: right;\n",
       "    }\n",
       "</style>\n",
       "<table border=\"1\" class=\"dataframe\">\n",
       "  <thead>\n",
       "    <tr>\n",
       "      <th>Model</th>\n",
       "      <th colspan=\"5\" halign=\"left\">100</th>\n",
       "      <th colspan=\"5\" halign=\"left\">145</th>\n",
       "      <th>...</th>\n",
       "      <th colspan=\"2\" halign=\"left\">z_reihe</th>\n",
       "      <th colspan=\"8\" halign=\"left\">zafira</th>\n",
       "    </tr>\n",
       "    <tr>\n",
       "      <th>VehicleType</th>\n",
       "      <th>convertible</th>\n",
       "      <th>coupe</th>\n",
       "      <th>sedan</th>\n",
       "      <th>unknown</th>\n",
       "      <th>wagon</th>\n",
       "      <th>coupe</th>\n",
       "      <th>other</th>\n",
       "      <th>sedan</th>\n",
       "      <th>small</th>\n",
       "      <th>unknown</th>\n",
       "      <th>...</th>\n",
       "      <th>coupe</th>\n",
       "      <th>sedan</th>\n",
       "      <th>bus</th>\n",
       "      <th>coupe</th>\n",
       "      <th>other</th>\n",
       "      <th>sedan</th>\n",
       "      <th>small</th>\n",
       "      <th>suv</th>\n",
       "      <th>unknown</th>\n",
       "      <th>wagon</th>\n",
       "    </tr>\n",
       "    <tr>\n",
       "      <th>const</th>\n",
       "      <th></th>\n",
       "      <th></th>\n",
       "      <th></th>\n",
       "      <th></th>\n",
       "      <th></th>\n",
       "      <th></th>\n",
       "      <th></th>\n",
       "      <th></th>\n",
       "      <th></th>\n",
       "      <th></th>\n",
       "      <th></th>\n",
       "      <th></th>\n",
       "      <th></th>\n",
       "      <th></th>\n",
       "      <th></th>\n",
       "      <th></th>\n",
       "      <th></th>\n",
       "      <th></th>\n",
       "      <th></th>\n",
       "      <th></th>\n",
       "      <th></th>\n",
       "    </tr>\n",
       "  </thead>\n",
       "  <tbody>\n",
       "    <tr>\n",
       "      <td>1</td>\n",
       "      <td>1</td>\n",
       "      <td>2</td>\n",
       "      <td>234</td>\n",
       "      <td>9</td>\n",
       "      <td>100</td>\n",
       "      <td>1</td>\n",
       "      <td>1</td>\n",
       "      <td>12</td>\n",
       "      <td>18</td>\n",
       "      <td>2</td>\n",
       "      <td>...</td>\n",
       "      <td>47</td>\n",
       "      <td>1</td>\n",
       "      <td>2173</td>\n",
       "      <td>1</td>\n",
       "      <td>17</td>\n",
       "      <td>15</td>\n",
       "      <td>9</td>\n",
       "      <td>4</td>\n",
       "      <td>65</td>\n",
       "      <td>162</td>\n",
       "    </tr>\n",
       "  </tbody>\n",
       "</table>\n",
       "<p>1 rows × 1264 columns</p>\n",
       "</div>"
      ],
      "text/plain": [
       "Model               100                             145                    \\\n",
       "VehicleType convertible coupe sedan unknown wagon coupe other sedan small   \n",
       "const                                                                       \n",
       "1                     1     2   234       9   100     1     1    12    18   \n",
       "\n",
       "Model                ... z_reihe       zafira                              \\\n",
       "VehicleType unknown  ...   coupe sedan    bus coupe other sedan small suv   \n",
       "const                ...                                                    \n",
       "1                 2  ...      47     1   2173     1    17    15     9   4   \n",
       "\n",
       "Model                      \n",
       "VehicleType unknown wagon  \n",
       "const                      \n",
       "1                65   162  \n",
       "\n",
       "[1 rows x 1264 columns]"
      ]
     },
     "execution_count": 42,
     "metadata": {},
     "output_type": "execute_result"
    }
   ],
   "source": [
    "#  Сводная таблица для определия самого частоуказываемого типа кузова для различных моделей автомобилей\n",
    "df['const'] = 1\n",
    "pvt_tbl = df.pivot_table(\n",
    "    'Power', \n",
    "    columns=['Model', 'VehicleType'], \n",
    "    aggfunc='count', index = ['const']\n",
    ")\n",
    "\n",
    "pvt_tbl"
   ]
  },
  {
   "cell_type": "code",
   "execution_count": 43,
   "metadata": {},
   "outputs": [],
   "source": [
    "# индексы объектов с неуказанным типом кузова\n",
    "unknown_type_i = df.loc[df.loc[:, 'VehicleType'] == 'unknown']['VehicleType'].index"
   ]
  },
  {
   "cell_type": "code",
   "execution_count": 44,
   "metadata": {},
   "outputs": [],
   "source": [
    "# Функция заполнения неуказанных типов кузовов в зависимости от модели автомобиля\n",
    "def vehicle_type_def(row):\n",
    "    if row['VehicleType'] == 'unknown':\n",
    "        try:\n",
    "            model = row['Model']\n",
    "            # Найдем индекс максимально распространенного типа кузова среди данной модели\n",
    "            i, = np.where(pvt_tbl[model].values[0] == pvt_tbl[model].values[0].max())\n",
    "            i=i[0]\n",
    "            # Присвоим название кузова \n",
    "            return pvt_tbl[model].columns[i]\n",
    "        except:\n",
    "            return  np.nan\n",
    "    else:\n",
    "        return row['VehicleType']"
   ]
  },
  {
   "cell_type": "markdown",
   "metadata": {},
   "source": [
    "Заменим неуказанные типы кузовов на самые распространенные для данной модели"
   ]
  },
  {
   "cell_type": "code",
   "execution_count": 45,
   "metadata": {},
   "outputs": [],
   "source": [
    "df['VehicleType'] = df.apply(vehicle_type_def, axis=1)"
   ]
  },
  {
   "cell_type": "markdown",
   "metadata": {},
   "source": [
    "Вручную выборочно проверим правильность указанных кузовов"
   ]
  },
  {
   "cell_type": "code",
   "execution_count": 46,
   "metadata": {},
   "outputs": [
    {
     "data": {
      "text/html": [
       "<div>\n",
       "<style scoped>\n",
       "    .dataframe tbody tr th:only-of-type {\n",
       "        vertical-align: middle;\n",
       "    }\n",
       "\n",
       "    .dataframe tbody tr th {\n",
       "        vertical-align: top;\n",
       "    }\n",
       "\n",
       "    .dataframe thead th {\n",
       "        text-align: right;\n",
       "    }\n",
       "</style>\n",
       "<table border=\"1\" class=\"dataframe\">\n",
       "  <thead>\n",
       "    <tr style=\"text-align: right;\">\n",
       "      <th></th>\n",
       "      <th>VehicleType</th>\n",
       "      <th>Model</th>\n",
       "    </tr>\n",
       "  </thead>\n",
       "  <tbody>\n",
       "    <tr>\n",
       "      <td>31</td>\n",
       "      <td>small</td>\n",
       "      <td>clio</td>\n",
       "    </tr>\n",
       "    <tr>\n",
       "      <td>35</td>\n",
       "      <td>sedan</td>\n",
       "      <td>golf</td>\n",
       "    </tr>\n",
       "    <tr>\n",
       "      <td>52</td>\n",
       "      <td>sedan</td>\n",
       "      <td>other</td>\n",
       "    </tr>\n",
       "    <tr>\n",
       "      <td>71</td>\n",
       "      <td>sedan</td>\n",
       "      <td>5er</td>\n",
       "    </tr>\n",
       "    <tr>\n",
       "      <td>77</td>\n",
       "      <td>sedan</td>\n",
       "      <td>golf</td>\n",
       "    </tr>\n",
       "    <tr>\n",
       "      <td>...</td>\n",
       "      <td>...</td>\n",
       "      <td>...</td>\n",
       "    </tr>\n",
       "    <tr>\n",
       "      <td>354064</td>\n",
       "      <td>sedan</td>\n",
       "      <td>golf</td>\n",
       "    </tr>\n",
       "    <tr>\n",
       "      <td>354096</td>\n",
       "      <td>sedan</td>\n",
       "      <td>vectra</td>\n",
       "    </tr>\n",
       "    <tr>\n",
       "      <td>354103</td>\n",
       "      <td>sedan</td>\n",
       "      <td>golf</td>\n",
       "    </tr>\n",
       "    <tr>\n",
       "      <td>354111</td>\n",
       "      <td>sedan</td>\n",
       "      <td>astra</td>\n",
       "    </tr>\n",
       "    <tr>\n",
       "      <td>354357</td>\n",
       "      <td>wagon</td>\n",
       "      <td>159</td>\n",
       "    </tr>\n",
       "  </tbody>\n",
       "</table>\n",
       "<p>8062 rows × 2 columns</p>\n",
       "</div>"
      ],
      "text/plain": [
       "       VehicleType   Model\n",
       "31           small    clio\n",
       "35           sedan    golf\n",
       "52           sedan   other\n",
       "71           sedan     5er\n",
       "77           sedan    golf\n",
       "...            ...     ...\n",
       "354064       sedan    golf\n",
       "354096       sedan  vectra\n",
       "354103       sedan    golf\n",
       "354111       sedan   astra\n",
       "354357       wagon     159\n",
       "\n",
       "[8062 rows x 2 columns]"
      ]
     },
     "execution_count": 46,
     "metadata": {},
     "output_type": "execute_result"
    }
   ],
   "source": [
    "df.loc[unknown_type_i][['VehicleType', 'Model']]"
   ]
  },
  {
   "cell_type": "code",
   "execution_count": 47,
   "metadata": {},
   "outputs": [
    {
     "data": {
      "text/html": [
       "<div>\n",
       "<style scoped>\n",
       "    .dataframe tbody tr th:only-of-type {\n",
       "        vertical-align: middle;\n",
       "    }\n",
       "\n",
       "    .dataframe tbody tr th {\n",
       "        vertical-align: top;\n",
       "    }\n",
       "\n",
       "    .dataframe thead th {\n",
       "        text-align: right;\n",
       "    }\n",
       "</style>\n",
       "<table border=\"1\" class=\"dataframe\">\n",
       "  <thead>\n",
       "    <tr style=\"text-align: right;\">\n",
       "      <th>VehicleType</th>\n",
       "      <th>bus</th>\n",
       "      <th>coupe</th>\n",
       "      <th>other</th>\n",
       "      <th>sedan</th>\n",
       "      <th>small</th>\n",
       "      <th>suv</th>\n",
       "      <th>unknown</th>\n",
       "      <th>wagon</th>\n",
       "    </tr>\n",
       "    <tr>\n",
       "      <th>const</th>\n",
       "      <th></th>\n",
       "      <th></th>\n",
       "      <th></th>\n",
       "      <th></th>\n",
       "      <th></th>\n",
       "      <th></th>\n",
       "      <th></th>\n",
       "      <th></th>\n",
       "    </tr>\n",
       "  </thead>\n",
       "  <tbody>\n",
       "    <tr>\n",
       "      <td>1</td>\n",
       "      <td>136</td>\n",
       "      <td>72</td>\n",
       "      <td>3</td>\n",
       "      <td>153</td>\n",
       "      <td>7</td>\n",
       "      <td>5</td>\n",
       "      <td>6</td>\n",
       "      <td>14</td>\n",
       "    </tr>\n",
       "  </tbody>\n",
       "</table>\n",
       "</div>"
      ],
      "text/plain": [
       "VehicleType  bus  coupe  other  sedan  small  suv  unknown  wagon\n",
       "const                                                            \n",
       "1            136     72      3    153      7    5        6     14"
      ]
     },
     "execution_count": 47,
     "metadata": {},
     "output_type": "execute_result"
    }
   ],
   "source": [
    "pvt_tbl['c4']"
   ]
  },
  {
   "cell_type": "code",
   "execution_count": 48,
   "metadata": {},
   "outputs": [
    {
     "data": {
      "text/plain": [
       "0.0"
      ]
     },
     "execution_count": 48,
     "metadata": {},
     "output_type": "execute_result"
    }
   ],
   "source": [
    "df['VehicleType'].isna().mean()"
   ]
  },
  {
   "cell_type": "code",
   "execution_count": 49,
   "metadata": {},
   "outputs": [
    {
     "name": "stdout",
     "output_type": "stream",
     "text": [
      "Число объектов в датафрейме: 274559\n",
      "Потери объектов в датафрейме, %: 0.0\n"
     ]
    }
   ],
   "source": [
    "# Найдем потери данных после очередного преобразования\n",
    "previous_row_qnt = df_loss(df)"
   ]
  },
  {
   "cell_type": "markdown",
   "metadata": {},
   "source": [
    "Пропуски по типу кузова устранены без потери объектов в датафрейме"
   ]
  },
  {
   "cell_type": "markdown",
   "metadata": {},
   "source": [
    "<b> Заполнение неуказанных типов топлива </b>"
   ]
  },
  {
   "cell_type": "markdown",
   "metadata": {},
   "source": [
    "Посмотрим представленные типы топлива"
   ]
  },
  {
   "cell_type": "code",
   "execution_count": 50,
   "metadata": {},
   "outputs": [
    {
     "data": {
      "text/plain": [
       "array(['gasoline', 'petrol', nan, 'lpg', 'other', 'hybrid', 'cng',\n",
       "       'electric'], dtype=object)"
      ]
     },
     "execution_count": 50,
     "metadata": {},
     "output_type": "execute_result"
    }
   ],
   "source": [
    "df['FuelType'].unique()"
   ]
  },
  {
   "cell_type": "markdown",
   "metadata": {},
   "source": [
    "Стоит учесть что 'gasoline', 'petrol' это один вид топлива, а именно бензин (источник: https://www.difference.wiki/petrol-vs-gasoline/). Возможно ошибочно под 'petrol' подразумевалось дизельное топливо, так данное тяжелое топливо не представленно в списке и это несколько странно ввиду его широкой распространености. Поэтому теоритически можно объединить  'gasoline', 'petrol' в один класс. "
   ]
  },
  {
   "cell_type": "markdown",
   "metadata": {},
   "source": [
    "Воспользуемся условием, что для различных видов топлива двигатель как правило развивает разную мощность. отсюды мы можем найти пропущенный тип топлива "
   ]
  },
  {
   "cell_type": "code",
   "execution_count": 51,
   "metadata": {},
   "outputs": [],
   "source": [
    "df['FuelType'] = df['FuelType'].fillna('unknown')"
   ]
  },
  {
   "cell_type": "code",
   "execution_count": 52,
   "metadata": {},
   "outputs": [
    {
     "data": {
      "text/html": [
       "<div>\n",
       "<style scoped>\n",
       "    .dataframe tbody tr th:only-of-type {\n",
       "        vertical-align: middle;\n",
       "    }\n",
       "\n",
       "    .dataframe tbody tr th {\n",
       "        vertical-align: top;\n",
       "    }\n",
       "\n",
       "    .dataframe thead tr th {\n",
       "        text-align: left;\n",
       "    }\n",
       "\n",
       "    .dataframe thead tr:last-of-type th {\n",
       "        text-align: right;\n",
       "    }\n",
       "</style>\n",
       "<table border=\"1\" class=\"dataframe\">\n",
       "  <thead>\n",
       "    <tr>\n",
       "      <th>Model</th>\n",
       "      <th colspan=\"10\" halign=\"left\">100</th>\n",
       "      <th>...</th>\n",
       "      <th colspan=\"10\" halign=\"left\">zafira</th>\n",
       "    </tr>\n",
       "    <tr>\n",
       "      <th>Power</th>\n",
       "      <th>55</th>\n",
       "      <th>69</th>\n",
       "      <th>75</th>\n",
       "      <th>82</th>\n",
       "      <th>85</th>\n",
       "      <th>86</th>\n",
       "      <th>90</th>\n",
       "      <th>98</th>\n",
       "      <th>100</th>\n",
       "      <th>101</th>\n",
       "      <th>...</th>\n",
       "      <th colspan=\"3\" halign=\"left\">192</th>\n",
       "      <th>193</th>\n",
       "      <th colspan=\"3\" halign=\"left\">200</th>\n",
       "      <th>239</th>\n",
       "      <th>241</th>\n",
       "      <th>300</th>\n",
       "    </tr>\n",
       "    <tr>\n",
       "      <th>FuelType</th>\n",
       "      <th>petrol</th>\n",
       "      <th>gasoline</th>\n",
       "      <th>petrol</th>\n",
       "      <th>gasoline</th>\n",
       "      <th>petrol</th>\n",
       "      <th>petrol</th>\n",
       "      <th>petrol</th>\n",
       "      <th>petrol</th>\n",
       "      <th>petrol</th>\n",
       "      <th>petrol</th>\n",
       "      <th>...</th>\n",
       "      <th>gasoline</th>\n",
       "      <th>petrol</th>\n",
       "      <th>unknown</th>\n",
       "      <th>petrol</th>\n",
       "      <th>lpg</th>\n",
       "      <th>petrol</th>\n",
       "      <th>unknown</th>\n",
       "      <th>petrol</th>\n",
       "      <th>petrol</th>\n",
       "      <th>petrol</th>\n",
       "    </tr>\n",
       "    <tr>\n",
       "      <th>const</th>\n",
       "      <th></th>\n",
       "      <th></th>\n",
       "      <th></th>\n",
       "      <th></th>\n",
       "      <th></th>\n",
       "      <th></th>\n",
       "      <th></th>\n",
       "      <th></th>\n",
       "      <th></th>\n",
       "      <th></th>\n",
       "      <th></th>\n",
       "      <th></th>\n",
       "      <th></th>\n",
       "      <th></th>\n",
       "      <th></th>\n",
       "      <th></th>\n",
       "      <th></th>\n",
       "      <th></th>\n",
       "      <th></th>\n",
       "      <th></th>\n",
       "      <th></th>\n",
       "    </tr>\n",
       "  </thead>\n",
       "  <tbody>\n",
       "    <tr>\n",
       "      <td>1</td>\n",
       "      <td>1</td>\n",
       "      <td>1</td>\n",
       "      <td>1</td>\n",
       "      <td>1</td>\n",
       "      <td>3</td>\n",
       "      <td>2</td>\n",
       "      <td>18</td>\n",
       "      <td>2</td>\n",
       "      <td>2</td>\n",
       "      <td>9</td>\n",
       "      <td>...</td>\n",
       "      <td>1</td>\n",
       "      <td>20</td>\n",
       "      <td>1</td>\n",
       "      <td>1</td>\n",
       "      <td>3</td>\n",
       "      <td>18</td>\n",
       "      <td>1</td>\n",
       "      <td>1</td>\n",
       "      <td>11</td>\n",
       "      <td>1</td>\n",
       "    </tr>\n",
       "  </tbody>\n",
       "</table>\n",
       "<p>1 rows × 13202 columns</p>\n",
       "</div>"
      ],
      "text/plain": [
       "Model       100                                                              \\\n",
       "Power       55       69     75       82     85     86     90     98     100   \n",
       "FuelType petrol gasoline petrol gasoline petrol petrol petrol petrol petrol   \n",
       "const                                                                         \n",
       "1             1        1      1        1      3      2     18      2      2   \n",
       "\n",
       "Model            ...   zafira                                                  \\\n",
       "Power       101  ...      192                   193 200                   239   \n",
       "FuelType petrol  ... gasoline petrol unknown petrol lpg petrol unknown petrol   \n",
       "const            ...                                                            \n",
       "1             9  ...        1     20       1      1   3     18       1      1   \n",
       "\n",
       "Model                   \n",
       "Power       241    300  \n",
       "FuelType petrol petrol  \n",
       "const                   \n",
       "1            11      1  \n",
       "\n",
       "[1 rows x 13202 columns]"
      ]
     },
     "execution_count": 52,
     "metadata": {},
     "output_type": "execute_result"
    }
   ],
   "source": [
    "#  Сводная таблица для определия самого частоуказываемого типа топлива для  моделей автомобилей с различной мощьностью двигателя\n",
    "\n",
    "pvt_tbl_fuel = df.pivot_table(\n",
    "    'VehicleType', \n",
    "    columns=['Model', 'Power','FuelType'], \n",
    "    aggfunc='count', index = ['const']\n",
    ")\n",
    "\n",
    "pvt_tbl_fuel"
   ]
  },
  {
   "cell_type": "code",
   "execution_count": 53,
   "metadata": {},
   "outputs": [],
   "source": [
    "# индексы объектов с неуказанным типом топлива\n",
    "unknown_fuel_i = df.loc[df.loc[:, 'FuelType'] == 'unknown']['FuelType'].index"
   ]
  },
  {
   "cell_type": "code",
   "execution_count": 54,
   "metadata": {},
   "outputs": [],
   "source": [
    "# Функция заполнения неуказанных типов топлива в зависимости от модели и мощности автомобиля\n",
    "def fuel_def(row):\n",
    "    if row['FuelType'] == 'unknown':\n",
    "        try:\n",
    "            model = row['Model']\n",
    "            power = row['Power']\n",
    "            # Найдем индекс максимально распространенного типа кузова среди данной модели\n",
    "            i, = np.where(pvt_tbl_fuel[(model, power)].values[0] == pvt_tbl_fuel[(model, power)].values[0].max())\n",
    "            i=i[0]\n",
    "            # Присвоим название кузова \n",
    "            return pvt_tbl_fuel[(model, power)].columns[i]\n",
    "        except:\n",
    "            return  np.nan\n",
    "    else:\n",
    "        return row['FuelType']"
   ]
  },
  {
   "cell_type": "code",
   "execution_count": 55,
   "metadata": {},
   "outputs": [],
   "source": [
    "df['FuelType'] = df.apply(fuel_def, axis=1)"
   ]
  },
  {
   "cell_type": "markdown",
   "metadata": {},
   "source": [
    "Вручную выборочно проверим правильность указанных типов топлива"
   ]
  },
  {
   "cell_type": "code",
   "execution_count": 56,
   "metadata": {},
   "outputs": [
    {
     "data": {
      "text/html": [
       "<div>\n",
       "<style scoped>\n",
       "    .dataframe tbody tr th:only-of-type {\n",
       "        vertical-align: middle;\n",
       "    }\n",
       "\n",
       "    .dataframe tbody tr th {\n",
       "        vertical-align: top;\n",
       "    }\n",
       "\n",
       "    .dataframe thead th {\n",
       "        text-align: right;\n",
       "    }\n",
       "</style>\n",
       "<table border=\"1\" class=\"dataframe\">\n",
       "  <thead>\n",
       "    <tr style=\"text-align: right;\">\n",
       "      <th></th>\n",
       "      <th>FuelType</th>\n",
       "      <th>Model</th>\n",
       "      <th>Power</th>\n",
       "    </tr>\n",
       "  </thead>\n",
       "  <tbody>\n",
       "    <tr>\n",
       "      <td>9</td>\n",
       "      <td>petrol</td>\n",
       "      <td>golf</td>\n",
       "      <td>101</td>\n",
       "    </tr>\n",
       "    <tr>\n",
       "      <td>13</td>\n",
       "      <td>gasoline</td>\n",
       "      <td>passat</td>\n",
       "      <td>131</td>\n",
       "    </tr>\n",
       "    <tr>\n",
       "      <td>36</td>\n",
       "      <td>petrol</td>\n",
       "      <td>kadett</td>\n",
       "      <td>75</td>\n",
       "    </tr>\n",
       "    <tr>\n",
       "      <td>41</td>\n",
       "      <td>petrol</td>\n",
       "      <td>e_klasse</td>\n",
       "      <td>306</td>\n",
       "    </tr>\n",
       "    <tr>\n",
       "      <td>52</td>\n",
       "      <td>petrol</td>\n",
       "      <td>other</td>\n",
       "      <td>55</td>\n",
       "    </tr>\n",
       "    <tr>\n",
       "      <td>...</td>\n",
       "      <td>...</td>\n",
       "      <td>...</td>\n",
       "      <td>...</td>\n",
       "    </tr>\n",
       "    <tr>\n",
       "      <td>354261</td>\n",
       "      <td>petrol</td>\n",
       "      <td>a4</td>\n",
       "      <td>150</td>\n",
       "    </tr>\n",
       "    <tr>\n",
       "      <td>354322</td>\n",
       "      <td>petrol</td>\n",
       "      <td>2_reihe</td>\n",
       "      <td>75</td>\n",
       "    </tr>\n",
       "    <tr>\n",
       "      <td>354323</td>\n",
       "      <td>unknown</td>\n",
       "      <td>vectra</td>\n",
       "      <td>234</td>\n",
       "    </tr>\n",
       "    <tr>\n",
       "      <td>354335</td>\n",
       "      <td>petrol</td>\n",
       "      <td>2_reihe</td>\n",
       "      <td>108</td>\n",
       "    </tr>\n",
       "    <tr>\n",
       "      <td>354357</td>\n",
       "      <td>gasoline</td>\n",
       "      <td>159</td>\n",
       "      <td>150</td>\n",
       "    </tr>\n",
       "  </tbody>\n",
       "</table>\n",
       "<p>11363 rows × 3 columns</p>\n",
       "</div>"
      ],
      "text/plain": [
       "        FuelType     Model  Power\n",
       "9         petrol      golf    101\n",
       "13      gasoline    passat    131\n",
       "36        petrol    kadett     75\n",
       "41        petrol  e_klasse    306\n",
       "52        petrol     other     55\n",
       "...          ...       ...    ...\n",
       "354261    petrol        a4    150\n",
       "354322    petrol   2_reihe     75\n",
       "354323   unknown    vectra    234\n",
       "354335    petrol   2_reihe    108\n",
       "354357  gasoline       159    150\n",
       "\n",
       "[11363 rows x 3 columns]"
      ]
     },
     "execution_count": 56,
     "metadata": {},
     "output_type": "execute_result"
    }
   ],
   "source": [
    "df.loc[unknown_fuel_i][['FuelType', 'Model', 'Power']]"
   ]
  },
  {
   "cell_type": "code",
   "execution_count": 57,
   "metadata": {},
   "outputs": [
    {
     "data": {
      "text/html": [
       "<div>\n",
       "<style scoped>\n",
       "    .dataframe tbody tr th:only-of-type {\n",
       "        vertical-align: middle;\n",
       "    }\n",
       "\n",
       "    .dataframe tbody tr th {\n",
       "        vertical-align: top;\n",
       "    }\n",
       "\n",
       "    .dataframe thead th {\n",
       "        text-align: right;\n",
       "    }\n",
       "</style>\n",
       "<table border=\"1\" class=\"dataframe\">\n",
       "  <thead>\n",
       "    <tr style=\"text-align: right;\">\n",
       "      <th>FuelType</th>\n",
       "      <th>gasoline</th>\n",
       "      <th>lpg</th>\n",
       "      <th>petrol</th>\n",
       "      <th>unknown</th>\n",
       "    </tr>\n",
       "    <tr>\n",
       "      <th>const</th>\n",
       "      <th></th>\n",
       "      <th></th>\n",
       "      <th></th>\n",
       "      <th></th>\n",
       "    </tr>\n",
       "  </thead>\n",
       "  <tbody>\n",
       "    <tr>\n",
       "      <td>1</td>\n",
       "      <td>660</td>\n",
       "      <td>22</td>\n",
       "      <td>1416</td>\n",
       "      <td>81</td>\n",
       "    </tr>\n",
       "  </tbody>\n",
       "</table>\n",
       "</div>"
      ],
      "text/plain": [
       "FuelType  gasoline  lpg  petrol  unknown\n",
       "const                                   \n",
       "1              660   22    1416       81"
      ]
     },
     "execution_count": 57,
     "metadata": {},
     "output_type": "execute_result"
    }
   ],
   "source": [
    "pvt_tbl_fuel[('golf',  101)]"
   ]
  },
  {
   "cell_type": "code",
   "execution_count": 58,
   "metadata": {},
   "outputs": [
    {
     "data": {
      "text/plain": [
       "NotRepaired    0.130154\n",
       "const          0.000000\n",
       "car_age        0.000000\n",
       "reg_dt         0.000000\n",
       "LastSeen       0.000000\n",
       "PostalCode     0.000000\n",
       "DateCreated    0.000000\n",
       "Brand          0.000000\n",
       "FuelType       0.000000\n",
       "Kilometer      0.000000\n",
       "Model          0.000000\n",
       "Power          0.000000\n",
       "Gearbox        0.000000\n",
       "VehicleType    0.000000\n",
       "Price          0.000000\n",
       "DateCrawled    0.000000\n",
       "dtype: float64"
      ]
     },
     "execution_count": 58,
     "metadata": {},
     "output_type": "execute_result"
    }
   ],
   "source": [
    "df.isna().mean().sort_values(ascending = False)"
   ]
  },
  {
   "cell_type": "markdown",
   "metadata": {},
   "source": [
    "Пропуски в признаке тип топлива устранены без потерей объектов в датафрейме"
   ]
  },
  {
   "cell_type": "markdown",
   "metadata": {},
   "source": [
    "<b> Заполнение пропусков о наличии ремонта </b>"
   ]
  },
  {
   "cell_type": "code",
   "execution_count": 59,
   "metadata": {},
   "outputs": [
    {
     "data": {
      "text/plain": [
       "array([nan, 'no', 'yes'], dtype=object)"
      ]
     },
     "execution_count": 59,
     "metadata": {},
     "output_type": "execute_result"
    }
   ],
   "source": [
    "df['NotRepaired'].unique()"
   ]
  },
  {
   "cell_type": "markdown",
   "metadata": {},
   "source": [
    "Пропуск о наличии ремонта это тот случай когда отсутствие информации тоже информация.  Таким образом признак 'NotRepaired' имеет 3 категории: ремонта не было, ремонт был и нет сведений. Воспользуемся техникой прямого кодирования One-Hot Encoding по отношению к 'NotRepaired'. Столбец с пропущенными значения удалим как лишний."
   ]
  },
  {
   "cell_type": "code",
   "execution_count": 60,
   "metadata": {},
   "outputs": [
    {
     "data": {
      "text/html": [
       "<div>\n",
       "<style scoped>\n",
       "    .dataframe tbody tr th:only-of-type {\n",
       "        vertical-align: middle;\n",
       "    }\n",
       "\n",
       "    .dataframe tbody tr th {\n",
       "        vertical-align: top;\n",
       "    }\n",
       "\n",
       "    .dataframe thead th {\n",
       "        text-align: right;\n",
       "    }\n",
       "</style>\n",
       "<table border=\"1\" class=\"dataframe\">\n",
       "  <thead>\n",
       "    <tr style=\"text-align: right;\">\n",
       "      <th></th>\n",
       "      <th>DateCrawled</th>\n",
       "      <th>Price</th>\n",
       "      <th>VehicleType</th>\n",
       "      <th>Gearbox</th>\n",
       "      <th>Power</th>\n",
       "      <th>Model</th>\n",
       "      <th>Kilometer</th>\n",
       "      <th>FuelType</th>\n",
       "      <th>Brand</th>\n",
       "      <th>NotRepaired</th>\n",
       "      <th>DateCreated</th>\n",
       "      <th>PostalCode</th>\n",
       "      <th>LastSeen</th>\n",
       "      <th>reg_dt</th>\n",
       "      <th>car_age</th>\n",
       "      <th>const</th>\n",
       "    </tr>\n",
       "  </thead>\n",
       "  <tbody>\n",
       "    <tr>\n",
       "      <td>2</td>\n",
       "      <td>2016-03-14 12:52:21</td>\n",
       "      <td>9800</td>\n",
       "      <td>suv</td>\n",
       "      <td>auto</td>\n",
       "      <td>163</td>\n",
       "      <td>grand</td>\n",
       "      <td>125000</td>\n",
       "      <td>gasoline</td>\n",
       "      <td>jeep</td>\n",
       "      <td>NaN</td>\n",
       "      <td>2016-03-14</td>\n",
       "      <td>90480</td>\n",
       "      <td>2016-04-05 12:47:46</td>\n",
       "      <td>2004-08-01</td>\n",
       "      <td>4243</td>\n",
       "      <td>1</td>\n",
       "    </tr>\n",
       "  </tbody>\n",
       "</table>\n",
       "</div>"
      ],
      "text/plain": [
       "          DateCrawled  Price VehicleType Gearbox  Power  Model  Kilometer  \\\n",
       "2 2016-03-14 12:52:21   9800         suv    auto    163  grand     125000   \n",
       "\n",
       "   FuelType Brand NotRepaired DateCreated  PostalCode            LastSeen  \\\n",
       "2  gasoline  jeep         NaN  2016-03-14       90480 2016-04-05 12:47:46   \n",
       "\n",
       "      reg_dt  car_age  const  \n",
       "2 2004-08-01     4243      1  "
      ]
     },
     "execution_count": 60,
     "metadata": {},
     "output_type": "execute_result"
    }
   ],
   "source": [
    "df.head(1)"
   ]
  },
  {
   "cell_type": "code",
   "execution_count": 61,
   "metadata": {},
   "outputs": [],
   "source": [
    "# заменим пропуски на 'unknown'\n",
    "df['NotRepaired'] = df['NotRepaired'].fillna('unknown')"
   ]
  },
  {
   "cell_type": "code",
   "execution_count": 62,
   "metadata": {},
   "outputs": [],
   "source": [
    "ohe_df = pd.get_dummies(df['NotRepaired'])\n",
    "\n",
    "del ohe_df['unknown']"
   ]
  },
  {
   "cell_type": "code",
   "execution_count": 63,
   "metadata": {},
   "outputs": [],
   "source": [
    "df = pd.concat([df, ohe_df], axis=1)\n",
    "del df['NotRepaired']"
   ]
  },
  {
   "cell_type": "code",
   "execution_count": 64,
   "metadata": {},
   "outputs": [],
   "source": [
    "# переименнуем столбы \n",
    "df = df.rename(columns={'no': 'not_repaired', 'yes': 'repaired'})"
   ]
  },
  {
   "cell_type": "code",
   "execution_count": 65,
   "metadata": {},
   "outputs": [
    {
     "data": {
      "text/html": [
       "<div>\n",
       "<style scoped>\n",
       "    .dataframe tbody tr th:only-of-type {\n",
       "        vertical-align: middle;\n",
       "    }\n",
       "\n",
       "    .dataframe tbody tr th {\n",
       "        vertical-align: top;\n",
       "    }\n",
       "\n",
       "    .dataframe thead th {\n",
       "        text-align: right;\n",
       "    }\n",
       "</style>\n",
       "<table border=\"1\" class=\"dataframe\">\n",
       "  <thead>\n",
       "    <tr style=\"text-align: right;\">\n",
       "      <th></th>\n",
       "      <th>DateCrawled</th>\n",
       "      <th>Price</th>\n",
       "      <th>VehicleType</th>\n",
       "      <th>Gearbox</th>\n",
       "      <th>Power</th>\n",
       "      <th>Model</th>\n",
       "      <th>Kilometer</th>\n",
       "      <th>FuelType</th>\n",
       "      <th>Brand</th>\n",
       "      <th>DateCreated</th>\n",
       "      <th>PostalCode</th>\n",
       "      <th>LastSeen</th>\n",
       "      <th>reg_dt</th>\n",
       "      <th>car_age</th>\n",
       "      <th>const</th>\n",
       "      <th>not_repaired</th>\n",
       "      <th>repaired</th>\n",
       "    </tr>\n",
       "  </thead>\n",
       "  <tbody>\n",
       "    <tr>\n",
       "      <td>2</td>\n",
       "      <td>2016-03-14 12:52:21</td>\n",
       "      <td>9800</td>\n",
       "      <td>suv</td>\n",
       "      <td>auto</td>\n",
       "      <td>163</td>\n",
       "      <td>grand</td>\n",
       "      <td>125000</td>\n",
       "      <td>gasoline</td>\n",
       "      <td>jeep</td>\n",
       "      <td>2016-03-14</td>\n",
       "      <td>90480</td>\n",
       "      <td>2016-04-05 12:47:46</td>\n",
       "      <td>2004-08-01</td>\n",
       "      <td>4243</td>\n",
       "      <td>1</td>\n",
       "      <td>0</td>\n",
       "      <td>0</td>\n",
       "    </tr>\n",
       "  </tbody>\n",
       "</table>\n",
       "</div>"
      ],
      "text/plain": [
       "          DateCrawled  Price VehicleType Gearbox  Power  Model  Kilometer  \\\n",
       "2 2016-03-14 12:52:21   9800         suv    auto    163  grand     125000   \n",
       "\n",
       "   FuelType Brand DateCreated  PostalCode            LastSeen     reg_dt  \\\n",
       "2  gasoline  jeep  2016-03-14       90480 2016-04-05 12:47:46 2004-08-01   \n",
       "\n",
       "   car_age  const  not_repaired  repaired  \n",
       "2     4243      1             0         0  "
      ]
     },
     "execution_count": 65,
     "metadata": {},
     "output_type": "execute_result"
    }
   ],
   "source": [
    "df.head(1)"
   ]
  },
  {
   "cell_type": "markdown",
   "metadata": {},
   "source": [
    "<b> Удаление ненужных признаков </b>"
   ]
  },
  {
   "cell_type": "markdown",
   "metadata": {},
   "source": [
    "Удалим ряд признаков не несущих полезной для обучения модели информации"
   ]
  },
  {
   "cell_type": "code",
   "execution_count": 66,
   "metadata": {},
   "outputs": [],
   "source": [
    "df = df.drop(['DateCrawled', 'DateCreated', 'PostalCode', 'LastSeen', 'reg_dt', 'const'], axis = 1)"
   ]
  },
  {
   "cell_type": "markdown",
   "metadata": {},
   "source": [
    "Переопределим порядок столбцов, на первое место вынесем столбец с целевым признаком, затем численные признаки и в конце категориальные."
   ]
  },
  {
   "cell_type": "code",
   "execution_count": 67,
   "metadata": {},
   "outputs": [],
   "source": [
    "df = df[['Price','Power','Kilometer','car_age','VehicleType','Gearbox','Model','FuelType','Brand','not_repaired','repaired']]"
   ]
  },
  {
   "cell_type": "markdown",
   "metadata": {},
   "source": [
    "Проверим на наличие пропусков в оставшихся признаках"
   ]
  },
  {
   "cell_type": "code",
   "execution_count": 68,
   "metadata": {},
   "outputs": [
    {
     "data": {
      "text/plain": [
       "repaired        0.0\n",
       "not_repaired    0.0\n",
       "Brand           0.0\n",
       "FuelType        0.0\n",
       "Model           0.0\n",
       "Gearbox         0.0\n",
       "VehicleType     0.0\n",
       "car_age         0.0\n",
       "Kilometer       0.0\n",
       "Power           0.0\n",
       "Price           0.0\n",
       "dtype: float64"
      ]
     },
     "execution_count": 68,
     "metadata": {},
     "output_type": "execute_result"
    }
   ],
   "source": [
    "df.isna().mean().sort_values(ascending = False)"
   ]
  },
  {
   "cell_type": "code",
   "execution_count": 69,
   "metadata": {},
   "outputs": [
    {
     "name": "stdout",
     "output_type": "stream",
     "text": [
      "Число объектов в датафрейме: 274559\n",
      "Потери объектов в датафрейме, %: 22.52172170816296\n"
     ]
    }
   ],
   "source": [
    "loss = 100 * (initial_row_qnt - df.shape[0]) / initial_row_qnt\n",
    "\n",
    "print('Число объектов в датафрейме:', df.shape[0])\n",
    "print('Потери объектов в датафрейме, %:', loss)"
   ]
  },
  {
   "cell_type": "markdown",
   "metadata": {},
   "source": [
    "Удаление пропусков, которые не представлялось заполнить, неадекватных значений и выбросов привели к уменьшению датафрейма на 20% . Однако учитывая большой объем объектов в данных считаем эти потери приемлемыми. Так же удалены признаки не несущие полезной информации. "
   ]
  },
  {
   "cell_type": "markdown",
   "metadata": {},
   "source": [
    "#### OHE"
   ]
  },
  {
   "cell_type": "code",
   "execution_count": 70,
   "metadata": {},
   "outputs": [],
   "source": [
    "# Разделим данные  на целевой признак и остальные признаки\n",
    "features = df.drop(['Price'], axis=1)\n",
    "target = df['Price']"
   ]
  },
  {
   "cell_type": "markdown",
   "metadata": {},
   "source": [
    "Скопируем признаки, которые будем использовать в дальнейшем для модели CatBoost "
   ]
  },
  {
   "cell_type": "code",
   "execution_count": 71,
   "metadata": {},
   "outputs": [],
   "source": [
    "cat_features = features.copy()"
   ]
  },
  {
   "cell_type": "markdown",
   "metadata": {},
   "source": [
    "Для пременения данных в обучении модели LightGBM, применим OHE метод для преобразования данных в разряженную матрицу."
   ]
  },
  {
   "cell_type": "code",
   "execution_count": 72,
   "metadata": {},
   "outputs": [],
   "source": [
    "# Избавимся от предупреждения о изменение исходных данных в датафрейме.\n",
    "pd.options.mode.chained_assignment = None"
   ]
  },
  {
   "cell_type": "code",
   "execution_count": 73,
   "metadata": {},
   "outputs": [],
   "source": [
    "features = pd.get_dummies(\n",
    "    features, \n",
    "    columns=['VehicleType', 'Gearbox', 'Model', 'FuelType', 'Brand', 'not_repaired', 'repaired'], \n",
    "    drop_first=True\n",
    ")"
   ]
  },
  {
   "cell_type": "markdown",
   "metadata": {},
   "source": [
    "Разделим исходные данные на 3 выборки: обучающая, валидационная, тестовая в пропорции 60:20:20"
   ]
  },
  {
   "cell_type": "code",
   "execution_count": 74,
   "metadata": {},
   "outputs": [
    {
     "name": "stdout",
     "output_type": "stream",
     "text": [
      "Размер обучающего набора признаков: (205919, 306)\n",
      "Размер валидационного набора признаков: (34320, 306)\n",
      "Размер тестового набора признаков: (34320, 306)\n"
     ]
    }
   ],
   "source": [
    "# Получим валидационный и обучающий наборы данных\n",
    "\n",
    "features_train, features_valid, target_train, target_valid  = train_test_split(\n",
    "features, target, test_size=0.25, random_state=12345)\n",
    "\n",
    "# Выделим из вариационной выборки тестовую\n",
    "features_valid, features_test, target_valid, target_test = train_test_split(\n",
    "features_valid, target_valid, test_size=0.5, random_state=12345)\n",
    "\n",
    "# Проверим разделение исходных данных\n",
    "print('Размер обучающего набора признаков:',  features_train.shape)\n",
    "print('Размер валидационного набора признаков:',  features_valid.shape)\n",
    "print('Размер тестового набора признаков:',  features_test.shape)"
   ]
  },
  {
   "cell_type": "markdown",
   "metadata": {},
   "source": [
    "#### Ordinal encoding"
   ]
  },
  {
   "cell_type": "markdown",
   "metadata": {},
   "source": [
    "Применение \"горячего кодирование\" привело к значительному увеличению столбцов, что создает нагружает память и может создать проблемы при создании моделей на основе дерева решений, поэтому паралельно рассмотрим порядковое и двоичное кодирование.  "
   ]
  },
  {
   "cell_type": "markdown",
   "metadata": {},
   "source": [
    "Сделаем копию признаков для дальнейшего преобразование методом ordinal encoder. "
   ]
  },
  {
   "cell_type": "code",
   "execution_count": 75,
   "metadata": {},
   "outputs": [],
   "source": [
    "oe_features = cat_features.copy()"
   ]
  },
  {
   "cell_type": "markdown",
   "metadata": {},
   "source": [
    "Подготовим кодировщик"
   ]
  },
  {
   "cell_type": "code",
   "execution_count": 76,
   "metadata": {},
   "outputs": [
    {
     "data": {
      "text/plain": [
       "OrdinalEncoder(categories='auto', dtype=<class 'numpy.float64'>)"
      ]
     },
     "execution_count": 76,
     "metadata": {},
     "output_type": "execute_result"
    }
   ],
   "source": [
    "enc = OrdinalEncoder()\n",
    "enc.fit(oe_features[['VehicleType', 'Gearbox', 'Model', 'FuelType', 'Brand']])"
   ]
  },
  {
   "cell_type": "markdown",
   "metadata": {},
   "source": [
    "Преобразуем признаки"
   ]
  },
  {
   "cell_type": "code",
   "execution_count": 77,
   "metadata": {},
   "outputs": [],
   "source": [
    "oe_features[['VehicleType', 'Gearbox', 'Model', 'FuelType', 'Brand']] = (\n",
    "    enc.transform(df[['VehicleType', 'Gearbox', 'Model', 'FuelType', 'Brand']])\n",
    ")"
   ]
  },
  {
   "cell_type": "code",
   "execution_count": 78,
   "metadata": {},
   "outputs": [
    {
     "data": {
      "text/html": [
       "<div>\n",
       "<style scoped>\n",
       "    .dataframe tbody tr th:only-of-type {\n",
       "        vertical-align: middle;\n",
       "    }\n",
       "\n",
       "    .dataframe tbody tr th {\n",
       "        vertical-align: top;\n",
       "    }\n",
       "\n",
       "    .dataframe thead th {\n",
       "        text-align: right;\n",
       "    }\n",
       "</style>\n",
       "<table border=\"1\" class=\"dataframe\">\n",
       "  <thead>\n",
       "    <tr style=\"text-align: right;\">\n",
       "      <th></th>\n",
       "      <th>Power</th>\n",
       "      <th>Kilometer</th>\n",
       "      <th>car_age</th>\n",
       "      <th>VehicleType</th>\n",
       "      <th>Gearbox</th>\n",
       "      <th>Model</th>\n",
       "      <th>FuelType</th>\n",
       "      <th>Brand</th>\n",
       "      <th>not_repaired</th>\n",
       "      <th>repaired</th>\n",
       "    </tr>\n",
       "  </thead>\n",
       "  <tbody>\n",
       "    <tr>\n",
       "      <td>2</td>\n",
       "      <td>163</td>\n",
       "      <td>125000</td>\n",
       "      <td>4243</td>\n",
       "      <td>6.0</td>\n",
       "      <td>0.0</td>\n",
       "      <td>117.0</td>\n",
       "      <td>2.0</td>\n",
       "      <td>14.0</td>\n",
       "      <td>0</td>\n",
       "      <td>0</td>\n",
       "    </tr>\n",
       "    <tr>\n",
       "      <td>3</td>\n",
       "      <td>75</td>\n",
       "      <td>150000</td>\n",
       "      <td>5403</td>\n",
       "      <td>5.0</td>\n",
       "      <td>1.0</td>\n",
       "      <td>116.0</td>\n",
       "      <td>6.0</td>\n",
       "      <td>37.0</td>\n",
       "      <td>1</td>\n",
       "      <td>0</td>\n",
       "    </tr>\n",
       "    <tr>\n",
       "      <td>4</td>\n",
       "      <td>69</td>\n",
       "      <td>90000</td>\n",
       "      <td>2830</td>\n",
       "      <td>5.0</td>\n",
       "      <td>1.0</td>\n",
       "      <td>101.0</td>\n",
       "      <td>2.0</td>\n",
       "      <td>31.0</td>\n",
       "      <td>1</td>\n",
       "      <td>0</td>\n",
       "    </tr>\n",
       "    <tr>\n",
       "      <td>5</td>\n",
       "      <td>102</td>\n",
       "      <td>150000</td>\n",
       "      <td>7491</td>\n",
       "      <td>4.0</td>\n",
       "      <td>1.0</td>\n",
       "      <td>11.0</td>\n",
       "      <td>6.0</td>\n",
       "      <td>2.0</td>\n",
       "      <td>0</td>\n",
       "      <td>1</td>\n",
       "    </tr>\n",
       "    <tr>\n",
       "      <td>6</td>\n",
       "      <td>109</td>\n",
       "      <td>150000</td>\n",
       "      <td>4261</td>\n",
       "      <td>1.0</td>\n",
       "      <td>1.0</td>\n",
       "      <td>8.0</td>\n",
       "      <td>6.0</td>\n",
       "      <td>25.0</td>\n",
       "      <td>1</td>\n",
       "      <td>0</td>\n",
       "    </tr>\n",
       "  </tbody>\n",
       "</table>\n",
       "</div>"
      ],
      "text/plain": [
       "   Power  Kilometer  car_age  VehicleType  Gearbox  Model  FuelType  Brand  \\\n",
       "2    163     125000     4243          6.0      0.0  117.0       2.0   14.0   \n",
       "3     75     150000     5403          5.0      1.0  116.0       6.0   37.0   \n",
       "4     69      90000     2830          5.0      1.0  101.0       2.0   31.0   \n",
       "5    102     150000     7491          4.0      1.0   11.0       6.0    2.0   \n",
       "6    109     150000     4261          1.0      1.0    8.0       6.0   25.0   \n",
       "\n",
       "   not_repaired  repaired  \n",
       "2             0         0  \n",
       "3             1         0  \n",
       "4             1         0  \n",
       "5             0         1  \n",
       "6             1         0  "
      ]
     },
     "execution_count": 78,
     "metadata": {},
     "output_type": "execute_result"
    }
   ],
   "source": [
    "oe_features.head()"
   ]
  },
  {
   "cell_type": "code",
   "execution_count": 79,
   "metadata": {},
   "outputs": [
    {
     "name": "stdout",
     "output_type": "stream",
     "text": [
      "Размер обучающего набора признаков: (205919, 10)\n",
      "Размер валидационного набора признаков: (34320, 10)\n",
      "Размер тестового набора признаков: (34320, 10)\n"
     ]
    }
   ],
   "source": [
    "# Получим валидационный и обучающий наборы данных\n",
    "\n",
    "oe_features_train, oe_features_valid, oe_target_train, oe_target_valid  = train_test_split(\n",
    "oe_features, target, test_size=0.25, random_state=12345)\n",
    "\n",
    "# Выделим из вариационной выборки тестовую\n",
    "oe_features_valid, oe_features_test, oe_target_valid, oe_target_test = train_test_split(\n",
    "oe_features_valid, oe_target_valid, test_size=0.5, random_state=12345)\n",
    "\n",
    "# Проверим разделение исходных данных\n",
    "print('Размер обучающего набора признаков:',  oe_features_train.shape)\n",
    "print('Размер валидационного набора признаков:',  oe_features_valid.shape)\n",
    "print('Размер тестового набора признаков:',  oe_features_test.shape)"
   ]
  },
  {
   "cell_type": "markdown",
   "metadata": {},
   "source": [
    "<b> Маштабирование"
   ]
  },
  {
   "cell_type": "markdown",
   "metadata": {},
   "source": [
    "Выделим численные признаки нуждающиеся в маштабирование."
   ]
  },
  {
   "cell_type": "code",
   "execution_count": 80,
   "metadata": {},
   "outputs": [],
   "source": [
    "# Численные признаки\n",
    "numeric = ['Power', 'Kilometer', 'car_age']"
   ]
  },
  {
   "cell_type": "code",
   "execution_count": 81,
   "metadata": {},
   "outputs": [
    {
     "data": {
      "text/plain": [
       "StandardScaler(copy=True, with_mean=True, with_std=True)"
      ]
     },
     "execution_count": 81,
     "metadata": {},
     "output_type": "execute_result"
    }
   ],
   "source": [
    "# Настроим структуру для масштабирования признаков \n",
    "scaler = StandardScaler()\n",
    "scaler.fit(features_train[numeric])"
   ]
  },
  {
   "cell_type": "code",
   "execution_count": 82,
   "metadata": {},
   "outputs": [],
   "source": [
    "# Произведем маштабирование\n",
    "# features_train[numeric] = scaler.transform(features_train[numeric])\n",
    "# features_valid[numeric] = scaler.transform(features_valid[numeric])\n",
    "# features_valid[numeric] = scaler.transform(features_test[numeric])"
   ]
  },
  {
   "cell_type": "code",
   "execution_count": 83,
   "metadata": {},
   "outputs": [],
   "source": [
    "# features_train.loc[:320081, numeric]"
   ]
  },
  {
   "cell_type": "markdown",
   "metadata": {},
   "source": [
    "#### Заключение по предобработек данных"
   ]
  },
  {
   "cell_type": "markdown",
   "metadata": {},
   "source": [
    "Произведена предобработка данных, были удалены неадекватные величины, пропуски частично заполнены, частично удалены. в итоге суммарная потеря датафрейма при удалении составила 20 % объектов, что, как и указывалось выше считается приемлемым. Так же удалены признаки объективно не оказывающих влияния на целевой признак, что должно сократить время обучения, так ка уменьшиться сложность модели. Категориальные признаки представлены разряженной матрицей для дальнейшей работы в библиотеки в библиотеки LightGBM. В итоге считаем данные готовыми к использованию в обучении моделей."
   ]
  },
  {
   "cell_type": "markdown",
   "metadata": {},
   "source": [
    "## Обучение моделей"
   ]
  },
  {
   "cell_type": "markdown",
   "metadata": {},
   "source": [
    "Согласно ТЗ модель будм строить методами библиотеки LightGBM. Но для оценки качества работы модели воспользуемя моделью построенную с использованием CatBoost. Большенство гиперпараметров оставим по умолчанию, изменим только iterations и learning_rate с целью сокращения времени обцчени. В качестве loss_function выбирем RMSE в соответствии с ТЗ."
   ]
  },
  {
   "cell_type": "markdown",
   "metadata": {},
   "source": [
    "### Константная модель"
   ]
  },
  {
   "cell_type": "markdown",
   "metadata": {},
   "source": [
    "В качестве константной модели выберем медианное значение стоимости автомобиля на тренировочной выборке. Выбор медианного значения обусловлен наименьшей ошибкой предсказаний среди константных моделей. "
   ]
  },
  {
   "cell_type": "code",
   "execution_count": 84,
   "metadata": {},
   "outputs": [
    {
     "data": {
      "text/plain": [
       "3300.0"
      ]
     },
     "execution_count": 84,
     "metadata": {},
     "output_type": "execute_result"
    }
   ],
   "source": [
    "target_train.median()"
   ]
  },
  {
   "cell_type": "code",
   "execution_count": 85,
   "metadata": {},
   "outputs": [],
   "source": [
    "dummy_model = DummyRegressor(strategy=\"median\")"
   ]
  },
  {
   "cell_type": "code",
   "execution_count": 86,
   "metadata": {},
   "outputs": [
    {
     "data": {
      "text/plain": [
       "DummyRegressor(constant=None, quantile=None, strategy='median')"
      ]
     },
     "execution_count": 86,
     "metadata": {},
     "output_type": "execute_result"
    }
   ],
   "source": [
    "dummy_model.fit(features_train, target_train)"
   ]
  },
  {
   "cell_type": "code",
   "execution_count": 87,
   "metadata": {},
   "outputs": [
    {
     "name": "stdout",
     "output_type": "stream",
     "text": [
      "CPU times: user 349 µs, sys: 36 µs, total: 385 µs\n",
      "Wall time: 392 µs\n"
     ]
    }
   ],
   "source": [
    "%%time\n",
    "y_pred = dummy_model.predict(features_valid)"
   ]
  },
  {
   "cell_type": "code",
   "execution_count": 88,
   "metadata": {},
   "outputs": [
    {
     "data": {
      "text/plain": [
       "24395333.723018646"
      ]
     },
     "execution_count": 88,
     "metadata": {},
     "output_type": "execute_result"
    }
   ],
   "source": [
    "rmse_dummy = mean_squared_error(target_valid, y_pred)\n",
    "rmse_dummy"
   ]
  },
  {
   "cell_type": "markdown",
   "metadata": {},
   "source": [
    "Для более наглядного понимая величины ошибки введем MAE – среднюю абсолютную ошибку. Данная метрика более интерпритируема и ясная для человека, а так же покажем ее значение отностельно медианной стоимости автомобиля"
   ]
  },
  {
   "cell_type": "markdown",
   "metadata": {},
   "source": [
    "Функция для рассчета необходимых метрик"
   ]
  },
  {
   "cell_type": "code",
   "execution_count": 89,
   "metadata": {},
   "outputs": [],
   "source": [
    "def get_metrics(target, pred):\n",
    "    \n",
    "    rmse = mean_squared_error(target, pred)\n",
    "    print('Среднеквадратичная ошибка', rmse)\n",
    "    \n",
    "    mae = mean_absolute_error(target, pred)\n",
    "    print('Среднее ошибка', mae)\n",
    "    \n",
    "    mae_pct = mae * 100 / target.median()\n",
    "    print('Среднее относительная ошибка, %', mae_pct)\n",
    "    \n",
    "    return rmse, mae, mae_pct"
   ]
  },
  {
   "cell_type": "code",
   "execution_count": 90,
   "metadata": {},
   "outputs": [
    {
     "name": "stdout",
     "output_type": "stream",
     "text": [
      "Среднеквадратичная ошибка 24395333.723018646\n",
      "Среднее ошибка 3445.766666666667\n",
      "Среднее относительная ошибка, % 103.13578768831688\n"
     ]
    }
   ],
   "source": [
    "rmse_dummy, mae_dummy, mae_dummy_pct =  get_metrics(target_valid, y_pred)"
   ]
  },
  {
   "cell_type": "markdown",
   "metadata": {},
   "source": [
    "<b> Вывод </b>\n",
    "    \n",
    "Величина погрешности констатной модели слишком велика для реального применения, но она дает общую картину возможных предсказаний и позволяет лучше ориентироваться в метриках при настройке моделей.    "
   ]
  },
  {
   "cell_type": "markdown",
   "metadata": {},
   "source": [
    "### Catboost модель"
   ]
  },
  {
   "cell_type": "markdown",
   "metadata": {},
   "source": [
    "Константная модель дает весьма примерные значения для метрик. Для того что бы лучше определить значения к которым нужно стремиться создадим модель CatBoost и обучим ее на дефолтных настройках. Изменим лишь количество итераций для уменьшения времени обучения. Для обучения этой модели будем использовать данные до OHE и масштабирования. "
   ]
  },
  {
   "cell_type": "code",
   "execution_count": 91,
   "metadata": {},
   "outputs": [
    {
     "name": "stdout",
     "output_type": "stream",
     "text": [
      "Размер обучающего набора признаков: (205919, 306)\n",
      "Размер валидационного набора признаков: (34320, 306)\n",
      "Размер тестового набора признаков: (34320, 306)\n"
     ]
    }
   ],
   "source": [
    "# Получим валидационный и обучающий наборы данных\n",
    "\n",
    "cat_features_train, cat_features_valid, cat_target_train, cat_target_valid  = train_test_split(\n",
    "cat_features, target, test_size=0.25, random_state=12345)\n",
    "\n",
    "# Выделим из вариационной выборки тестовую\n",
    "cat_features_valid, cat_features_test, cat_target_valid, cat_target_test = train_test_split(\n",
    "cat_features_valid, cat_target_valid, test_size=0.5, random_state=12345)\n",
    "\n",
    "# Проверим разделение исходных данных\n",
    "print('Размер обучающего набора признаков:',  features_train.shape)\n",
    "print('Размер валидационного набора признаков:',  features_valid.shape)\n",
    "print('Размер тестового набора признаков:',  features_test.shape)"
   ]
  },
  {
   "cell_type": "code",
   "execution_count": 92,
   "metadata": {},
   "outputs": [
    {
     "data": {
      "text/html": [
       "<div>\n",
       "<style scoped>\n",
       "    .dataframe tbody tr th:only-of-type {\n",
       "        vertical-align: middle;\n",
       "    }\n",
       "\n",
       "    .dataframe tbody tr th {\n",
       "        vertical-align: top;\n",
       "    }\n",
       "\n",
       "    .dataframe thead th {\n",
       "        text-align: right;\n",
       "    }\n",
       "</style>\n",
       "<table border=\"1\" class=\"dataframe\">\n",
       "  <thead>\n",
       "    <tr style=\"text-align: right;\">\n",
       "      <th></th>\n",
       "      <th>Power</th>\n",
       "      <th>Kilometer</th>\n",
       "      <th>car_age</th>\n",
       "      <th>VehicleType</th>\n",
       "      <th>Gearbox</th>\n",
       "      <th>Model</th>\n",
       "      <th>FuelType</th>\n",
       "      <th>Brand</th>\n",
       "      <th>not_repaired</th>\n",
       "      <th>repaired</th>\n",
       "    </tr>\n",
       "  </thead>\n",
       "  <tbody>\n",
       "    <tr>\n",
       "      <td>222967</td>\n",
       "      <td>116</td>\n",
       "      <td>150000</td>\n",
       "      <td>9265</td>\n",
       "      <td>sedan</td>\n",
       "      <td>manual</td>\n",
       "      <td>100</td>\n",
       "      <td>petrol</td>\n",
       "      <td>audi</td>\n",
       "      <td>1</td>\n",
       "      <td>0</td>\n",
       "    </tr>\n",
       "  </tbody>\n",
       "</table>\n",
       "</div>"
      ],
      "text/plain": [
       "        Power  Kilometer  car_age VehicleType Gearbox Model FuelType Brand  \\\n",
       "222967    116     150000     9265       sedan  manual   100   petrol  audi   \n",
       "\n",
       "        not_repaired  repaired  \n",
       "222967             1         0  "
      ]
     },
     "execution_count": 92,
     "metadata": {},
     "output_type": "execute_result"
    }
   ],
   "source": [
    "cat_features_train.head(1)"
   ]
  },
  {
   "cell_type": "code",
   "execution_count": 93,
   "metadata": {},
   "outputs": [
    {
     "data": {
      "text/plain": [
       "range(0, 4)"
      ]
     },
     "execution_count": 93,
     "metadata": {},
     "output_type": "execute_result"
    }
   ],
   "source": [
    "range(4)"
   ]
  },
  {
   "cell_type": "code",
   "execution_count": 94,
   "metadata": {},
   "outputs": [],
   "source": [
    "# Перечислим категориальные признаки\n",
    "categ_features = [i for i in range(3, 10)]"
   ]
  },
  {
   "cell_type": "code",
   "execution_count": 95,
   "metadata": {},
   "outputs": [],
   "source": [
    "#  Инициируем модель\n",
    "cat_model = CatBoostRegressor(\n",
    "    iterations=85,\n",
    "    learning_rate=0.1,\n",
    "    loss_function='RMSE'\n",
    ")\n"
   ]
  },
  {
   "cell_type": "code",
   "execution_count": 96,
   "metadata": {},
   "outputs": [
    {
     "name": "stdout",
     "output_type": "stream",
     "text": [
      "0:\tlearn: 4324.4521503\ttest: 4331.2995201\tbest: 4331.2995201 (0)\ttotal: 276ms\tremaining: 23.1s\n",
      "5:\tlearn: 3241.6192239\ttest: 3247.2856673\tbest: 3247.2856673 (5)\ttotal: 1.77s\tremaining: 23.3s\n",
      "10:\tlearn: 2667.6954433\ttest: 2672.9688982\tbest: 2672.9688982 (10)\ttotal: 3.27s\tremaining: 22s\n",
      "15:\tlearn: 2333.7527025\ttest: 2339.4153772\tbest: 2339.4153772 (15)\ttotal: 4.67s\tremaining: 20.1s\n",
      "20:\tlearn: 2142.7823438\ttest: 2146.8009070\tbest: 2146.8009070 (20)\ttotal: 6.06s\tremaining: 18.5s\n",
      "25:\tlearn: 2023.6713967\ttest: 2028.7627987\tbest: 2028.7627987 (25)\ttotal: 7.45s\tremaining: 16.9s\n",
      "30:\tlearn: 1952.0347069\ttest: 1956.2178210\tbest: 1956.2178210 (30)\ttotal: 8.76s\tremaining: 15.3s\n",
      "35:\tlearn: 1907.0118750\ttest: 1911.5182864\tbest: 1911.5182864 (35)\ttotal: 10.1s\tremaining: 13.8s\n",
      "40:\tlearn: 1875.0679982\ttest: 1877.9288334\tbest: 1877.9288334 (40)\ttotal: 11.4s\tremaining: 12.3s\n",
      "45:\tlearn: 1851.7885922\ttest: 1855.2912194\tbest: 1855.2912194 (45)\ttotal: 12.9s\tremaining: 11s\n",
      "50:\tlearn: 1832.5447041\ttest: 1836.5721041\tbest: 1836.5721041 (50)\ttotal: 14.3s\tremaining: 9.56s\n",
      "55:\tlearn: 1817.4057926\ttest: 1822.2275721\tbest: 1822.2275721 (55)\ttotal: 16s\tremaining: 8.3s\n",
      "60:\tlearn: 1805.6736104\ttest: 1811.3774970\tbest: 1811.3774970 (60)\ttotal: 17.5s\tremaining: 6.89s\n",
      "65:\tlearn: 1792.2584489\ttest: 1798.2515180\tbest: 1798.2515180 (65)\ttotal: 18.8s\tremaining: 5.42s\n",
      "70:\tlearn: 1781.3728394\ttest: 1787.2993181\tbest: 1787.2993181 (70)\ttotal: 20.2s\tremaining: 3.98s\n",
      "75:\tlearn: 1771.4771875\ttest: 1777.5685844\tbest: 1777.5685844 (75)\ttotal: 21.5s\tremaining: 2.55s\n",
      "80:\tlearn: 1763.1841890\ttest: 1768.7802394\tbest: 1768.7802394 (80)\ttotal: 22.9s\tremaining: 1.13s\n",
      "84:\tlearn: 1751.9547645\ttest: 1759.3343182\tbest: 1759.3343182 (84)\ttotal: 23.9s\tremaining: 0us\n",
      "\n",
      "bestTest = 1759.334318\n",
      "bestIteration = 84\n",
      "\n"
     ]
    },
    {
     "data": {
      "text/plain": [
       "30.42116766422987"
      ]
     },
     "execution_count": 96,
     "metadata": {},
     "output_type": "execute_result"
    }
   ],
   "source": [
    "start_time = timeit.default_timer() # Время начала обучения модели \n",
    "\n",
    "\n",
    "cat_model.fit(\n",
    "    cat_features_train, cat_target_train,\n",
    "    cat_features=categ_features,\n",
    "    eval_set=(cat_features_valid, cat_target_valid),\n",
    "    verbose=5,\n",
    "#     plot=True\n",
    ")\n",
    "\n",
    "cat_ml_time = timeit.default_timer() - start_time  # Время обучения модели \n",
    "cat_ml_time"
   ]
  },
  {
   "cell_type": "markdown",
   "metadata": {},
   "source": [
    "Посмотрим на параметры обученной модели"
   ]
  },
  {
   "cell_type": "code",
   "execution_count": 97,
   "metadata": {},
   "outputs": [
    {
     "name": "stdout",
     "output_type": "stream",
     "text": [
      "Model is fitted: True\n",
      "Model params:\n",
      "{'iterations': 85, 'learning_rate': 0.1, 'loss_function': 'RMSE'}\n"
     ]
    }
   ],
   "source": [
    "print('Model is fitted: ' + str(cat_model.is_fitted()))\n",
    "print('Model params:')\n",
    "print(cat_model.get_params())"
   ]
  },
  {
   "cell_type": "code",
   "execution_count": 98,
   "metadata": {},
   "outputs": [],
   "source": [
    "cat_pred = cat_model.predict(cat_features_valid)"
   ]
  },
  {
   "cell_type": "markdown",
   "metadata": {},
   "source": [
    "Посмотрим на основные метрики качества предсказаний модели."
   ]
  },
  {
   "cell_type": "code",
   "execution_count": 99,
   "metadata": {},
   "outputs": [
    {
     "name": "stdout",
     "output_type": "stream",
     "text": [
      "Среднеквадратичная ошибка 3095257.243063014\n",
      "Среднее ошибка 1148.666366916231\n",
      "Среднее относительная ошибка, % 34.38091490320955\n"
     ]
    }
   ],
   "source": [
    "rmse_cat, mae_cat, mae_cat_pct =  get_metrics(cat_target_valid, cat_pred)"
   ]
  },
  {
   "cell_type": "markdown",
   "metadata": {},
   "source": [
    "<b> Вывод </b>\n",
    "    \n",
    "Модель CatBoost с параметрами по умолчанию дает неплохой результат предсказаний, который условно в 3 раза лучше по точности чем константная модель, что говорит об адекватности модели. Так как по условию ТЗ перед нами стоит задача построения модели на основе библиотеки LightGBM, то оптимизировать модель CatBoost не будем, однако полученные значения времени обучения и метрик точности будем использовать при настройке гиперпараметров модели LightGBM. "
   ]
  },
  {
   "cell_type": "markdown",
   "metadata": {},
   "source": [
    "### LightGBM модель"
   ]
  },
  {
   "cell_type": "code",
   "execution_count": 100,
   "metadata": {},
   "outputs": [],
   "source": [
    "# # Отключим предупреждение warning SettingWithCopyWarning\n",
    "# pd.options.mode.chained_assignment = None # default='warn'"
   ]
  },
  {
   "cell_type": "markdown",
   "metadata": {},
   "source": [
    "Первую модели LightGBM обучим на дефолтных гиперпараметрах. Число деревьев возьмём равное числу итераций для CatBoost модели."
   ]
  },
  {
   "cell_type": "code",
   "execution_count": 101,
   "metadata": {},
   "outputs": [],
   "source": [
    "lgbm_model = LGBMRegressor(n_estimators=85, random_state=12345)"
   ]
  },
  {
   "cell_type": "code",
   "execution_count": 102,
   "metadata": {},
   "outputs": [
    {
     "data": {
      "text/plain": [
       "8.773120291531086"
      ]
     },
     "execution_count": 102,
     "metadata": {},
     "output_type": "execute_result"
    }
   ],
   "source": [
    "start_time = timeit.default_timer() # Время начала обучения модели \n",
    "\n",
    "lgbm_model.fit(features_train, target_train)\n",
    "\n",
    "lgbm_ml_time_1st = timeit.default_timer() - start_time  # Время обучения модели \n",
    "lgbm_ml_time_1st"
   ]
  },
  {
   "cell_type": "code",
   "execution_count": 103,
   "metadata": {},
   "outputs": [],
   "source": [
    "lgbm_pred = lgbm_model.predict(features_valid)"
   ]
  },
  {
   "cell_type": "markdown",
   "metadata": {},
   "source": [
    "Посмотрим на основные метрики качества предсказаний модели."
   ]
  },
  {
   "cell_type": "code",
   "execution_count": 104,
   "metadata": {},
   "outputs": [
    {
     "name": "stdout",
     "output_type": "stream",
     "text": [
      "Среднеквадратичная ошибка 2681930.612859018\n",
      "Среднее ошибка 1068.0073314048404\n",
      "Среднее относительная ошибка, % 31.96669654010298\n"
     ]
    }
   ],
   "source": [
    "rmse_lgbm, mae_lgbm, mae_lgbm_pct =  get_metrics(target_valid, lgbm_pred)"
   ]
  },
  {
   "cell_type": "code",
   "execution_count": 105,
   "metadata": {},
   "outputs": [
    {
     "data": {
      "text/html": [
       "<div>\n",
       "<style scoped>\n",
       "    .dataframe tbody tr th:only-of-type {\n",
       "        vertical-align: middle;\n",
       "    }\n",
       "\n",
       "    .dataframe tbody tr th {\n",
       "        vertical-align: top;\n",
       "    }\n",
       "\n",
       "    .dataframe thead th {\n",
       "        text-align: right;\n",
       "    }\n",
       "</style>\n",
       "<table border=\"1\" class=\"dataframe\">\n",
       "  <thead>\n",
       "    <tr style=\"text-align: right;\">\n",
       "      <th></th>\n",
       "      <th>модель</th>\n",
       "      <th>rmse</th>\n",
       "      <th>mae</th>\n",
       "      <th>mae %</th>\n",
       "      <th>время обучения, с</th>\n",
       "    </tr>\n",
       "  </thead>\n",
       "  <tbody>\n",
       "    <tr>\n",
       "      <td>0</td>\n",
       "      <td>Константная</td>\n",
       "      <td>2.439533e+07</td>\n",
       "      <td>3445.766667</td>\n",
       "      <td>103.135788</td>\n",
       "      <td>0.000000</td>\n",
       "    </tr>\n",
       "    <tr>\n",
       "      <td>1</td>\n",
       "      <td>CatBoost</td>\n",
       "      <td>3.095257e+06</td>\n",
       "      <td>1148.666367</td>\n",
       "      <td>34.380915</td>\n",
       "      <td>30.421168</td>\n",
       "    </tr>\n",
       "    <tr>\n",
       "      <td>2</td>\n",
       "      <td>LightGBM</td>\n",
       "      <td>2.681931e+06</td>\n",
       "      <td>1068.007331</td>\n",
       "      <td>31.966697</td>\n",
       "      <td>8.773120</td>\n",
       "    </tr>\n",
       "  </tbody>\n",
       "</table>\n",
       "</div>"
      ],
      "text/plain": [
       "        модель          rmse          mae       mae %  время обучения, с\n",
       "0  Константная  2.439533e+07  3445.766667  103.135788           0.000000\n",
       "1     CatBoost  3.095257e+06  1148.666367   34.380915          30.421168\n",
       "2     LightGBM  2.681931e+06  1068.007331   31.966697           8.773120"
      ]
     },
     "execution_count": 105,
     "metadata": {},
     "output_type": "execute_result"
    }
   ],
   "source": [
    "results = pd.DataFrame(\n",
    "{'модель':['Константная', 'CatBoost', 'LightGBM'], \n",
    "'rmse':[rmse_dummy, rmse_cat, rmse_lgbm],\n",
    "'mae':[mae_dummy, mae_cat, mae_lgbm], \n",
    "'mae %':[mae_dummy_pct, mae_cat_pct, mae_lgbm_pct],\n",
    "'время обучения, с':[0, cat_ml_time, lgbm_ml_time_1st] \n",
    "})\n",
    "results"
   ]
  },
  {
   "cell_type": "markdown",
   "metadata": {},
   "source": [
    "С настройками \"из коробки\" LightGBM модель немного обошла CatBoost модель по всем метрикам, кроме времени обучения. Перейдем к более детальной настройки гиперпараметров, для получения оптимальных метрик с минимальным временем обучения."
   ]
  },
  {
   "cell_type": "code",
   "execution_count": 106,
   "metadata": {},
   "outputs": [],
   "source": [
    "reg = LGBMRegressor()"
   ]
  },
  {
   "cell_type": "code",
   "execution_count": 107,
   "metadata": {},
   "outputs": [],
   "source": [
    "param_grid = {'num_leaves': [214,215,216],\n",
    "              'max_depth': [22,23,24,25]}"
   ]
  },
  {
   "cell_type": "code",
   "execution_count": 108,
   "metadata": {},
   "outputs": [],
   "source": [
    "# grid = GridSearchCV(reg, param_grid, cv=3)\n",
    "# grid.fit(features_train, target_train)\n",
    "\n",
    "# grid.best_params_"
   ]
  },
  {
   "cell_type": "markdown",
   "metadata": {},
   "source": [
    "{'max_depth': 24, 'num_leaves': 215}"
   ]
  },
  {
   "cell_type": "code",
   "execution_count": 109,
   "metadata": {},
   "outputs": [],
   "source": [
    "lgbm_model = LGBMRegressor(n_estimators=215, max_depth = 24, random_state=12345)"
   ]
  },
  {
   "cell_type": "code",
   "execution_count": 110,
   "metadata": {},
   "outputs": [
    {
     "data": {
      "text/plain": [
       "17.876324370503426"
      ]
     },
     "execution_count": 110,
     "metadata": {},
     "output_type": "execute_result"
    }
   ],
   "source": [
    "start_time = timeit.default_timer() # Время начала обучения модели \n",
    "\n",
    "lgbm_model.fit(features_train, target_train)\n",
    "\n",
    "lgbm_ml_time_2nd = timeit.default_timer() - start_time  # Время обучения модели \n",
    "lgbm_ml_time_2nd"
   ]
  },
  {
   "cell_type": "code",
   "execution_count": 111,
   "metadata": {},
   "outputs": [],
   "source": [
    "lgbm_pred = lgbm_model.predict(features_valid)"
   ]
  },
  {
   "cell_type": "code",
   "execution_count": 112,
   "metadata": {},
   "outputs": [
    {
     "name": "stdout",
     "output_type": "stream",
     "text": [
      "Среднеквадратичная ошибка 2443815.1452795705\n",
      "Среднее ошибка 1014.4881080950877\n",
      "Среднее относительная ошибка, % 30.36480419320825\n"
     ]
    }
   ],
   "source": [
    "rmse_lgbm_2nd, mae_lgbm_2nd, mae_lgbm_pct_2nd =  get_metrics(target_valid, lgbm_pred)"
   ]
  },
  {
   "cell_type": "code",
   "execution_count": 113,
   "metadata": {},
   "outputs": [
    {
     "data": {
      "text/html": [
       "<div>\n",
       "<style scoped>\n",
       "    .dataframe tbody tr th:only-of-type {\n",
       "        vertical-align: middle;\n",
       "    }\n",
       "\n",
       "    .dataframe tbody tr th {\n",
       "        vertical-align: top;\n",
       "    }\n",
       "\n",
       "    .dataframe thead th {\n",
       "        text-align: right;\n",
       "    }\n",
       "</style>\n",
       "<table border=\"1\" class=\"dataframe\">\n",
       "  <thead>\n",
       "    <tr style=\"text-align: right;\">\n",
       "      <th></th>\n",
       "      <th>модель</th>\n",
       "      <th>rmse</th>\n",
       "      <th>mae</th>\n",
       "      <th>mae %</th>\n",
       "      <th>время обучения, с</th>\n",
       "    </tr>\n",
       "  </thead>\n",
       "  <tbody>\n",
       "    <tr>\n",
       "      <td>0</td>\n",
       "      <td>Константная</td>\n",
       "      <td>2.439533e+07</td>\n",
       "      <td>3445.766667</td>\n",
       "      <td>103.135788</td>\n",
       "      <td>0.000000</td>\n",
       "    </tr>\n",
       "    <tr>\n",
       "      <td>1</td>\n",
       "      <td>CatBoost</td>\n",
       "      <td>3.095257e+06</td>\n",
       "      <td>1148.666367</td>\n",
       "      <td>34.380915</td>\n",
       "      <td>30.421168</td>\n",
       "    </tr>\n",
       "    <tr>\n",
       "      <td>2</td>\n",
       "      <td>LightGBM</td>\n",
       "      <td>2.681931e+06</td>\n",
       "      <td>1068.007331</td>\n",
       "      <td>30.364804</td>\n",
       "      <td>8.773120</td>\n",
       "    </tr>\n",
       "    <tr>\n",
       "      <td>3</td>\n",
       "      <td>tuned_LightGBM</td>\n",
       "      <td>2.443815e+06</td>\n",
       "      <td>1014.488108</td>\n",
       "      <td>30.364804</td>\n",
       "      <td>17.876324</td>\n",
       "    </tr>\n",
       "  </tbody>\n",
       "</table>\n",
       "</div>"
      ],
      "text/plain": [
       "           модель          rmse          mae       mae %  время обучения, с\n",
       "0     Константная  2.439533e+07  3445.766667  103.135788           0.000000\n",
       "1        CatBoost  3.095257e+06  1148.666367   34.380915          30.421168\n",
       "2        LightGBM  2.681931e+06  1068.007331   30.364804           8.773120\n",
       "3  tuned_LightGBM  2.443815e+06  1014.488108   30.364804          17.876324"
      ]
     },
     "execution_count": 113,
     "metadata": {},
     "output_type": "execute_result"
    }
   ],
   "source": [
    "results = pd.DataFrame(\n",
    "{'модель':['Константная', 'CatBoost', 'LightGBM', 'tuned_LightGBM'], \n",
    "'rmse':[rmse_dummy, rmse_cat, rmse_lgbm, rmse_lgbm_2nd],\n",
    "'mae':[mae_dummy, mae_cat, mae_lgbm, mae_lgbm_2nd], \n",
    "'mae %':[mae_dummy_pct, mae_cat_pct, mae_lgbm_pct_2nd, mae_lgbm_pct_2nd],\n",
    "'время обучения, с':[0, cat_ml_time, lgbm_ml_time_1st, lgbm_ml_time_2nd] \n",
    "})\n",
    "results"
   ]
  },
  {
   "cell_type": "markdown",
   "metadata": {},
   "source": [
    "Среднеквадратичная ошибка 2707229.8714172756  \n",
    "Среднее ошибка 1043.1375912248975  \n",
    "Среднее относительная ошибка, % 31.297257462493175  "
   ]
  },
  {
   "cell_type": "markdown",
   "metadata": {},
   "source": [
    "### LightGBM модель обученная на признаках после ordinal encoding"
   ]
  },
  {
   "cell_type": "markdown",
   "metadata": {},
   "source": [
    "При обучении модели на категориальных данных преобразованных методом ordinal encoding требуется меньшая глубина деревьев. Оптимально число листов осталось прежним."
   ]
  },
  {
   "cell_type": "markdown",
   "metadata": {},
   "source": [
    "{'max_depth': 20, 'num_leaves': 215}"
   ]
  },
  {
   "cell_type": "code",
   "execution_count": 114,
   "metadata": {},
   "outputs": [],
   "source": [
    "oe_lgbm_model = LGBMRegressor(n_estimators=215, max_depth = 20, random_state=12345)"
   ]
  },
  {
   "cell_type": "code",
   "execution_count": 115,
   "metadata": {},
   "outputs": [
    {
     "data": {
      "text/plain": [
       "17.667030937969685"
      ]
     },
     "execution_count": 115,
     "metadata": {},
     "output_type": "execute_result"
    }
   ],
   "source": [
    "start_time = timeit.default_timer() # Время начала обучения модели \n",
    "\n",
    "oe_lgbm_model.fit(oe_features_train, oe_target_train)\n",
    "\n",
    "oe_lgbm_ml_time = timeit.default_timer() - start_time  # Время обучения модели \n",
    "oe_lgbm_ml_time"
   ]
  },
  {
   "cell_type": "code",
   "execution_count": 116,
   "metadata": {},
   "outputs": [],
   "source": [
    "oe_lgbm_pred = oe_lgbm_model.predict(oe_features_valid)"
   ]
  },
  {
   "cell_type": "code",
   "execution_count": 117,
   "metadata": {},
   "outputs": [
    {
     "name": "stdout",
     "output_type": "stream",
     "text": [
      "Среднеквадратичная ошибка 2441111.8808836094\n",
      "Среднее ошибка 1014.4518443730879\n",
      "Среднее относительная ошибка, % 30.36371877800323\n"
     ]
    }
   ],
   "source": [
    "oe_rmse_lgbm, oe_mae_lgbm, oe_mae_lgbm_pct =  get_metrics(oe_target_valid, oe_lgbm_pred)"
   ]
  },
  {
   "cell_type": "markdown",
   "metadata": {},
   "source": [
    "### Важности факторов"
   ]
  },
  {
   "cell_type": "markdown",
   "metadata": {},
   "source": [
    "Выберем модель oe_lgbm_model, так как она обучена на признаках пред обработанных методом ordinal encoding, следовательно имеет ограниченное количество признаков (в отличии от разряженной матрицы либо после двоичного кодирования)."
   ]
  },
  {
   "cell_type": "code",
   "execution_count": 118,
   "metadata": {},
   "outputs": [],
   "source": [
    "importances = oe_lgbm_model.feature_importances_"
   ]
  },
  {
   "cell_type": "code",
   "execution_count": 119,
   "metadata": {},
   "outputs": [],
   "source": [
    "feature_list = list(oe_features_train.columns)\n",
    "\n",
    "feature_results = pd.DataFrame({'feature': feature_list,'importance': importances})"
   ]
  },
  {
   "cell_type": "markdown",
   "metadata": {},
   "source": [
    "Покажем важность признаков"
   ]
  },
  {
   "cell_type": "code",
   "execution_count": 120,
   "metadata": {},
   "outputs": [
    {
     "data": {
      "text/html": [
       "<div>\n",
       "<style scoped>\n",
       "    .dataframe tbody tr th:only-of-type {\n",
       "        vertical-align: middle;\n",
       "    }\n",
       "\n",
       "    .dataframe tbody tr th {\n",
       "        vertical-align: top;\n",
       "    }\n",
       "\n",
       "    .dataframe thead th {\n",
       "        text-align: right;\n",
       "    }\n",
       "</style>\n",
       "<table border=\"1\" class=\"dataframe\">\n",
       "  <thead>\n",
       "    <tr style=\"text-align: right;\">\n",
       "      <th></th>\n",
       "      <th>feature</th>\n",
       "      <th>importance</th>\n",
       "    </tr>\n",
       "  </thead>\n",
       "  <tbody>\n",
       "    <tr>\n",
       "      <td>0</td>\n",
       "      <td>car_age</td>\n",
       "      <td>1503</td>\n",
       "    </tr>\n",
       "    <tr>\n",
       "      <td>1</td>\n",
       "      <td>Power</td>\n",
       "      <td>1419</td>\n",
       "    </tr>\n",
       "    <tr>\n",
       "      <td>2</td>\n",
       "      <td>Model</td>\n",
       "      <td>995</td>\n",
       "    </tr>\n",
       "    <tr>\n",
       "      <td>3</td>\n",
       "      <td>Brand</td>\n",
       "      <td>918</td>\n",
       "    </tr>\n",
       "    <tr>\n",
       "      <td>4</td>\n",
       "      <td>Kilometer</td>\n",
       "      <td>594</td>\n",
       "    </tr>\n",
       "    <tr>\n",
       "      <td>5</td>\n",
       "      <td>VehicleType</td>\n",
       "      <td>550</td>\n",
       "    </tr>\n",
       "    <tr>\n",
       "      <td>6</td>\n",
       "      <td>FuelType</td>\n",
       "      <td>213</td>\n",
       "    </tr>\n",
       "    <tr>\n",
       "      <td>7</td>\n",
       "      <td>Gearbox</td>\n",
       "      <td>108</td>\n",
       "    </tr>\n",
       "    <tr>\n",
       "      <td>8</td>\n",
       "      <td>repaired</td>\n",
       "      <td>81</td>\n",
       "    </tr>\n",
       "    <tr>\n",
       "      <td>9</td>\n",
       "      <td>not_repaired</td>\n",
       "      <td>69</td>\n",
       "    </tr>\n",
       "  </tbody>\n",
       "</table>\n",
       "</div>"
      ],
      "text/plain": [
       "        feature  importance\n",
       "0       car_age        1503\n",
       "1         Power        1419\n",
       "2         Model         995\n",
       "3         Brand         918\n",
       "4     Kilometer         594\n",
       "5   VehicleType         550\n",
       "6      FuelType         213\n",
       "7       Gearbox         108\n",
       "8      repaired          81\n",
       "9  not_repaired          69"
      ]
     },
     "execution_count": 120,
     "metadata": {},
     "output_type": "execute_result"
    }
   ],
   "source": [
    "feature_results = feature_results.sort_values('importance',ascending = False).reset_index(drop=True)\n",
    "\n",
    "feature_results.head(10)"
   ]
  },
  {
   "cell_type": "markdown",
   "metadata": {},
   "source": [
    "<b> Вывод </b>  \n",
    "Ожидаемо важным оказался возраст автомобиля, хотя возможно это связано с отсутствием масштабирования данного признака, а вот наличие ремонта оказывается имеет весьма низкое влияние на цену. В целом требуется некоторая корректировка численных признаков."
   ]
  },
  {
   "cell_type": "markdown",
   "metadata": {},
   "source": [
    "## Анализ моделей"
   ]
  },
  {
   "cell_type": "markdown",
   "metadata": {},
   "source": [
    "Для получения набора финального обучения совместим валидационную и обучающую выборки"
   ]
  },
  {
   "cell_type": "code",
   "execution_count": 121,
   "metadata": {},
   "outputs": [],
   "source": [
    "final_features = pd.concat([features_train] + [features_valid])\n",
    "final_target = pd.concat([target_train] + [target_valid]) \n",
    "\n",
    "# Для CatBoost\n",
    "cat_final_features = pd.concat([cat_features_train] + [cat_features_valid])\n",
    "cat_final_target = pd.concat([cat_target_train] + [cat_target_valid])   "
   ]
  },
  {
   "cell_type": "markdown",
   "metadata": {},
   "source": [
    "Обучим \"эталонную модель\" Catboost c дефолтными параметрами на финальной выборке"
   ]
  },
  {
   "cell_type": "code",
   "execution_count": 122,
   "metadata": {},
   "outputs": [],
   "source": [
    "lgbm_model = LGBMRegressor(n_estimators=215, max_depth = 24, random_state=12345)"
   ]
  },
  {
   "cell_type": "code",
   "execution_count": 123,
   "metadata": {},
   "outputs": [
    {
     "name": "stdout",
     "output_type": "stream",
     "text": [
      "0:\tlearn: 4329.3564403\ttest: 4335.4669484\tbest: 4335.4669484 (0)\ttotal: 226ms\tremaining: 19s\n",
      "5:\tlearn: 3244.2242970\ttest: 3246.3310368\tbest: 3246.3310368 (5)\ttotal: 1.92s\tremaining: 25.3s\n",
      "10:\tlearn: 2654.4746732\ttest: 2657.0953282\tbest: 2657.0953282 (10)\ttotal: 3.61s\tremaining: 24.3s\n",
      "15:\tlearn: 2322.9502651\ttest: 2325.5658969\tbest: 2325.5658969 (15)\ttotal: 5.21s\tremaining: 22.4s\n",
      "20:\tlearn: 2139.4899951\ttest: 2138.6744272\tbest: 2138.6744272 (20)\ttotal: 6.8s\tremaining: 20.7s\n",
      "25:\tlearn: 2017.5703460\ttest: 2017.4279233\tbest: 2017.4279233 (25)\ttotal: 8.39s\tremaining: 19s\n",
      "30:\tlearn: 1947.1563948\ttest: 1946.1166534\tbest: 1946.1166534 (30)\ttotal: 9.89s\tremaining: 17.2s\n",
      "35:\tlearn: 1902.1504909\ttest: 1901.2261076\tbest: 1901.2261076 (35)\ttotal: 11.5s\tremaining: 15.6s\n",
      "40:\tlearn: 1872.8403004\ttest: 1872.5174636\tbest: 1872.5174636 (40)\ttotal: 13s\tremaining: 13.9s\n",
      "45:\tlearn: 1847.5473016\ttest: 1846.6313152\tbest: 1846.6313152 (45)\ttotal: 14.6s\tremaining: 12.4s\n",
      "50:\tlearn: 1828.9032346\ttest: 1827.4615779\tbest: 1827.4615779 (50)\ttotal: 16.1s\tremaining: 10.7s\n",
      "55:\tlearn: 1815.0215858\ttest: 1813.4510102\tbest: 1813.4510102 (55)\ttotal: 17.7s\tremaining: 9.15s\n",
      "60:\tlearn: 1800.6364791\ttest: 1799.7660756\tbest: 1799.7660756 (60)\ttotal: 19.2s\tremaining: 7.54s\n",
      "65:\tlearn: 1782.0860252\ttest: 1781.7677281\tbest: 1781.7677281 (65)\ttotal: 20.7s\tremaining: 5.95s\n",
      "70:\tlearn: 1769.3386581\ttest: 1769.0075592\tbest: 1769.0075592 (70)\ttotal: 22.2s\tremaining: 4.39s\n",
      "75:\tlearn: 1759.0975626\ttest: 1759.2574856\tbest: 1759.2574856 (75)\ttotal: 23.8s\tremaining: 2.81s\n",
      "80:\tlearn: 1749.2929980\ttest: 1749.3271047\tbest: 1749.3271047 (80)\ttotal: 25.3s\tremaining: 1.25s\n",
      "84:\tlearn: 1743.6691967\ttest: 1743.2675388\tbest: 1743.2675388 (84)\ttotal: 26.5s\tremaining: 0us\n",
      "\n",
      "bestTest = 1743.267539\n",
      "bestIteration = 84\n",
      "\n"
     ]
    },
    {
     "data": {
      "text/plain": [
       "30.806154191493988"
      ]
     },
     "execution_count": 123,
     "metadata": {},
     "output_type": "execute_result"
    }
   ],
   "source": [
    "start_time = timeit.default_timer() # Время начала обучения модели \n",
    "\n",
    "\n",
    "cat_model.fit(\n",
    "    cat_final_features, cat_final_target,\n",
    "    cat_features=categ_features,\n",
    "    eval_set=(cat_features_valid, cat_target_valid),\n",
    "    verbose=5,\n",
    "#     plot=True\n",
    ")\n",
    "\n",
    "cat_ml_time = timeit.default_timer() - start_time  # Время обучения модели \n",
    "cat_ml_time"
   ]
  },
  {
   "cell_type": "code",
   "execution_count": 124,
   "metadata": {},
   "outputs": [],
   "source": [
    "cat_pred = cat_model.predict(cat_features_test)"
   ]
  },
  {
   "cell_type": "code",
   "execution_count": 125,
   "metadata": {},
   "outputs": [
    {
     "name": "stdout",
     "output_type": "stream",
     "text": [
      "Среднеквадратичная ошибка 2914396.668785694\n",
      "Среднее ошибка 1122.5671796893141\n",
      "Среднее относительная ошибка, % 33.114076097029916\n"
     ]
    }
   ],
   "source": [
    "final_rmse_cat, final_mae_cat, final_mae_cat_pct =  get_metrics(cat_target_test, cat_pred)"
   ]
  },
  {
   "cell_type": "markdown",
   "metadata": {},
   "source": [
    "Снова обучим lgbm модель на финальной выборке и посмотрим на качество ее работы натестовой выборке."
   ]
  },
  {
   "cell_type": "code",
   "execution_count": 126,
   "metadata": {},
   "outputs": [
    {
     "data": {
      "text/plain": [
       "16.566060043871403"
      ]
     },
     "execution_count": 126,
     "metadata": {},
     "output_type": "execute_result"
    }
   ],
   "source": [
    "start_time = timeit.default_timer() # Время начала обучения модели \n",
    "\n",
    "lgbm_model.fit(features_train, target_train)\n",
    "\n",
    "lgbm_ml_time_final = timeit.default_timer() - start_time  # Время обучения модели \n",
    "lgbm_ml_time_final"
   ]
  },
  {
   "cell_type": "code",
   "execution_count": 127,
   "metadata": {},
   "outputs": [],
   "source": [
    "lgbm_pred = lgbm_model.predict(features_test)"
   ]
  },
  {
   "cell_type": "code",
   "execution_count": 128,
   "metadata": {},
   "outputs": [
    {
     "name": "stdout",
     "output_type": "stream",
     "text": [
      "Среднеквадратичная ошибка 2388168.726113846\n",
      "Среднее ошибка 1001.836159434772\n",
      "Среднее относительная ошибка, % 29.55268906887233\n"
     ]
    }
   ],
   "source": [
    "rmse_lgbm_final, mae_lgbm_final, mae_lgbm_pct_final =  get_metrics(target_test, lgbm_pred)"
   ]
  },
  {
   "cell_type": "markdown",
   "metadata": {},
   "source": [
    "Подведем итоги проделанной работе"
   ]
  },
  {
   "cell_type": "code",
   "execution_count": 129,
   "metadata": {},
   "outputs": [
    {
     "data": {
      "text/html": [
       "<div>\n",
       "<style scoped>\n",
       "    .dataframe tbody tr th:only-of-type {\n",
       "        vertical-align: middle;\n",
       "    }\n",
       "\n",
       "    .dataframe tbody tr th {\n",
       "        vertical-align: top;\n",
       "    }\n",
       "\n",
       "    .dataframe thead th {\n",
       "        text-align: right;\n",
       "    }\n",
       "</style>\n",
       "<table border=\"1\" class=\"dataframe\">\n",
       "  <thead>\n",
       "    <tr style=\"text-align: right;\">\n",
       "      <th></th>\n",
       "      <th>модель</th>\n",
       "      <th>rmse</th>\n",
       "      <th>mae</th>\n",
       "      <th>mae %</th>\n",
       "      <th>время обучения, с</th>\n",
       "    </tr>\n",
       "  </thead>\n",
       "  <tbody>\n",
       "    <tr>\n",
       "      <td>0</td>\n",
       "      <td>Константная</td>\n",
       "      <td>2.439533e+07</td>\n",
       "      <td>3445.766667</td>\n",
       "      <td>103.135788</td>\n",
       "      <td>0.000000</td>\n",
       "    </tr>\n",
       "    <tr>\n",
       "      <td>1</td>\n",
       "      <td>CatBoost</td>\n",
       "      <td>3.095257e+06</td>\n",
       "      <td>1148.666367</td>\n",
       "      <td>34.380915</td>\n",
       "      <td>30.806154</td>\n",
       "    </tr>\n",
       "    <tr>\n",
       "      <td>2</td>\n",
       "      <td>LightGBM</td>\n",
       "      <td>2.681931e+06</td>\n",
       "      <td>1068.007331</td>\n",
       "      <td>31.966697</td>\n",
       "      <td>8.773120</td>\n",
       "    </tr>\n",
       "    <tr>\n",
       "      <td>3</td>\n",
       "      <td>tuned_LightGBM</td>\n",
       "      <td>2.443815e+06</td>\n",
       "      <td>1014.488108</td>\n",
       "      <td>30.364804</td>\n",
       "      <td>17.876324</td>\n",
       "    </tr>\n",
       "    <tr>\n",
       "      <td>4</td>\n",
       "      <td>final_tuned_LightGBM</td>\n",
       "      <td>2.388169e+06</td>\n",
       "      <td>1001.836159</td>\n",
       "      <td>29.552689</td>\n",
       "      <td>16.566060</td>\n",
       "    </tr>\n",
       "    <tr>\n",
       "      <td>5</td>\n",
       "      <td>ordinal_encode_LightGBM</td>\n",
       "      <td>2.441112e+06</td>\n",
       "      <td>1014.451844</td>\n",
       "      <td>30.363719</td>\n",
       "      <td>17.667031</td>\n",
       "    </tr>\n",
       "  </tbody>\n",
       "</table>\n",
       "</div>"
      ],
      "text/plain": [
       "                    модель          rmse          mae       mae %  \\\n",
       "0              Константная  2.439533e+07  3445.766667  103.135788   \n",
       "1                 CatBoost  3.095257e+06  1148.666367   34.380915   \n",
       "2                 LightGBM  2.681931e+06  1068.007331   31.966697   \n",
       "3           tuned_LightGBM  2.443815e+06  1014.488108   30.364804   \n",
       "4     final_tuned_LightGBM  2.388169e+06  1001.836159   29.552689   \n",
       "5  ordinal_encode_LightGBM  2.441112e+06  1014.451844   30.363719   \n",
       "\n",
       "   время обучения, с  \n",
       "0           0.000000  \n",
       "1          30.806154  \n",
       "2           8.773120  \n",
       "3          17.876324  \n",
       "4          16.566060  \n",
       "5          17.667031  "
      ]
     },
     "execution_count": 129,
     "metadata": {},
     "output_type": "execute_result"
    }
   ],
   "source": [
    "results = pd.DataFrame(\n",
    "{'модель':['Константная', 'CatBoost', 'LightGBM', 'tuned_LightGBM', 'final_tuned_LightGBM', 'ordinal_encode_LightGBM'], \n",
    "'rmse':[rmse_dummy, rmse_cat, rmse_lgbm, rmse_lgbm_2nd, rmse_lgbm_final, oe_rmse_lgbm],\n",
    "'mae':[mae_dummy, mae_cat, mae_lgbm, mae_lgbm_2nd, mae_lgbm_final, oe_mae_lgbm], \n",
    "'mae %':[mae_dummy_pct, mae_cat_pct, mae_lgbm_pct, mae_lgbm_pct_2nd, mae_lgbm_pct_final, oe_mae_lgbm_pct],\n",
    "'время обучения, с':[0, cat_ml_time, lgbm_ml_time_1st, lgbm_ml_time_2nd, lgbm_ml_time_final,oe_lgbm_ml_time] \n",
    "})\n",
    "results"
   ]
  },
  {
   "attachments": {
    "image-2.png": {
     "image/png": "[encoded data removed]"
    }
   },
   "cell_type": "markdown",
   "metadata": {},
   "source": [
    "![image-2.png](attachment:image-2.png)"
   ]
  },
  {
   "cell_type": "markdown",
   "metadata": {},
   "source": [
    "Представим гистограмму влияния признаков на величину стоимости автомобиля."
   ]
  },
  {
   "cell_type": "code",
   "execution_count": 130,
   "metadata": {},
   "outputs": [
    {
     "data": {
      "image/png": "[encoded data removed]",
      "text/plain": [
       "<Figure size 1152x576 with 1 Axes>"
      ]
     },
     "metadata": {
      "needs_background": "light"
     },
     "output_type": "display_data"
    }
   ],
   "source": [
    "fig = plt.figure(figsize=(16, 8))\n",
    "\n",
    "plt.bar(feature_results['feature'], feature_results['importance'])\n",
    "plt.show()"
   ]
  },
  {
   "cell_type": "markdown",
   "metadata": {},
   "source": [
    "## Вывод"
   ]
  },
  {
   "cell_type": "markdown",
   "metadata": {},
   "source": [
    "Настроенная по оптимальным параметрам LGBM модель показала лучше качество работы на 7,9% по метрике RMSE, однако обучалась в 1.85 раза медленнее или на 8.64 с. дольше. Таким образом нужно уточнить на сколько для заказчика критично такое увеличение времени обучения для сравнительно не большого прироста точности работы. Возможно, обучит модель с пониженным гиперпараметрами определяющими ее сложность с целью получения меньшей времени обучения. В целом метрики LGBM модели соизмеримы несколько лучше по сравнению с эталонной моделью Catboost, что говорит о адекватной настройке модели. Так же нет существенной разнице при работе на валидационной и тестовой выборках. Таким образом считает модель обученной и готовой к дальнейшему использованию.  \n",
    "  \n",
    "Применение порядкового кодирования категориальных признаков позволяет уменьшить сложность модели и практически вдвое снизить время обучения, что является критичной метрикой для заказчика.  \n",
    "  \n",
    "На основании анализа влияния признаков можно сделать вывод, что наибольшее влияние на цену оказывает возраст автомобиля, наличие ремонта тип топлива и КПП значительно более низкую важность."
   ]
  }
 ],
 "metadata": {
  "ExecuteTimeLog": [
   {
    "duration": 869,
    "start_time": "2021-07-14T15:29:11.288Z"
   },
   {
    "duration": 1141,
    "start_time": "2021-07-14T15:30:18.638Z"
   },
   {
    "duration": 154,
    "start_time": "2021-07-14T15:30:41.438Z"
   },
   {
    "duration": 26,
    "start_time": "2021-07-14T15:31:26.038Z"
   },
   {
    "duration": 45,
    "start_time": "2021-07-14T15:33:42.350Z"
   },
   {
    "duration": 105,
    "start_time": "2021-07-14T16:02:50.179Z"
   },
   {
    "duration": 636,
    "start_time": "2021-07-14T16:02:53.637Z"
   },
   {
    "duration": 761,
    "start_time": "2021-07-14T16:03:43.701Z"
   },
   {
    "duration": 56,
    "start_time": "2021-07-14T16:05:19.463Z"
   },
   {
    "duration": 677,
    "start_time": "2021-07-14T17:05:47.463Z"
   },
   {
    "duration": 4,
    "start_time": "2021-07-14T17:05:48.142Z"
   },
   {
    "duration": 803,
    "start_time": "2021-07-15T11:31:14.653Z"
   },
   {
    "duration": 605,
    "start_time": "2021-07-15T11:31:15.459Z"
   },
   {
    "duration": 1129,
    "start_time": "2021-07-15T11:31:16.067Z"
   },
   {
    "duration": 160,
    "start_time": "2021-07-15T11:31:17.201Z"
   },
   {
    "duration": 56,
    "start_time": "2021-07-15T11:31:17.364Z"
   },
   {
    "duration": 646,
    "start_time": "2021-07-15T11:31:17.423Z"
   },
   {
    "duration": 749,
    "start_time": "2021-07-15T11:31:18.071Z"
   },
   {
    "duration": 54,
    "start_time": "2021-07-15T11:31:18.823Z"
   },
   {
    "duration": 555,
    "start_time": "2021-07-15T11:31:18.879Z"
   },
   {
    "duration": 3,
    "start_time": "2021-07-15T12:00:03.354Z"
   },
   {
    "duration": 453,
    "start_time": "2021-07-15T12:05:28.053Z"
   },
   {
    "duration": 338,
    "start_time": "2021-07-15T12:07:10.867Z"
   },
   {
    "duration": 3,
    "start_time": "2021-07-15T12:09:14.915Z"
   },
   {
    "duration": 175,
    "start_time": "2021-07-15T12:48:54.053Z"
   },
   {
    "duration": 122,
    "start_time": "2021-07-15T13:25:08.270Z"
   },
   {
    "duration": 140,
    "start_time": "2021-07-15T13:25:39.051Z"
   },
   {
    "duration": 121,
    "start_time": "2021-07-15T13:25:40.252Z"
   },
   {
    "duration": 22,
    "start_time": "2021-07-15T13:26:18.364Z"
   },
   {
    "duration": 6574,
    "start_time": "2021-07-15T13:27:43.852Z"
   },
   {
    "duration": 6624,
    "start_time": "2021-07-15T13:28:32.462Z"
   },
   {
    "duration": 1887,
    "start_time": "2021-07-15T13:29:04.542Z"
   },
   {
    "duration": 72,
    "start_time": "2021-07-15T13:30:27.374Z"
   },
   {
    "duration": 108,
    "start_time": "2021-07-15T13:30:29.685Z"
   },
   {
    "duration": 20,
    "start_time": "2021-07-15T13:30:36.694Z"
   },
   {
    "duration": 35,
    "start_time": "2021-07-15T13:49:32.913Z"
   },
   {
    "duration": 20,
    "start_time": "2021-07-15T13:49:45.674Z"
   },
   {
    "duration": 833,
    "start_time": "2021-07-15T13:58:14.146Z"
   },
   {
    "duration": 583,
    "start_time": "2021-07-15T13:58:14.981Z"
   },
   {
    "duration": 1056,
    "start_time": "2021-07-15T13:58:15.567Z"
   },
   {
    "duration": 156,
    "start_time": "2021-07-15T13:58:16.626Z"
   },
   {
    "duration": 56,
    "start_time": "2021-07-15T13:58:16.784Z"
   },
   {
    "duration": 585,
    "start_time": "2021-07-15T13:58:16.843Z"
   },
   {
    "duration": 712,
    "start_time": "2021-07-15T13:58:17.430Z"
   },
   {
    "duration": 349,
    "start_time": "2021-07-15T13:58:18.145Z"
   },
   {
    "duration": 404,
    "start_time": "2021-07-15T13:58:18.497Z"
   },
   {
    "duration": 44,
    "start_time": "2021-07-15T13:58:18.859Z"
   },
   {
    "duration": 41,
    "start_time": "2021-07-15T13:58:18.864Z"
   },
   {
    "duration": 40,
    "start_time": "2021-07-15T13:58:18.866Z"
   },
   {
    "duration": 39,
    "start_time": "2021-07-15T13:58:18.868Z"
   },
   {
    "duration": 39,
    "start_time": "2021-07-15T13:58:18.870Z"
   },
   {
    "duration": 37,
    "start_time": "2021-07-15T13:58:18.873Z"
   },
   {
    "duration": 36,
    "start_time": "2021-07-15T13:58:18.875Z"
   },
   {
    "duration": 35,
    "start_time": "2021-07-15T13:58:18.877Z"
   },
   {
    "duration": 408,
    "start_time": "2021-07-15T14:01:38.466Z"
   },
   {
    "duration": 426,
    "start_time": "2021-07-15T14:03:35.242Z"
   },
   {
    "duration": 653,
    "start_time": "2021-07-15T14:03:46.424Z"
   },
   {
    "duration": 2780,
    "start_time": "2021-07-15T14:04:18.395Z"
   },
   {
    "duration": 9,
    "start_time": "2021-07-15T14:05:10.074Z"
   },
   {
    "duration": 318,
    "start_time": "2021-07-15T14:06:56.884Z"
   },
   {
    "duration": 8,
    "start_time": "2021-07-15T14:07:33.827Z"
   },
   {
    "duration": 299,
    "start_time": "2021-07-15T14:07:55.867Z"
   },
   {
    "duration": 15,
    "start_time": "2021-07-15T14:08:10.875Z"
   },
   {
    "duration": 5,
    "start_time": "2021-07-15T14:08:45.593Z"
   },
   {
    "duration": 33,
    "start_time": "2021-07-15T14:08:49.315Z"
   },
   {
    "duration": 4,
    "start_time": "2021-07-15T14:09:10.771Z"
   },
   {
    "duration": 13,
    "start_time": "2021-07-15T14:09:15.434Z"
   },
   {
    "duration": 6,
    "start_time": "2021-07-15T14:09:25.812Z"
   },
   {
    "duration": 15,
    "start_time": "2021-07-15T14:09:31.198Z"
   },
   {
    "duration": 15,
    "start_time": "2021-07-15T16:00:35.278Z"
   },
   {
    "duration": 286,
    "start_time": "2021-07-15T16:10:18.127Z"
   },
   {
    "duration": 62,
    "start_time": "2021-07-15T16:12:12.397Z"
   },
   {
    "duration": 15,
    "start_time": "2021-07-15T16:12:26.230Z"
   },
   {
    "duration": 377,
    "start_time": "2021-07-15T16:13:11.998Z"
   },
   {
    "duration": 13,
    "start_time": "2021-07-15T16:13:38.718Z"
   },
   {
    "duration": 581,
    "start_time": "2021-07-16T04:42:20.216Z"
   },
   {
    "duration": 398,
    "start_time": "2021-07-16T04:42:20.799Z"
   },
   {
    "duration": 3,
    "start_time": "2021-07-16T04:42:21.199Z"
   },
   {
    "duration": 710,
    "start_time": "2021-07-16T04:42:21.203Z"
   },
   {
    "duration": 108,
    "start_time": "2021-07-16T04:42:21.914Z"
   },
   {
    "duration": 26,
    "start_time": "2021-07-16T04:42:22.024Z"
   },
   {
    "duration": 397,
    "start_time": "2021-07-16T04:42:22.052Z"
   },
   {
    "duration": 487,
    "start_time": "2021-07-16T04:42:22.451Z"
   },
   {
    "duration": 231,
    "start_time": "2021-07-16T04:42:22.940Z"
   },
   {
    "duration": 9,
    "start_time": "2021-07-16T04:42:23.172Z"
   },
   {
    "duration": 45,
    "start_time": "2021-07-16T04:42:23.182Z"
   },
   {
    "duration": 7,
    "start_time": "2021-07-16T04:42:23.229Z"
   },
   {
    "duration": 2,
    "start_time": "2021-07-16T04:42:23.237Z"
   },
   {
    "duration": 14,
    "start_time": "2021-07-16T04:42:23.240Z"
   },
   {
    "duration": 47,
    "start_time": "2021-07-16T04:42:23.255Z"
   },
   {
    "duration": 142,
    "start_time": "2021-07-16T04:42:23.303Z"
   },
   {
    "duration": 2,
    "start_time": "2021-07-16T04:42:23.447Z"
   },
   {
    "duration": 6,
    "start_time": "2021-07-16T04:42:23.450Z"
   },
   {
    "duration": 302,
    "start_time": "2021-07-16T04:42:23.457Z"
   },
   {
    "duration": -108,
    "start_time": "2021-07-16T04:42:23.869Z"
   },
   {
    "duration": -110,
    "start_time": "2021-07-16T04:42:23.872Z"
   },
   {
    "duration": 32,
    "start_time": "2021-07-16T04:50:26.827Z"
   },
   {
    "duration": 7,
    "start_time": "2021-07-16T04:50:42.514Z"
   },
   {
    "duration": 294,
    "start_time": "2021-07-16T04:54:00.507Z"
   },
   {
    "duration": 5364,
    "start_time": "2021-07-16T04:56:53.700Z"
   },
   {
    "duration": 124,
    "start_time": "2021-07-16T05:06:30.983Z"
   },
   {
    "duration": 6,
    "start_time": "2021-07-16T05:06:49.885Z"
   },
   {
    "duration": 71,
    "start_time": "2021-07-16T05:14:02.288Z"
   },
   {
    "duration": 8,
    "start_time": "2021-07-16T05:17:23.912Z"
   },
   {
    "duration": 10,
    "start_time": "2021-07-16T05:17:42.416Z"
   },
   {
    "duration": 62,
    "start_time": "2021-07-16T05:17:52.960Z"
   },
   {
    "duration": 64,
    "start_time": "2021-07-16T05:18:06.655Z"
   },
   {
    "duration": 11,
    "start_time": "2021-07-16T05:18:13.746Z"
   },
   {
    "duration": 246,
    "start_time": "2021-07-16T05:19:52.025Z"
   },
   {
    "duration": 86,
    "start_time": "2021-07-16T05:21:26.065Z"
   },
   {
    "duration": 15,
    "start_time": "2021-07-16T05:21:38.128Z"
   },
   {
    "duration": 12,
    "start_time": "2021-07-16T05:21:53.329Z"
   },
   {
    "duration": 19,
    "start_time": "2021-07-16T05:24:44.425Z"
   },
   {
    "duration": 13,
    "start_time": "2021-07-16T05:24:45.394Z"
   },
   {
    "duration": 604,
    "start_time": "2021-07-16T05:25:57.050Z"
   },
   {
    "duration": 436,
    "start_time": "2021-07-16T05:25:57.656Z"
   },
   {
    "duration": 3,
    "start_time": "2021-07-16T05:25:58.095Z"
   },
   {
    "duration": 739,
    "start_time": "2021-07-16T05:25:58.099Z"
   },
   {
    "duration": 117,
    "start_time": "2021-07-16T05:25:58.840Z"
   },
   {
    "duration": 37,
    "start_time": "2021-07-16T05:25:58.959Z"
   },
   {
    "duration": 394,
    "start_time": "2021-07-16T05:25:58.998Z"
   },
   {
    "duration": 500,
    "start_time": "2021-07-16T05:25:59.395Z"
   },
   {
    "duration": 241,
    "start_time": "2021-07-16T05:25:59.897Z"
   },
   {
    "duration": 10,
    "start_time": "2021-07-16T05:26:00.139Z"
   },
   {
    "duration": 57,
    "start_time": "2021-07-16T05:26:00.150Z"
   },
   {
    "duration": 334,
    "start_time": "2021-07-16T05:26:00.208Z"
   },
   {
    "duration": -26,
    "start_time": "2021-07-16T05:26:00.570Z"
   },
   {
    "duration": -28,
    "start_time": "2021-07-16T05:26:00.573Z"
   },
   {
    "duration": -29,
    "start_time": "2021-07-16T05:26:00.575Z"
   },
   {
    "duration": -89,
    "start_time": "2021-07-16T05:26:00.636Z"
   },
   {
    "duration": -90,
    "start_time": "2021-07-16T05:26:00.638Z"
   },
   {
    "duration": -92,
    "start_time": "2021-07-16T05:26:00.640Z"
   },
   {
    "duration": -93,
    "start_time": "2021-07-16T05:26:00.642Z"
   },
   {
    "duration": -94,
    "start_time": "2021-07-16T05:26:00.644Z"
   },
   {
    "duration": -95,
    "start_time": "2021-07-16T05:26:00.646Z"
   },
   {
    "duration": -96,
    "start_time": "2021-07-16T05:26:00.648Z"
   },
   {
    "duration": -97,
    "start_time": "2021-07-16T05:26:00.650Z"
   },
   {
    "duration": -98,
    "start_time": "2021-07-16T05:26:00.652Z"
   },
   {
    "duration": -100,
    "start_time": "2021-07-16T05:26:00.654Z"
   },
   {
    "duration": -101,
    "start_time": "2021-07-16T05:26:00.656Z"
   },
   {
    "duration": 25,
    "start_time": "2021-07-16T05:27:06.438Z"
   },
   {
    "duration": 133,
    "start_time": "2021-07-16T05:27:06.999Z"
   },
   {
    "duration": 3,
    "start_time": "2021-07-16T05:27:08.022Z"
   },
   {
    "duration": 8,
    "start_time": "2021-07-16T05:27:08.214Z"
   },
   {
    "duration": 11,
    "start_time": "2021-07-16T05:27:08.526Z"
   },
   {
    "duration": 16,
    "start_time": "2021-07-16T05:27:09.214Z"
   },
   {
    "duration": 12,
    "start_time": "2021-07-16T05:27:09.422Z"
   },
   {
    "duration": 501,
    "start_time": "2021-07-16T05:27:09.582Z"
   },
   {
    "duration": -76,
    "start_time": "2021-07-16T05:27:10.161Z"
   },
   {
    "duration": -77,
    "start_time": "2021-07-16T05:27:10.163Z"
   },
   {
    "duration": 598,
    "start_time": "2021-07-16T05:31:03.818Z"
   },
   {
    "duration": 462,
    "start_time": "2021-07-16T05:31:04.417Z"
   },
   {
    "duration": 2,
    "start_time": "2021-07-16T05:31:04.881Z"
   },
   {
    "duration": 702,
    "start_time": "2021-07-16T05:31:04.885Z"
   },
   {
    "duration": 108,
    "start_time": "2021-07-16T05:31:05.588Z"
   },
   {
    "duration": 28,
    "start_time": "2021-07-16T05:31:05.697Z"
   },
   {
    "duration": 409,
    "start_time": "2021-07-16T05:31:05.726Z"
   },
   {
    "duration": 496,
    "start_time": "2021-07-16T05:31:06.139Z"
   },
   {
    "duration": 235,
    "start_time": "2021-07-16T05:31:06.638Z"
   },
   {
    "duration": 19,
    "start_time": "2021-07-16T05:31:06.875Z"
   },
   {
    "duration": 43,
    "start_time": "2021-07-16T05:31:06.895Z"
   },
   {
    "duration": 24,
    "start_time": "2021-07-16T05:31:06.940Z"
   },
   {
    "duration": 253,
    "start_time": "2021-07-16T05:31:06.965Z"
   },
   {
    "duration": 2,
    "start_time": "2021-07-16T05:31:07.219Z"
   },
   {
    "duration": 10,
    "start_time": "2021-07-16T05:31:07.223Z"
   },
   {
    "duration": 10,
    "start_time": "2021-07-16T05:31:07.234Z"
   },
   {
    "duration": 318,
    "start_time": "2021-07-16T05:31:07.245Z"
   },
   {
    "duration": -26,
    "start_time": "2021-07-16T05:31:07.591Z"
   },
   {
    "duration": -27,
    "start_time": "2021-07-16T05:31:07.593Z"
   },
   {
    "duration": -28,
    "start_time": "2021-07-16T05:31:07.595Z"
   },
   {
    "duration": -29,
    "start_time": "2021-07-16T05:31:07.597Z"
   },
   {
    "duration": -31,
    "start_time": "2021-07-16T05:31:07.599Z"
   },
   {
    "duration": -31,
    "start_time": "2021-07-16T05:31:07.600Z"
   },
   {
    "duration": -33,
    "start_time": "2021-07-16T05:31:07.603Z"
   },
   {
    "duration": -33,
    "start_time": "2021-07-16T05:31:07.604Z"
   },
   {
    "duration": -34,
    "start_time": "2021-07-16T05:31:07.606Z"
   },
   {
    "duration": -35,
    "start_time": "2021-07-16T05:31:07.608Z"
   },
   {
    "duration": 8,
    "start_time": "2021-07-16T05:34:37.208Z"
   },
   {
    "duration": 3,
    "start_time": "2021-07-16T05:40:42.770Z"
   },
   {
    "duration": 10,
    "start_time": "2021-07-16T05:40:43.466Z"
   },
   {
    "duration": 11,
    "start_time": "2021-07-16T06:56:43.464Z"
   },
   {
    "duration": 246,
    "start_time": "2021-07-16T07:07:49.024Z"
   },
   {
    "duration": 239,
    "start_time": "2021-07-16T07:09:52.936Z"
   },
   {
    "duration": 277,
    "start_time": "2021-07-16T07:10:22.032Z"
   },
   {
    "duration": 568,
    "start_time": "2021-07-16T08:13:17.880Z"
   },
   {
    "duration": 25,
    "start_time": "2021-07-16T08:13:31.797Z"
   },
   {
    "duration": 11,
    "start_time": "2021-07-16T08:13:49.630Z"
   },
   {
    "duration": 565,
    "start_time": "2021-07-16T08:13:54.262Z"
   },
   {
    "duration": 13,
    "start_time": "2021-07-16T08:13:58.439Z"
   },
   {
    "duration": 694,
    "start_time": "2021-07-16T08:14:19.645Z"
   },
   {
    "duration": -34,
    "start_time": "2021-07-16T08:14:20.375Z"
   },
   {
    "duration": 372,
    "start_time": "2021-07-16T08:14:37.407Z"
   },
   {
    "duration": 13,
    "start_time": "2021-07-16T08:14:39.030Z"
   },
   {
    "duration": 5900,
    "start_time": "2021-07-16T08:23:25.880Z"
   },
   {
    "duration": 423,
    "start_time": "2021-07-16T08:24:52.768Z"
   },
   {
    "duration": 13,
    "start_time": "2021-07-16T08:24:58.137Z"
   },
   {
    "duration": 1526,
    "start_time": "2021-07-16T08:25:52.395Z"
   },
   {
    "duration": 56,
    "start_time": "2021-07-16T08:26:56.186Z"
   },
   {
    "duration": 14,
    "start_time": "2021-07-16T08:26:59.994Z"
   },
   {
    "duration": 74,
    "start_time": "2021-07-16T08:31:57.587Z"
   },
   {
    "duration": 708,
    "start_time": "2021-07-16T08:32:46.210Z"
   },
   {
    "duration": 472,
    "start_time": "2021-07-16T08:33:54.842Z"
   },
   {
    "duration": 15,
    "start_time": "2021-07-16T08:35:06.995Z"
   },
   {
    "duration": 116,
    "start_time": "2021-07-16T08:36:18.187Z"
   },
   {
    "duration": 52,
    "start_time": "2021-07-16T08:36:40.612Z"
   },
   {
    "duration": 43,
    "start_time": "2021-07-16T08:36:57.844Z"
   },
   {
    "duration": 35,
    "start_time": "2021-07-16T08:37:10.364Z"
   },
   {
    "duration": 13,
    "start_time": "2021-07-16T11:45:08.731Z"
   },
   {
    "duration": 214,
    "start_time": "2021-07-16T11:45:25.926Z"
   },
   {
    "duration": 226,
    "start_time": "2021-07-16T11:45:35.871Z"
   },
   {
    "duration": 14,
    "start_time": "2021-07-16T11:45:57.448Z"
   },
   {
    "duration": 3,
    "start_time": "2021-07-16T11:48:01.014Z"
   },
   {
    "duration": 408,
    "start_time": "2021-07-16T11:50:16.398Z"
   },
   {
    "duration": 6852,
    "start_time": "2021-07-16T14:01:30.893Z"
   },
   {
    "duration": 4414,
    "start_time": "2021-07-16T14:01:57.612Z"
   },
   {
    "duration": 436,
    "start_time": "2021-07-16T14:03:29.149Z"
   },
   {
    "duration": 413,
    "start_time": "2021-07-16T14:04:05.868Z"
   },
   {
    "duration": 443,
    "start_time": "2021-07-16T14:04:46.676Z"
   },
   {
    "duration": 365,
    "start_time": "2021-07-16T14:05:02.996Z"
   },
   {
    "duration": 416,
    "start_time": "2021-07-16T14:05:11.116Z"
   },
   {
    "duration": 471,
    "start_time": "2021-07-16T14:06:12.796Z"
   },
   {
    "duration": 3393,
    "start_time": "2021-07-16T14:07:29.316Z"
   },
   {
    "duration": 39,
    "start_time": "2021-07-16T14:07:46.877Z"
   },
   {
    "duration": 28,
    "start_time": "2021-07-16T14:08:06.630Z"
   },
   {
    "duration": 475,
    "start_time": "2021-07-16T14:08:15.813Z"
   },
   {
    "duration": 504,
    "start_time": "2021-07-16T14:08:55.525Z"
   },
   {
    "duration": 33,
    "start_time": "2021-07-16T14:11:45.373Z"
   },
   {
    "duration": 2,
    "start_time": "2021-07-16T14:25:17.940Z"
   },
   {
    "duration": 378,
    "start_time": "2021-07-16T14:25:51.289Z"
   },
   {
    "duration": 31,
    "start_time": "2021-07-16T14:31:50.483Z"
   },
   {
    "duration": 30,
    "start_time": "2021-07-16T14:32:16.540Z"
   },
   {
    "duration": 27,
    "start_time": "2021-07-16T14:32:59.183Z"
   },
   {
    "duration": 129,
    "start_time": "2021-07-16T14:39:16.557Z"
   },
   {
    "duration": 37,
    "start_time": "2021-07-16T14:39:19.803Z"
   },
   {
    "duration": 120,
    "start_time": "2021-07-16T14:39:22.459Z"
   },
   {
    "duration": 274,
    "start_time": "2021-07-16T14:40:11.756Z"
   },
   {
    "duration": 123,
    "start_time": "2021-07-16T14:40:19.524Z"
   },
   {
    "duration": 30,
    "start_time": "2021-07-16T14:45:15.214Z"
   },
   {
    "duration": 37,
    "start_time": "2021-07-16T14:46:52.105Z"
   },
   {
    "duration": 12,
    "start_time": "2021-07-16T14:48:07.301Z"
   },
   {
    "duration": 12,
    "start_time": "2021-07-16T14:48:16.078Z"
   },
   {
    "duration": 38,
    "start_time": "2021-07-16T14:48:21.815Z"
   },
   {
    "duration": 173,
    "start_time": "2021-07-16T14:54:27.096Z"
   },
   {
    "duration": 248,
    "start_time": "2021-07-16T14:56:42.873Z"
   },
   {
    "duration": 3,
    "start_time": "2021-07-16T14:56:46.641Z"
   },
   {
    "duration": 571,
    "start_time": "2021-07-16T14:59:00.321Z"
   },
   {
    "duration": 2,
    "start_time": "2021-07-16T14:59:06.649Z"
   },
   {
    "duration": 4,
    "start_time": "2021-07-16T14:59:12.737Z"
   },
   {
    "duration": 4,
    "start_time": "2021-07-16T14:59:19.120Z"
   },
   {
    "duration": 16,
    "start_time": "2021-07-16T16:09:55.946Z"
   },
   {
    "duration": 270,
    "start_time": "2021-07-16T16:11:39.553Z"
   },
   {
    "duration": 231,
    "start_time": "2021-07-16T16:11:46.292Z"
   },
   {
    "duration": 80,
    "start_time": "2021-07-16T16:12:13.988Z"
   },
   {
    "duration": 89,
    "start_time": "2021-07-16T16:12:20.929Z"
   },
   {
    "duration": 261,
    "start_time": "2021-07-16T16:12:36.186Z"
   },
   {
    "duration": 233,
    "start_time": "2021-07-16T16:12:44.228Z"
   },
   {
    "duration": 73,
    "start_time": "2021-07-16T16:12:53.330Z"
   },
   {
    "duration": 69,
    "start_time": "2021-07-16T16:12:59.066Z"
   },
   {
    "duration": 41,
    "start_time": "2021-07-16T16:15:07.162Z"
   },
   {
    "duration": 21,
    "start_time": "2021-07-16T16:15:20.587Z"
   },
   {
    "duration": 228,
    "start_time": "2021-07-16T16:15:28.794Z"
   },
   {
    "duration": 10,
    "start_time": "2021-07-16T16:15:35.258Z"
   },
   {
    "duration": 223,
    "start_time": "2021-07-16T16:17:38.570Z"
   },
   {
    "duration": 5457,
    "start_time": "2021-07-16T16:17:53.114Z"
   },
   {
    "duration": 30,
    "start_time": "2021-07-16T16:18:13.067Z"
   },
   {
    "duration": 28,
    "start_time": "2021-07-16T16:18:18.755Z"
   },
   {
    "duration": 28,
    "start_time": "2021-07-16T16:18:30.956Z"
   },
   {
    "duration": 55,
    "start_time": "2021-07-16T16:18:51.250Z"
   },
   {
    "duration": 52,
    "start_time": "2021-07-16T16:19:09.124Z"
   },
   {
    "duration": 51,
    "start_time": "2021-07-16T16:19:20.693Z"
   },
   {
    "duration": 25,
    "start_time": "2021-07-16T16:20:39.074Z"
   },
   {
    "duration": 56,
    "start_time": "2021-07-16T16:21:12.469Z"
   },
   {
    "duration": 17,
    "start_time": "2021-07-16T16:22:49.956Z"
   },
   {
    "duration": 14,
    "start_time": "2021-07-16T16:25:40.453Z"
   },
   {
    "duration": 15,
    "start_time": "2021-07-16T16:30:38.471Z"
   },
   {
    "duration": 111,
    "start_time": "2021-07-16T16:37:32.577Z"
   },
   {
    "duration": 127,
    "start_time": "2021-07-16T16:37:52.304Z"
   },
   {
    "duration": 16,
    "start_time": "2021-07-16T16:38:30.552Z"
   },
   {
    "duration": 585,
    "start_time": "2021-07-16T16:39:21.213Z"
   },
   {
    "duration": 383,
    "start_time": "2021-07-16T16:39:21.800Z"
   },
   {
    "duration": 3,
    "start_time": "2021-07-16T16:39:22.185Z"
   },
   {
    "duration": 706,
    "start_time": "2021-07-16T16:39:22.190Z"
   },
   {
    "duration": 111,
    "start_time": "2021-07-16T16:39:22.898Z"
   },
   {
    "duration": 3,
    "start_time": "2021-07-16T16:39:23.011Z"
   },
   {
    "duration": 28,
    "start_time": "2021-07-16T16:39:23.015Z"
   },
   {
    "duration": 395,
    "start_time": "2021-07-16T16:39:23.045Z"
   },
   {
    "duration": 495,
    "start_time": "2021-07-16T16:39:23.442Z"
   },
   {
    "duration": 233,
    "start_time": "2021-07-16T16:39:23.938Z"
   },
   {
    "duration": 9,
    "start_time": "2021-07-16T16:39:24.172Z"
   },
   {
    "duration": 46,
    "start_time": "2021-07-16T16:39:24.182Z"
   },
   {
    "duration": 7,
    "start_time": "2021-07-16T16:39:24.230Z"
   },
   {
    "duration": 9,
    "start_time": "2021-07-16T16:39:24.238Z"
   },
   {
    "duration": 499,
    "start_time": "2021-07-16T16:39:24.249Z"
   },
   {
    "duration": 54,
    "start_time": "2021-07-16T16:39:24.750Z"
   },
   {
    "duration": 12,
    "start_time": "2021-07-16T16:39:24.805Z"
   },
   {
    "duration": 3,
    "start_time": "2021-07-16T16:39:24.819Z"
   },
   {
    "duration": 26,
    "start_time": "2021-07-16T16:39:24.824Z"
   },
   {
    "duration": 398,
    "start_time": "2021-07-16T16:39:24.852Z"
   },
   {
    "duration": 25,
    "start_time": "2021-07-16T16:39:25.252Z"
   },
   {
    "duration": 132,
    "start_time": "2021-07-16T16:39:25.278Z"
   },
   {
    "duration": 34,
    "start_time": "2021-07-16T16:39:25.413Z"
   },
   {
    "duration": 177,
    "start_time": "2021-07-16T16:39:25.449Z"
   },
   {
    "duration": 3,
    "start_time": "2021-07-16T16:39:25.628Z"
   },
   {
    "duration": 19,
    "start_time": "2021-07-16T16:39:25.633Z"
   },
   {
    "duration": 18,
    "start_time": "2021-07-16T16:39:25.653Z"
   },
   {
    "duration": 27,
    "start_time": "2021-07-16T16:39:25.673Z"
   },
   {
    "duration": 14,
    "start_time": "2021-07-16T16:39:25.702Z"
   },
   {
    "duration": 16,
    "start_time": "2021-07-16T16:39:25.717Z"
   },
   {
    "duration": 83,
    "start_time": "2021-07-16T16:39:25.735Z"
   },
   {
    "duration": 109,
    "start_time": "2021-07-16T16:39:25.820Z"
   },
   {
    "duration": 46,
    "start_time": "2021-07-16T16:39:25.931Z"
   },
   {
    "duration": 25,
    "start_time": "2021-07-16T16:39:25.979Z"
   },
   {
    "duration": 113,
    "start_time": "2021-07-16T16:39:26.006Z"
   },
   {
    "duration": 2,
    "start_time": "2021-07-16T16:39:26.121Z"
   },
   {
    "duration": 5,
    "start_time": "2021-07-16T16:39:26.125Z"
   },
   {
    "duration": 5563,
    "start_time": "2021-07-16T16:39:26.131Z"
   },
   {
    "duration": 62,
    "start_time": "2021-07-16T16:39:31.634Z"
   },
   {
    "duration": 59,
    "start_time": "2021-07-16T16:39:31.638Z"
   },
   {
    "duration": 50,
    "start_time": "2021-07-16T16:39:31.648Z"
   },
   {
    "duration": 47,
    "start_time": "2021-07-16T16:39:31.651Z"
   },
   {
    "duration": 14,
    "start_time": "2021-07-16T16:43:33.690Z"
   },
   {
    "duration": 921,
    "start_time": "2021-07-17T03:42:15.963Z"
   },
   {
    "duration": 606,
    "start_time": "2021-07-17T03:42:16.887Z"
   },
   {
    "duration": 4,
    "start_time": "2021-07-17T03:42:17.497Z"
   },
   {
    "duration": 1070,
    "start_time": "2021-07-17T03:42:17.504Z"
   },
   {
    "duration": 159,
    "start_time": "2021-07-17T03:42:18.577Z"
   },
   {
    "duration": 3,
    "start_time": "2021-07-17T03:42:18.739Z"
   },
   {
    "duration": 68,
    "start_time": "2021-07-17T03:42:18.745Z"
   },
   {
    "duration": 606,
    "start_time": "2021-07-17T03:42:18.817Z"
   },
   {
    "duration": 747,
    "start_time": "2021-07-17T03:42:19.426Z"
   },
   {
    "duration": 350,
    "start_time": "2021-07-17T03:42:20.175Z"
   },
   {
    "duration": 15,
    "start_time": "2021-07-17T03:42:20.527Z"
   },
   {
    "duration": 90,
    "start_time": "2021-07-17T03:42:20.544Z"
   },
   {
    "duration": 13,
    "start_time": "2021-07-17T03:42:20.637Z"
   },
   {
    "duration": 16,
    "start_time": "2021-07-17T03:42:20.652Z"
   },
   {
    "duration": 738,
    "start_time": "2021-07-17T03:42:20.670Z"
   },
   {
    "duration": 69,
    "start_time": "2021-07-17T03:42:21.410Z"
   },
   {
    "duration": 38,
    "start_time": "2021-07-17T03:42:21.482Z"
   },
   {
    "duration": 7,
    "start_time": "2021-07-17T03:42:21.522Z"
   },
   {
    "duration": 4,
    "start_time": "2021-07-17T03:42:21.531Z"
   },
   {
    "duration": 77,
    "start_time": "2021-07-17T03:42:21.538Z"
   },
   {
    "duration": 692,
    "start_time": "2021-07-17T03:42:21.618Z"
   },
   {
    "duration": 42,
    "start_time": "2021-07-17T03:42:22.312Z"
   },
   {
    "duration": 233,
    "start_time": "2021-07-17T03:42:22.359Z"
   },
   {
    "duration": 59,
    "start_time": "2021-07-17T03:42:22.600Z"
   },
   {
    "duration": 298,
    "start_time": "2021-07-17T03:42:22.661Z"
   },
   {
    "duration": 6,
    "start_time": "2021-07-17T03:42:22.961Z"
   },
   {
    "duration": 46,
    "start_time": "2021-07-17T03:42:22.969Z"
   },
   {
    "duration": 24,
    "start_time": "2021-07-17T03:42:23.017Z"
   },
   {
    "duration": 25,
    "start_time": "2021-07-17T03:42:23.043Z"
   },
   {
    "duration": 45,
    "start_time": "2021-07-17T03:42:23.070Z"
   },
   {
    "duration": 26,
    "start_time": "2021-07-17T03:42:23.117Z"
   },
   {
    "duration": 24,
    "start_time": "2021-07-17T03:42:23.145Z"
   },
   {
    "duration": 112,
    "start_time": "2021-07-17T03:42:23.171Z"
   },
   {
    "duration": 171,
    "start_time": "2021-07-17T03:42:23.300Z"
   },
   {
    "duration": 86,
    "start_time": "2021-07-17T03:42:23.473Z"
   },
   {
    "duration": 6,
    "start_time": "2021-07-17T03:42:23.561Z"
   },
   {
    "duration": 46,
    "start_time": "2021-07-17T03:42:23.569Z"
   },
   {
    "duration": 194,
    "start_time": "2021-07-17T03:42:23.617Z"
   },
   {
    "duration": 4,
    "start_time": "2021-07-17T03:42:23.813Z"
   },
   {
    "duration": 6,
    "start_time": "2021-07-17T03:42:23.820Z"
   },
   {
    "duration": 6532,
    "start_time": "2021-07-17T03:42:23.828Z"
   },
   {
    "duration": -302,
    "start_time": "2021-07-17T03:42:30.664Z"
   },
   {
    "duration": -315,
    "start_time": "2021-07-17T03:42:30.679Z"
   },
   {
    "duration": -330,
    "start_time": "2021-07-17T03:42:30.695Z"
   },
   {
    "duration": -355,
    "start_time": "2021-07-17T03:42:30.721Z"
   },
   {
    "duration": 5,
    "start_time": "2021-07-17T04:20:14.378Z"
   },
   {
    "duration": 6,
    "start_time": "2021-07-17T04:20:19.230Z"
   },
   {
    "duration": 175,
    "start_time": "2021-07-17T04:20:31.022Z"
   },
   {
    "duration": 150,
    "start_time": "2021-07-17T04:21:15.291Z"
   },
   {
    "duration": 143,
    "start_time": "2021-07-17T04:22:08.411Z"
   },
   {
    "duration": 140,
    "start_time": "2021-07-17T04:23:10.099Z"
   },
   {
    "duration": 139,
    "start_time": "2021-07-17T04:25:54.134Z"
   },
   {
    "duration": 141,
    "start_time": "2021-07-17T04:25:58.940Z"
   },
   {
    "duration": 161,
    "start_time": "2021-07-17T04:26:04.757Z"
   },
   {
    "duration": 138,
    "start_time": "2021-07-17T04:26:13.764Z"
   },
   {
    "duration": 52,
    "start_time": "2021-07-17T04:28:17.728Z"
   },
   {
    "duration": 8,
    "start_time": "2021-07-17T11:18:03.492Z"
   },
   {
    "duration": 6,
    "start_time": "2021-07-17T11:18:26.128Z"
   },
   {
    "duration": 7,
    "start_time": "2021-07-17T11:18:33.240Z"
   },
   {
    "duration": 4115,
    "start_time": "2021-07-17T11:19:45.481Z"
   },
   {
    "duration": 418,
    "start_time": "2021-07-17T11:20:09.961Z"
   },
   {
    "duration": 282,
    "start_time": "2021-07-17T11:20:13.521Z"
   },
   {
    "duration": 7,
    "start_time": "2021-07-17T11:20:45.329Z"
   },
   {
    "duration": 7,
    "start_time": "2021-07-17T11:21:33.986Z"
   },
   {
    "duration": 54,
    "start_time": "2021-07-17T11:22:25.179Z"
   },
   {
    "duration": 9,
    "start_time": "2021-07-17T11:22:25.434Z"
   },
   {
    "duration": 8,
    "start_time": "2021-07-17T11:22:40.323Z"
   },
   {
    "duration": 4205,
    "start_time": "2021-07-17T11:22:54.100Z"
   },
   {
    "duration": 8414,
    "start_time": "2021-07-17T11:23:17.676Z"
   },
   {
    "duration": 6,
    "start_time": "2021-07-17T11:24:08.069Z"
   },
   {
    "duration": 75,
    "start_time": "2021-07-17T11:35:52.057Z"
   },
   {
    "duration": 72,
    "start_time": "2021-07-17T11:36:50.852Z"
   },
   {
    "duration": 387,
    "start_time": "2021-07-17T11:37:14.003Z"
   },
   {
    "duration": 68,
    "start_time": "2021-07-17T11:37:23.051Z"
   },
   {
    "duration": 372,
    "start_time": "2021-07-17T11:40:49.993Z"
   },
   {
    "duration": 50,
    "start_time": "2021-07-17T11:41:13.249Z"
   },
   {
    "duration": 395,
    "start_time": "2021-07-17T11:41:31.240Z"
   },
   {
    "duration": 72,
    "start_time": "2021-07-17T11:41:40.360Z"
   },
   {
    "duration": 433,
    "start_time": "2021-07-17T11:43:26.913Z"
   },
   {
    "duration": 1193,
    "start_time": "2021-07-17T11:44:41.068Z"
   },
   {
    "duration": 591,
    "start_time": "2021-07-17T11:44:42.265Z"
   },
   {
    "duration": 4,
    "start_time": "2021-07-17T11:44:42.860Z"
   },
   {
    "duration": 1127,
    "start_time": "2021-07-17T11:44:42.866Z"
   },
   {
    "duration": 170,
    "start_time": "2021-07-17T11:44:43.995Z"
   },
   {
    "duration": 4,
    "start_time": "2021-07-17T11:44:44.168Z"
   },
   {
    "duration": 74,
    "start_time": "2021-07-17T11:44:44.174Z"
   },
   {
    "duration": 633,
    "start_time": "2021-07-17T11:44:44.252Z"
   },
   {
    "duration": 786,
    "start_time": "2021-07-17T11:44:44.889Z"
   },
   {
    "duration": 374,
    "start_time": "2021-07-17T11:44:45.677Z"
   },
   {
    "duration": 16,
    "start_time": "2021-07-17T11:44:46.053Z"
   },
   {
    "duration": 91,
    "start_time": "2021-07-17T11:44:46.072Z"
   },
   {
    "duration": 39,
    "start_time": "2021-07-17T11:44:46.166Z"
   },
   {
    "duration": 20,
    "start_time": "2021-07-17T11:44:46.208Z"
   },
   {
    "duration": 935,
    "start_time": "2021-07-17T11:44:46.231Z"
   },
   {
    "duration": 74,
    "start_time": "2021-07-17T11:44:47.168Z"
   },
   {
    "duration": 22,
    "start_time": "2021-07-17T11:44:47.245Z"
   },
   {
    "duration": 13,
    "start_time": "2021-07-17T11:44:47.270Z"
   },
   {
    "duration": 19,
    "start_time": "2021-07-17T11:44:47.286Z"
   },
   {
    "duration": 57,
    "start_time": "2021-07-17T11:44:47.307Z"
   },
   {
    "duration": 885,
    "start_time": "2021-07-17T11:44:47.367Z"
   },
   {
    "duration": 53,
    "start_time": "2021-07-17T11:44:48.255Z"
   },
   {
    "duration": 225,
    "start_time": "2021-07-17T11:44:48.313Z"
   },
   {
    "duration": 70,
    "start_time": "2021-07-17T11:44:48.541Z"
   },
   {
    "duration": 303,
    "start_time": "2021-07-17T11:44:48.614Z"
   },
   {
    "duration": 6,
    "start_time": "2021-07-17T11:44:48.920Z"
   },
   {
    "duration": 31,
    "start_time": "2021-07-17T11:44:48.928Z"
   },
   {
    "duration": 46,
    "start_time": "2021-07-17T11:44:48.961Z"
   },
   {
    "duration": 26,
    "start_time": "2021-07-17T11:44:49.010Z"
   },
   {
    "duration": 23,
    "start_time": "2021-07-17T11:44:49.038Z"
   },
   {
    "duration": 53,
    "start_time": "2021-07-17T11:44:49.063Z"
   },
   {
    "duration": 24,
    "start_time": "2021-07-17T11:44:49.119Z"
   },
   {
    "duration": 113,
    "start_time": "2021-07-17T11:44:49.145Z"
   },
   {
    "duration": 180,
    "start_time": "2021-07-17T11:44:49.260Z"
   },
   {
    "duration": 22,
    "start_time": "2021-07-17T11:44:49.443Z"
   },
   {
    "duration": 35,
    "start_time": "2021-07-17T11:44:49.467Z"
   },
   {
    "duration": 91,
    "start_time": "2021-07-17T11:44:49.505Z"
   },
   {
    "duration": -185,
    "start_time": "2021-07-17T11:44:49.783Z"
   },
   {
    "duration": -191,
    "start_time": "2021-07-17T11:44:49.791Z"
   },
   {
    "duration": -197,
    "start_time": "2021-07-17T11:44:49.798Z"
   },
   {
    "duration": -202,
    "start_time": "2021-07-17T11:44:49.804Z"
   },
   {
    "duration": -208,
    "start_time": "2021-07-17T11:44:49.812Z"
   },
   {
    "duration": -213,
    "start_time": "2021-07-17T11:44:49.818Z"
   },
   {
    "duration": -220,
    "start_time": "2021-07-17T11:44:49.826Z"
   },
   {
    "duration": -225,
    "start_time": "2021-07-17T11:44:49.833Z"
   },
   {
    "duration": -245,
    "start_time": "2021-07-17T11:44:49.854Z"
   },
   {
    "duration": -252,
    "start_time": "2021-07-17T11:44:49.862Z"
   },
   {
    "duration": -257,
    "start_time": "2021-07-17T11:44:49.869Z"
   },
   {
    "duration": -263,
    "start_time": "2021-07-17T11:44:49.876Z"
   },
   {
    "duration": -270,
    "start_time": "2021-07-17T11:44:49.884Z"
   },
   {
    "duration": -287,
    "start_time": "2021-07-17T11:44:49.903Z"
   },
   {
    "duration": -294,
    "start_time": "2021-07-17T11:44:49.911Z"
   },
   {
    "duration": -303,
    "start_time": "2021-07-17T11:44:49.921Z"
   },
   {
    "duration": -311,
    "start_time": "2021-07-17T11:44:49.931Z"
   },
   {
    "duration": 580,
    "start_time": "2021-07-17T11:45:10.295Z"
   },
   {
    "duration": 21,
    "start_time": "2021-07-17T11:45:37.246Z"
   },
   {
    "duration": 253,
    "start_time": "2021-07-17T11:45:51.529Z"
   },
   {
    "duration": 272,
    "start_time": "2021-07-17T11:47:20.704Z"
   },
   {
    "duration": 168,
    "start_time": "2021-07-17T11:47:25.371Z"
   },
   {
    "duration": 138,
    "start_time": "2021-07-17T11:49:44.353Z"
   },
   {
    "duration": 120,
    "start_time": "2021-07-17T12:12:59.260Z"
   },
   {
    "duration": 271,
    "start_time": "2021-07-17T12:16:02.437Z"
   },
   {
    "duration": 8,
    "start_time": "2021-07-17T12:16:09.340Z"
   },
   {
    "duration": 6,
    "start_time": "2021-07-17T12:17:29.928Z"
   },
   {
    "duration": 6,
    "start_time": "2021-07-17T12:17:56.166Z"
   },
   {
    "duration": 814,
    "start_time": "2021-07-17T16:46:07.057Z"
   },
   {
    "duration": 577,
    "start_time": "2021-07-17T16:46:07.874Z"
   },
   {
    "duration": 4,
    "start_time": "2021-07-17T16:46:08.455Z"
   },
   {
    "duration": 1074,
    "start_time": "2021-07-17T16:46:08.462Z"
   },
   {
    "duration": 161,
    "start_time": "2021-07-17T16:46:09.539Z"
   },
   {
    "duration": 3,
    "start_time": "2021-07-17T16:46:09.703Z"
   },
   {
    "duration": 54,
    "start_time": "2021-07-17T16:46:09.709Z"
   },
   {
    "duration": 659,
    "start_time": "2021-07-17T16:46:09.767Z"
   },
   {
    "duration": 755,
    "start_time": "2021-07-17T16:46:10.429Z"
   },
   {
    "duration": 371,
    "start_time": "2021-07-17T16:46:11.187Z"
   },
   {
    "duration": 15,
    "start_time": "2021-07-17T16:46:11.560Z"
   },
   {
    "duration": 82,
    "start_time": "2021-07-17T16:46:11.577Z"
   },
   {
    "duration": 13,
    "start_time": "2021-07-17T16:46:11.662Z"
   },
   {
    "duration": 36,
    "start_time": "2021-07-17T16:46:11.677Z"
   },
   {
    "duration": 784,
    "start_time": "2021-07-17T16:46:11.716Z"
   },
   {
    "duration": 66,
    "start_time": "2021-07-17T16:46:12.503Z"
   },
   {
    "duration": 36,
    "start_time": "2021-07-17T16:46:12.572Z"
   },
   {
    "duration": 9,
    "start_time": "2021-07-17T16:46:12.610Z"
   },
   {
    "duration": 5,
    "start_time": "2021-07-17T16:46:12.622Z"
   },
   {
    "duration": 46,
    "start_time": "2021-07-17T16:46:12.630Z"
   },
   {
    "duration": 673,
    "start_time": "2021-07-17T16:46:12.701Z"
   },
   {
    "duration": 54,
    "start_time": "2021-07-17T16:46:13.377Z"
   },
   {
    "duration": 204,
    "start_time": "2021-07-17T16:46:13.437Z"
   },
   {
    "duration": 67,
    "start_time": "2021-07-17T16:46:13.644Z"
   },
   {
    "duration": 294,
    "start_time": "2021-07-17T16:46:13.714Z"
   },
   {
    "duration": 5,
    "start_time": "2021-07-17T16:46:14.011Z"
   },
   {
    "duration": 35,
    "start_time": "2021-07-17T16:46:14.019Z"
   },
   {
    "duration": 31,
    "start_time": "2021-07-17T16:46:14.056Z"
   },
   {
    "duration": 30,
    "start_time": "2021-07-17T16:46:14.089Z"
   },
   {
    "duration": 22,
    "start_time": "2021-07-17T16:46:14.121Z"
   },
   {
    "duration": 54,
    "start_time": "2021-07-17T16:46:14.146Z"
   },
   {
    "duration": 22,
    "start_time": "2021-07-17T16:46:14.202Z"
   },
   {
    "duration": 107,
    "start_time": "2021-07-17T16:46:14.226Z"
   },
   {
    "duration": 170,
    "start_time": "2021-07-17T16:46:14.335Z"
   },
   {
    "duration": 22,
    "start_time": "2021-07-17T16:46:14.507Z"
   },
   {
    "duration": 20,
    "start_time": "2021-07-17T16:46:14.532Z"
   },
   {
    "duration": 48,
    "start_time": "2021-07-17T16:46:14.554Z"
   },
   {
    "duration": 140,
    "start_time": "2021-07-17T16:46:14.605Z"
   },
   {
    "duration": 6,
    "start_time": "2021-07-17T16:46:14.748Z"
   },
   {
    "duration": 8,
    "start_time": "2021-07-17T16:46:14.756Z"
   },
   {
    "duration": 389,
    "start_time": "2021-07-17T16:46:14.767Z"
   },
   {
    "duration": -12,
    "start_time": "2021-07-17T16:46:15.170Z"
   },
   {
    "duration": -14,
    "start_time": "2021-07-17T16:46:15.174Z"
   },
   {
    "duration": -16,
    "start_time": "2021-07-17T16:46:15.177Z"
   },
   {
    "duration": -22,
    "start_time": "2021-07-17T16:46:15.185Z"
   },
   {
    "duration": -24,
    "start_time": "2021-07-17T16:46:15.189Z"
   },
   {
    "duration": -25,
    "start_time": "2021-07-17T16:46:15.191Z"
   },
   {
    "duration": -26,
    "start_time": "2021-07-17T16:46:15.194Z"
   },
   {
    "duration": -28,
    "start_time": "2021-07-17T16:46:15.197Z"
   },
   {
    "duration": -29,
    "start_time": "2021-07-17T16:46:15.200Z"
   },
   {
    "duration": -31,
    "start_time": "2021-07-17T16:46:15.203Z"
   },
   {
    "duration": -38,
    "start_time": "2021-07-17T16:46:15.212Z"
   },
   {
    "duration": -40,
    "start_time": "2021-07-17T16:46:15.215Z"
   },
   {
    "duration": -41,
    "start_time": "2021-07-17T16:46:15.218Z"
   },
   {
    "duration": -43,
    "start_time": "2021-07-17T16:46:15.221Z"
   },
   {
    "duration": -44,
    "start_time": "2021-07-17T16:46:15.224Z"
   },
   {
    "duration": -46,
    "start_time": "2021-07-17T16:46:15.227Z"
   },
   {
    "duration": -47,
    "start_time": "2021-07-17T16:46:15.230Z"
   },
   {
    "duration": 640,
    "start_time": "2021-07-18T00:42:47.680Z"
   },
   {
    "duration": 459,
    "start_time": "2021-07-18T00:42:48.322Z"
   },
   {
    "duration": 3,
    "start_time": "2021-07-18T00:42:48.783Z"
   },
   {
    "duration": 711,
    "start_time": "2021-07-18T00:42:48.788Z"
   },
   {
    "duration": 109,
    "start_time": "2021-07-18T00:42:49.501Z"
   },
   {
    "duration": 2,
    "start_time": "2021-07-18T00:42:49.612Z"
   },
   {
    "duration": 29,
    "start_time": "2021-07-18T00:42:49.615Z"
   },
   {
    "duration": 415,
    "start_time": "2021-07-18T00:42:49.646Z"
   },
   {
    "duration": 506,
    "start_time": "2021-07-18T00:42:50.063Z"
   },
   {
    "duration": 237,
    "start_time": "2021-07-18T00:42:50.570Z"
   },
   {
    "duration": 8,
    "start_time": "2021-07-18T00:42:50.809Z"
   },
   {
    "duration": 43,
    "start_time": "2021-07-18T00:42:50.819Z"
   },
   {
    "duration": 7,
    "start_time": "2021-07-18T00:42:50.864Z"
   },
   {
    "duration": 11,
    "start_time": "2021-07-18T00:42:50.892Z"
   },
   {
    "duration": 514,
    "start_time": "2021-07-18T00:42:50.904Z"
   },
   {
    "duration": 47,
    "start_time": "2021-07-18T00:42:51.420Z"
   },
   {
    "duration": 22,
    "start_time": "2021-07-18T00:42:51.469Z"
   },
   {
    "duration": 4,
    "start_time": "2021-07-18T00:42:51.492Z"
   },
   {
    "duration": 4,
    "start_time": "2021-07-18T00:42:51.497Z"
   },
   {
    "duration": 28,
    "start_time": "2021-07-18T00:42:51.503Z"
   },
   {
    "duration": 502,
    "start_time": "2021-07-18T00:42:51.532Z"
   },
   {
    "duration": 26,
    "start_time": "2021-07-18T00:42:52.035Z"
   },
   {
    "duration": 131,
    "start_time": "2021-07-18T00:42:52.065Z"
   },
   {
    "duration": 33,
    "start_time": "2021-07-18T00:42:52.199Z"
   },
   {
    "duration": 175,
    "start_time": "2021-07-18T00:42:52.234Z"
   },
   {
    "duration": 4,
    "start_time": "2021-07-18T00:42:52.410Z"
   },
   {
    "duration": 17,
    "start_time": "2021-07-18T00:42:52.415Z"
   },
   {
    "duration": 17,
    "start_time": "2021-07-18T00:42:52.434Z"
   },
   {
    "duration": 16,
    "start_time": "2021-07-18T00:42:52.452Z"
   },
   {
    "duration": 15,
    "start_time": "2021-07-18T00:42:52.491Z"
   },
   {
    "duration": 18,
    "start_time": "2021-07-18T00:42:52.507Z"
   },
   {
    "duration": 16,
    "start_time": "2021-07-18T00:42:52.526Z"
   },
   {
    "duration": 76,
    "start_time": "2021-07-18T00:42:52.543Z"
   },
   {
    "duration": 117,
    "start_time": "2021-07-18T00:42:52.621Z"
   },
   {
    "duration": 14,
    "start_time": "2021-07-18T00:42:52.740Z"
   },
   {
    "duration": 16,
    "start_time": "2021-07-18T00:42:52.755Z"
   },
   {
    "duration": 24,
    "start_time": "2021-07-18T00:42:52.772Z"
   },
   {
    "duration": 85,
    "start_time": "2021-07-18T00:42:52.798Z"
   },
   {
    "duration": 8,
    "start_time": "2021-07-18T00:42:52.885Z"
   },
   {
    "duration": 7,
    "start_time": "2021-07-18T00:42:52.894Z"
   },
   {
    "duration": 327,
    "start_time": "2021-07-18T00:42:52.902Z"
   },
   {
    "duration": 1367,
    "start_time": "2021-07-18T00:42:51.864Z"
   },
   {
    "duration": 1365,
    "start_time": "2021-07-18T00:42:51.867Z"
   },
   {
    "duration": 1362,
    "start_time": "2021-07-18T00:42:51.870Z"
   },
   {
    "duration": 1360,
    "start_time": "2021-07-18T00:42:51.873Z"
   },
   {
    "duration": 1359,
    "start_time": "2021-07-18T00:42:51.875Z"
   },
   {
    "duration": 1357,
    "start_time": "2021-07-18T00:42:51.878Z"
   },
   {
    "duration": 1347,
    "start_time": "2021-07-18T00:42:51.888Z"
   },
   {
    "duration": 1345,
    "start_time": "2021-07-18T00:42:51.891Z"
   },
   {
    "duration": 1343,
    "start_time": "2021-07-18T00:42:51.894Z"
   },
   {
    "duration": 1341,
    "start_time": "2021-07-18T00:42:51.897Z"
   },
   {
    "duration": 1340,
    "start_time": "2021-07-18T00:42:51.899Z"
   },
   {
    "duration": 1338,
    "start_time": "2021-07-18T00:42:51.902Z"
   },
   {
    "duration": 1335,
    "start_time": "2021-07-18T00:42:51.905Z"
   },
   {
    "duration": 1333,
    "start_time": "2021-07-18T00:42:51.908Z"
   },
   {
    "duration": 1331,
    "start_time": "2021-07-18T00:42:51.911Z"
   },
   {
    "duration": 1330,
    "start_time": "2021-07-18T00:42:51.913Z"
   },
   {
    "duration": 1328,
    "start_time": "2021-07-18T00:42:51.916Z"
   },
   {
    "duration": 281,
    "start_time": "2021-07-18T00:45:41.047Z"
   },
   {
    "duration": 4,
    "start_time": "2021-07-18T00:45:50.095Z"
   },
   {
    "duration": 220,
    "start_time": "2021-07-18T00:46:05.543Z"
   },
   {
    "duration": 4,
    "start_time": "2021-07-18T00:46:13.398Z"
   },
   {
    "duration": 4,
    "start_time": "2021-07-18T00:46:17.879Z"
   },
   {
    "duration": 8,
    "start_time": "2021-07-18T00:57:55.395Z"
   },
   {
    "duration": 6,
    "start_time": "2021-07-18T00:58:19.658Z"
   },
   {
    "duration": 7,
    "start_time": "2021-07-18T00:58:34.418Z"
   },
   {
    "duration": 4,
    "start_time": "2021-07-18T00:58:43.203Z"
   },
   {
    "duration": 12,
    "start_time": "2021-07-18T00:59:05.010Z"
   },
   {
    "duration": 5,
    "start_time": "2021-07-18T00:59:17.137Z"
   },
   {
    "duration": 5,
    "start_time": "2021-07-18T00:59:30.930Z"
   },
   {
    "duration": 4,
    "start_time": "2021-07-18T00:59:43.779Z"
   },
   {
    "duration": 5,
    "start_time": "2021-07-18T00:59:50.170Z"
   },
   {
    "duration": 248,
    "start_time": "2021-07-18T01:06:08.955Z"
   },
   {
    "duration": 218,
    "start_time": "2021-07-18T01:06:13.949Z"
   },
   {
    "duration": 5,
    "start_time": "2021-07-18T01:06:33.843Z"
   },
   {
    "duration": 222,
    "start_time": "2021-07-18T01:06:44.899Z"
   },
   {
    "duration": 4,
    "start_time": "2021-07-18T01:06:50.780Z"
   },
   {
    "duration": 5,
    "start_time": "2021-07-18T01:11:32.588Z"
   },
   {
    "duration": 6,
    "start_time": "2021-07-18T01:11:40.484Z"
   },
   {
    "duration": 5,
    "start_time": "2021-07-18T01:11:51.156Z"
   },
   {
    "duration": 6,
    "start_time": "2021-07-18T01:15:57.581Z"
   },
   {
    "duration": 7,
    "start_time": "2021-07-18T01:16:09.229Z"
   },
   {
    "duration": 5,
    "start_time": "2021-07-18T01:16:13.256Z"
   },
   {
    "duration": 6,
    "start_time": "2021-07-18T01:16:16.244Z"
   },
   {
    "duration": 69,
    "start_time": "2021-07-18T01:16:21.677Z"
   },
   {
    "duration": 6,
    "start_time": "2021-07-18T01:16:26.285Z"
   },
   {
    "duration": 231,
    "start_time": "2021-07-18T01:17:06.485Z"
   },
   {
    "duration": 316,
    "start_time": "2021-07-18T01:17:16.236Z"
   },
   {
    "duration": 6,
    "start_time": "2021-07-18T01:17:22.741Z"
   },
   {
    "duration": 3,
    "start_time": "2021-07-18T01:18:51.390Z"
   },
   {
    "duration": 3,
    "start_time": "2021-07-18T01:18:58.286Z"
   },
   {
    "duration": 216,
    "start_time": "2021-07-18T01:19:49.837Z"
   },
   {
    "duration": 295,
    "start_time": "2021-07-18T01:19:58.478Z"
   },
   {
    "duration": 226,
    "start_time": "2021-07-18T01:20:19.398Z"
   },
   {
    "duration": 4,
    "start_time": "2021-07-18T01:20:25.278Z"
   },
   {
    "duration": 4,
    "start_time": "2021-07-18T01:20:36.726Z"
   },
   {
    "duration": 4,
    "start_time": "2021-07-18T01:20:56.206Z"
   },
   {
    "duration": 5736,
    "start_time": "2021-07-18T01:24:10.727Z"
   },
   {
    "duration": 5817,
    "start_time": "2021-07-18T01:24:41.536Z"
   },
   {
    "duration": 23,
    "start_time": "2021-07-18T01:25:02.616Z"
   },
   {
    "duration": 5410,
    "start_time": "2021-07-18T01:25:44.168Z"
   },
   {
    "duration": 4,
    "start_time": "2021-07-18T01:26:37.224Z"
   },
   {
    "duration": 3,
    "start_time": "2021-07-18T01:26:39.104Z"
   },
   {
    "duration": 4,
    "start_time": "2021-07-18T01:31:58.938Z"
   },
   {
    "duration": 14668,
    "start_time": "2021-07-18T01:36:22.137Z"
   },
   {
    "duration": 5,
    "start_time": "2021-07-18T01:36:49.121Z"
   },
   {
    "duration": 14440,
    "start_time": "2021-07-18T01:41:24.899Z"
   },
   {
    "duration": 5,
    "start_time": "2021-07-18T01:41:42.683Z"
   },
   {
    "duration": 6,
    "start_time": "2021-07-18T01:41:46.794Z"
   },
   {
    "duration": 12,
    "start_time": "2021-07-18T01:43:11.235Z"
   },
   {
    "duration": 24,
    "start_time": "2021-07-18T01:43:15.356Z"
   },
   {
    "duration": 17,
    "start_time": "2021-07-18T01:43:31.871Z"
   },
   {
    "duration": 5,
    "start_time": "2021-07-18T01:44:20.532Z"
   },
   {
    "duration": 3,
    "start_time": "2021-07-18T01:47:14.636Z"
   },
   {
    "duration": 7470,
    "start_time": "2021-07-18T01:47:17.324Z"
   },
   {
    "duration": 4,
    "start_time": "2021-07-18T01:47:39.484Z"
   },
   {
    "duration": 4,
    "start_time": "2021-07-18T01:47:57.252Z"
   },
   {
    "duration": 5,
    "start_time": "2021-07-18T01:48:09.181Z"
   },
   {
    "duration": 21,
    "start_time": "2021-07-18T01:48:22.988Z"
   },
   {
    "duration": 5,
    "start_time": "2021-07-18T01:48:35.733Z"
   },
   {
    "duration": 12,
    "start_time": "2021-07-18T01:51:03.980Z"
   },
   {
    "duration": 5,
    "start_time": "2021-07-18T01:51:15.669Z"
   },
   {
    "duration": 5,
    "start_time": "2021-07-18T01:51:35.516Z"
   },
   {
    "duration": 13,
    "start_time": "2021-07-18T01:51:36.013Z"
   },
   {
    "duration": 13,
    "start_time": "2021-07-18T01:52:15.685Z"
   },
   {
    "duration": 4,
    "start_time": "2021-07-18T01:52:18.109Z"
   },
   {
    "duration": 4,
    "start_time": "2021-07-18T01:53:45.357Z"
   },
   {
    "duration": 15541,
    "start_time": "2021-07-18T01:53:48.646Z"
   },
   {
    "duration": 14,
    "start_time": "2021-07-18T01:54:07.886Z"
   },
   {
    "duration": 7,
    "start_time": "2021-07-18T01:54:47.893Z"
   },
   {
    "duration": 8,
    "start_time": "2021-07-18T01:55:13.230Z"
   },
   {
    "duration": 232,
    "start_time": "2021-07-18T01:55:44.509Z"
   },
   {
    "duration": 6,
    "start_time": "2021-07-18T01:55:55.502Z"
   },
   {
    "duration": 4,
    "start_time": "2021-07-18T01:56:01.333Z"
   },
   {
    "duration": 5,
    "start_time": "2021-07-18T01:58:43.958Z"
   },
   {
    "duration": 5,
    "start_time": "2021-07-18T01:58:53.805Z"
   },
   {
    "duration": 4,
    "start_time": "2021-07-18T01:59:46.518Z"
   },
   {
    "duration": 19172,
    "start_time": "2021-07-18T01:59:50.254Z"
   },
   {
    "duration": 13,
    "start_time": "2021-07-18T02:00:14.776Z"
   },
   {
    "duration": 13,
    "start_time": "2021-07-18T02:00:21.223Z"
   },
   {
    "duration": 14,
    "start_time": "2021-07-18T02:00:59.831Z"
   },
   {
    "duration": 246,
    "start_time": "2021-07-18T02:06:04.785Z"
   },
   {
    "duration": 12,
    "start_time": "2021-07-18T02:06:24.537Z"
   },
   {
    "duration": 14,
    "start_time": "2021-07-18T02:07:40.840Z"
   },
   {
    "duration": 30,
    "start_time": "2021-07-18T02:08:09.736Z"
   },
   {
    "duration": 5321,
    "start_time": "2021-07-18T02:09:26.449Z"
   },
   {
    "duration": 15,
    "start_time": "2021-07-18T02:10:07.920Z"
   },
   {
    "duration": 15,
    "start_time": "2021-07-18T02:10:13.360Z"
   },
   {
    "duration": 13,
    "start_time": "2021-07-18T02:10:33.401Z"
   },
   {
    "duration": 257,
    "start_time": "2021-07-18T02:12:00.160Z"
   },
   {
    "duration": 244,
    "start_time": "2021-07-18T02:12:13.388Z"
   },
   {
    "duration": 23,
    "start_time": "2021-07-18T02:12:43.449Z"
   },
   {
    "duration": 6,
    "start_time": "2021-07-18T02:13:04.817Z"
   },
   {
    "duration": 14,
    "start_time": "2021-07-18T02:13:14.321Z"
   },
   {
    "duration": 6,
    "start_time": "2021-07-18T02:13:19.633Z"
   },
   {
    "duration": 13,
    "start_time": "2021-07-18T02:13:28.090Z"
   },
   {
    "duration": 22,
    "start_time": "2021-07-18T02:17:25.962Z"
   },
   {
    "duration": 214,
    "start_time": "2021-07-18T02:20:14.779Z"
   },
   {
    "duration": 20,
    "start_time": "2021-07-18T02:20:20.437Z"
   },
   {
    "duration": 28,
    "start_time": "2021-07-18T02:20:22.905Z"
   },
   {
    "duration": 18528,
    "start_time": "2021-07-18T02:21:29.378Z"
   },
   {
    "duration": 27,
    "start_time": "2021-07-18T02:21:51.347Z"
   },
   {
    "duration": 7,
    "start_time": "2021-07-18T02:22:52.123Z"
   },
   {
    "duration": 12,
    "start_time": "2021-07-18T02:23:30.972Z"
   },
   {
    "duration": 5376,
    "start_time": "2021-07-18T02:23:38.130Z"
   },
   {
    "duration": 17,
    "start_time": "2021-07-18T02:23:58.220Z"
   },
   {
    "duration": 60,
    "start_time": "2021-07-18T02:31:16.501Z"
   },
   {
    "duration": 4,
    "start_time": "2021-07-18T02:32:32.861Z"
   },
   {
    "duration": 4,
    "start_time": "2021-07-18T02:33:09.444Z"
   },
   {
    "duration": 94,
    "start_time": "2021-07-18T02:40:28.822Z"
   },
   {
    "duration": 231,
    "start_time": "2021-07-18T02:41:43.726Z"
   },
   {
    "duration": 13,
    "start_time": "2021-07-18T02:41:47.830Z"
   },
   {
    "duration": 116,
    "start_time": "2021-07-18T02:42:25.927Z"
   },
   {
    "duration": 115,
    "start_time": "2021-07-18T03:23:19.359Z"
   },
   {
    "duration": 12,
    "start_time": "2021-07-18T03:23:48.015Z"
   },
   {
    "duration": 15,
    "start_time": "2021-07-18T03:42:00.042Z"
   },
   {
    "duration": 14,
    "start_time": "2021-07-18T03:49:44.627Z"
   },
   {
    "duration": 118,
    "start_time": "2021-07-18T03:49:45.476Z"
   },
   {
    "duration": 239,
    "start_time": "2021-07-18T03:56:43.701Z"
   },
   {
    "duration": 4,
    "start_time": "2021-07-18T03:56:47.019Z"
   },
   {
    "duration": 437,
    "start_time": "2021-07-18T03:56:48.293Z"
   },
   {
    "duration": 3,
    "start_time": "2021-07-18T03:57:45.100Z"
   },
   {
    "duration": 438,
    "start_time": "2021-07-18T03:57:45.701Z"
   },
   {
    "duration": 3,
    "start_time": "2021-07-18T03:58:10.589Z"
   },
   {
    "duration": 448,
    "start_time": "2021-07-18T03:58:13.396Z"
   },
   {
    "duration": 2,
    "start_time": "2021-07-18T03:58:31.612Z"
   },
   {
    "duration": 3,
    "start_time": "2021-07-18T03:58:32.380Z"
   },
   {
    "duration": 426,
    "start_time": "2021-07-18T03:58:33.236Z"
   },
   {
    "duration": 3,
    "start_time": "2021-07-18T03:59:12.012Z"
   },
   {
    "duration": 4,
    "start_time": "2021-07-18T03:59:12.508Z"
   },
   {
    "duration": 3,
    "start_time": "2021-07-18T04:00:31.637Z"
   },
   {
    "duration": 3,
    "start_time": "2021-07-18T04:00:32.213Z"
   },
   {
    "duration": 624,
    "start_time": "2021-07-18T04:01:37.978Z"
   },
   {
    "duration": 395,
    "start_time": "2021-07-18T04:01:38.604Z"
   },
   {
    "duration": 4,
    "start_time": "2021-07-18T04:01:39.001Z"
   },
   {
    "duration": 704,
    "start_time": "2021-07-18T04:01:39.007Z"
   },
   {
    "duration": 112,
    "start_time": "2021-07-18T04:01:39.713Z"
   },
   {
    "duration": 2,
    "start_time": "2021-07-18T04:01:39.828Z"
   },
   {
    "duration": 28,
    "start_time": "2021-07-18T04:01:39.832Z"
   },
   {
    "duration": 409,
    "start_time": "2021-07-18T04:01:39.863Z"
   },
   {
    "duration": 505,
    "start_time": "2021-07-18T04:01:40.274Z"
   },
   {
    "duration": 240,
    "start_time": "2021-07-18T04:01:40.781Z"
   },
   {
    "duration": 10,
    "start_time": "2021-07-18T04:01:41.023Z"
   },
   {
    "duration": 61,
    "start_time": "2021-07-18T04:01:41.035Z"
   },
   {
    "duration": 9,
    "start_time": "2021-07-18T04:01:41.098Z"
   },
   {
    "duration": 11,
    "start_time": "2021-07-18T04:01:41.109Z"
   },
   {
    "duration": 536,
    "start_time": "2021-07-18T04:01:41.122Z"
   },
   {
    "duration": 53,
    "start_time": "2021-07-18T04:01:41.660Z"
   },
   {
    "duration": 12,
    "start_time": "2021-07-18T04:01:41.715Z"
   },
   {
    "duration": 4,
    "start_time": "2021-07-18T04:01:41.729Z"
   },
   {
    "duration": 3,
    "start_time": "2021-07-18T04:01:41.735Z"
   },
   {
    "duration": 6,
    "start_time": "2021-07-18T04:01:41.740Z"
   },
   {
    "duration": 4,
    "start_time": "2021-07-18T04:01:41.747Z"
   },
   {
    "duration": 51,
    "start_time": "2021-07-18T04:01:41.753Z"
   },
   {
    "duration": 393,
    "start_time": "2021-07-18T04:01:41.808Z"
   },
   {
    "duration": 26,
    "start_time": "2021-07-18T04:01:42.203Z"
   },
   {
    "duration": 127,
    "start_time": "2021-07-18T04:01:42.231Z"
   },
   {
    "duration": 46,
    "start_time": "2021-07-18T04:01:42.360Z"
   },
   {
    "duration": 170,
    "start_time": "2021-07-18T04:01:42.408Z"
   },
   {
    "duration": 4,
    "start_time": "2021-07-18T04:01:42.580Z"
   },
   {
    "duration": 15,
    "start_time": "2021-07-18T04:01:42.591Z"
   },
   {
    "duration": 18,
    "start_time": "2021-07-18T04:01:42.607Z"
   },
   {
    "duration": 15,
    "start_time": "2021-07-18T04:01:42.627Z"
   },
   {
    "duration": 13,
    "start_time": "2021-07-18T04:01:42.643Z"
   },
   {
    "duration": 36,
    "start_time": "2021-07-18T04:01:42.658Z"
   },
   {
    "duration": 63,
    "start_time": "2021-07-18T04:01:42.696Z"
   },
   {
    "duration": 117,
    "start_time": "2021-07-18T04:01:42.761Z"
   },
   {
    "duration": 2,
    "start_time": "2021-07-18T04:01:42.880Z"
   },
   {
    "duration": 14,
    "start_time": "2021-07-18T04:01:42.891Z"
   },
   {
    "duration": 14,
    "start_time": "2021-07-18T04:01:42.906Z"
   },
   {
    "duration": 96,
    "start_time": "2021-07-18T04:01:42.922Z"
   },
   {
    "duration": 20,
    "start_time": "2021-07-18T04:01:43.020Z"
   },
   {
    "duration": 3,
    "start_time": "2021-07-18T04:01:43.041Z"
   },
   {
    "duration": 18727,
    "start_time": "2021-07-18T04:01:43.046Z"
   },
   {
    "duration": 28,
    "start_time": "2021-07-18T04:02:01.775Z"
   },
   {
    "duration": 7,
    "start_time": "2021-07-18T04:02:01.805Z"
   },
   {
    "duration": 64,
    "start_time": "2021-07-18T04:02:01.813Z"
   },
   {
    "duration": 3,
    "start_time": "2021-07-18T04:02:01.891Z"
   },
   {
    "duration": 17,
    "start_time": "2021-07-18T04:02:01.895Z"
   },
   {
    "duration": 14,
    "start_time": "2021-07-18T04:02:01.914Z"
   },
   {
    "duration": 17,
    "start_time": "2021-07-18T04:02:01.929Z"
   },
   {
    "duration": 136,
    "start_time": "2021-07-18T04:02:01.948Z"
   },
   {
    "duration": 8,
    "start_time": "2021-07-18T04:02:02.085Z"
   },
   {
    "duration": 41,
    "start_time": "2021-07-18T04:02:02.094Z"
   },
   {
    "duration": 119,
    "start_time": "2021-07-18T04:02:02.137Z"
   },
   {
    "duration": 3,
    "start_time": "2021-07-18T04:02:02.258Z"
   },
   {
    "duration": 12,
    "start_time": "2021-07-18T04:02:02.262Z"
   },
   {
    "duration": 5455,
    "start_time": "2021-07-18T04:02:02.275Z"
   },
   {
    "duration": 1375,
    "start_time": "2021-07-18T04:02:06.357Z"
   },
   {
    "duration": 1374,
    "start_time": "2021-07-18T04:02:06.360Z"
   },
   {
    "duration": 1372,
    "start_time": "2021-07-18T04:02:06.363Z"
   },
   {
    "duration": 1369,
    "start_time": "2021-07-18T04:02:06.367Z"
   },
   {
    "duration": 20,
    "start_time": "2021-07-18T04:09:20.587Z"
   },
   {
    "duration": 5,
    "start_time": "2021-07-18T04:12:14.315Z"
   },
   {
    "duration": 24,
    "start_time": "2021-07-18T04:13:04.771Z"
   },
   {
    "duration": 4099,
    "start_time": "2021-07-18T04:13:24.148Z"
   },
   {
    "duration": 221,
    "start_time": "2021-07-18T04:13:52.220Z"
   },
   {
    "duration": 226,
    "start_time": "2021-07-18T04:14:04.812Z"
   },
   {
    "duration": 24,
    "start_time": "2021-07-18T04:14:16.532Z"
   },
   {
    "duration": 6,
    "start_time": "2021-07-18T04:14:36.933Z"
   },
   {
    "duration": 4019,
    "start_time": "2021-07-18T04:14:57.020Z"
   },
   {
    "duration": 226,
    "start_time": "2021-07-18T04:15:24.700Z"
   },
   {
    "duration": 229,
    "start_time": "2021-07-18T04:15:36.492Z"
   },
   {
    "duration": 23,
    "start_time": "2021-07-18T04:15:49.692Z"
   },
   {
    "duration": 4,
    "start_time": "2021-07-18T04:16:25.198Z"
   },
   {
    "duration": 23,
    "start_time": "2021-07-18T04:16:44.036Z"
   },
   {
    "duration": 5,
    "start_time": "2021-07-18T04:17:32.700Z"
   },
   {
    "duration": 7,
    "start_time": "2021-07-18T04:18:44.588Z"
   },
   {
    "duration": 7,
    "start_time": "2021-07-18T04:19:03.348Z"
   },
   {
    "duration": 7,
    "start_time": "2021-07-18T04:20:18.557Z"
   },
   {
    "duration": 5,
    "start_time": "2021-07-18T04:21:07.324Z"
   },
   {
    "duration": 6,
    "start_time": "2021-07-18T04:21:12.695Z"
   },
   {
    "duration": 6684,
    "start_time": "2021-07-18T04:22:26.549Z"
   },
   {
    "duration": 6849,
    "start_time": "2021-07-18T04:22:44.654Z"
   },
   {
    "duration": 6622,
    "start_time": "2021-07-18T04:22:58.462Z"
   },
   {
    "duration": 5,
    "start_time": "2021-07-18T04:23:21.902Z"
   },
   {
    "duration": 6321,
    "start_time": "2021-07-18T04:23:34.453Z"
   },
   {
    "duration": 5,
    "start_time": "2021-07-18T04:23:50.798Z"
   },
   {
    "duration": 4,
    "start_time": "2021-07-18T04:56:02.413Z"
   },
   {
    "duration": 22853,
    "start_time": "2021-07-18T04:56:08.955Z"
   },
   {
    "duration": 17,
    "start_time": "2021-07-18T04:57:06.501Z"
   },
   {
    "duration": 7,
    "start_time": "2021-07-18T04:58:19.725Z"
   },
   {
    "duration": 60,
    "start_time": "2021-07-18T04:59:11.788Z"
   },
   {
    "duration": 241,
    "start_time": "2021-07-18T04:59:31.308Z"
   },
   {
    "duration": 949,
    "start_time": "2021-07-18T14:08:08.231Z"
   },
   {
    "duration": 686,
    "start_time": "2021-07-18T14:08:09.183Z"
   },
   {
    "duration": 4,
    "start_time": "2021-07-18T14:08:09.872Z"
   },
   {
    "duration": 1107,
    "start_time": "2021-07-18T14:08:09.879Z"
   },
   {
    "duration": 169,
    "start_time": "2021-07-18T14:08:10.988Z"
   },
   {
    "duration": 7,
    "start_time": "2021-07-18T14:08:11.160Z"
   },
   {
    "duration": 52,
    "start_time": "2021-07-18T14:08:11.169Z"
   },
   {
    "duration": 630,
    "start_time": "2021-07-18T14:08:11.224Z"
   },
   {
    "duration": 752,
    "start_time": "2021-07-18T14:08:11.857Z"
   },
   {
    "duration": 373,
    "start_time": "2021-07-18T14:08:12.612Z"
   },
   {
    "duration": 17,
    "start_time": "2021-07-18T14:08:12.987Z"
   },
   {
    "duration": 85,
    "start_time": "2021-07-18T14:08:13.007Z"
   },
   {
    "duration": 14,
    "start_time": "2021-07-18T14:08:13.094Z"
   },
   {
    "duration": 17,
    "start_time": "2021-07-18T14:08:13.111Z"
   },
   {
    "duration": 790,
    "start_time": "2021-07-18T14:08:13.130Z"
   },
   {
    "duration": 77,
    "start_time": "2021-07-18T14:08:13.922Z"
   },
   {
    "duration": 513,
    "start_time": "2021-07-18T14:08:14.001Z"
   },
   {
    "duration": -124,
    "start_time": "2021-07-18T14:08:14.643Z"
   },
   {
    "duration": -133,
    "start_time": "2021-07-18T14:08:14.654Z"
   },
   {
    "duration": -140,
    "start_time": "2021-07-18T14:08:14.662Z"
   },
   {
    "duration": -149,
    "start_time": "2021-07-18T14:08:14.673Z"
   },
   {
    "duration": -173,
    "start_time": "2021-07-18T14:08:14.699Z"
   },
   {
    "duration": -182,
    "start_time": "2021-07-18T14:08:14.709Z"
   },
   {
    "duration": -188,
    "start_time": "2021-07-18T14:08:14.717Z"
   },
   {
    "duration": -211,
    "start_time": "2021-07-18T14:08:14.741Z"
   },
   {
    "duration": -220,
    "start_time": "2021-07-18T14:08:14.751Z"
   },
   {
    "duration": -284,
    "start_time": "2021-07-18T14:08:14.817Z"
   },
   {
    "duration": -291,
    "start_time": "2021-07-18T14:08:14.825Z"
   },
   {
    "duration": -299,
    "start_time": "2021-07-18T14:08:14.834Z"
   },
   {
    "duration": -367,
    "start_time": "2021-07-18T14:08:14.904Z"
   },
   {
    "duration": -632,
    "start_time": "2021-07-18T14:08:15.170Z"
   },
   {
    "duration": -639,
    "start_time": "2021-07-18T14:08:15.179Z"
   },
   {
    "duration": -647,
    "start_time": "2021-07-18T14:08:15.188Z"
   },
   {
    "duration": -654,
    "start_time": "2021-07-18T14:08:15.196Z"
   },
   {
    "duration": -704,
    "start_time": "2021-07-18T14:08:15.248Z"
   },
   {
    "duration": -812,
    "start_time": "2021-07-18T14:08:15.357Z"
   },
   {
    "duration": -819,
    "start_time": "2021-07-18T14:08:15.365Z"
   },
   {
    "duration": -829,
    "start_time": "2021-07-18T14:08:15.377Z"
   },
   {
    "duration": -1025,
    "start_time": "2021-07-18T14:08:15.574Z"
   },
   {
    "duration": -1032,
    "start_time": "2021-07-18T14:08:15.582Z"
   },
   {
    "duration": -1038,
    "start_time": "2021-07-18T14:08:15.590Z"
   },
   {
    "duration": -1046,
    "start_time": "2021-07-18T14:08:15.599Z"
   },
   {
    "duration": -1052,
    "start_time": "2021-07-18T14:08:15.607Z"
   },
   {
    "duration": -1058,
    "start_time": "2021-07-18T14:08:15.614Z"
   },
   {
    "duration": -1054,
    "start_time": "2021-07-18T14:08:15.623Z"
   },
   {
    "duration": -1062,
    "start_time": "2021-07-18T14:08:15.632Z"
   },
   {
    "duration": -1068,
    "start_time": "2021-07-18T14:08:15.640Z"
   },
   {
    "duration": -1075,
    "start_time": "2021-07-18T14:08:15.648Z"
   },
   {
    "duration": -1082,
    "start_time": "2021-07-18T14:08:15.657Z"
   },
   {
    "duration": -1088,
    "start_time": "2021-07-18T14:08:15.664Z"
   },
   {
    "duration": -1113,
    "start_time": "2021-07-18T14:08:15.690Z"
   },
   {
    "duration": -1118,
    "start_time": "2021-07-18T14:08:15.697Z"
   },
   {
    "duration": -1125,
    "start_time": "2021-07-18T14:08:15.705Z"
   },
   {
    "duration": -1129,
    "start_time": "2021-07-18T14:08:15.711Z"
   },
   {
    "duration": -1133,
    "start_time": "2021-07-18T14:08:15.716Z"
   },
   {
    "duration": -1137,
    "start_time": "2021-07-18T14:08:15.722Z"
   },
   {
    "duration": -1141,
    "start_time": "2021-07-18T14:08:15.727Z"
   },
   {
    "duration": -1144,
    "start_time": "2021-07-18T14:08:15.732Z"
   },
   {
    "duration": -1149,
    "start_time": "2021-07-18T14:08:15.738Z"
   },
   {
    "duration": -1153,
    "start_time": "2021-07-18T14:08:15.743Z"
   },
   {
    "duration": -1158,
    "start_time": "2021-07-18T14:08:15.749Z"
   },
   {
    "duration": -1161,
    "start_time": "2021-07-18T14:08:15.754Z"
   },
   {
    "duration": -1166,
    "start_time": "2021-07-18T14:08:15.760Z"
   },
   {
    "duration": -1170,
    "start_time": "2021-07-18T14:08:15.765Z"
   },
   {
    "duration": -1174,
    "start_time": "2021-07-18T14:08:15.770Z"
   },
   {
    "duration": -1177,
    "start_time": "2021-07-18T14:08:15.775Z"
   },
   {
    "duration": -1217,
    "start_time": "2021-07-18T14:08:15.816Z"
   },
   {
    "duration": -1220,
    "start_time": "2021-07-18T14:08:15.821Z"
   },
   {
    "duration": -1225,
    "start_time": "2021-07-18T14:08:15.827Z"
   },
   {
    "duration": -1229,
    "start_time": "2021-07-18T14:08:15.832Z"
   },
   {
    "duration": -1234,
    "start_time": "2021-07-18T14:08:15.838Z"
   },
   {
    "duration": 11,
    "start_time": "2021-07-18T14:10:18.435Z"
   },
   {
    "duration": 23,
    "start_time": "2021-07-18T14:10:32.343Z"
   },
   {
    "duration": 354,
    "start_time": "2021-07-18T14:12:10.209Z"
   },
   {
    "duration": 402,
    "start_time": "2021-07-18T14:12:13.762Z"
   },
   {
    "duration": 344,
    "start_time": "2021-07-18T14:12:23.579Z"
   },
   {
    "duration": 11,
    "start_time": "2021-07-18T14:12:32.715Z"
   },
   {
    "duration": 7,
    "start_time": "2021-07-18T14:13:51.411Z"
   },
   {
    "duration": 19,
    "start_time": "2021-07-18T14:14:44.837Z"
   },
   {
    "duration": 22,
    "start_time": "2021-07-18T14:14:55.348Z"
   },
   {
    "duration": 22,
    "start_time": "2021-07-18T14:14:57.814Z"
   },
   {
    "duration": 938,
    "start_time": "2021-07-18T14:18:56.226Z"
   },
   {
    "duration": 596,
    "start_time": "2021-07-18T14:18:57.167Z"
   },
   {
    "duration": 5,
    "start_time": "2021-07-18T14:18:57.769Z"
   },
   {
    "duration": 1115,
    "start_time": "2021-07-18T14:18:57.776Z"
   },
   {
    "duration": 167,
    "start_time": "2021-07-18T14:18:58.893Z"
   },
   {
    "duration": 5,
    "start_time": "2021-07-18T14:18:59.063Z"
   },
   {
    "duration": 55,
    "start_time": "2021-07-18T14:18:59.070Z"
   },
   {
    "duration": 634,
    "start_time": "2021-07-18T14:18:59.128Z"
   },
   {
    "duration": 783,
    "start_time": "2021-07-18T14:18:59.768Z"
   },
   {
    "duration": 358,
    "start_time": "2021-07-18T14:19:00.553Z"
   },
   {
    "duration": 15,
    "start_time": "2021-07-18T14:19:00.913Z"
   },
   {
    "duration": 94,
    "start_time": "2021-07-18T14:19:00.930Z"
   },
   {
    "duration": 13,
    "start_time": "2021-07-18T14:19:01.027Z"
   },
   {
    "duration": 38,
    "start_time": "2021-07-18T14:19:01.043Z"
   },
   {
    "duration": 798,
    "start_time": "2021-07-18T14:19:01.083Z"
   },
   {
    "duration": 53,
    "start_time": "2021-07-18T14:19:01.883Z"
   },
   {
    "duration": 38,
    "start_time": "2021-07-18T14:19:01.938Z"
   },
   {
    "duration": 24,
    "start_time": "2021-07-18T14:19:01.978Z"
   },
   {
    "duration": 68,
    "start_time": "2021-07-18T14:19:02.004Z"
   },
   {
    "duration": 10,
    "start_time": "2021-07-18T14:19:02.075Z"
   },
   {
    "duration": 14,
    "start_time": "2021-07-18T14:19:02.087Z"
   },
   {
    "duration": 11,
    "start_time": "2021-07-18T14:19:02.103Z"
   },
   {
    "duration": 748,
    "start_time": "2021-07-18T14:19:02.120Z"
   },
   {
    "duration": 53,
    "start_time": "2021-07-18T14:19:02.872Z"
   },
   {
    "duration": 65,
    "start_time": "2021-07-18T14:19:02.927Z"
   },
   {
    "duration": 231,
    "start_time": "2021-07-18T14:19:02.995Z"
   },
   {
    "duration": 72,
    "start_time": "2021-07-18T14:19:03.229Z"
   },
   {
    "duration": 304,
    "start_time": "2021-07-18T14:19:03.303Z"
   },
   {
    "duration": 5,
    "start_time": "2021-07-18T14:19:03.609Z"
   },
   {
    "duration": 40,
    "start_time": "2021-07-18T14:19:03.616Z"
   },
   {
    "duration": 29,
    "start_time": "2021-07-18T14:19:03.667Z"
   },
   {
    "duration": 25,
    "start_time": "2021-07-18T14:19:03.699Z"
   },
   {
    "duration": 53,
    "start_time": "2021-07-18T14:19:03.727Z"
   },
   {
    "duration": 23,
    "start_time": "2021-07-18T14:19:03.783Z"
   },
   {
    "duration": 113,
    "start_time": "2021-07-18T14:19:03.809Z"
   },
   {
    "duration": 176,
    "start_time": "2021-07-18T14:19:03.925Z"
   },
   {
    "duration": 5,
    "start_time": "2021-07-18T14:19:04.103Z"
   },
   {
    "duration": 27,
    "start_time": "2021-07-18T14:19:04.110Z"
   },
   {
    "duration": 41,
    "start_time": "2021-07-18T14:19:04.140Z"
   },
   {
    "duration": 157,
    "start_time": "2021-07-18T14:19:04.183Z"
   },
   {
    "duration": 36,
    "start_time": "2021-07-18T14:19:04.342Z"
   },
   {
    "duration": 6,
    "start_time": "2021-07-18T14:19:04.380Z"
   },
   {
    "duration": 38039,
    "start_time": "2021-07-18T14:19:04.388Z"
   },
   {
    "duration": 49,
    "start_time": "2021-07-18T14:19:42.430Z"
   },
   {
    "duration": 12,
    "start_time": "2021-07-18T14:19:42.481Z"
   },
   {
    "duration": 182,
    "start_time": "2021-07-18T14:19:42.496Z"
   },
   {
    "duration": 6,
    "start_time": "2021-07-18T14:19:42.681Z"
   },
   {
    "duration": 27,
    "start_time": "2021-07-18T14:19:42.689Z"
   },
   {
    "duration": 48,
    "start_time": "2021-07-18T14:19:42.719Z"
   },
   {
    "duration": 22,
    "start_time": "2021-07-18T14:19:42.769Z"
   },
   {
    "duration": 228,
    "start_time": "2021-07-18T14:19:42.794Z"
   },
   {
    "duration": 8,
    "start_time": "2021-07-18T14:19:43.025Z"
   },
   {
    "duration": 32,
    "start_time": "2021-07-18T14:19:43.036Z"
   },
   {
    "duration": 9,
    "start_time": "2021-07-18T14:19:43.071Z"
   },
   {
    "duration": 9,
    "start_time": "2021-07-18T14:19:43.082Z"
   },
   {
    "duration": 30,
    "start_time": "2021-07-18T14:19:43.093Z"
   },
   {
    "duration": 6,
    "start_time": "2021-07-18T14:19:43.125Z"
   },
   {
    "duration": 47142,
    "start_time": "2021-07-18T14:19:43.133Z"
   },
   {
    "duration": 30,
    "start_time": "2021-07-18T14:20:30.278Z"
   },
   {
    "duration": 21,
    "start_time": "2021-07-18T14:20:30.310Z"
   },
   {
    "duration": 119,
    "start_time": "2021-07-18T14:20:30.334Z"
   },
   {
    "duration": 5,
    "start_time": "2021-07-18T14:20:30.456Z"
   },
   {
    "duration": 38,
    "start_time": "2021-07-18T14:20:30.467Z"
   },
   {
    "duration": 200,
    "start_time": "2021-07-18T14:20:30.507Z"
   },
   {
    "duration": 3,
    "start_time": "2021-07-18T14:20:30.710Z"
   },
   {
    "duration": 22,
    "start_time": "2021-07-18T14:20:30.716Z"
   },
   {
    "duration": 11373,
    "start_time": "2021-07-18T14:20:30.741Z"
   },
   {
    "duration": -213,
    "start_time": "2021-07-18T14:20:42.329Z"
   },
   {
    "duration": -246,
    "start_time": "2021-07-18T14:20:42.364Z"
   },
   {
    "duration": -294,
    "start_time": "2021-07-18T14:20:42.413Z"
   },
   {
    "duration": -325,
    "start_time": "2021-07-18T14:20:42.446Z"
   },
   {
    "duration": 22,
    "start_time": "2021-07-18T14:26:34.688Z"
   },
   {
    "duration": 22,
    "start_time": "2021-07-18T15:14:53.371Z"
   },
   {
    "duration": 9045,
    "start_time": "2021-07-18T15:18:02.577Z"
   },
   {
    "duration": 35,
    "start_time": "2021-07-18T15:18:18.797Z"
   },
   {
    "duration": 23,
    "start_time": "2021-07-18T15:21:09.084Z"
   },
   {
    "duration": 12,
    "start_time": "2021-07-18T15:21:13.382Z"
   },
   {
    "duration": 23,
    "start_time": "2021-07-18T15:21:56.596Z"
   },
   {
    "duration": 12,
    "start_time": "2021-07-18T15:21:56.968Z"
   },
   {
    "duration": 51,
    "start_time": "2021-07-18T15:22:54.850Z"
   },
   {
    "duration": 43,
    "start_time": "2021-07-18T15:22:59.025Z"
   },
   {
    "duration": 128,
    "start_time": "2021-07-18T15:25:59.319Z"
   },
   {
    "duration": 43,
    "start_time": "2021-07-18T15:26:09.444Z"
   },
   {
    "duration": 56,
    "start_time": "2021-07-18T15:26:22.453Z"
   },
   {
    "duration": 120,
    "start_time": "2021-07-18T15:26:22.900Z"
   },
   {
    "duration": 60,
    "start_time": "2021-07-18T15:26:23.464Z"
   },
   {
    "duration": 23,
    "start_time": "2021-07-18T15:29:53.827Z"
   },
   {
    "duration": 822,
    "start_time": "2021-07-18T15:31:22.388Z"
   },
   {
    "duration": 201,
    "start_time": "2021-07-18T15:33:46.781Z"
   },
   {
    "duration": 7,
    "start_time": "2021-07-18T15:37:06.837Z"
   },
   {
    "duration": 22,
    "start_time": "2021-07-18T15:37:15.629Z"
   },
   {
    "duration": 77,
    "start_time": "2021-07-18T15:38:05.664Z"
   },
   {
    "duration": 121,
    "start_time": "2021-07-18T15:39:23.250Z"
   },
   {
    "duration": 336,
    "start_time": "2021-07-18T15:39:41.522Z"
   },
   {
    "duration": 5,
    "start_time": "2021-07-18T15:40:57.309Z"
   },
   {
    "duration": 4520,
    "start_time": "2021-07-18T15:45:13.043Z"
   },
   {
    "duration": 22,
    "start_time": "2021-07-18T15:46:33.674Z"
   },
   {
    "duration": 5,
    "start_time": "2021-07-18T15:46:51.834Z"
   },
   {
    "duration": 73,
    "start_time": "2021-07-18T15:48:03.258Z"
   },
   {
    "duration": 110,
    "start_time": "2021-07-18T15:52:37.184Z"
   },
   {
    "duration": 406,
    "start_time": "2021-07-19T10:31:49.454Z"
   },
   {
    "duration": 1297,
    "start_time": "2021-07-19T10:32:11.841Z"
   },
   {
    "duration": 746,
    "start_time": "2021-07-19T10:32:13.141Z"
   },
   {
    "duration": 5,
    "start_time": "2021-07-19T10:32:13.891Z"
   },
   {
    "duration": 1591,
    "start_time": "2021-07-19T10:32:13.900Z"
   },
   {
    "duration": 172,
    "start_time": "2021-07-19T10:32:15.494Z"
   },
   {
    "duration": 5,
    "start_time": "2021-07-19T10:32:15.669Z"
   },
   {
    "duration": 54,
    "start_time": "2021-07-19T10:32:15.677Z"
   },
   {
    "duration": 679,
    "start_time": "2021-07-19T10:32:15.755Z"
   },
   {
    "duration": 817,
    "start_time": "2021-07-19T10:32:16.438Z"
   },
   {
    "duration": 388,
    "start_time": "2021-07-19T10:32:17.257Z"
   },
   {
    "duration": 16,
    "start_time": "2021-07-19T10:32:17.647Z"
   },
   {
    "duration": 92,
    "start_time": "2021-07-19T10:32:17.665Z"
   },
   {
    "duration": 23,
    "start_time": "2021-07-19T10:32:17.760Z"
   },
   {
    "duration": 21,
    "start_time": "2021-07-19T10:32:17.786Z"
   },
   {
    "duration": 940,
    "start_time": "2021-07-19T10:32:17.810Z"
   },
   {
    "duration": 56,
    "start_time": "2021-07-19T10:32:18.754Z"
   },
   {
    "duration": 48,
    "start_time": "2021-07-19T10:32:18.813Z"
   },
   {
    "duration": 23,
    "start_time": "2021-07-19T10:32:18.864Z"
   },
   {
    "duration": 10,
    "start_time": "2021-07-19T10:32:18.890Z"
   },
   {
    "duration": 20,
    "start_time": "2021-07-19T10:32:18.903Z"
   },
   {
    "duration": 18,
    "start_time": "2021-07-19T10:32:18.926Z"
   },
   {
    "duration": 15,
    "start_time": "2021-07-19T10:32:18.946Z"
   },
   {
    "duration": 701,
    "start_time": "2021-07-19T10:32:18.967Z"
   },
   {
    "duration": 53,
    "start_time": "2021-07-19T10:32:19.671Z"
   },
   {
    "duration": 62,
    "start_time": "2021-07-19T10:32:19.726Z"
   },
   {
    "duration": 239,
    "start_time": "2021-07-19T10:32:19.790Z"
   },
   {
    "duration": 95,
    "start_time": "2021-07-19T10:32:20.032Z"
   },
   {
    "duration": 313,
    "start_time": "2021-07-19T10:32:20.129Z"
   },
   {
    "duration": 215,
    "start_time": "2021-07-19T10:32:20.445Z"
   },
   {
    "duration": 7,
    "start_time": "2021-07-19T10:32:20.663Z"
   },
   {
    "duration": 26,
    "start_time": "2021-07-19T10:32:20.672Z"
   },
   {
    "duration": 41,
    "start_time": "2021-07-19T10:32:20.701Z"
   },
   {
    "duration": 44,
    "start_time": "2021-07-19T10:32:20.745Z"
   },
   {
    "duration": 44,
    "start_time": "2021-07-19T10:32:20.791Z"
   },
   {
    "duration": 35,
    "start_time": "2021-07-19T10:32:20.838Z"
   },
   {
    "duration": 50,
    "start_time": "2021-07-19T10:32:20.875Z"
   },
   {
    "duration": 108,
    "start_time": "2021-07-19T10:32:20.927Z"
   },
   {
    "duration": 181,
    "start_time": "2021-07-19T10:32:21.038Z"
   },
   {
    "duration": 5,
    "start_time": "2021-07-19T10:32:21.222Z"
   },
   {
    "duration": 54,
    "start_time": "2021-07-19T10:32:21.229Z"
   },
   {
    "duration": 28,
    "start_time": "2021-07-19T10:32:21.285Z"
   },
   {
    "duration": 146,
    "start_time": "2021-07-19T10:32:21.316Z"
   },
   {
    "duration": 30,
    "start_time": "2021-07-19T10:32:21.465Z"
   },
   {
    "duration": 8,
    "start_time": "2021-07-19T10:32:21.497Z"
   },
   {
    "duration": 37762,
    "start_time": "2021-07-19T10:32:21.507Z"
   },
   {
    "duration": 38,
    "start_time": "2021-07-19T10:32:59.272Z"
   },
   {
    "duration": 11,
    "start_time": "2021-07-19T10:32:59.312Z"
   },
   {
    "duration": 41,
    "start_time": "2021-07-19T10:32:59.325Z"
   },
   {
    "duration": 8,
    "start_time": "2021-07-19T10:32:59.368Z"
   },
   {
    "duration": 34,
    "start_time": "2021-07-19T10:32:59.378Z"
   },
   {
    "duration": 57,
    "start_time": "2021-07-19T10:32:59.415Z"
   },
   {
    "duration": 23,
    "start_time": "2021-07-19T10:32:59.474Z"
   },
   {
    "duration": 228,
    "start_time": "2021-07-19T10:32:59.500Z"
   },
   {
    "duration": 38,
    "start_time": "2021-07-19T10:32:59.730Z"
   },
   {
    "duration": 7,
    "start_time": "2021-07-19T10:32:59.770Z"
   },
   {
    "duration": 44580,
    "start_time": "2021-07-19T10:32:59.779Z"
   },
   {
    "duration": 23,
    "start_time": "2021-07-19T10:33:44.362Z"
   },
   {
    "duration": 11,
    "start_time": "2021-07-19T10:33:44.388Z"
   },
   {
    "duration": 118,
    "start_time": "2021-07-19T10:33:44.401Z"
   },
   {
    "duration": 37,
    "start_time": "2021-07-19T10:33:44.521Z"
   },
   {
    "duration": 29,
    "start_time": "2021-07-19T10:33:44.560Z"
   },
   {
    "duration": 41,
    "start_time": "2021-07-19T10:33:44.592Z"
   },
   {
    "duration": 36,
    "start_time": "2021-07-19T10:33:44.635Z"
   },
   {
    "duration": 41,
    "start_time": "2021-07-19T10:33:44.673Z"
   },
   {
    "duration": 123,
    "start_time": "2021-07-19T10:33:44.716Z"
   },
   {
    "duration": 24,
    "start_time": "2021-07-19T10:33:44.841Z"
   },
   {
    "duration": 29,
    "start_time": "2021-07-19T10:33:44.868Z"
   },
   {
    "duration": 87,
    "start_time": "2021-07-19T10:33:44.907Z"
   },
   {
    "duration": 6,
    "start_time": "2021-07-19T10:33:44.997Z"
   },
   {
    "duration": 45,
    "start_time": "2021-07-19T10:33:45.005Z"
   },
   {
    "duration": 160,
    "start_time": "2021-07-19T10:33:45.054Z"
   },
   {
    "duration": 3,
    "start_time": "2021-07-19T10:33:45.216Z"
   },
   {
    "duration": 23,
    "start_time": "2021-07-19T10:33:45.221Z"
   },
   {
    "duration": 8811,
    "start_time": "2021-07-19T10:33:45.247Z"
   },
   {
    "duration": -806,
    "start_time": "2021-07-19T10:33:54.867Z"
   },
   {
    "duration": -814,
    "start_time": "2021-07-19T10:33:54.877Z"
   },
   {
    "duration": -817,
    "start_time": "2021-07-19T10:33:54.881Z"
   },
   {
    "duration": -818,
    "start_time": "2021-07-19T10:33:54.884Z"
   },
   {
    "duration": 283,
    "start_time": "2021-07-19T11:57:49.120Z"
   },
   {
    "duration": 22,
    "start_time": "2021-07-19T11:57:56.615Z"
   },
   {
    "duration": 3,
    "start_time": "2021-07-19T11:58:03.760Z"
   },
   {
    "duration": 3,
    "start_time": "2021-07-19T11:58:05.639Z"
   },
   {
    "duration": 347,
    "start_time": "2021-07-19T11:58:06.439Z"
   },
   {
    "duration": 65,
    "start_time": "2021-07-19T14:51:03.716Z"
   },
   {
    "duration": 6,
    "start_time": "2021-07-19T15:27:47.475Z"
   },
   {
    "duration": 5,
    "start_time": "2021-07-19T15:27:51.234Z"
   },
   {
    "duration": 4,
    "start_time": "2021-07-19T15:34:28.197Z"
   },
   {
    "duration": 4,
    "start_time": "2021-07-19T15:34:29.820Z"
   },
   {
    "duration": 109,
    "start_time": "2021-07-19T15:34:30.964Z"
   },
   {
    "duration": 119,
    "start_time": "2021-07-19T15:34:51.964Z"
   },
   {
    "duration": 92,
    "start_time": "2021-07-19T15:35:07.444Z"
   },
   {
    "duration": 90,
    "start_time": "2021-07-19T15:35:15.924Z"
   },
   {
    "duration": 109,
    "start_time": "2021-07-19T15:35:32.428Z"
   },
   {
    "duration": 8344,
    "start_time": "2021-07-19T15:35:56.108Z"
   },
   {
    "duration": 15,
    "start_time": "2021-07-19T15:37:07.029Z"
   },
   {
    "duration": 16,
    "start_time": "2021-07-19T15:37:49.149Z"
   },
   {
    "duration": 4,
    "start_time": "2021-07-19T15:38:32.373Z"
   },
   {
    "duration": 7443,
    "start_time": "2021-07-19T15:38:33.549Z"
   },
   {
    "duration": 5520,
    "start_time": "2021-07-19T15:39:11.125Z"
   },
   {
    "duration": 359,
    "start_time": "2021-07-19T15:39:31.005Z"
   },
   {
    "duration": 273,
    "start_time": "2021-07-19T15:39:48.700Z"
   },
   {
    "duration": 5,
    "start_time": "2021-07-19T15:40:15.909Z"
   },
   {
    "duration": 3,
    "start_time": "2021-07-19T15:42:48.623Z"
   },
   {
    "duration": 22507,
    "start_time": "2021-07-19T15:42:51.109Z"
   },
   {
    "duration": 5803,
    "start_time": "2021-07-19T15:51:26.177Z"
   },
   {
    "duration": 3,
    "start_time": "2021-07-19T15:51:34.799Z"
   },
   {
    "duration": 11000,
    "start_time": "2021-07-19T15:51:38.687Z"
   },
   {
    "duration": 4,
    "start_time": "2021-07-19T15:53:42.384Z"
   },
   {
    "duration": 17334,
    "start_time": "2021-07-19T15:53:51.007Z"
   },
   {
    "duration": 17730,
    "start_time": "2021-07-19T15:55:08.385Z"
   },
   {
    "duration": 17904,
    "start_time": "2021-07-19T15:56:12.888Z"
   },
   {
    "duration": 17900,
    "start_time": "2021-07-19T15:57:40.977Z"
   },
   {
    "duration": 896,
    "start_time": "2021-07-20T07:17:25.019Z"
   },
   {
    "duration": 579,
    "start_time": "2021-07-20T07:17:25.917Z"
   },
   {
    "duration": 5,
    "start_time": "2021-07-20T07:17:26.500Z"
   },
   {
    "duration": 1027,
    "start_time": "2021-07-20T07:17:26.509Z"
   },
   {
    "duration": 165,
    "start_time": "2021-07-20T07:17:27.539Z"
   },
   {
    "duration": 4,
    "start_time": "2021-07-20T07:17:27.708Z"
   },
   {
    "duration": 73,
    "start_time": "2021-07-20T07:17:27.715Z"
   },
   {
    "duration": 566,
    "start_time": "2021-07-20T07:17:27.791Z"
   },
   {
    "duration": 711,
    "start_time": "2021-07-20T07:17:28.360Z"
   },
   {
    "duration": 349,
    "start_time": "2021-07-20T07:17:29.073Z"
   },
   {
    "duration": 16,
    "start_time": "2021-07-20T07:17:29.425Z"
   },
   {
    "duration": 68,
    "start_time": "2021-07-20T07:17:29.456Z"
   },
   {
    "duration": 34,
    "start_time": "2021-07-20T07:17:29.526Z"
   },
   {
    "duration": 17,
    "start_time": "2021-07-20T07:17:29.562Z"
   },
   {
    "duration": 757,
    "start_time": "2021-07-20T07:17:29.582Z"
   },
   {
    "duration": 56,
    "start_time": "2021-07-20T07:17:30.342Z"
   },
   {
    "duration": 22,
    "start_time": "2021-07-20T07:17:30.400Z"
   },
   {
    "duration": 46,
    "start_time": "2021-07-20T07:17:30.424Z"
   },
   {
    "duration": 11,
    "start_time": "2021-07-20T07:17:30.472Z"
   },
   {
    "duration": 16,
    "start_time": "2021-07-20T07:17:30.486Z"
   },
   {
    "duration": 12,
    "start_time": "2021-07-20T07:17:30.504Z"
   },
   {
    "duration": 11,
    "start_time": "2021-07-20T07:17:30.519Z"
   },
   {
    "duration": 659,
    "start_time": "2021-07-20T07:17:30.536Z"
   },
   {
    "duration": 69,
    "start_time": "2021-07-20T07:17:31.199Z"
   },
   {
    "duration": 44,
    "start_time": "2021-07-20T07:17:31.270Z"
   },
   {
    "duration": 234,
    "start_time": "2021-07-20T07:17:31.316Z"
   },
   {
    "duration": 60,
    "start_time": "2021-07-20T07:17:31.552Z"
   },
   {
    "duration": 291,
    "start_time": "2021-07-20T07:17:31.614Z"
   },
   {
    "duration": 194,
    "start_time": "2021-07-20T07:17:31.907Z"
   },
   {
    "duration": 7,
    "start_time": "2021-07-20T07:17:32.103Z"
   },
   {
    "duration": 8,
    "start_time": "2021-07-20T07:17:32.113Z"
   },
   {
    "duration": 42,
    "start_time": "2021-07-20T07:17:32.123Z"
   },
   {
    "duration": 28,
    "start_time": "2021-07-20T07:17:32.168Z"
   },
   {
    "duration": 28,
    "start_time": "2021-07-20T07:17:32.199Z"
   },
   {
    "duration": 44,
    "start_time": "2021-07-20T07:17:32.230Z"
   },
   {
    "duration": 34,
    "start_time": "2021-07-20T07:17:32.276Z"
   },
   {
    "duration": 100,
    "start_time": "2021-07-20T07:17:32.312Z"
   },
   {
    "duration": 175,
    "start_time": "2021-07-20T07:17:32.414Z"
   },
   {
    "duration": 5,
    "start_time": "2021-07-20T07:17:32.591Z"
   },
   {
    "duration": 25,
    "start_time": "2021-07-20T07:17:32.598Z"
   },
   {
    "duration": 34,
    "start_time": "2021-07-20T07:17:32.626Z"
   },
   {
    "duration": 121,
    "start_time": "2021-07-20T07:17:32.663Z"
   },
   {
    "duration": 27,
    "start_time": "2021-07-20T07:17:32.786Z"
   },
   {
    "duration": 5,
    "start_time": "2021-07-20T07:17:32.816Z"
   },
   {
    "duration": 34714,
    "start_time": "2021-07-20T07:17:32.823Z"
   },
   {
    "duration": 41,
    "start_time": "2021-07-20T07:18:07.540Z"
   },
   {
    "duration": 11,
    "start_time": "2021-07-20T07:18:07.583Z"
   },
   {
    "duration": 37,
    "start_time": "2021-07-20T07:18:07.596Z"
   },
   {
    "duration": 16,
    "start_time": "2021-07-20T07:18:07.635Z"
   },
   {
    "duration": 38,
    "start_time": "2021-07-20T07:18:07.656Z"
   },
   {
    "duration": 29,
    "start_time": "2021-07-20T07:18:07.697Z"
   },
   {
    "duration": 29,
    "start_time": "2021-07-20T07:18:07.728Z"
   },
   {
    "duration": 179,
    "start_time": "2021-07-20T07:18:07.759Z"
   },
   {
    "duration": 36,
    "start_time": "2021-07-20T07:18:07.940Z"
   },
   {
    "duration": 12,
    "start_time": "2021-07-20T07:18:07.978Z"
   },
   {
    "duration": 40677,
    "start_time": "2021-07-20T07:18:07.992Z"
   },
   {
    "duration": 25,
    "start_time": "2021-07-20T07:18:48.672Z"
   },
   {
    "duration": 9,
    "start_time": "2021-07-20T07:18:48.699Z"
   },
   {
    "duration": 104,
    "start_time": "2021-07-20T07:18:48.711Z"
   },
   {
    "duration": 21,
    "start_time": "2021-07-20T07:18:48.817Z"
   },
   {
    "duration": 19,
    "start_time": "2021-07-20T07:18:48.856Z"
   },
   {
    "duration": 31,
    "start_time": "2021-07-20T07:18:48.877Z"
   },
   {
    "duration": 26,
    "start_time": "2021-07-20T07:18:48.910Z"
   },
   {
    "duration": 50,
    "start_time": "2021-07-20T07:18:48.938Z"
   },
   {
    "duration": 115,
    "start_time": "2021-07-20T07:18:48.990Z"
   },
   {
    "duration": 20,
    "start_time": "2021-07-20T07:18:49.107Z"
   },
   {
    "duration": 35,
    "start_time": "2021-07-20T07:18:49.129Z"
   },
   {
    "duration": 68,
    "start_time": "2021-07-20T07:18:49.172Z"
   },
   {
    "duration": 5,
    "start_time": "2021-07-20T07:18:49.256Z"
   },
   {
    "duration": 24,
    "start_time": "2021-07-20T07:18:49.264Z"
   },
   {
    "duration": 166,
    "start_time": "2021-07-20T07:18:49.291Z"
   },
   {
    "duration": 4,
    "start_time": "2021-07-20T07:18:49.459Z"
   },
   {
    "duration": 16,
    "start_time": "2021-07-20T07:18:49.465Z"
   },
   {
    "duration": 5,
    "start_time": "2021-07-20T07:18:49.484Z"
   },
   {
    "duration": 16881,
    "start_time": "2021-07-20T07:18:49.491Z"
   },
   {
    "duration": 5,
    "start_time": "2021-07-20T07:19:06.374Z"
   },
   {
    "duration": 8,
    "start_time": "2021-07-20T07:19:06.381Z"
   },
   {
    "duration": 13,
    "start_time": "2021-07-20T07:19:06.391Z"
   },
   {
    "duration": 14,
    "start_time": "2021-07-20T07:19:06.407Z"
   },
   {
    "duration": 451,
    "start_time": "2021-07-20T07:19:06.423Z"
   },
   {
    "duration": 1151,
    "start_time": "2021-07-20T07:19:05.725Z"
   },
   {
    "duration": 1144,
    "start_time": "2021-07-20T07:19:05.734Z"
   },
   {
    "duration": 1141,
    "start_time": "2021-07-20T07:19:05.738Z"
   },
   {
    "duration": 1140,
    "start_time": "2021-07-20T07:19:05.741Z"
   },
   {
    "duration": 919,
    "start_time": "2021-07-23T14:29:46.926Z"
   },
   {
    "duration": 678,
    "start_time": "2021-07-23T14:29:47.848Z"
   },
   {
    "duration": 6,
    "start_time": "2021-07-23T14:29:48.529Z"
   },
   {
    "duration": 5157,
    "start_time": "2021-07-23T14:29:48.537Z"
   },
   {
    "duration": 160,
    "start_time": "2021-07-23T14:29:53.697Z"
   },
   {
    "duration": 4,
    "start_time": "2021-07-23T14:29:53.859Z"
   },
   {
    "duration": 65,
    "start_time": "2021-07-23T14:29:53.865Z"
   },
   {
    "duration": 701,
    "start_time": "2021-07-23T14:29:53.934Z"
   },
   {
    "duration": 741,
    "start_time": "2021-07-23T14:29:54.638Z"
   },
   {
    "duration": 353,
    "start_time": "2021-07-23T14:29:55.381Z"
   },
   {
    "duration": 15,
    "start_time": "2021-07-23T14:29:55.736Z"
   },
   {
    "duration": 86,
    "start_time": "2021-07-23T14:29:55.754Z"
   },
   {
    "duration": 13,
    "start_time": "2021-07-23T14:29:55.842Z"
   },
   {
    "duration": 16,
    "start_time": "2021-07-23T14:29:55.858Z"
   },
   {
    "duration": 806,
    "start_time": "2021-07-23T14:29:55.876Z"
   },
   {
    "duration": 54,
    "start_time": "2021-07-23T14:29:56.685Z"
   },
   {
    "duration": 22,
    "start_time": "2021-07-23T14:29:56.741Z"
   },
   {
    "duration": 43,
    "start_time": "2021-07-23T14:29:56.766Z"
   },
   {
    "duration": 5,
    "start_time": "2021-07-23T14:29:56.812Z"
   },
   {
    "duration": 7,
    "start_time": "2021-07-23T14:29:56.819Z"
   },
   {
    "duration": 15,
    "start_time": "2021-07-23T14:29:56.829Z"
   },
   {
    "duration": 6,
    "start_time": "2021-07-23T14:29:56.846Z"
   },
   {
    "duration": 742,
    "start_time": "2021-07-23T14:29:56.858Z"
   },
   {
    "duration": 53,
    "start_time": "2021-07-23T14:29:57.604Z"
   },
   {
    "duration": 72,
    "start_time": "2021-07-23T14:29:57.660Z"
   },
   {
    "duration": 229,
    "start_time": "2021-07-23T14:29:57.735Z"
   },
   {
    "duration": 71,
    "start_time": "2021-07-23T14:29:57.967Z"
   },
   {
    "duration": 303,
    "start_time": "2021-07-23T14:29:58.041Z"
   },
   {
    "duration": 213,
    "start_time": "2021-07-23T14:29:58.346Z"
   },
   {
    "duration": 8,
    "start_time": "2021-07-23T14:29:58.562Z"
   },
   {
    "duration": 5,
    "start_time": "2021-07-23T14:29:58.573Z"
   },
   {
    "duration": 43,
    "start_time": "2021-07-23T14:29:58.580Z"
   },
   {
    "duration": 39,
    "start_time": "2021-07-23T14:29:58.626Z"
   },
   {
    "duration": 57,
    "start_time": "2021-07-23T14:29:58.668Z"
   },
   {
    "duration": 36,
    "start_time": "2021-07-23T14:29:58.729Z"
   },
   {
    "duration": 64,
    "start_time": "2021-07-23T14:29:58.768Z"
   },
   {
    "duration": 110,
    "start_time": "2021-07-23T14:29:58.835Z"
   },
   {
    "duration": 170,
    "start_time": "2021-07-23T14:29:58.948Z"
   },
   {
    "duration": 5,
    "start_time": "2021-07-23T14:29:59.121Z"
   },
   {
    "duration": 27,
    "start_time": "2021-07-23T14:29:59.130Z"
   },
   {
    "duration": 49,
    "start_time": "2021-07-23T14:29:59.160Z"
   },
   {
    "duration": 116,
    "start_time": "2021-07-23T14:29:59.211Z"
   },
   {
    "duration": 35,
    "start_time": "2021-07-23T14:29:59.329Z"
   },
   {
    "duration": 7,
    "start_time": "2021-07-23T14:29:59.367Z"
   },
   {
    "duration": 41931,
    "start_time": "2021-07-23T14:29:59.377Z"
   },
   {
    "duration": 39,
    "start_time": "2021-07-23T14:30:41.310Z"
   },
   {
    "duration": 12,
    "start_time": "2021-07-23T14:30:41.351Z"
   },
   {
    "duration": 52,
    "start_time": "2021-07-23T14:30:41.366Z"
   },
   {
    "duration": 6,
    "start_time": "2021-07-23T14:30:41.421Z"
   },
   {
    "duration": 37,
    "start_time": "2021-07-23T14:30:41.430Z"
   },
   {
    "duration": 53,
    "start_time": "2021-07-23T14:30:41.470Z"
   },
   {
    "duration": 33,
    "start_time": "2021-07-23T14:30:41.527Z"
   },
   {
    "duration": 300,
    "start_time": "2021-07-23T14:30:41.563Z"
   },
   {
    "duration": 48,
    "start_time": "2021-07-23T14:30:41.866Z"
   },
   {
    "duration": 9,
    "start_time": "2021-07-23T14:30:41.917Z"
   },
   {
    "duration": 65547,
    "start_time": "2021-07-23T14:30:41.928Z"
   },
   {
    "duration": 41,
    "start_time": "2021-07-23T14:31:47.477Z"
   },
   {
    "duration": 14,
    "start_time": "2021-07-23T14:31:47.521Z"
   },
   {
    "duration": 158,
    "start_time": "2021-07-23T14:31:47.538Z"
   },
   {
    "duration": 36,
    "start_time": "2021-07-23T14:31:47.702Z"
   },
   {
    "duration": 21,
    "start_time": "2021-07-23T14:31:47.741Z"
   },
   {
    "duration": 52,
    "start_time": "2021-07-23T14:31:47.765Z"
   },
   {
    "duration": 24,
    "start_time": "2021-07-23T14:31:47.819Z"
   },
   {
    "duration": 66,
    "start_time": "2021-07-23T14:31:47.845Z"
   },
   {
    "duration": 118,
    "start_time": "2021-07-23T14:31:47.913Z"
   },
   {
    "duration": 20,
    "start_time": "2021-07-23T14:31:48.033Z"
   },
   {
    "duration": 27,
    "start_time": "2021-07-23T14:31:48.056Z"
   },
   {
    "duration": 68,
    "start_time": "2021-07-23T14:31:48.103Z"
   },
   {
    "duration": 30,
    "start_time": "2021-07-23T14:31:48.175Z"
   },
   {
    "duration": 20,
    "start_time": "2021-07-23T14:31:48.208Z"
   },
   {
    "duration": 171,
    "start_time": "2021-07-23T14:31:48.231Z"
   },
   {
    "duration": 4,
    "start_time": "2021-07-23T14:31:48.405Z"
   },
   {
    "duration": 18,
    "start_time": "2021-07-23T14:31:48.412Z"
   },
   {
    "duration": 6,
    "start_time": "2021-07-23T14:31:48.432Z"
   },
   {
    "duration": 17726,
    "start_time": "2021-07-23T14:31:48.441Z"
   },
   {
    "duration": 5,
    "start_time": "2021-07-23T14:32:06.169Z"
   },
   {
    "duration": 5,
    "start_time": "2021-07-23T14:32:06.177Z"
   },
   {
    "duration": 15,
    "start_time": "2021-07-23T14:32:06.184Z"
   },
   {
    "duration": 6,
    "start_time": "2021-07-23T14:32:06.201Z"
   },
   {
    "duration": 487,
    "start_time": "2021-07-23T14:32:06.209Z"
   },
   {
    "duration": 3189,
    "start_time": "2021-07-23T14:32:03.509Z"
   },
   {
    "duration": 3188,
    "start_time": "2021-07-23T14:32:03.512Z"
   },
   {
    "duration": 3184,
    "start_time": "2021-07-23T14:32:03.517Z"
   },
   {
    "duration": 3181,
    "start_time": "2021-07-23T14:32:03.521Z"
   },
   {
    "duration": 1317,
    "start_time": "2021-07-24T02:45:48.434Z"
   },
   {
    "duration": 640,
    "start_time": "2021-07-24T02:45:49.753Z"
   },
   {
    "duration": 4,
    "start_time": "2021-07-24T02:45:50.396Z"
   },
   {
    "duration": 1087,
    "start_time": "2021-07-24T02:45:50.403Z"
   },
   {
    "duration": 161,
    "start_time": "2021-07-24T02:45:51.493Z"
   },
   {
    "duration": 3,
    "start_time": "2021-07-24T02:45:51.657Z"
   },
   {
    "duration": 63,
    "start_time": "2021-07-24T02:45:51.662Z"
   },
   {
    "duration": 619,
    "start_time": "2021-07-24T02:45:51.729Z"
   },
   {
    "duration": 781,
    "start_time": "2021-07-24T02:45:52.350Z"
   },
   {
    "duration": 356,
    "start_time": "2021-07-24T02:45:53.133Z"
   },
   {
    "duration": 16,
    "start_time": "2021-07-24T02:45:53.491Z"
   },
   {
    "duration": 90,
    "start_time": "2021-07-24T02:45:53.510Z"
   },
   {
    "duration": 13,
    "start_time": "2021-07-24T02:45:53.602Z"
   },
   {
    "duration": 20,
    "start_time": "2021-07-24T02:45:53.618Z"
   },
   {
    "duration": 746,
    "start_time": "2021-07-24T02:45:53.641Z"
   },
   {
    "duration": 51,
    "start_time": "2021-07-24T02:45:54.389Z"
   },
   {
    "duration": 42,
    "start_time": "2021-07-24T02:45:54.442Z"
   },
   {
    "duration": 21,
    "start_time": "2021-07-24T02:45:54.486Z"
   },
   {
    "duration": 7,
    "start_time": "2021-07-24T02:45:54.509Z"
   },
   {
    "duration": 9,
    "start_time": "2021-07-24T02:45:54.519Z"
   },
   {
    "duration": 11,
    "start_time": "2021-07-24T02:45:54.530Z"
   },
   {
    "duration": 7,
    "start_time": "2021-07-24T02:45:54.544Z"
   },
   {
    "duration": 708,
    "start_time": "2021-07-24T02:45:54.556Z"
   },
   {
    "duration": 59,
    "start_time": "2021-07-24T02:45:55.267Z"
   },
   {
    "duration": 69,
    "start_time": "2021-07-24T02:45:55.328Z"
   },
   {
    "duration": 224,
    "start_time": "2021-07-24T02:45:55.399Z"
   },
   {
    "duration": 74,
    "start_time": "2021-07-24T02:45:55.625Z"
   },
   {
    "duration": 300,
    "start_time": "2021-07-24T02:45:55.702Z"
   },
   {
    "duration": 202,
    "start_time": "2021-07-24T02:45:56.004Z"
   },
   {
    "duration": 7,
    "start_time": "2021-07-24T02:45:56.209Z"
   },
   {
    "duration": 6,
    "start_time": "2021-07-24T02:45:56.218Z"
   },
   {
    "duration": 25,
    "start_time": "2021-07-24T02:45:56.227Z"
   },
   {
    "duration": 25,
    "start_time": "2021-07-24T02:45:56.284Z"
   },
   {
    "duration": 26,
    "start_time": "2021-07-24T02:45:56.312Z"
   },
   {
    "duration": 47,
    "start_time": "2021-07-24T02:45:56.341Z"
   },
   {
    "duration": 24,
    "start_time": "2021-07-24T02:45:56.391Z"
   },
   {
    "duration": 111,
    "start_time": "2021-07-24T02:45:56.418Z"
   },
   {
    "duration": 169,
    "start_time": "2021-07-24T02:45:56.532Z"
   },
   {
    "duration": 5,
    "start_time": "2021-07-24T02:45:56.703Z"
   },
   {
    "duration": 29,
    "start_time": "2021-07-24T02:45:56.711Z"
   },
   {
    "duration": 41,
    "start_time": "2021-07-24T02:45:56.743Z"
   },
   {
    "duration": 111,
    "start_time": "2021-07-24T02:45:56.786Z"
   },
   {
    "duration": 29,
    "start_time": "2021-07-24T02:45:56.900Z"
   },
   {
    "duration": 6,
    "start_time": "2021-07-24T02:45:56.932Z"
   },
   {
    "duration": 34969,
    "start_time": "2021-07-24T02:45:56.940Z"
   },
   {
    "duration": 39,
    "start_time": "2021-07-24T02:46:31.912Z"
   },
   {
    "duration": 31,
    "start_time": "2021-07-24T02:46:31.953Z"
   },
   {
    "duration": 17,
    "start_time": "2021-07-24T02:46:31.986Z"
   },
   {
    "duration": 12,
    "start_time": "2021-07-24T02:46:32.005Z"
   },
   {
    "duration": 31,
    "start_time": "2021-07-24T02:46:32.020Z"
   },
   {
    "duration": 44,
    "start_time": "2021-07-24T02:46:32.054Z"
   },
   {
    "duration": 22,
    "start_time": "2021-07-24T02:46:32.101Z"
   },
   {
    "duration": 197,
    "start_time": "2021-07-24T02:46:32.126Z"
   },
   {
    "duration": 29,
    "start_time": "2021-07-24T02:46:32.326Z"
   },
   {
    "duration": 6,
    "start_time": "2021-07-24T02:46:32.358Z"
   },
   {
    "duration": 42099,
    "start_time": "2021-07-24T02:46:32.383Z"
   },
   {
    "duration": 25,
    "start_time": "2021-07-24T02:47:14.485Z"
   },
   {
    "duration": 10,
    "start_time": "2021-07-24T02:47:14.513Z"
   },
   {
    "duration": 108,
    "start_time": "2021-07-24T02:47:14.526Z"
   },
   {
    "duration": 22,
    "start_time": "2021-07-24T02:47:14.637Z"
   },
   {
    "duration": 39,
    "start_time": "2021-07-24T02:47:14.661Z"
   },
   {
    "duration": 25,
    "start_time": "2021-07-24T02:47:14.703Z"
   },
   {
    "duration": 24,
    "start_time": "2021-07-24T02:47:14.731Z"
   },
   {
    "duration": 39,
    "start_time": "2021-07-24T02:47:14.782Z"
   },
   {
    "duration": 122,
    "start_time": "2021-07-24T02:47:14.823Z"
   },
   {
    "duration": 20,
    "start_time": "2021-07-24T02:47:14.948Z"
   },
   {
    "duration": 33,
    "start_time": "2021-07-24T02:47:14.970Z"
   },
   {
    "duration": 84,
    "start_time": "2021-07-24T02:47:15.011Z"
   },
   {
    "duration": 5,
    "start_time": "2021-07-24T02:47:15.098Z"
   },
   {
    "duration": 23,
    "start_time": "2021-07-24T02:47:15.106Z"
   },
   {
    "duration": 173,
    "start_time": "2021-07-24T02:47:15.131Z"
   },
   {
    "duration": 3,
    "start_time": "2021-07-24T02:47:15.307Z"
   },
   {
    "duration": 20,
    "start_time": "2021-07-24T02:47:15.313Z"
   },
   {
    "duration": 8,
    "start_time": "2021-07-24T02:47:15.335Z"
   },
   {
    "duration": 17460,
    "start_time": "2021-07-24T02:47:15.346Z"
   },
   {
    "duration": 5,
    "start_time": "2021-07-24T02:47:32.808Z"
   },
   {
    "duration": 6,
    "start_time": "2021-07-24T02:47:32.815Z"
   },
   {
    "duration": 12,
    "start_time": "2021-07-24T02:47:32.823Z"
   },
   {
    "duration": 7,
    "start_time": "2021-07-24T02:47:32.837Z"
   },
   {
    "duration": 578,
    "start_time": "2021-07-24T02:47:32.846Z"
   },
   {
    "duration": -89,
    "start_time": "2021-07-24T02:47:33.516Z"
   },
   {
    "duration": -92,
    "start_time": "2021-07-24T02:47:33.520Z"
   },
   {
    "duration": -94,
    "start_time": "2021-07-24T02:47:33.524Z"
   },
   {
    "duration": -96,
    "start_time": "2021-07-24T02:47:33.527Z"
   },
   {
    "duration": 240,
    "start_time": "2021-07-24T03:15:34.419Z"
   },
   {
    "duration": 236,
    "start_time": "2021-07-24T03:16:05.779Z"
   },
   {
    "duration": 5,
    "start_time": "2021-07-24T03:16:22.579Z"
   },
   {
    "duration": 5,
    "start_time": "2021-07-24T03:16:33.922Z"
   },
   {
    "duration": 7,
    "start_time": "2021-07-24T03:30:05.821Z"
   },
   {
    "duration": 11,
    "start_time": "2021-07-24T03:30:17.940Z"
   },
   {
    "duration": 4,
    "start_time": "2021-07-24T04:20:23.301Z"
   },
   {
    "duration": 5,
    "start_time": "2021-07-24T04:22:05.453Z"
   },
   {
    "duration": 8,
    "start_time": "2021-07-24T04:22:10.828Z"
   },
   {
    "duration": 5,
    "start_time": "2021-07-24T04:24:47.774Z"
   },
   {
    "duration": 3,
    "start_time": "2021-07-24T04:27:06.319Z"
   },
   {
    "duration": 10,
    "start_time": "2021-07-24T04:27:07.366Z"
   },
   {
    "duration": 359,
    "start_time": "2021-07-24T04:27:10.390Z"
   },
   {
    "duration": 4,
    "start_time": "2021-07-24T04:27:29.302Z"
   },
   {
    "duration": 5,
    "start_time": "2021-07-24T04:27:52.422Z"
   },
   {
    "duration": 11,
    "start_time": "2021-07-24T04:27:57.598Z"
   },
   {
    "duration": 6,
    "start_time": "2021-07-24T04:28:13.862Z"
   },
   {
    "duration": 6,
    "start_time": "2021-07-24T04:28:51.174Z"
   },
   {
    "duration": 4,
    "start_time": "2021-07-24T04:29:03.806Z"
   },
   {
    "duration": 6,
    "start_time": "2021-07-24T04:29:04.374Z"
   },
   {
    "duration": 4,
    "start_time": "2021-07-24T04:29:04.917Z"
   },
   {
    "duration": 8,
    "start_time": "2021-07-24T04:29:05.405Z"
   },
   {
    "duration": 8,
    "start_time": "2021-07-24T04:29:06.029Z"
   },
   {
    "duration": 11,
    "start_time": "2021-07-24T04:29:14.623Z"
   },
   {
    "duration": 3,
    "start_time": "2021-07-24T04:29:14.965Z"
   },
   {
    "duration": 10,
    "start_time": "2021-07-24T04:29:15.277Z"
   },
   {
    "duration": 4,
    "start_time": "2021-07-24T04:29:15.607Z"
   },
   {
    "duration": 6,
    "start_time": "2021-07-24T04:29:16.053Z"
   },
   {
    "duration": 116,
    "start_time": "2021-07-24T04:33:29.000Z"
   },
   {
    "duration": 11,
    "start_time": "2021-07-24T04:35:04.121Z"
   },
   {
    "duration": 14,
    "start_time": "2021-07-24T13:51:20.570Z"
   },
   {
    "duration": 250,
    "start_time": "2021-07-24T13:52:28.346Z"
   },
   {
    "duration": 4,
    "start_time": "2021-07-24T13:52:28.780Z"
   },
   {
    "duration": 5,
    "start_time": "2021-07-24T13:52:29.041Z"
   },
   {
    "duration": 14,
    "start_time": "2021-07-24T13:52:30.945Z"
   },
   {
    "duration": 4,
    "start_time": "2021-07-24T13:53:00.627Z"
   },
   {
    "duration": 15,
    "start_time": "2021-07-24T13:53:02.153Z"
   },
   {
    "duration": 4,
    "start_time": "2021-07-24T13:53:02.369Z"
   },
   {
    "duration": 14314,
    "start_time": "2021-07-24T13:53:02.545Z"
   },
   {
    "duration": 4,
    "start_time": "2021-07-24T13:53:16.862Z"
   },
   {
    "duration": 260,
    "start_time": "2021-07-24T13:53:16.869Z"
   },
   {
    "duration": 4,
    "start_time": "2021-07-24T13:53:17.132Z"
   },
   {
    "duration": 45,
    "start_time": "2021-07-24T13:53:17.139Z"
   },
   {
    "duration": 12,
    "start_time": "2021-07-24T13:53:30.914Z"
   },
   {
    "duration": 3,
    "start_time": "2021-07-24T13:53:48.546Z"
   },
   {
    "duration": 14,
    "start_time": "2021-07-24T13:53:48.818Z"
   },
   {
    "duration": 4,
    "start_time": "2021-07-24T13:53:49.104Z"
   },
   {
    "duration": 20141,
    "start_time": "2021-07-24T13:53:49.345Z"
   },
   {
    "duration": 4,
    "start_time": "2021-07-24T13:54:09.489Z"
   },
   {
    "duration": 289,
    "start_time": "2021-07-24T13:54:09.497Z"
   },
   {
    "duration": 6,
    "start_time": "2021-07-24T13:54:09.789Z"
   },
   {
    "duration": 10,
    "start_time": "2021-07-24T13:54:09.798Z"
   },
   {
    "duration": 18,
    "start_time": "2021-07-24T13:54:09.810Z"
   },
   {
    "duration": 4,
    "start_time": "2021-07-24T13:55:16.465Z"
   },
   {
    "duration": 15,
    "start_time": "2021-07-24T13:55:16.672Z"
   },
   {
    "duration": 3,
    "start_time": "2021-07-24T13:55:16.889Z"
   },
   {
    "duration": 23016,
    "start_time": "2021-07-24T13:55:17.066Z"
   },
   {
    "duration": 5,
    "start_time": "2021-07-24T13:55:40.084Z"
   },
   {
    "duration": 297,
    "start_time": "2021-07-24T13:55:40.092Z"
   },
   {
    "duration": 5,
    "start_time": "2021-07-24T13:55:40.391Z"
   },
   {
    "duration": 11,
    "start_time": "2021-07-24T13:55:40.398Z"
   },
   {
    "duration": 20,
    "start_time": "2021-07-24T13:55:40.411Z"
   },
   {
    "duration": 4,
    "start_time": "2021-07-24T13:56:10.251Z"
   },
   {
    "duration": 14,
    "start_time": "2021-07-24T13:56:10.498Z"
   },
   {
    "duration": 4,
    "start_time": "2021-07-24T13:56:10.714Z"
   },
   {
    "duration": 25593,
    "start_time": "2021-07-24T13:56:10.905Z"
   },
   {
    "duration": 5,
    "start_time": "2021-07-24T13:56:36.500Z"
   },
   {
    "duration": 284,
    "start_time": "2021-07-24T13:56:36.509Z"
   },
   {
    "duration": 4,
    "start_time": "2021-07-24T13:56:36.796Z"
   },
   {
    "duration": 9,
    "start_time": "2021-07-24T13:56:36.802Z"
   },
   {
    "duration": 16,
    "start_time": "2021-07-24T13:56:36.813Z"
   },
   {
    "duration": 119,
    "start_time": "2021-07-24T13:58:18.002Z"
   },
   {
    "duration": 4,
    "start_time": "2021-07-24T14:00:14.002Z"
   },
   {
    "duration": 4,
    "start_time": "2021-07-24T14:01:22.418Z"
   },
   {
    "duration": 14,
    "start_time": "2021-07-24T14:01:22.705Z"
   },
   {
    "duration": 3,
    "start_time": "2021-07-24T14:01:22.969Z"
   },
   {
    "duration": 30456,
    "start_time": "2021-07-24T14:01:23.273Z"
   },
   {
    "duration": 5,
    "start_time": "2021-07-24T14:01:53.732Z"
   },
   {
    "duration": 255,
    "start_time": "2021-07-24T14:01:53.740Z"
   },
   {
    "duration": 6,
    "start_time": "2021-07-24T14:01:53.998Z"
   },
   {
    "duration": 10,
    "start_time": "2021-07-24T14:01:54.006Z"
   },
   {
    "duration": 5,
    "start_time": "2021-07-24T14:02:25.752Z"
   },
   {
    "duration": 262,
    "start_time": "2021-07-24T14:02:26.032Z"
   },
   {
    "duration": 5,
    "start_time": "2021-07-24T14:02:26.297Z"
   },
   {
    "duration": 5,
    "start_time": "2021-07-24T14:02:26.497Z"
   },
   {
    "duration": 15,
    "start_time": "2021-07-24T14:02:28.136Z"
   },
   {
    "duration": 8,
    "start_time": "2021-07-24T14:10:59.052Z"
   },
   {
    "duration": 903,
    "start_time": "2021-07-25T01:18:30.819Z"
   },
   {
    "duration": 741,
    "start_time": "2021-07-25T01:18:31.724Z"
   },
   {
    "duration": 4,
    "start_time": "2021-07-25T01:18:32.468Z"
   },
   {
    "duration": 1208,
    "start_time": "2021-07-25T01:18:32.475Z"
   },
   {
    "duration": 172,
    "start_time": "2021-07-25T01:18:33.685Z"
   },
   {
    "duration": 3,
    "start_time": "2021-07-25T01:18:33.862Z"
   },
   {
    "duration": 52,
    "start_time": "2021-07-25T01:18:33.868Z"
   },
   {
    "duration": 703,
    "start_time": "2021-07-25T01:18:33.924Z"
   },
   {
    "duration": 849,
    "start_time": "2021-07-25T01:18:34.630Z"
   },
   {
    "duration": 381,
    "start_time": "2021-07-25T01:18:35.481Z"
   },
   {
    "duration": 15,
    "start_time": "2021-07-25T01:18:35.864Z"
   },
   {
    "duration": 99,
    "start_time": "2021-07-25T01:18:35.881Z"
   },
   {
    "duration": 12,
    "start_time": "2021-07-25T01:18:35.983Z"
   },
   {
    "duration": 33,
    "start_time": "2021-07-25T01:18:35.997Z"
   },
   {
    "duration": 827,
    "start_time": "2021-07-25T01:18:36.032Z"
   },
   {
    "duration": 52,
    "start_time": "2021-07-25T01:18:36.861Z"
   },
   {
    "duration": 22,
    "start_time": "2021-07-25T01:18:36.915Z"
   },
   {
    "duration": 43,
    "start_time": "2021-07-25T01:18:36.939Z"
   },
   {
    "duration": 18,
    "start_time": "2021-07-25T01:18:36.984Z"
   },
   {
    "duration": 11,
    "start_time": "2021-07-25T01:18:37.004Z"
   },
   {
    "duration": 14,
    "start_time": "2021-07-25T01:18:37.017Z"
   },
   {
    "duration": 18,
    "start_time": "2021-07-25T01:18:37.034Z"
   },
   {
    "duration": 720,
    "start_time": "2021-07-25T01:18:37.065Z"
   },
   {
    "duration": 53,
    "start_time": "2021-07-25T01:18:37.789Z"
   },
   {
    "duration": 49,
    "start_time": "2021-07-25T01:18:37.862Z"
   },
   {
    "duration": 249,
    "start_time": "2021-07-25T01:18:37.913Z"
   },
   {
    "duration": 62,
    "start_time": "2021-07-25T01:18:38.164Z"
   },
   {
    "duration": 327,
    "start_time": "2021-07-25T01:18:38.228Z"
   },
   {
    "duration": 207,
    "start_time": "2021-07-25T01:18:38.558Z"
   },
   {
    "duration": 7,
    "start_time": "2021-07-25T01:18:38.768Z"
   },
   {
    "duration": 5,
    "start_time": "2021-07-25T01:18:38.777Z"
   },
   {
    "duration": 26,
    "start_time": "2021-07-25T01:18:38.784Z"
   },
   {
    "duration": 62,
    "start_time": "2021-07-25T01:18:38.812Z"
   },
   {
    "duration": 31,
    "start_time": "2021-07-25T01:18:38.876Z"
   },
   {
    "duration": 22,
    "start_time": "2021-07-25T01:18:38.910Z"
   },
   {
    "duration": 43,
    "start_time": "2021-07-25T01:18:38.934Z"
   },
   {
    "duration": 102,
    "start_time": "2021-07-25T01:18:38.979Z"
   },
   {
    "duration": 179,
    "start_time": "2021-07-25T01:18:39.084Z"
   },
   {
    "duration": 5,
    "start_time": "2021-07-25T01:18:39.266Z"
   },
   {
    "duration": 34,
    "start_time": "2021-07-25T01:18:39.274Z"
   },
   {
    "duration": 60,
    "start_time": "2021-07-25T01:18:39.311Z"
   },
   {
    "duration": 181,
    "start_time": "2021-07-25T01:18:39.374Z"
   },
   {
    "duration": 48,
    "start_time": "2021-07-25T01:18:39.558Z"
   },
   {
    "duration": 6,
    "start_time": "2021-07-25T01:18:39.610Z"
   },
   {
    "duration": 57425,
    "start_time": "2021-07-25T01:18:39.619Z"
   },
   {
    "duration": 56,
    "start_time": "2021-07-25T01:19:37.047Z"
   },
   {
    "duration": 16,
    "start_time": "2021-07-25T01:19:37.106Z"
   },
   {
    "duration": 47,
    "start_time": "2021-07-25T01:19:37.125Z"
   },
   {
    "duration": 5,
    "start_time": "2021-07-25T01:19:37.176Z"
   },
   {
    "duration": 35,
    "start_time": "2021-07-25T01:19:37.184Z"
   },
   {
    "duration": 63,
    "start_time": "2021-07-25T01:19:37.222Z"
   },
   {
    "duration": 30,
    "start_time": "2021-07-25T01:19:37.288Z"
   },
   {
    "duration": 199,
    "start_time": "2021-07-25T01:19:37.320Z"
   },
   {
    "duration": 42,
    "start_time": "2021-07-25T01:19:37.522Z"
   },
   {
    "duration": 6,
    "start_time": "2021-07-25T01:19:37.567Z"
   },
   {
    "duration": 43179,
    "start_time": "2021-07-25T01:19:37.575Z"
   },
   {
    "duration": 28,
    "start_time": "2021-07-25T01:20:20.756Z"
   },
   {
    "duration": 11,
    "start_time": "2021-07-25T01:20:20.787Z"
   },
   {
    "duration": 115,
    "start_time": "2021-07-25T01:20:20.801Z"
   },
   {
    "duration": 22,
    "start_time": "2021-07-25T01:20:20.919Z"
   },
   {
    "duration": 38,
    "start_time": "2021-07-25T01:20:20.944Z"
   },
   {
    "duration": 22,
    "start_time": "2021-07-25T01:20:20.985Z"
   },
   {
    "duration": 52,
    "start_time": "2021-07-25T01:20:21.010Z"
   },
   {
    "duration": 41,
    "start_time": "2021-07-25T01:20:21.065Z"
   },
   {
    "duration": 129,
    "start_time": "2021-07-25T01:20:21.108Z"
   },
   {
    "duration": 30,
    "start_time": "2021-07-25T01:20:21.239Z"
   },
   {
    "duration": 22,
    "start_time": "2021-07-25T01:20:21.272Z"
   },
   {
    "duration": 89,
    "start_time": "2021-07-25T01:20:21.302Z"
   },
   {
    "duration": 5,
    "start_time": "2021-07-25T01:20:21.394Z"
   },
   {
    "duration": 28,
    "start_time": "2021-07-25T01:20:21.402Z"
   },
   {
    "duration": 174,
    "start_time": "2021-07-25T01:20:21.433Z"
   },
   {
    "duration": 9,
    "start_time": "2021-07-25T01:20:21.610Z"
   },
   {
    "duration": 6,
    "start_time": "2021-07-25T01:20:21.622Z"
   },
   {
    "duration": 36,
    "start_time": "2021-07-25T01:20:21.630Z"
   },
   {
    "duration": 6,
    "start_time": "2021-07-25T01:20:21.668Z"
   },
   {
    "duration": 10,
    "start_time": "2021-07-25T01:20:21.676Z"
   },
   {
    "duration": 7,
    "start_time": "2021-07-25T01:20:21.688Z"
   },
   {
    "duration": 11,
    "start_time": "2021-07-25T01:20:21.697Z"
   },
   {
    "duration": 3,
    "start_time": "2021-07-25T01:20:21.711Z"
   },
   {
    "duration": 58,
    "start_time": "2021-07-25T01:20:21.716Z"
   },
   {
    "duration": 6,
    "start_time": "2021-07-25T01:20:21.776Z"
   },
   {
    "duration": 28148,
    "start_time": "2021-07-25T01:20:21.784Z"
   },
   {
    "duration": 5,
    "start_time": "2021-07-25T01:20:49.934Z"
   },
   {
    "duration": 324,
    "start_time": "2021-07-25T01:20:49.941Z"
   },
   {
    "duration": 4,
    "start_time": "2021-07-25T01:20:50.267Z"
   },
   {
    "duration": 13,
    "start_time": "2021-07-25T01:20:50.273Z"
   },
   {
    "duration": 16,
    "start_time": "2021-07-25T01:20:50.288Z"
   },
   {
    "duration": 2,
    "start_time": "2021-07-25T01:20:50.306Z"
   },
   {
    "duration": 9,
    "start_time": "2021-07-25T01:20:50.311Z"
   },
   {
    "duration": 5,
    "start_time": "2021-07-25T01:20:50.322Z"
   },
   {
    "duration": 475,
    "start_time": "2021-07-25T01:20:50.363Z"
   },
   {
    "duration": -280,
    "start_time": "2021-07-25T01:20:51.121Z"
   },
   {
    "duration": -288,
    "start_time": "2021-07-25T01:20:51.130Z"
   },
   {
    "duration": -296,
    "start_time": "2021-07-25T01:20:51.139Z"
   },
   {
    "duration": -303,
    "start_time": "2021-07-25T01:20:51.148Z"
   },
   {
    "duration": 369,
    "start_time": "2021-07-25T12:03:02.521Z"
   },
   {
    "duration": 4,
    "start_time": "2021-07-25T12:04:42.604Z"
   },
   {
    "duration": 4,
    "start_time": "2021-07-25T12:11:59.611Z"
   },
   {
    "duration": 4,
    "start_time": "2021-07-25T12:15:25.893Z"
   },
   {
    "duration": 4,
    "start_time": "2021-07-25T12:17:37.184Z"
   },
   {
    "duration": 4,
    "start_time": "2021-07-25T12:18:34.995Z"
   },
   {
    "duration": 393,
    "start_time": "2021-07-25T12:18:50.855Z"
   },
   {
    "duration": 1043,
    "start_time": "2021-07-26T06:50:04.074Z"
   },
   {
    "duration": 649,
    "start_time": "2021-07-26T06:50:05.120Z"
   },
   {
    "duration": 4,
    "start_time": "2021-07-26T06:50:05.773Z"
   },
   {
    "duration": 1120,
    "start_time": "2021-07-26T06:50:05.779Z"
   },
   {
    "duration": 170,
    "start_time": "2021-07-26T06:50:06.901Z"
   },
   {
    "duration": 3,
    "start_time": "2021-07-26T06:50:07.073Z"
   },
   {
    "duration": 72,
    "start_time": "2021-07-26T06:50:07.078Z"
   },
   {
    "duration": 634,
    "start_time": "2021-07-26T06:50:07.154Z"
   },
   {
    "duration": 786,
    "start_time": "2021-07-26T06:50:07.791Z"
   },
   {
    "duration": 378,
    "start_time": "2021-07-26T06:50:08.579Z"
   },
   {
    "duration": 18,
    "start_time": "2021-07-26T06:50:08.960Z"
   },
   {
    "duration": 101,
    "start_time": "2021-07-26T06:50:08.980Z"
   },
   {
    "duration": 15,
    "start_time": "2021-07-26T06:50:09.083Z"
   },
   {
    "duration": 19,
    "start_time": "2021-07-26T06:50:09.101Z"
   },
   {
    "duration": 826,
    "start_time": "2021-07-26T06:50:09.123Z"
   },
   {
    "duration": 62,
    "start_time": "2021-07-26T06:50:09.951Z"
   },
   {
    "duration": 23,
    "start_time": "2021-07-26T06:50:10.015Z"
   },
   {
    "duration": 47,
    "start_time": "2021-07-26T06:50:10.041Z"
   },
   {
    "duration": 11,
    "start_time": "2021-07-26T06:50:10.091Z"
   },
   {
    "duration": 8,
    "start_time": "2021-07-26T06:50:10.105Z"
   },
   {
    "duration": 12,
    "start_time": "2021-07-26T06:50:10.116Z"
   },
   {
    "duration": 35,
    "start_time": "2021-07-26T06:50:10.131Z"
   },
   {
    "duration": 711,
    "start_time": "2021-07-26T06:50:10.172Z"
   },
   {
    "duration": 55,
    "start_time": "2021-07-26T06:50:10.887Z"
   },
   {
    "duration": 66,
    "start_time": "2021-07-26T06:50:10.944Z"
   },
   {
    "duration": 243,
    "start_time": "2021-07-26T06:50:11.012Z"
   },
   {
    "duration": 69,
    "start_time": "2021-07-26T06:50:11.257Z"
   },
   {
    "duration": 323,
    "start_time": "2021-07-26T06:50:11.328Z"
   },
   {
    "duration": 243,
    "start_time": "2021-07-26T06:50:11.653Z"
   },
   {
    "duration": 7,
    "start_time": "2021-07-26T06:50:11.899Z"
   },
   {
    "duration": 6,
    "start_time": "2021-07-26T06:50:11.909Z"
   },
   {
    "duration": 54,
    "start_time": "2021-07-26T06:50:11.918Z"
   },
   {
    "duration": 32,
    "start_time": "2021-07-26T06:50:11.975Z"
   },
   {
    "duration": 25,
    "start_time": "2021-07-26T06:50:12.009Z"
   },
   {
    "duration": 40,
    "start_time": "2021-07-26T06:50:12.036Z"
   },
   {
    "duration": 25,
    "start_time": "2021-07-26T06:50:12.078Z"
   },
   {
    "duration": 112,
    "start_time": "2021-07-26T06:50:12.106Z"
   },
   {
    "duration": 190,
    "start_time": "2021-07-26T06:50:12.221Z"
   },
   {
    "duration": 5,
    "start_time": "2021-07-26T06:50:12.413Z"
   },
   {
    "duration": 24,
    "start_time": "2021-07-26T06:50:12.421Z"
   },
   {
    "duration": 20,
    "start_time": "2021-07-26T06:50:12.467Z"
   },
   {
    "duration": 131,
    "start_time": "2021-07-26T06:50:12.489Z"
   },
   {
    "duration": 31,
    "start_time": "2021-07-26T06:50:12.622Z"
   },
   {
    "duration": 6,
    "start_time": "2021-07-26T06:50:12.668Z"
   },
   {
    "duration": 39835,
    "start_time": "2021-07-26T06:50:12.676Z"
   },
   {
    "duration": 38,
    "start_time": "2021-07-26T06:50:52.514Z"
   },
   {
    "duration": 22,
    "start_time": "2021-07-26T06:50:52.555Z"
   },
   {
    "duration": 19,
    "start_time": "2021-07-26T06:50:52.580Z"
   },
   {
    "duration": 6,
    "start_time": "2021-07-26T06:50:52.601Z"
   },
   {
    "duration": 62,
    "start_time": "2021-07-26T06:50:52.610Z"
   },
   {
    "duration": 25,
    "start_time": "2021-07-26T06:50:52.674Z"
   },
   {
    "duration": 33,
    "start_time": "2021-07-26T06:50:52.701Z"
   },
   {
    "duration": 198,
    "start_time": "2021-07-26T06:50:52.737Z"
   },
   {
    "duration": 39,
    "start_time": "2021-07-26T06:50:52.937Z"
   },
   {
    "duration": 6,
    "start_time": "2021-07-26T06:50:52.978Z"
   },
   {
    "duration": 44880,
    "start_time": "2021-07-26T06:50:52.986Z"
   },
   {
    "duration": 23,
    "start_time": "2021-07-26T06:51:37.868Z"
   },
   {
    "duration": 10,
    "start_time": "2021-07-26T06:51:37.894Z"
   },
   {
    "duration": 117,
    "start_time": "2021-07-26T06:51:37.907Z"
   },
   {
    "duration": 22,
    "start_time": "2021-07-26T06:51:38.027Z"
   },
   {
    "duration": 21,
    "start_time": "2021-07-26T06:51:38.067Z"
   },
   {
    "duration": 26,
    "start_time": "2021-07-26T06:51:38.090Z"
   },
   {
    "duration": 48,
    "start_time": "2021-07-26T06:51:38.119Z"
   },
   {
    "duration": 40,
    "start_time": "2021-07-26T06:51:38.170Z"
   },
   {
    "duration": 129,
    "start_time": "2021-07-26T06:51:38.212Z"
   },
   {
    "duration": 25,
    "start_time": "2021-07-26T06:51:38.344Z"
   },
   {
    "duration": 24,
    "start_time": "2021-07-26T06:51:38.371Z"
   },
   {
    "duration": 86,
    "start_time": "2021-07-26T06:51:38.403Z"
   },
   {
    "duration": 6,
    "start_time": "2021-07-26T06:51:38.492Z"
   },
   {
    "duration": 23,
    "start_time": "2021-07-26T06:51:38.501Z"
   },
   {
    "duration": 185,
    "start_time": "2021-07-26T06:51:38.527Z"
   },
   {
    "duration": 11,
    "start_time": "2021-07-26T06:51:38.715Z"
   },
   {
    "duration": 7,
    "start_time": "2021-07-26T06:51:38.728Z"
   },
   {
    "duration": 30,
    "start_time": "2021-07-26T06:51:38.738Z"
   },
   {
    "duration": 5,
    "start_time": "2021-07-26T06:51:38.770Z"
   },
   {
    "duration": 9,
    "start_time": "2021-07-26T06:51:38.778Z"
   },
   {
    "duration": 5,
    "start_time": "2021-07-26T06:51:38.789Z"
   },
   {
    "duration": 11,
    "start_time": "2021-07-26T06:51:38.797Z"
   },
   {
    "duration": 3,
    "start_time": "2021-07-26T06:51:38.811Z"
   },
   {
    "duration": 61,
    "start_time": "2021-07-26T06:51:38.816Z"
   },
   {
    "duration": 7,
    "start_time": "2021-07-26T06:51:38.879Z"
   },
   {
    "duration": 28912,
    "start_time": "2021-07-26T06:51:38.888Z"
   },
   {
    "duration": 5,
    "start_time": "2021-07-26T06:52:07.802Z"
   },
   {
    "duration": 269,
    "start_time": "2021-07-26T06:52:07.809Z"
   },
   {
    "duration": 4,
    "start_time": "2021-07-26T06:52:08.081Z"
   },
   {
    "duration": 8,
    "start_time": "2021-07-26T06:52:08.088Z"
   },
   {
    "duration": 70,
    "start_time": "2021-07-26T06:52:08.099Z"
   },
   {
    "duration": 3,
    "start_time": "2021-07-26T06:52:08.172Z"
   },
   {
    "duration": 6,
    "start_time": "2021-07-26T06:52:08.177Z"
   },
   {
    "duration": 638,
    "start_time": "2021-07-26T06:52:08.185Z"
   },
   {
    "duration": 1102,
    "start_time": "2021-07-26T06:52:07.723Z"
   },
   {
    "duration": 1099,
    "start_time": "2021-07-26T06:52:07.728Z"
   },
   {
    "duration": 1058,
    "start_time": "2021-07-26T06:52:07.771Z"
   },
   {
    "duration": 1054,
    "start_time": "2021-07-26T06:52:07.776Z"
   },
   {
    "duration": 1052,
    "start_time": "2021-07-26T06:52:07.780Z"
   },
   {
    "duration": 1050,
    "start_time": "2021-07-26T06:52:07.784Z"
   },
   {
    "duration": 1047,
    "start_time": "2021-07-26T06:52:07.788Z"
   },
   {
    "duration": 1045,
    "start_time": "2021-07-26T06:52:07.792Z"
   },
   {
    "duration": 1043,
    "start_time": "2021-07-26T06:52:07.795Z"
   },
   {
    "duration": 1041,
    "start_time": "2021-07-26T06:52:07.799Z"
   },
   {
    "duration": 25,
    "start_time": "2021-07-26T06:59:49.338Z"
   },
   {
    "duration": 375,
    "start_time": "2021-07-26T07:12:15.134Z"
   },
   {
    "duration": 55,
    "start_time": "2021-07-26T07:12:20.068Z"
   },
   {
    "duration": 782,
    "start_time": "2021-07-26T07:12:47.206Z"
   },
   {
    "duration": 8,
    "start_time": "2021-07-26T07:13:25.277Z"
   },
   {
    "duration": 67,
    "start_time": "2021-07-26T07:14:35.286Z"
   },
   {
    "duration": 69,
    "start_time": "2021-07-26T07:14:35.565Z"
   },
   {
    "duration": 3,
    "start_time": "2021-07-26T07:15:53.014Z"
   },
   {
    "duration": 423,
    "start_time": "2021-07-26T07:15:53.509Z"
   },
   {
    "duration": 6745,
    "start_time": "2021-07-26T07:16:22.230Z"
   },
   {
    "duration": 429,
    "start_time": "2021-07-26T07:18:38.006Z"
   },
   {
    "duration": 32,
    "start_time": "2021-07-26T07:23:23.752Z"
   },
   {
    "duration": 913,
    "start_time": "2021-07-26T07:26:54.401Z"
   },
   {
    "duration": 1145,
    "start_time": "2021-07-26T07:26:55.316Z"
   },
   {
    "duration": 221,
    "start_time": "2021-07-26T07:27:09.864Z"
   },
   {
    "duration": 6,
    "start_time": "2021-07-26T07:27:11.823Z"
   },
   {
    "duration": 410,
    "start_time": "2021-07-26T07:27:13.048Z"
   },
   {
    "duration": 13,
    "start_time": "2021-07-26T07:29:08.601Z"
   },
   {
    "duration": 19,
    "start_time": "2021-07-26T07:53:56.225Z"
   },
   {
    "duration": 5,
    "start_time": "2021-07-26T07:54:28.919Z"
   },
   {
    "duration": 8,
    "start_time": "2021-07-26T07:54:29.670Z"
   },
   {
    "duration": 14,
    "start_time": "2021-07-26T07:54:39.599Z"
   },
   {
    "duration": 12,
    "start_time": "2021-07-26T07:55:01.175Z"
   },
   {
    "duration": 14,
    "start_time": "2021-07-26T07:55:03.191Z"
   },
   {
    "duration": 529,
    "start_time": "2021-07-26T07:56:59.544Z"
   },
   {
    "duration": 3,
    "start_time": "2021-07-26T07:59:18.105Z"
   },
   {
    "duration": 36200,
    "start_time": "2021-07-26T07:59:19.784Z"
   },
   {
    "duration": 556,
    "start_time": "2021-07-26T08:00:02.936Z"
   },
   {
    "duration": 7,
    "start_time": "2021-07-26T08:00:03.673Z"
   },
   {
    "duration": 13,
    "start_time": "2021-07-26T08:00:04.640Z"
   },
   {
    "duration": 450,
    "start_time": "2021-07-26T08:00:05.688Z"
   },
   {
    "duration": 15,
    "start_time": "2021-07-26T08:00:15.512Z"
   },
   {
    "duration": 15,
    "start_time": "2021-07-26T08:04:20.747Z"
   },
   {
    "duration": 15,
    "start_time": "2021-07-26T08:04:48.818Z"
   },
   {
    "duration": 4,
    "start_time": "2021-07-26T08:12:35.594Z"
   },
   {
    "duration": 6,
    "start_time": "2021-07-26T08:21:06.438Z"
   },
   {
    "duration": 8,
    "start_time": "2021-07-26T08:21:29.165Z"
   },
   {
    "duration": 11,
    "start_time": "2021-07-26T08:21:47.669Z"
   },
   {
    "duration": 5,
    "start_time": "2021-07-26T08:21:59.933Z"
   },
   {
    "duration": 10,
    "start_time": "2021-07-26T08:22:01.869Z"
   },
   {
    "duration": 9,
    "start_time": "2021-07-26T08:23:27.613Z"
   },
   {
    "duration": 9,
    "start_time": "2021-07-26T08:26:16.374Z"
   },
   {
    "duration": 15,
    "start_time": "2021-07-26T08:26:23.772Z"
   },
   {
    "duration": 9,
    "start_time": "2021-07-26T08:27:45.015Z"
   },
   {
    "duration": 883,
    "start_time": "2021-07-27T09:49:10.418Z"
   },
   {
    "duration": 658,
    "start_time": "2021-07-27T09:49:11.303Z"
   },
   {
    "duration": 4,
    "start_time": "2021-07-27T09:49:11.964Z"
   },
   {
    "duration": 1107,
    "start_time": "2021-07-27T09:49:11.971Z"
   },
   {
    "duration": 174,
    "start_time": "2021-07-27T09:49:13.081Z"
   },
   {
    "duration": 3,
    "start_time": "2021-07-27T09:49:13.258Z"
   },
   {
    "duration": 63,
    "start_time": "2021-07-27T09:49:13.263Z"
   },
   {
    "duration": 610,
    "start_time": "2021-07-27T09:49:13.330Z"
   },
   {
    "duration": 760,
    "start_time": "2021-07-27T09:49:13.943Z"
   },
   {
    "duration": 376,
    "start_time": "2021-07-27T09:49:14.706Z"
   },
   {
    "duration": 19,
    "start_time": "2021-07-27T09:49:15.084Z"
   },
   {
    "duration": 70,
    "start_time": "2021-07-27T09:49:15.105Z"
   },
   {
    "duration": 28,
    "start_time": "2021-07-27T09:49:15.177Z"
   },
   {
    "duration": 16,
    "start_time": "2021-07-27T09:49:15.208Z"
   },
   {
    "duration": 788,
    "start_time": "2021-07-27T09:49:15.226Z"
   },
   {
    "duration": 50,
    "start_time": "2021-07-27T09:49:16.017Z"
   },
   {
    "duration": 42,
    "start_time": "2021-07-27T09:49:16.069Z"
   },
   {
    "duration": 22,
    "start_time": "2021-07-27T09:49:16.113Z"
   },
   {
    "duration": 6,
    "start_time": "2021-07-27T09:49:16.138Z"
   },
   {
    "duration": 12,
    "start_time": "2021-07-27T09:49:16.147Z"
   },
   {
    "duration": 17,
    "start_time": "2021-07-27T09:49:16.162Z"
   },
   {
    "duration": 20,
    "start_time": "2021-07-27T09:49:16.182Z"
   },
   {
    "duration": 704,
    "start_time": "2021-07-27T09:49:16.209Z"
   },
   {
    "duration": 52,
    "start_time": "2021-07-27T09:49:16.917Z"
   },
   {
    "duration": 70,
    "start_time": "2021-07-27T09:49:16.971Z"
   },
   {
    "duration": 236,
    "start_time": "2021-07-27T09:49:17.043Z"
   },
   {
    "duration": 74,
    "start_time": "2021-07-27T09:49:17.282Z"
   },
   {
    "duration": 318,
    "start_time": "2021-07-27T09:49:17.359Z"
   },
   {
    "duration": 210,
    "start_time": "2021-07-27T09:49:17.680Z"
   },
   {
    "duration": 11,
    "start_time": "2021-07-27T09:49:17.892Z"
   },
   {
    "duration": 5,
    "start_time": "2021-07-27T09:49:17.906Z"
   },
   {
    "duration": 27,
    "start_time": "2021-07-27T09:49:17.914Z"
   },
   {
    "duration": 58,
    "start_time": "2021-07-27T09:49:17.944Z"
   },
   {
    "duration": 27,
    "start_time": "2021-07-27T09:49:18.005Z"
   },
   {
    "duration": 26,
    "start_time": "2021-07-27T09:49:18.034Z"
   },
   {
    "duration": 54,
    "start_time": "2021-07-27T09:49:18.063Z"
   },
   {
    "duration": 106,
    "start_time": "2021-07-27T09:49:18.120Z"
   },
   {
    "duration": 179,
    "start_time": "2021-07-27T09:49:18.229Z"
   },
   {
    "duration": 6,
    "start_time": "2021-07-27T09:49:18.410Z"
   },
   {
    "duration": 27,
    "start_time": "2021-07-27T09:49:18.419Z"
   },
   {
    "duration": 57,
    "start_time": "2021-07-27T09:49:18.449Z"
   },
   {
    "duration": 121,
    "start_time": "2021-07-27T09:49:18.508Z"
   },
   {
    "duration": 28,
    "start_time": "2021-07-27T09:49:18.632Z"
   },
   {
    "duration": 6,
    "start_time": "2021-07-27T09:49:18.662Z"
   },
   {
    "duration": 35988,
    "start_time": "2021-07-27T09:49:18.670Z"
   },
   {
    "duration": 58,
    "start_time": "2021-07-27T09:49:54.661Z"
   },
   {
    "duration": 15,
    "start_time": "2021-07-27T09:49:54.722Z"
   },
   {
    "duration": 37,
    "start_time": "2021-07-27T09:49:54.740Z"
   },
   {
    "duration": 20,
    "start_time": "2021-07-27T09:49:54.780Z"
   },
   {
    "duration": 25,
    "start_time": "2021-07-27T09:49:54.802Z"
   },
   {
    "duration": 35,
    "start_time": "2021-07-27T09:49:54.829Z"
   },
   {
    "duration": 194,
    "start_time": "2021-07-27T09:49:54.866Z"
   },
   {
    "duration": 45,
    "start_time": "2021-07-27T09:49:55.062Z"
   },
   {
    "duration": 5,
    "start_time": "2021-07-27T09:49:55.110Z"
   },
   {
    "duration": 48111,
    "start_time": "2021-07-27T09:49:55.118Z"
   },
   {
    "duration": 25,
    "start_time": "2021-07-27T09:50:43.231Z"
   },
   {
    "duration": 10,
    "start_time": "2021-07-27T09:50:43.258Z"
   },
   {
    "duration": 113,
    "start_time": "2021-07-27T09:50:43.270Z"
   },
   {
    "duration": 30,
    "start_time": "2021-07-27T09:50:43.386Z"
   },
   {
    "duration": 23,
    "start_time": "2021-07-27T09:50:43.419Z"
   },
   {
    "duration": 55,
    "start_time": "2021-07-27T09:50:43.445Z"
   },
   {
    "duration": 26,
    "start_time": "2021-07-27T09:50:43.503Z"
   },
   {
    "duration": 41,
    "start_time": "2021-07-27T09:50:43.531Z"
   },
   {
    "duration": 147,
    "start_time": "2021-07-27T09:50:43.575Z"
   },
   {
    "duration": 21,
    "start_time": "2021-07-27T09:50:43.725Z"
   },
   {
    "duration": 22,
    "start_time": "2021-07-27T09:50:43.748Z"
   },
   {
    "duration": 96,
    "start_time": "2021-07-27T09:50:43.772Z"
   },
   {
    "duration": 24,
    "start_time": "2021-07-27T09:50:43.876Z"
   },
   {
    "duration": 21,
    "start_time": "2021-07-27T09:50:43.903Z"
   },
   {
    "duration": 174,
    "start_time": "2021-07-27T09:50:43.927Z"
   },
   {
    "duration": 11,
    "start_time": "2021-07-27T09:50:44.103Z"
   },
   {
    "duration": 3,
    "start_time": "2021-07-27T09:50:44.116Z"
   },
   {
    "duration": 18,
    "start_time": "2021-07-27T09:50:44.121Z"
   },
   {
    "duration": 5,
    "start_time": "2021-07-27T09:50:44.141Z"
   },
   {
    "duration": 53,
    "start_time": "2021-07-27T09:50:44.149Z"
   },
   {
    "duration": 5,
    "start_time": "2021-07-27T09:50:44.204Z"
   },
   {
    "duration": 15,
    "start_time": "2021-07-27T09:50:44.212Z"
   },
   {
    "duration": 4,
    "start_time": "2021-07-27T09:50:44.230Z"
   },
   {
    "duration": 17,
    "start_time": "2021-07-27T09:50:44.236Z"
   },
   {
    "duration": 46,
    "start_time": "2021-07-27T09:50:44.256Z"
   },
   {
    "duration": 28778,
    "start_time": "2021-07-27T09:50:44.304Z"
   },
   {
    "duration": 4,
    "start_time": "2021-07-27T09:51:13.085Z"
   },
   {
    "duration": 275,
    "start_time": "2021-07-27T09:51:13.092Z"
   },
   {
    "duration": 38,
    "start_time": "2021-07-27T09:51:13.369Z"
   },
   {
    "duration": 569,
    "start_time": "2021-07-27T09:51:13.410Z"
   },
   {
    "duration": 1123,
    "start_time": "2021-07-27T09:51:13.981Z"
   },
   {
    "duration": 4,
    "start_time": "2021-07-27T09:51:15.106Z"
   },
   {
    "duration": 8,
    "start_time": "2021-07-27T09:51:15.112Z"
   },
   {
    "duration": 354893,
    "start_time": "2021-07-27T09:51:15.122Z"
   },
   {
    "duration": 699,
    "start_time": "2021-07-27T09:57:10.018Z"
   },
   {
    "duration": 10,
    "start_time": "2021-07-27T09:57:10.719Z"
   },
   {
    "duration": 24,
    "start_time": "2021-07-27T09:57:10.731Z"
   },
   {
    "duration": 86051,
    "start_time": "2021-07-27T09:57:10.758Z"
   },
   {
    "duration": 4,
    "start_time": "2021-07-27T09:58:36.811Z"
   },
   {
    "duration": 434,
    "start_time": "2021-07-27T09:58:36.817Z"
   },
   {
    "duration": 36,
    "start_time": "2021-07-27T09:58:37.218Z"
   },
   {
    "duration": 31,
    "start_time": "2021-07-27T09:58:37.225Z"
   },
   {
    "duration": 7,
    "start_time": "2021-07-27T09:58:37.250Z"
   },
   {
    "duration": -4,
    "start_time": "2021-07-27T09:58:37.263Z"
   },
   {
    "duration": -7,
    "start_time": "2021-07-27T09:58:37.268Z"
   },
   {
    "duration": -10,
    "start_time": "2021-07-27T09:58:37.272Z"
   },
   {
    "duration": -12,
    "start_time": "2021-07-27T09:58:37.276Z"
   },
   {
    "duration": 29,
    "start_time": "2021-07-27T10:07:42.961Z"
   },
   {
    "duration": 26,
    "start_time": "2021-07-27T11:29:11.301Z"
   },
   {
    "duration": 3,
    "start_time": "2021-07-27T11:32:46.083Z"
   },
   {
    "duration": 28,
    "start_time": "2021-07-27T11:32:48.180Z"
   },
   {
    "duration": 4,
    "start_time": "2021-07-27T11:32:55.863Z"
   },
   {
    "duration": 268,
    "start_time": "2021-07-27T11:32:55.869Z"
   },
   {
    "duration": 50,
    "start_time": "2021-07-27T11:32:56.090Z"
   },
   {
    "duration": 5,
    "start_time": "2021-07-27T11:34:27.003Z"
   },
   {
    "duration": 22,
    "start_time": "2021-07-27T11:34:41.308Z"
   },
   {
    "duration": 159,
    "start_time": "2021-07-27T11:34:42.178Z"
   },
   {
    "duration": 10,
    "start_time": "2021-07-27T11:34:48.979Z"
   },
   {
    "duration": 35,
    "start_time": "2021-07-27T11:34:59.020Z"
   },
   {
    "duration": 16,
    "start_time": "2021-07-27T11:35:45.980Z"
   },
   {
    "duration": 28918,
    "start_time": "2021-07-27T11:36:04.564Z"
   },
   {
    "duration": 4,
    "start_time": "2021-07-27T11:36:33.486Z"
   },
   {
    "duration": 257,
    "start_time": "2021-07-27T11:36:33.493Z"
   },
   {
    "duration": 9,
    "start_time": "2021-07-27T11:36:33.753Z"
   },
   {
    "duration": 3388,
    "start_time": "2021-07-27T11:39:06.692Z"
   },
   {
    "duration": 16,
    "start_time": "2021-07-27T11:39:17.925Z"
   },
   {
    "duration": 13,
    "start_time": "2021-07-27T11:39:33.925Z"
   },
   {
    "duration": 18,
    "start_time": "2021-07-27T11:39:41.524Z"
   },
   {
    "duration": 291,
    "start_time": "2021-07-27T11:39:52.908Z"
   },
   {
    "duration": 17,
    "start_time": "2021-07-27T11:40:05.325Z"
   },
   {
    "duration": 12,
    "start_time": "2021-07-27T11:40:26.893Z"
   },
   {
    "duration": 29,
    "start_time": "2021-07-27T11:41:55.620Z"
   },
   {
    "duration": 28,
    "start_time": "2021-07-27T11:45:38.533Z"
   },
   {
    "duration": 29,
    "start_time": "2021-07-27T11:57:49.705Z"
   },
   {
    "duration": 21,
    "start_time": "2021-07-27T11:57:50.353Z"
   },
   {
    "duration": 74,
    "start_time": "2021-07-27T11:58:29.728Z"
   },
   {
    "duration": 6,
    "start_time": "2021-07-27T11:58:36.241Z"
   },
   {
    "duration": 32,
    "start_time": "2021-07-27T11:58:37.048Z"
   },
   {
    "duration": 4,
    "start_time": "2021-07-27T11:58:41.878Z"
   },
   {
    "duration": 605,
    "start_time": "2021-07-27T11:58:42.248Z"
   },
   {
    "duration": 1133,
    "start_time": "2021-07-27T11:58:42.855Z"
   },
   {
    "duration": 130,
    "start_time": "2021-07-27T11:58:45.423Z"
   },
   {
    "duration": 3,
    "start_time": "2021-07-27T11:58:54.448Z"
   },
   {
    "duration": 18,
    "start_time": "2021-07-27T11:58:54.871Z"
   },
   {
    "duration": 150,
    "start_time": "2021-07-27T11:58:55.472Z"
   },
   {
    "duration": 33,
    "start_time": "2021-07-27T11:58:56.413Z"
   },
   {
    "duration": 46,
    "start_time": "2021-07-27T11:58:57.465Z"
   },
   {
    "duration": 22,
    "start_time": "2021-07-27T12:00:23.801Z"
   },
   {
    "duration": 5,
    "start_time": "2021-07-27T12:00:48.033Z"
   },
   {
    "duration": 284,
    "start_time": "2021-07-27T12:00:56.121Z"
   },
   {
    "duration": 292,
    "start_time": "2021-07-27T12:01:01.552Z"
   },
   {
    "duration": 5,
    "start_time": "2021-07-27T12:01:17.721Z"
   },
   {
    "duration": 5,
    "start_time": "2021-07-27T12:01:23.712Z"
   },
   {
    "duration": 3,
    "start_time": "2021-07-27T12:09:07.507Z"
   },
   {
    "duration": 6,
    "start_time": "2021-07-27T12:09:12.882Z"
   },
   {
    "duration": 12,
    "start_time": "2021-07-27T12:09:40.907Z"
   },
   {
    "duration": 3,
    "start_time": "2021-07-27T12:17:09.052Z"
   },
   {
    "duration": 4,
    "start_time": "2021-07-27T12:17:47.693Z"
   },
   {
    "duration": 458,
    "start_time": "2021-07-27T12:17:48.524Z"
   },
   {
    "duration": 3,
    "start_time": "2021-07-27T12:18:01.557Z"
   },
   {
    "duration": 4,
    "start_time": "2021-07-27T12:18:01.844Z"
   },
   {
    "duration": 63344,
    "start_time": "2021-07-27T12:18:02.124Z"
   },
   {
    "duration": 4,
    "start_time": "2021-07-27T12:19:52.351Z"
   },
   {
    "duration": 382,
    "start_time": "2021-07-27T12:19:52.804Z"
   },
   {
    "duration": 10902,
    "start_time": "2021-07-27T12:20:11.406Z"
   },
   {
    "duration": 500,
    "start_time": "2021-07-27T12:20:22.311Z"
   },
   {
    "duration": 949,
    "start_time": "2021-07-27T12:37:38.342Z"
   },
   {
    "duration": 665,
    "start_time": "2021-07-27T12:37:39.294Z"
   },
   {
    "duration": 5,
    "start_time": "2021-07-27T12:37:39.963Z"
   },
   {
    "duration": 1230,
    "start_time": "2021-07-27T12:37:39.972Z"
   },
   {
    "duration": 223,
    "start_time": "2021-07-27T12:37:41.205Z"
   },
   {
    "duration": 4,
    "start_time": "2021-07-27T12:37:41.432Z"
   },
   {
    "duration": 69,
    "start_time": "2021-07-27T12:37:41.438Z"
   },
   {
    "duration": 644,
    "start_time": "2021-07-27T12:37:41.511Z"
   },
   {
    "duration": 775,
    "start_time": "2021-07-27T12:37:42.159Z"
   },
   {
    "duration": 359,
    "start_time": "2021-07-27T12:37:42.936Z"
   },
   {
    "duration": 15,
    "start_time": "2021-07-27T12:37:43.297Z"
   },
   {
    "duration": 92,
    "start_time": "2021-07-27T12:37:43.314Z"
   },
   {
    "duration": 12,
    "start_time": "2021-07-27T12:37:43.409Z"
   },
   {
    "duration": 18,
    "start_time": "2021-07-27T12:37:43.424Z"
   },
   {
    "duration": 788,
    "start_time": "2021-07-27T12:37:43.445Z"
   },
   {
    "duration": 52,
    "start_time": "2021-07-27T12:37:44.235Z"
   },
   {
    "duration": 22,
    "start_time": "2021-07-27T12:37:44.300Z"
   },
   {
    "duration": 21,
    "start_time": "2021-07-27T12:37:44.324Z"
   },
   {
    "duration": 4,
    "start_time": "2021-07-27T12:37:44.347Z"
   },
   {
    "duration": 5,
    "start_time": "2021-07-27T12:37:44.353Z"
   },
   {
    "duration": 41,
    "start_time": "2021-07-27T12:37:44.361Z"
   },
   {
    "duration": 3,
    "start_time": "2021-07-27T12:37:44.404Z"
   },
   {
    "duration": 696,
    "start_time": "2021-07-27T12:37:44.414Z"
   },
   {
    "duration": 47,
    "start_time": "2021-07-27T12:37:45.114Z"
   },
   {
    "duration": 73,
    "start_time": "2021-07-27T12:37:45.163Z"
   },
   {
    "duration": 232,
    "start_time": "2021-07-27T12:37:45.239Z"
   },
   {
    "duration": 73,
    "start_time": "2021-07-27T12:37:45.474Z"
   },
   {
    "duration": 298,
    "start_time": "2021-07-27T12:37:45.549Z"
   },
   {
    "duration": 202,
    "start_time": "2021-07-27T12:37:45.850Z"
   },
   {
    "duration": 9,
    "start_time": "2021-07-27T12:37:46.055Z"
   },
   {
    "duration": 5,
    "start_time": "2021-07-27T12:37:46.067Z"
   },
   {
    "duration": 24,
    "start_time": "2021-07-27T12:37:46.100Z"
   },
   {
    "duration": 26,
    "start_time": "2021-07-27T12:37:46.127Z"
   },
   {
    "duration": 54,
    "start_time": "2021-07-27T12:37:46.156Z"
   },
   {
    "duration": 23,
    "start_time": "2021-07-27T12:37:46.212Z"
   },
   {
    "duration": 23,
    "start_time": "2021-07-27T12:37:46.238Z"
   },
   {
    "duration": 120,
    "start_time": "2021-07-27T12:37:46.264Z"
   },
   {
    "duration": 180,
    "start_time": "2021-07-27T12:37:46.387Z"
   },
   {
    "duration": 5,
    "start_time": "2021-07-27T12:37:46.569Z"
   },
   {
    "duration": 40,
    "start_time": "2021-07-27T12:37:46.577Z"
   },
   {
    "duration": 20,
    "start_time": "2021-07-27T12:37:46.620Z"
   },
   {
    "duration": 130,
    "start_time": "2021-07-27T12:37:46.643Z"
   },
   {
    "duration": 38,
    "start_time": "2021-07-27T12:37:46.776Z"
   },
   {
    "duration": 6,
    "start_time": "2021-07-27T12:37:46.816Z"
   },
   {
    "duration": 36698,
    "start_time": "2021-07-27T12:37:46.824Z"
   },
   {
    "duration": 38,
    "start_time": "2021-07-27T12:38:23.525Z"
   },
   {
    "duration": 12,
    "start_time": "2021-07-27T12:38:23.565Z"
   },
   {
    "duration": 38,
    "start_time": "2021-07-27T12:38:23.579Z"
   },
   {
    "duration": 19,
    "start_time": "2021-07-27T12:38:23.619Z"
   },
   {
    "duration": 35,
    "start_time": "2021-07-27T12:38:23.641Z"
   },
   {
    "duration": 55,
    "start_time": "2021-07-27T12:38:23.679Z"
   },
   {
    "duration": 182,
    "start_time": "2021-07-27T12:38:23.736Z"
   },
   {
    "duration": 29,
    "start_time": "2021-07-27T12:38:23.920Z"
   },
   {
    "duration": 6,
    "start_time": "2021-07-27T12:38:23.952Z"
   },
   {
    "duration": 43858,
    "start_time": "2021-07-27T12:38:23.961Z"
   },
   {
    "duration": 24,
    "start_time": "2021-07-27T12:39:07.821Z"
   },
   {
    "duration": 10,
    "start_time": "2021-07-27T12:39:07.847Z"
   },
   {
    "duration": 114,
    "start_time": "2021-07-27T12:39:07.859Z"
   },
   {
    "duration": 30,
    "start_time": "2021-07-27T12:39:07.976Z"
   },
   {
    "duration": 26,
    "start_time": "2021-07-27T12:39:08.008Z"
   },
   {
    "duration": 34,
    "start_time": "2021-07-27T12:39:08.036Z"
   },
   {
    "duration": 34,
    "start_time": "2021-07-27T12:39:08.072Z"
   },
   {
    "duration": 40,
    "start_time": "2021-07-27T12:39:08.108Z"
   },
   {
    "duration": 123,
    "start_time": "2021-07-27T12:39:08.150Z"
   },
   {
    "duration": 27,
    "start_time": "2021-07-27T12:39:08.276Z"
   },
   {
    "duration": 37,
    "start_time": "2021-07-27T12:39:08.305Z"
   },
   {
    "duration": 25,
    "start_time": "2021-07-27T12:39:08.345Z"
   },
   {
    "duration": 83,
    "start_time": "2021-07-27T12:39:08.379Z"
   },
   {
    "duration": 7,
    "start_time": "2021-07-27T12:39:08.466Z"
   },
   {
    "duration": 46,
    "start_time": "2021-07-27T12:39:08.476Z"
   },
   {
    "duration": 12,
    "start_time": "2021-07-27T12:39:08.525Z"
   },
   {
    "duration": 3,
    "start_time": "2021-07-27T12:39:08.540Z"
   },
   {
    "duration": 635,
    "start_time": "2021-07-27T12:39:08.545Z"
   },
   {
    "duration": 1157,
    "start_time": "2021-07-27T12:39:09.182Z"
   },
   {
    "duration": 3,
    "start_time": "2021-07-27T12:39:10.342Z"
   },
   {
    "duration": 28,
    "start_time": "2021-07-27T12:39:10.348Z"
   },
   {
    "duration": 172,
    "start_time": "2021-07-27T12:39:10.378Z"
   },
   {
    "duration": 30,
    "start_time": "2021-07-27T12:39:10.553Z"
   },
   {
    "duration": 56,
    "start_time": "2021-07-27T12:39:10.585Z"
   },
   {
    "duration": 9,
    "start_time": "2021-07-27T12:39:10.643Z"
   },
   {
    "duration": 11,
    "start_time": "2021-07-27T12:39:10.655Z"
   },
   {
    "duration": 34,
    "start_time": "2021-07-27T12:39:10.669Z"
   },
   {
    "duration": 7,
    "start_time": "2021-07-27T12:39:10.706Z"
   },
   {
    "duration": 16,
    "start_time": "2021-07-27T12:39:10.715Z"
   },
   {
    "duration": 12,
    "start_time": "2021-07-27T12:39:10.733Z"
   },
   {
    "duration": 24,
    "start_time": "2021-07-27T12:39:10.747Z"
   },
   {
    "duration": 1075,
    "start_time": "2021-07-27T12:39:10.773Z"
   },
   {
    "duration": 22,
    "start_time": "2021-07-27T12:39:11.851Z"
   },
   {
    "duration": 27,
    "start_time": "2021-07-27T12:39:11.876Z"
   },
   {
    "duration": 16,
    "start_time": "2021-07-27T12:39:11.906Z"
   },
   {
    "duration": 15,
    "start_time": "2021-07-27T12:39:11.925Z"
   },
   {
    "duration": 510,
    "start_time": "2021-07-27T12:39:11.943Z"
   },
   {
    "duration": 78,
    "start_time": "2021-07-27T12:39:12.378Z"
   },
   {
    "duration": 74,
    "start_time": "2021-07-27T12:39:12.383Z"
   },
   {
    "duration": 70,
    "start_time": "2021-07-27T12:39:12.388Z"
   },
   {
    "duration": 68,
    "start_time": "2021-07-27T12:39:12.392Z"
   },
   {
    "duration": 39,
    "start_time": "2021-07-27T12:39:12.422Z"
   },
   {
    "duration": 33,
    "start_time": "2021-07-27T12:39:12.430Z"
   },
   {
    "duration": 29,
    "start_time": "2021-07-27T12:39:12.435Z"
   },
   {
    "duration": 26,
    "start_time": "2021-07-27T12:39:12.439Z"
   },
   {
    "duration": 23,
    "start_time": "2021-07-27T12:39:12.443Z"
   },
   {
    "duration": 21,
    "start_time": "2021-07-27T12:39:12.447Z"
   },
   {
    "duration": 17,
    "start_time": "2021-07-27T12:39:12.452Z"
   },
   {
    "duration": 14,
    "start_time": "2021-07-27T12:39:12.456Z"
   },
   {
    "duration": 11,
    "start_time": "2021-07-27T12:39:12.460Z"
   },
   {
    "duration": 9,
    "start_time": "2021-07-27T12:39:12.464Z"
   },
   {
    "duration": 5,
    "start_time": "2021-07-27T12:39:12.469Z"
   },
   {
    "duration": 3,
    "start_time": "2021-07-27T12:39:12.472Z"
   },
   {
    "duration": 0,
    "start_time": "2021-07-27T12:39:12.477Z"
   },
   {
    "duration": -4,
    "start_time": "2021-07-27T12:39:12.482Z"
   },
   {
    "duration": -7,
    "start_time": "2021-07-27T12:39:12.486Z"
   },
   {
    "duration": 16047,
    "start_time": "2021-07-27T12:41:27.545Z"
   },
   {
    "duration": 6,
    "start_time": "2021-07-27T12:41:48.969Z"
   },
   {
    "duration": 689,
    "start_time": "2021-07-27T12:41:50.665Z"
   },
   {
    "duration": 8,
    "start_time": "2021-07-27T12:41:55.593Z"
   },
   {
    "duration": 22,
    "start_time": "2021-07-27T12:44:21.531Z"
   },
   {
    "duration": 345,
    "start_time": "2021-07-27T12:44:40.538Z"
   },
   {
    "duration": 21,
    "start_time": "2021-07-27T12:44:41.074Z"
   },
   {
    "duration": 949,
    "start_time": "2021-07-27T12:45:07.531Z"
   },
   {
    "duration": 634,
    "start_time": "2021-07-27T12:45:08.482Z"
   },
   {
    "duration": 4,
    "start_time": "2021-07-27T12:45:09.119Z"
   },
   {
    "duration": 1043,
    "start_time": "2021-07-27T12:45:09.126Z"
   },
   {
    "duration": 159,
    "start_time": "2021-07-27T12:45:10.172Z"
   },
   {
    "duration": 4,
    "start_time": "2021-07-27T12:45:10.334Z"
   },
   {
    "duration": 67,
    "start_time": "2021-07-27T12:45:10.340Z"
   },
   {
    "duration": 602,
    "start_time": "2021-07-27T12:45:10.411Z"
   },
   {
    "duration": 765,
    "start_time": "2021-07-27T12:45:11.016Z"
   },
   {
    "duration": 378,
    "start_time": "2021-07-27T12:45:11.784Z"
   },
   {
    "duration": 16,
    "start_time": "2021-07-27T12:45:12.165Z"
   },
   {
    "duration": 80,
    "start_time": "2021-07-27T12:45:12.200Z"
   },
   {
    "duration": 21,
    "start_time": "2021-07-27T12:45:12.283Z"
   },
   {
    "duration": 17,
    "start_time": "2021-07-27T12:45:12.307Z"
   },
   {
    "duration": 791,
    "start_time": "2021-07-27T12:45:12.327Z"
   },
   {
    "duration": 49,
    "start_time": "2021-07-27T12:45:13.121Z"
   },
   {
    "duration": 42,
    "start_time": "2021-07-27T12:45:13.173Z"
   },
   {
    "duration": 24,
    "start_time": "2021-07-27T12:45:13.217Z"
   },
   {
    "duration": 16,
    "start_time": "2021-07-27T12:45:13.244Z"
   },
   {
    "duration": 26,
    "start_time": "2021-07-27T12:45:13.262Z"
   },
   {
    "duration": 33,
    "start_time": "2021-07-27T12:45:13.290Z"
   },
   {
    "duration": 31,
    "start_time": "2021-07-27T12:45:13.326Z"
   },
   {
    "duration": 769,
    "start_time": "2021-07-27T12:45:13.364Z"
   },
   {
    "duration": 86,
    "start_time": "2021-07-27T12:45:14.139Z"
   },
   {
    "duration": 55,
    "start_time": "2021-07-27T12:45:14.228Z"
   },
   {
    "duration": 242,
    "start_time": "2021-07-27T12:45:14.286Z"
   },
   {
    "duration": 79,
    "start_time": "2021-07-27T12:45:14.530Z"
   },
   {
    "duration": 313,
    "start_time": "2021-07-27T12:45:14.612Z"
   },
   {
    "duration": 214,
    "start_time": "2021-07-27T12:45:14.928Z"
   },
   {
    "duration": 8,
    "start_time": "2021-07-27T12:45:15.144Z"
   },
   {
    "duration": 9,
    "start_time": "2021-07-27T12:45:15.154Z"
   },
   {
    "duration": 52,
    "start_time": "2021-07-27T12:45:15.166Z"
   },
   {
    "duration": 28,
    "start_time": "2021-07-27T12:45:15.220Z"
   },
   {
    "duration": 24,
    "start_time": "2021-07-27T12:45:15.251Z"
   },
   {
    "duration": 22,
    "start_time": "2021-07-27T12:45:15.300Z"
   },
   {
    "duration": 26,
    "start_time": "2021-07-27T12:45:15.325Z"
   },
   {
    "duration": 120,
    "start_time": "2021-07-27T12:45:15.354Z"
   },
   {
    "duration": 171,
    "start_time": "2021-07-27T12:45:15.476Z"
   },
   {
    "duration": 6,
    "start_time": "2021-07-27T12:45:15.649Z"
   },
   {
    "duration": 44,
    "start_time": "2021-07-27T12:45:15.657Z"
   },
   {
    "duration": 19,
    "start_time": "2021-07-27T12:45:15.704Z"
   },
   {
    "duration": 127,
    "start_time": "2021-07-27T12:45:15.726Z"
   },
   {
    "duration": 28,
    "start_time": "2021-07-27T12:45:15.856Z"
   },
   {
    "duration": 6,
    "start_time": "2021-07-27T12:45:15.901Z"
   },
   {
    "duration": 35338,
    "start_time": "2021-07-27T12:45:15.909Z"
   },
   {
    "duration": 52,
    "start_time": "2021-07-27T12:45:51.250Z"
   },
   {
    "duration": 12,
    "start_time": "2021-07-27T12:45:51.305Z"
   },
   {
    "duration": 21,
    "start_time": "2021-07-27T12:45:51.320Z"
   },
   {
    "duration": 13,
    "start_time": "2021-07-27T12:45:51.344Z"
   },
   {
    "duration": 51,
    "start_time": "2021-07-27T12:45:51.360Z"
   },
   {
    "duration": 30,
    "start_time": "2021-07-27T12:45:51.413Z"
   },
   {
    "duration": 178,
    "start_time": "2021-07-27T12:45:51.446Z"
   },
   {
    "duration": 29,
    "start_time": "2021-07-27T12:45:51.627Z"
   },
   {
    "duration": 6,
    "start_time": "2021-07-27T12:45:51.658Z"
   },
   {
    "duration": 42809,
    "start_time": "2021-07-27T12:45:51.666Z"
   },
   {
    "duration": 36,
    "start_time": "2021-07-27T12:46:34.478Z"
   },
   {
    "duration": 11,
    "start_time": "2021-07-27T12:46:34.516Z"
   },
   {
    "duration": 116,
    "start_time": "2021-07-27T12:46:34.529Z"
   },
   {
    "duration": 24,
    "start_time": "2021-07-27T12:46:34.647Z"
   },
   {
    "duration": 40,
    "start_time": "2021-07-27T12:46:34.673Z"
   },
   {
    "duration": 33,
    "start_time": "2021-07-27T12:46:34.716Z"
   },
   {
    "duration": 23,
    "start_time": "2021-07-27T12:46:34.752Z"
   },
   {
    "duration": 52,
    "start_time": "2021-07-27T12:46:34.777Z"
   },
   {
    "duration": 126,
    "start_time": "2021-07-27T12:46:34.831Z"
   },
   {
    "duration": 21,
    "start_time": "2021-07-27T12:46:34.960Z"
   },
   {
    "duration": 34,
    "start_time": "2021-07-27T12:46:34.983Z"
   },
   {
    "duration": 25,
    "start_time": "2021-07-27T12:46:35.020Z"
   },
   {
    "duration": 86,
    "start_time": "2021-07-27T12:46:35.054Z"
   },
   {
    "duration": 6,
    "start_time": "2021-07-27T12:46:35.144Z"
   },
   {
    "duration": 47,
    "start_time": "2021-07-27T12:46:35.153Z"
   },
   {
    "duration": 12,
    "start_time": "2021-07-27T12:46:35.203Z"
   },
   {
    "duration": 4,
    "start_time": "2021-07-27T12:46:35.218Z"
   },
   {
    "duration": 809,
    "start_time": "2021-07-27T12:46:35.224Z"
   },
   {
    "duration": 1244,
    "start_time": "2021-07-27T12:46:36.036Z"
   },
   {
    "duration": 3,
    "start_time": "2021-07-27T12:46:37.283Z"
   },
   {
    "duration": 40,
    "start_time": "2021-07-27T12:46:37.288Z"
   },
   {
    "duration": 170,
    "start_time": "2021-07-27T12:46:37.331Z"
   },
   {
    "duration": 32,
    "start_time": "2021-07-27T12:46:37.503Z"
   },
   {
    "duration": 65,
    "start_time": "2021-07-27T12:46:37.537Z"
   },
   {
    "duration": 10,
    "start_time": "2021-07-27T12:46:37.604Z"
   },
   {
    "duration": 4,
    "start_time": "2021-07-27T12:46:37.616Z"
   },
   {
    "duration": 10,
    "start_time": "2021-07-27T12:46:37.623Z"
   },
   {
    "duration": 11,
    "start_time": "2021-07-27T12:46:37.636Z"
   },
   {
    "duration": 12,
    "start_time": "2021-07-27T12:46:37.649Z"
   },
   {
    "duration": 5,
    "start_time": "2021-07-27T12:46:37.700Z"
   },
   {
    "duration": 11,
    "start_time": "2021-07-27T12:46:37.708Z"
   },
   {
    "duration": 168,
    "start_time": "2021-07-27T12:46:37.722Z"
   },
   {
    "duration": 22,
    "start_time": "2021-07-27T12:46:37.893Z"
   },
   {
    "duration": 16,
    "start_time": "2021-07-27T12:46:37.917Z"
   },
   {
    "duration": 26,
    "start_time": "2021-07-27T12:46:37.936Z"
   },
   {
    "duration": 23,
    "start_time": "2021-07-27T12:46:37.965Z"
   },
   {
    "duration": 8560,
    "start_time": "2021-07-27T12:46:37.990Z"
   },
   {
    "duration": 5,
    "start_time": "2021-07-27T12:46:46.553Z"
   },
   {
    "duration": 245,
    "start_time": "2021-07-27T12:46:46.560Z"
   },
   {
    "duration": 8,
    "start_time": "2021-07-27T12:46:46.808Z"
   },
   {
    "duration": 3,
    "start_time": "2021-07-27T12:46:46.819Z"
   },
   {
    "duration": 11,
    "start_time": "2021-07-27T12:46:46.824Z"
   },
   {
    "duration": 10364,
    "start_time": "2021-07-27T12:46:46.838Z"
   },
   {
    "duration": 482,
    "start_time": "2021-07-27T12:46:57.205Z"
   },
   {
    "duration": 73,
    "start_time": "2021-07-27T12:46:57.617Z"
   },
   {
    "duration": 70,
    "start_time": "2021-07-27T12:46:57.621Z"
   },
   {
    "duration": 67,
    "start_time": "2021-07-27T12:46:57.626Z"
   },
   {
    "duration": 35,
    "start_time": "2021-07-27T12:46:57.659Z"
   },
   {
    "duration": 32,
    "start_time": "2021-07-27T12:46:57.663Z"
   },
   {
    "duration": 29,
    "start_time": "2021-07-27T12:46:57.668Z"
   },
   {
    "duration": 26,
    "start_time": "2021-07-27T12:46:57.672Z"
   },
   {
    "duration": 23,
    "start_time": "2021-07-27T12:46:57.676Z"
   },
   {
    "duration": 20,
    "start_time": "2021-07-27T12:46:57.680Z"
   },
   {
    "duration": 17,
    "start_time": "2021-07-27T12:46:57.685Z"
   },
   {
    "duration": 14,
    "start_time": "2021-07-27T12:46:57.689Z"
   },
   {
    "duration": 10,
    "start_time": "2021-07-27T12:46:57.694Z"
   },
   {
    "duration": 610,
    "start_time": "2021-07-27T12:47:40.931Z"
   },
   {
    "duration": 17,
    "start_time": "2021-07-27T12:47:42.178Z"
   },
   {
    "duration": 22,
    "start_time": "2021-07-27T12:47:42.419Z"
   },
   {
    "duration": 4,
    "start_time": "2021-07-27T12:48:58.124Z"
   },
   {
    "duration": 28779,
    "start_time": "2021-07-27T12:48:58.676Z"
   },
   {
    "duration": 4,
    "start_time": "2021-07-27T12:49:27.458Z"
   },
   {
    "duration": 338,
    "start_time": "2021-07-27T12:49:27.465Z"
   },
   {
    "duration": 9,
    "start_time": "2021-07-27T12:49:27.806Z"
   },
   {
    "duration": 1028,
    "start_time": "2021-07-27T12:54:39.704Z"
   },
   {
    "duration": 692,
    "start_time": "2021-07-27T12:54:40.734Z"
   },
   {
    "duration": 5,
    "start_time": "2021-07-27T12:54:41.429Z"
   },
   {
    "duration": 1320,
    "start_time": "2021-07-27T12:54:41.437Z"
   },
   {
    "duration": 178,
    "start_time": "2021-07-27T12:54:42.760Z"
   },
   {
    "duration": 4,
    "start_time": "2021-07-27T12:54:42.941Z"
   },
   {
    "duration": 75,
    "start_time": "2021-07-27T12:54:42.948Z"
   },
   {
    "duration": 681,
    "start_time": "2021-07-27T12:54:43.029Z"
   },
   {
    "duration": 789,
    "start_time": "2021-07-27T12:54:43.715Z"
   },
   {
    "duration": 353,
    "start_time": "2021-07-27T12:54:44.507Z"
   },
   {
    "duration": 16,
    "start_time": "2021-07-27T12:54:44.862Z"
   },
   {
    "duration": 83,
    "start_time": "2021-07-27T12:54:44.880Z"
   },
   {
    "duration": 13,
    "start_time": "2021-07-27T12:54:44.966Z"
   },
   {
    "duration": 33,
    "start_time": "2021-07-27T12:54:44.982Z"
   },
   {
    "duration": 1655,
    "start_time": "2021-07-27T12:54:45.018Z"
   },
   {
    "duration": 63,
    "start_time": "2021-07-27T12:54:46.675Z"
   },
   {
    "duration": 21,
    "start_time": "2021-07-27T12:54:46.741Z"
   },
   {
    "duration": 36,
    "start_time": "2021-07-27T12:54:46.764Z"
   },
   {
    "duration": 4,
    "start_time": "2021-07-27T12:54:46.802Z"
   },
   {
    "duration": 17,
    "start_time": "2021-07-27T12:54:46.808Z"
   },
   {
    "duration": 14,
    "start_time": "2021-07-27T12:54:46.827Z"
   },
   {
    "duration": 24,
    "start_time": "2021-07-27T12:54:46.843Z"
   },
   {
    "duration": 678,
    "start_time": "2021-07-27T12:54:46.873Z"
   },
   {
    "duration": 59,
    "start_time": "2021-07-27T12:54:47.554Z"
   },
   {
    "duration": 47,
    "start_time": "2021-07-27T12:54:47.615Z"
   },
   {
    "duration": 231,
    "start_time": "2021-07-27T12:54:47.664Z"
   },
   {
    "duration": 58,
    "start_time": "2021-07-27T12:54:47.900Z"
   },
   {
    "duration": 302,
    "start_time": "2021-07-27T12:54:47.960Z"
   },
   {
    "duration": 201,
    "start_time": "2021-07-27T12:54:48.264Z"
   },
   {
    "duration": 7,
    "start_time": "2021-07-27T12:54:48.467Z"
   },
   {
    "duration": 22,
    "start_time": "2021-07-27T12:54:48.476Z"
   },
   {
    "duration": 68,
    "start_time": "2021-07-27T12:54:48.501Z"
   },
   {
    "duration": 58,
    "start_time": "2021-07-27T12:54:48.571Z"
   },
   {
    "duration": 52,
    "start_time": "2021-07-27T12:54:48.632Z"
   },
   {
    "duration": 54,
    "start_time": "2021-07-27T12:54:48.687Z"
   },
   {
    "duration": 43,
    "start_time": "2021-07-27T12:54:48.744Z"
   },
   {
    "duration": 106,
    "start_time": "2021-07-27T12:54:48.789Z"
   },
   {
    "duration": 180,
    "start_time": "2021-07-27T12:54:48.898Z"
   },
   {
    "duration": 19,
    "start_time": "2021-07-27T12:54:49.081Z"
   },
   {
    "duration": 34,
    "start_time": "2021-07-27T12:54:49.103Z"
   },
   {
    "duration": 37,
    "start_time": "2021-07-27T12:54:49.140Z"
   },
   {
    "duration": 122,
    "start_time": "2021-07-27T12:54:49.180Z"
   },
   {
    "duration": 29,
    "start_time": "2021-07-27T12:54:49.306Z"
   },
   {
    "duration": 15,
    "start_time": "2021-07-27T12:54:49.338Z"
   },
   {
    "duration": 37563,
    "start_time": "2021-07-27T12:54:49.356Z"
   },
   {
    "duration": 41,
    "start_time": "2021-07-27T12:55:26.922Z"
   },
   {
    "duration": 38,
    "start_time": "2021-07-27T12:55:26.966Z"
   },
   {
    "duration": 29,
    "start_time": "2021-07-27T12:55:27.007Z"
   },
   {
    "duration": 5,
    "start_time": "2021-07-27T12:55:27.040Z"
   },
   {
    "duration": 54,
    "start_time": "2021-07-27T12:55:27.047Z"
   },
   {
    "duration": 23,
    "start_time": "2021-07-27T12:55:27.104Z"
   },
   {
    "duration": 207,
    "start_time": "2021-07-27T12:55:27.130Z"
   },
   {
    "duration": 30,
    "start_time": "2021-07-27T12:55:27.340Z"
   },
   {
    "duration": 27,
    "start_time": "2021-07-27T12:55:27.373Z"
   },
   {
    "duration": 43446,
    "start_time": "2021-07-27T12:55:27.403Z"
   },
   {
    "duration": 25,
    "start_time": "2021-07-27T12:56:10.851Z"
   },
   {
    "duration": 30,
    "start_time": "2021-07-27T12:56:10.879Z"
   },
   {
    "duration": 96,
    "start_time": "2021-07-27T12:56:10.912Z"
   },
   {
    "duration": 22,
    "start_time": "2021-07-27T12:56:11.011Z"
   },
   {
    "duration": 22,
    "start_time": "2021-07-27T12:56:11.036Z"
   },
   {
    "duration": 49,
    "start_time": "2021-07-27T12:56:11.060Z"
   },
   {
    "duration": 23,
    "start_time": "2021-07-27T12:56:11.111Z"
   },
   {
    "duration": 39,
    "start_time": "2021-07-27T12:56:11.137Z"
   },
   {
    "duration": 113,
    "start_time": "2021-07-27T12:56:11.201Z"
   },
   {
    "duration": 20,
    "start_time": "2021-07-27T12:56:11.317Z"
   },
   {
    "duration": 24,
    "start_time": "2021-07-27T12:56:11.340Z"
   },
   {
    "duration": 50,
    "start_time": "2021-07-27T12:56:11.367Z"
   },
   {
    "duration": 116,
    "start_time": "2021-07-27T12:56:11.430Z"
   },
   {
    "duration": 7,
    "start_time": "2021-07-27T12:56:11.551Z"
   },
   {
    "duration": 49,
    "start_time": "2021-07-27T12:56:11.562Z"
   },
   {
    "duration": 17,
    "start_time": "2021-07-27T12:56:11.615Z"
   },
   {
    "duration": 5,
    "start_time": "2021-07-27T12:56:11.635Z"
   },
   {
    "duration": 921,
    "start_time": "2021-07-27T12:56:11.643Z"
   },
   {
    "duration": 1241,
    "start_time": "2021-07-27T12:56:12.567Z"
   },
   {
    "duration": 3,
    "start_time": "2021-07-27T12:56:13.811Z"
   },
   {
    "duration": 23,
    "start_time": "2021-07-27T12:56:13.816Z"
   },
   {
    "duration": 3,
    "start_time": "2021-07-27T12:56:13.842Z"
   },
   {
    "duration": 61,
    "start_time": "2021-07-27T12:56:13.847Z"
   },
   {
    "duration": 9,
    "start_time": "2021-07-27T12:56:13.911Z"
   },
   {
    "duration": 3,
    "start_time": "2021-07-27T12:56:13.923Z"
   },
   {
    "duration": 14,
    "start_time": "2021-07-27T12:56:13.928Z"
   },
   {
    "duration": 7,
    "start_time": "2021-07-27T12:56:13.944Z"
   },
   {
    "duration": 49,
    "start_time": "2021-07-27T12:56:13.953Z"
   },
   {
    "duration": 5,
    "start_time": "2021-07-27T12:56:14.005Z"
   },
   {
    "duration": 14,
    "start_time": "2021-07-27T12:56:14.012Z"
   },
   {
    "duration": 169,
    "start_time": "2021-07-27T12:56:14.029Z"
   },
   {
    "duration": 14,
    "start_time": "2021-07-27T12:56:14.201Z"
   },
   {
    "duration": 7,
    "start_time": "2021-07-27T12:56:14.218Z"
   },
   {
    "duration": 11,
    "start_time": "2021-07-27T12:56:14.227Z"
   },
   {
    "duration": 7,
    "start_time": "2021-07-27T12:56:14.240Z"
   },
   {
    "duration": 28517,
    "start_time": "2021-07-27T12:56:14.249Z"
   },
   {
    "duration": 5,
    "start_time": "2021-07-27T12:56:42.768Z"
   },
   {
    "duration": 253,
    "start_time": "2021-07-27T12:56:42.776Z"
   },
   {
    "duration": 9,
    "start_time": "2021-07-27T12:56:43.031Z"
   },
   {
    "duration": 3,
    "start_time": "2021-07-27T12:56:43.043Z"
   },
   {
    "duration": 53,
    "start_time": "2021-07-27T12:56:43.049Z"
   },
   {
    "duration": 36299,
    "start_time": "2021-07-27T12:56:43.105Z"
   },
   {
    "duration": 598,
    "start_time": "2021-07-27T12:57:19.406Z"
   },
   {
    "duration": 8,
    "start_time": "2021-07-27T12:57:20.007Z"
   },
   {
    "duration": 17,
    "start_time": "2021-07-27T12:57:20.017Z"
   },
   {
    "duration": 532,
    "start_time": "2021-07-27T12:57:20.037Z"
   },
   {
    "duration": 80,
    "start_time": "2021-07-27T12:57:20.491Z"
   },
   {
    "duration": 78,
    "start_time": "2021-07-27T12:57:20.495Z"
   },
   {
    "duration": 74,
    "start_time": "2021-07-27T12:57:20.500Z"
   },
   {
    "duration": 71,
    "start_time": "2021-07-27T12:57:20.504Z"
   },
   {
    "duration": 68,
    "start_time": "2021-07-27T12:57:20.509Z"
   },
   {
    "duration": 40,
    "start_time": "2021-07-27T12:57:20.538Z"
   },
   {
    "duration": 35,
    "start_time": "2021-07-27T12:57:20.545Z"
   },
   {
    "duration": 31,
    "start_time": "2021-07-27T12:57:20.550Z"
   },
   {
    "duration": 27,
    "start_time": "2021-07-27T12:57:20.555Z"
   },
   {
    "duration": 3,
    "start_time": "2021-07-27T13:38:17.982Z"
   },
   {
    "duration": 3,
    "start_time": "2021-07-27T13:38:19.223Z"
   },
   {
    "duration": 281,
    "start_time": "2021-07-27T13:38:20.142Z"
   },
   {
    "duration": 5,
    "start_time": "2021-07-27T13:38:26.374Z"
   },
   {
    "duration": 275,
    "start_time": "2021-07-27T13:38:49.814Z"
   },
   {
    "duration": 346,
    "start_time": "2021-07-27T13:38:59.358Z"
   },
   {
    "duration": 2557840,
    "start_time": "2021-07-27T13:39:07.415Z"
   },
   {
    "duration": 4,
    "start_time": "2021-07-27T14:22:06.061Z"
   },
   {
    "duration": 13711,
    "start_time": "2021-07-27T14:22:07.195Z"
   },
   {
    "duration": 4,
    "start_time": "2021-07-27T14:22:34.529Z"
   },
   {
    "duration": 734464,
    "start_time": "2021-07-27T14:22:35.234Z"
   },
   {
    "duration": 3,
    "start_time": "2021-07-27T14:40:38.070Z"
   },
   {
    "duration": 12083,
    "start_time": "2021-07-27T14:40:39.100Z"
   },
   {
    "duration": 4,
    "start_time": "2021-07-27T14:40:55.828Z"
   },
   {
    "duration": 567636,
    "start_time": "2021-07-27T14:40:56.477Z"
   },
   {
    "duration": 4,
    "start_time": "2021-07-27T16:04:38.913Z"
   },
   {
    "duration": 921914,
    "start_time": "2021-07-27T16:05:58.889Z"
   },
   {
    "duration": 1269,
    "start_time": "2021-07-27T16:21:20.806Z"
   },
   {
    "duration": 31,
    "start_time": "2021-07-27T16:21:22.078Z"
   },
   {
    "duration": 1204,
    "start_time": "2021-07-27T16:58:06.255Z"
   },
   {
    "duration": 10,
    "start_time": "2021-07-27T16:58:09.875Z"
   },
   {
    "duration": 973,
    "start_time": "2021-07-28T02:47:40.054Z"
   },
   {
    "duration": 636,
    "start_time": "2021-07-28T02:47:41.030Z"
   },
   {
    "duration": 5,
    "start_time": "2021-07-28T02:47:41.670Z"
   },
   {
    "duration": 1130,
    "start_time": "2021-07-28T02:47:41.678Z"
   },
   {
    "duration": 165,
    "start_time": "2021-07-28T02:47:42.810Z"
   },
   {
    "duration": 5,
    "start_time": "2021-07-28T02:47:42.986Z"
   },
   {
    "duration": 52,
    "start_time": "2021-07-28T02:47:42.994Z"
   },
   {
    "duration": 670,
    "start_time": "2021-07-28T02:47:43.052Z"
   },
   {
    "duration": 820,
    "start_time": "2021-07-28T02:47:43.726Z"
   },
   {
    "duration": 364,
    "start_time": "2021-07-28T02:47:44.548Z"
   },
   {
    "duration": 16,
    "start_time": "2021-07-28T02:47:44.915Z"
   },
   {
    "duration": 95,
    "start_time": "2021-07-28T02:47:44.933Z"
   },
   {
    "duration": 14,
    "start_time": "2021-07-28T02:47:45.031Z"
   },
   {
    "duration": 39,
    "start_time": "2021-07-28T02:47:45.048Z"
   },
   {
    "duration": 796,
    "start_time": "2021-07-28T02:47:45.090Z"
   },
   {
    "duration": 55,
    "start_time": "2021-07-28T02:47:45.888Z"
   },
   {
    "duration": 43,
    "start_time": "2021-07-28T02:47:45.946Z"
   },
   {
    "duration": 23,
    "start_time": "2021-07-28T02:47:45.992Z"
   },
   {
    "duration": 5,
    "start_time": "2021-07-28T02:47:46.018Z"
   },
   {
    "duration": 6,
    "start_time": "2021-07-28T02:47:46.026Z"
   },
   {
    "duration": 6,
    "start_time": "2021-07-28T02:47:46.035Z"
   },
   {
    "duration": 5,
    "start_time": "2021-07-28T02:47:46.086Z"
   },
   {
    "duration": 796,
    "start_time": "2021-07-28T02:47:46.100Z"
   },
   {
    "duration": 50,
    "start_time": "2021-07-28T02:47:46.902Z"
   },
   {
    "duration": 78,
    "start_time": "2021-07-28T02:47:46.955Z"
   },
   {
    "duration": 237,
    "start_time": "2021-07-28T02:47:47.035Z"
   },
   {
    "duration": 69,
    "start_time": "2021-07-28T02:47:47.275Z"
   },
   {
    "duration": 321,
    "start_time": "2021-07-28T02:47:47.347Z"
   },
   {
    "duration": 204,
    "start_time": "2021-07-28T02:47:47.671Z"
   },
   {
    "duration": 12,
    "start_time": "2021-07-28T02:47:47.878Z"
   },
   {
    "duration": 5,
    "start_time": "2021-07-28T02:47:47.893Z"
   },
   {
    "duration": 29,
    "start_time": "2021-07-28T02:47:47.901Z"
   },
   {
    "duration": 59,
    "start_time": "2021-07-28T02:47:47.933Z"
   },
   {
    "duration": 25,
    "start_time": "2021-07-28T02:47:47.995Z"
   },
   {
    "duration": 22,
    "start_time": "2021-07-28T02:47:48.023Z"
   },
   {
    "duration": 48,
    "start_time": "2021-07-28T02:47:48.048Z"
   },
   {
    "duration": 105,
    "start_time": "2021-07-28T02:47:48.099Z"
   },
   {
    "duration": 173,
    "start_time": "2021-07-28T02:47:48.206Z"
   },
   {
    "duration": 5,
    "start_time": "2021-07-28T02:47:48.386Z"
   },
   {
    "duration": 23,
    "start_time": "2021-07-28T02:47:48.393Z"
   },
   {
    "duration": 20,
    "start_time": "2021-07-28T02:47:48.419Z"
   },
   {
    "duration": 147,
    "start_time": "2021-07-28T02:47:48.442Z"
   },
   {
    "duration": 31,
    "start_time": "2021-07-28T02:47:48.592Z"
   },
   {
    "duration": 5,
    "start_time": "2021-07-28T02:47:48.625Z"
   },
   {
    "duration": 35942,
    "start_time": "2021-07-28T02:47:48.632Z"
   },
   {
    "duration": 39,
    "start_time": "2021-07-28T02:48:24.576Z"
   },
   {
    "duration": 11,
    "start_time": "2021-07-28T02:48:24.617Z"
   },
   {
    "duration": 22,
    "start_time": "2021-07-28T02:48:24.630Z"
   },
   {
    "duration": 34,
    "start_time": "2021-07-28T02:48:24.654Z"
   },
   {
    "duration": 33,
    "start_time": "2021-07-28T02:48:24.690Z"
   },
   {
    "duration": 22,
    "start_time": "2021-07-28T02:48:24.725Z"
   },
   {
    "duration": 197,
    "start_time": "2021-07-28T02:48:24.749Z"
   },
   {
    "duration": 39,
    "start_time": "2021-07-28T02:48:24.948Z"
   },
   {
    "duration": 6,
    "start_time": "2021-07-28T02:48:24.990Z"
   },
   {
    "duration": 43133,
    "start_time": "2021-07-28T02:48:24.999Z"
   },
   {
    "duration": 26,
    "start_time": "2021-07-28T02:49:08.134Z"
   },
   {
    "duration": 27,
    "start_time": "2021-07-28T02:49:08.162Z"
   },
   {
    "duration": 98,
    "start_time": "2021-07-28T02:49:08.192Z"
   },
   {
    "duration": 21,
    "start_time": "2021-07-28T02:49:08.292Z"
   },
   {
    "duration": 21,
    "start_time": "2021-07-28T02:49:08.316Z"
   },
   {
    "duration": 49,
    "start_time": "2021-07-28T02:49:08.339Z"
   },
   {
    "duration": 23,
    "start_time": "2021-07-28T02:49:08.390Z"
   },
   {
    "duration": 39,
    "start_time": "2021-07-28T02:49:08.415Z"
   },
   {
    "duration": 133,
    "start_time": "2021-07-28T02:49:08.457Z"
   },
   {
    "duration": 20,
    "start_time": "2021-07-28T02:49:08.592Z"
   },
   {
    "duration": 26,
    "start_time": "2021-07-28T02:49:08.614Z"
   },
   {
    "duration": 49,
    "start_time": "2021-07-28T02:49:08.643Z"
   },
   {
    "duration": 70,
    "start_time": "2021-07-28T02:49:08.701Z"
   },
   {
    "duration": 6,
    "start_time": "2021-07-28T02:49:08.787Z"
   },
   {
    "duration": 22,
    "start_time": "2021-07-28T02:49:08.795Z"
   },
   {
    "duration": 12,
    "start_time": "2021-07-28T02:49:08.819Z"
   },
   {
    "duration": 3,
    "start_time": "2021-07-28T02:49:08.834Z"
   },
   {
    "duration": 766,
    "start_time": "2021-07-28T02:49:08.840Z"
   },
   {
    "duration": 1132,
    "start_time": "2021-07-28T02:49:09.609Z"
   },
   {
    "duration": 3,
    "start_time": "2021-07-28T02:49:10.744Z"
   },
   {
    "duration": 35,
    "start_time": "2021-07-28T02:49:10.750Z"
   },
   {
    "duration": 4,
    "start_time": "2021-07-28T02:49:10.788Z"
   },
   {
    "duration": 37,
    "start_time": "2021-07-28T02:49:10.795Z"
   },
   {
    "duration": 12,
    "start_time": "2021-07-28T02:49:10.835Z"
   },
   {
    "duration": 37,
    "start_time": "2021-07-28T02:49:10.849Z"
   },
   {
    "duration": 9,
    "start_time": "2021-07-28T02:49:10.888Z"
   },
   {
    "duration": 5,
    "start_time": "2021-07-28T02:49:10.899Z"
   },
   {
    "duration": 9,
    "start_time": "2021-07-28T02:49:10.906Z"
   },
   {
    "duration": 5,
    "start_time": "2021-07-28T02:49:10.918Z"
   },
   {
    "duration": 12,
    "start_time": "2021-07-28T02:49:10.925Z"
   },
   {
    "duration": 193,
    "start_time": "2021-07-28T02:49:10.939Z"
   },
   {
    "duration": 14,
    "start_time": "2021-07-28T02:49:11.135Z"
   },
   {
    "duration": 9,
    "start_time": "2021-07-28T02:49:11.151Z"
   },
   {
    "duration": 25,
    "start_time": "2021-07-28T02:49:11.162Z"
   },
   {
    "duration": 7,
    "start_time": "2021-07-28T02:49:11.189Z"
   },
   {
    "duration": 29558,
    "start_time": "2021-07-28T02:49:11.198Z"
   },
   {
    "duration": 6,
    "start_time": "2021-07-28T02:49:40.759Z"
   },
   {
    "duration": 319,
    "start_time": "2021-07-28T02:49:40.769Z"
   },
   {
    "duration": 12,
    "start_time": "2021-07-28T02:49:41.091Z"
   },
   {
    "duration": 7,
    "start_time": "2021-07-28T02:49:41.105Z"
   },
   {
    "duration": 12,
    "start_time": "2021-07-28T02:49:41.115Z"
   },
   {
    "duration": 10261,
    "start_time": "2021-07-28T02:49:41.130Z"
   },
   {
    "duration": 692,
    "start_time": "2021-07-28T02:49:51.393Z"
   },
   {
    "duration": 8,
    "start_time": "2021-07-28T02:49:52.088Z"
   },
   {
    "duration": 19,
    "start_time": "2021-07-28T02:49:52.098Z"
   },
   {
    "duration": 7,
    "start_time": "2021-07-28T02:49:52.119Z"
   },
   {
    "duration": 10,
    "start_time": "2021-07-28T02:49:52.128Z"
   },
   {
    "duration": 10,
    "start_time": "2021-07-28T02:49:52.141Z"
   },
   {
    "duration": 32,
    "start_time": "2021-07-28T02:49:52.154Z"
   },
   {
    "duration": 18401,
    "start_time": "2021-07-28T02:49:52.188Z"
   },
   {
    "duration": 1201,
    "start_time": "2021-07-28T02:50:10.592Z"
   },
   {
    "duration": 8,
    "start_time": "2021-07-28T02:50:11.796Z"
   },
   {
    "duration": 80,
    "start_time": "2021-07-28T02:50:11.806Z"
   },
   {
    "duration": 551,
    "start_time": "2021-07-28T03:27:29.453Z"
   },
   {
    "duration": 1133,
    "start_time": "2021-07-28T03:27:39.259Z"
   },
   {
    "duration": 9,
    "start_time": "2021-07-28T03:27:40.395Z"
   },
   {
    "duration": 89,
    "start_time": "2021-07-28T03:27:40.407Z"
   },
   {
    "duration": 58,
    "start_time": "2021-07-28T03:32:12.221Z"
   },
   {
    "duration": 32464,
    "start_time": "2021-07-28T03:32:13.373Z"
   },
   {
    "duration": 257,
    "start_time": "2021-07-28T03:32:45.840Z"
   },
   {
    "duration": 9,
    "start_time": "2021-07-28T03:32:46.100Z"
   },
   {
    "duration": 18342,
    "start_time": "2021-07-28T03:36:53.253Z"
   },
   {
    "duration": 1144,
    "start_time": "2021-07-28T03:37:39.150Z"
   },
   {
    "duration": 9,
    "start_time": "2021-07-28T03:37:40.297Z"
   },
   {
    "duration": 10,
    "start_time": "2021-07-28T03:37:49.894Z"
   },
   {
    "duration": 17,
    "start_time": "2021-07-28T03:40:06.872Z"
   },
   {
    "duration": 946,
    "start_time": "2021-07-28T03:40:32.269Z"
   },
   {
    "duration": 649,
    "start_time": "2021-07-28T03:40:33.218Z"
   },
   {
    "duration": 4,
    "start_time": "2021-07-28T03:40:33.870Z"
   },
   {
    "duration": 1155,
    "start_time": "2021-07-28T03:40:33.877Z"
   },
   {
    "duration": 164,
    "start_time": "2021-07-28T03:40:35.034Z"
   },
   {
    "duration": 3,
    "start_time": "2021-07-28T03:40:35.200Z"
   },
   {
    "duration": 53,
    "start_time": "2021-07-28T03:40:35.206Z"
   },
   {
    "duration": 775,
    "start_time": "2021-07-28T03:40:35.286Z"
   },
   {
    "duration": 822,
    "start_time": "2021-07-28T03:40:36.064Z"
   },
   {
    "duration": 445,
    "start_time": "2021-07-28T03:40:36.888Z"
   },
   {
    "duration": 15,
    "start_time": "2021-07-28T03:40:37.335Z"
   },
   {
    "duration": 83,
    "start_time": "2021-07-28T03:40:37.352Z"
   },
   {
    "duration": 12,
    "start_time": "2021-07-28T03:40:37.438Z"
   },
   {
    "duration": 35,
    "start_time": "2021-07-28T03:40:37.452Z"
   },
   {
    "duration": 844,
    "start_time": "2021-07-28T03:40:37.489Z"
   },
   {
    "duration": 61,
    "start_time": "2021-07-28T03:40:38.335Z"
   },
   {
    "duration": 22,
    "start_time": "2021-07-28T03:40:38.398Z"
   },
   {
    "duration": 22,
    "start_time": "2021-07-28T03:40:38.422Z"
   },
   {
    "duration": 4,
    "start_time": "2021-07-28T03:40:38.447Z"
   },
   {
    "duration": 34,
    "start_time": "2021-07-28T03:40:38.453Z"
   },
   {
    "duration": 10,
    "start_time": "2021-07-28T03:40:38.489Z"
   },
   {
    "duration": 5,
    "start_time": "2021-07-28T03:40:38.501Z"
   },
   {
    "duration": 733,
    "start_time": "2021-07-28T03:40:38.512Z"
   },
   {
    "duration": 67,
    "start_time": "2021-07-28T03:40:39.252Z"
   },
   {
    "duration": 63,
    "start_time": "2021-07-28T03:40:39.322Z"
   },
   {
    "duration": 236,
    "start_time": "2021-07-28T03:40:39.388Z"
   },
   {
    "duration": 73,
    "start_time": "2021-07-28T03:40:39.627Z"
   },
   {
    "duration": 323,
    "start_time": "2021-07-28T03:40:39.703Z"
   },
   {
    "duration": 222,
    "start_time": "2021-07-28T03:40:40.029Z"
   },
   {
    "duration": 8,
    "start_time": "2021-07-28T03:40:40.254Z"
   },
   {
    "duration": 5,
    "start_time": "2021-07-28T03:40:40.264Z"
   },
   {
    "duration": 24,
    "start_time": "2021-07-28T03:40:40.286Z"
   },
   {
    "duration": 26,
    "start_time": "2021-07-28T03:40:40.313Z"
   },
   {
    "duration": 53,
    "start_time": "2021-07-28T03:40:40.342Z"
   },
   {
    "duration": 24,
    "start_time": "2021-07-28T03:40:40.398Z"
   },
   {
    "duration": 26,
    "start_time": "2021-07-28T03:40:40.425Z"
   },
   {
    "duration": 133,
    "start_time": "2021-07-28T03:40:40.454Z"
   },
   {
    "duration": 184,
    "start_time": "2021-07-28T03:40:40.590Z"
   },
   {
    "duration": 11,
    "start_time": "2021-07-28T03:40:40.777Z"
   },
   {
    "duration": 30,
    "start_time": "2021-07-28T03:40:40.791Z"
   },
   {
    "duration": 23,
    "start_time": "2021-07-28T03:40:40.824Z"
   },
   {
    "duration": 156,
    "start_time": "2021-07-28T03:40:40.850Z"
   },
   {
    "duration": 32,
    "start_time": "2021-07-28T03:40:41.009Z"
   },
   {
    "duration": 7,
    "start_time": "2021-07-28T03:40:41.043Z"
   },
   {
    "duration": 35758,
    "start_time": "2021-07-28T03:40:41.053Z"
   },
   {
    "duration": 41,
    "start_time": "2021-07-28T03:41:16.813Z"
   },
   {
    "duration": 31,
    "start_time": "2021-07-28T03:41:16.857Z"
   },
   {
    "duration": 18,
    "start_time": "2021-07-28T03:41:16.890Z"
   },
   {
    "duration": 7,
    "start_time": "2021-07-28T03:41:16.911Z"
   },
   {
    "duration": 22,
    "start_time": "2021-07-28T03:41:16.921Z"
   },
   {
    "duration": 55,
    "start_time": "2021-07-28T03:41:16.945Z"
   },
   {
    "duration": 188,
    "start_time": "2021-07-28T03:41:17.002Z"
   },
   {
    "duration": 30,
    "start_time": "2021-07-28T03:41:17.193Z"
   },
   {
    "duration": 6,
    "start_time": "2021-07-28T03:41:17.226Z"
   },
   {
    "duration": 43353,
    "start_time": "2021-07-28T03:41:17.234Z"
   },
   {
    "duration": 27,
    "start_time": "2021-07-28T03:42:00.589Z"
   },
   {
    "duration": 10,
    "start_time": "2021-07-28T03:42:00.618Z"
   },
   {
    "duration": 112,
    "start_time": "2021-07-28T03:42:00.631Z"
   },
   {
    "duration": 22,
    "start_time": "2021-07-28T03:42:00.745Z"
   },
   {
    "duration": 21,
    "start_time": "2021-07-28T03:42:00.785Z"
   },
   {
    "duration": 31,
    "start_time": "2021-07-28T03:42:00.809Z"
   },
   {
    "duration": 29,
    "start_time": "2021-07-28T03:42:00.842Z"
   },
   {
    "duration": 49,
    "start_time": "2021-07-28T03:42:00.874Z"
   },
   {
    "duration": 127,
    "start_time": "2021-07-28T03:42:00.926Z"
   },
   {
    "duration": 32,
    "start_time": "2021-07-28T03:42:01.055Z"
   },
   {
    "duration": 26,
    "start_time": "2021-07-28T03:42:01.090Z"
   },
   {
    "duration": 32,
    "start_time": "2021-07-28T03:42:01.118Z"
   },
   {
    "duration": 94,
    "start_time": "2021-07-28T03:42:01.160Z"
   },
   {
    "duration": 6,
    "start_time": "2021-07-28T03:42:01.258Z"
   },
   {
    "duration": 20,
    "start_time": "2021-07-28T03:42:01.286Z"
   },
   {
    "duration": 18,
    "start_time": "2021-07-28T03:42:01.309Z"
   },
   {
    "duration": 9,
    "start_time": "2021-07-28T03:42:01.329Z"
   },
   {
    "duration": 719,
    "start_time": "2021-07-28T03:42:01.340Z"
   },
   {
    "duration": 1134,
    "start_time": "2021-07-28T03:42:02.062Z"
   },
   {
    "duration": 4,
    "start_time": "2021-07-28T03:42:03.198Z"
   },
   {
    "duration": 35,
    "start_time": "2021-07-28T03:42:03.204Z"
   },
   {
    "duration": 5,
    "start_time": "2021-07-28T03:42:03.242Z"
   },
   {
    "duration": 61,
    "start_time": "2021-07-28T03:42:03.250Z"
   },
   {
    "duration": 12,
    "start_time": "2021-07-28T03:42:03.314Z"
   },
   {
    "duration": 46,
    "start_time": "2021-07-28T03:42:03.329Z"
   },
   {
    "duration": 65,
    "start_time": "2021-07-28T03:42:03.377Z"
   },
   {
    "duration": 109,
    "start_time": "2021-07-28T03:42:03.445Z"
   },
   {
    "duration": 28,
    "start_time": "2021-07-28T03:42:03.557Z"
   },
   {
    "duration": 11,
    "start_time": "2021-07-28T03:42:03.588Z"
   },
   {
    "duration": 20,
    "start_time": "2021-07-28T03:42:03.601Z"
   },
   {
    "duration": 151,
    "start_time": "2021-07-28T03:42:03.623Z"
   },
   {
    "duration": 19,
    "start_time": "2021-07-28T03:42:03.776Z"
   },
   {
    "duration": 12,
    "start_time": "2021-07-28T03:42:03.797Z"
   },
   {
    "duration": 17,
    "start_time": "2021-07-28T03:42:03.811Z"
   },
   {
    "duration": 23,
    "start_time": "2021-07-28T03:42:03.831Z"
   },
   {
    "duration": 29030,
    "start_time": "2021-07-28T03:42:03.856Z"
   },
   {
    "duration": 5,
    "start_time": "2021-07-28T03:42:32.888Z"
   },
   {
    "duration": 294,
    "start_time": "2021-07-28T03:42:32.895Z"
   },
   {
    "duration": 8,
    "start_time": "2021-07-28T03:42:33.191Z"
   },
   {
    "duration": 11,
    "start_time": "2021-07-28T03:42:33.201Z"
   },
   {
    "duration": 14,
    "start_time": "2021-07-28T03:42:33.214Z"
   },
   {
    "duration": 10256,
    "start_time": "2021-07-28T03:42:33.231Z"
   },
   {
    "duration": 598,
    "start_time": "2021-07-28T03:42:43.489Z"
   },
   {
    "duration": 8,
    "start_time": "2021-07-28T03:42:44.090Z"
   },
   {
    "duration": 15,
    "start_time": "2021-07-28T03:42:44.100Z"
   },
   {
    "duration": 8,
    "start_time": "2021-07-28T03:42:44.118Z"
   },
   {
    "duration": 10,
    "start_time": "2021-07-28T03:42:44.129Z"
   },
   {
    "duration": 5,
    "start_time": "2021-07-28T03:42:44.142Z"
   },
   {
    "duration": 4,
    "start_time": "2021-07-28T03:42:44.186Z"
   },
   {
    "duration": 18894,
    "start_time": "2021-07-28T03:42:44.193Z"
   },
   {
    "duration": 1199,
    "start_time": "2021-07-28T03:43:03.090Z"
   },
   {
    "duration": 8,
    "start_time": "2021-07-28T03:43:04.292Z"
   },
   {
    "duration": 17,
    "start_time": "2021-07-28T03:43:04.303Z"
   },
   {
    "duration": 102,
    "start_time": "2021-07-28T03:43:04.323Z"
   },
   {
    "duration": 33210,
    "start_time": "2021-07-28T03:43:04.427Z"
   },
   {
    "duration": 255,
    "start_time": "2021-07-28T03:43:37.639Z"
   },
   {
    "duration": 8,
    "start_time": "2021-07-28T03:43:37.897Z"
   },
   {
    "duration": 18987,
    "start_time": "2021-07-28T03:43:37.908Z"
   },
   {
    "duration": 1210,
    "start_time": "2021-07-28T03:43:56.898Z"
   },
   {
    "duration": 83,
    "start_time": "2021-07-28T03:43:58.110Z"
   },
   {
    "duration": 18,
    "start_time": "2021-07-28T03:43:58.195Z"
   },
   {
    "duration": 641,
    "start_time": "2021-07-28T03:45:53.692Z"
   },
   {
    "duration": 15,
    "start_time": "2021-07-28T03:47:01.424Z"
   },
   {
    "duration": 808,
    "start_time": "2021-07-28T04:32:00.010Z"
   },
   {
    "duration": 594,
    "start_time": "2021-07-28T04:32:00.820Z"
   },
   {
    "duration": 4,
    "start_time": "2021-07-28T04:32:01.417Z"
   },
   {
    "duration": 1168,
    "start_time": "2021-07-28T04:32:01.423Z"
   },
   {
    "duration": 167,
    "start_time": "2021-07-28T04:32:02.594Z"
   },
   {
    "duration": 4,
    "start_time": "2021-07-28T04:32:07.960Z"
   },
   {
    "duration": 49,
    "start_time": "2021-07-28T04:32:08.291Z"
   },
   {
    "duration": 559,
    "start_time": "2021-07-28T04:32:57.200Z"
   },
   {
    "duration": 696,
    "start_time": "2021-07-28T04:32:58.201Z"
   },
   {
    "duration": 338,
    "start_time": "2021-07-28T04:33:00.940Z"
   },
   {
    "duration": 14,
    "start_time": "2021-07-28T04:33:01.589Z"
   },
   {
    "duration": 69,
    "start_time": "2021-07-28T04:33:03.775Z"
   },
   {
    "duration": 13,
    "start_time": "2021-07-28T04:33:04.256Z"
   },
   {
    "duration": 16,
    "start_time": "2021-07-28T04:33:05.790Z"
   },
   {
    "duration": 878,
    "start_time": "2021-07-28T04:33:06.496Z"
   },
   {
    "duration": 50,
    "start_time": "2021-07-28T04:33:07.377Z"
   },
   {
    "duration": 37,
    "start_time": "2021-07-28T04:33:07.430Z"
   },
   {
    "duration": 23,
    "start_time": "2021-07-28T04:33:07.469Z"
   },
   {
    "duration": 4,
    "start_time": "2021-07-28T04:33:07.610Z"
   },
   {
    "duration": 5,
    "start_time": "2021-07-28T04:33:07.800Z"
   },
   {
    "duration": 5,
    "start_time": "2021-07-28T04:33:07.987Z"
   },
   {
    "duration": 4,
    "start_time": "2021-07-28T04:33:08.331Z"
   },
   {
    "duration": 674,
    "start_time": "2021-07-28T04:33:08.671Z"
   },
   {
    "duration": 54,
    "start_time": "2021-07-28T04:33:09.347Z"
   },
   {
    "duration": 70,
    "start_time": "2021-07-28T04:33:09.404Z"
   },
   {
    "duration": 214,
    "start_time": "2021-07-28T04:33:09.477Z"
   },
   {
    "duration": 61,
    "start_time": "2021-07-28T04:33:09.808Z"
   },
   {
    "duration": 277,
    "start_time": "2021-07-28T04:33:10.030Z"
   },
   {
    "duration": 222,
    "start_time": "2021-07-28T04:33:10.582Z"
   },
   {
    "duration": 8,
    "start_time": "2021-07-28T04:33:11.823Z"
   },
   {
    "duration": 6,
    "start_time": "2021-07-28T04:33:12.025Z"
   },
   {
    "duration": 22,
    "start_time": "2021-07-28T04:33:12.752Z"
   },
   {
    "duration": 25,
    "start_time": "2021-07-28T04:33:13.264Z"
   },
   {
    "duration": 22,
    "start_time": "2021-07-28T04:33:13.791Z"
   },
   {
    "duration": 22,
    "start_time": "2021-07-28T04:33:14.016Z"
   },
   {
    "duration": 22,
    "start_time": "2021-07-28T04:33:14.272Z"
   },
   {
    "duration": 88,
    "start_time": "2021-07-28T04:33:14.727Z"
   },
   {
    "duration": 150,
    "start_time": "2021-07-28T04:33:15.127Z"
   },
   {
    "duration": 5,
    "start_time": "2021-07-28T04:33:15.341Z"
   },
   {
    "duration": 21,
    "start_time": "2021-07-28T04:33:15.943Z"
   },
   {
    "duration": 18,
    "start_time": "2021-07-28T04:33:16.177Z"
   },
   {
    "duration": 114,
    "start_time": "2021-07-28T04:33:16.576Z"
   },
   {
    "duration": 27,
    "start_time": "2021-07-28T04:33:16.945Z"
   },
   {
    "duration": 6,
    "start_time": "2021-07-28T04:33:17.137Z"
   },
   {
    "duration": 34526,
    "start_time": "2021-07-28T04:33:17.535Z"
   },
   {
    "duration": 39,
    "start_time": "2021-07-28T04:33:52.064Z"
   },
   {
    "duration": 11,
    "start_time": "2021-07-28T04:33:52.106Z"
   },
   {
    "duration": 47,
    "start_time": "2021-07-28T04:33:52.120Z"
   },
   {
    "duration": 6,
    "start_time": "2021-07-28T04:33:52.170Z"
   },
   {
    "duration": 25,
    "start_time": "2021-07-28T04:33:52.178Z"
   },
   {
    "duration": 51,
    "start_time": "2021-07-28T04:33:52.205Z"
   },
   {
    "duration": 181,
    "start_time": "2021-07-28T04:33:52.260Z"
   },
   {
    "duration": 33,
    "start_time": "2021-07-28T04:33:52.445Z"
   },
   {
    "duration": 6,
    "start_time": "2021-07-28T04:33:52.481Z"
   },
   {
    "duration": 41106,
    "start_time": "2021-07-28T04:33:52.490Z"
   },
   {
    "duration": 32,
    "start_time": "2021-07-28T04:34:33.599Z"
   },
   {
    "duration": 24,
    "start_time": "2021-07-28T04:34:33.633Z"
   },
   {
    "duration": 81,
    "start_time": "2021-07-28T04:34:33.659Z"
   },
   {
    "duration": 21,
    "start_time": "2021-07-28T04:34:33.755Z"
   },
   {
    "duration": 22,
    "start_time": "2021-07-28T04:34:33.778Z"
   },
   {
    "duration": 27,
    "start_time": "2021-07-28T04:34:33.802Z"
   },
   {
    "duration": 44,
    "start_time": "2021-07-28T04:34:33.831Z"
   },
   {
    "duration": 39,
    "start_time": "2021-07-28T04:34:33.877Z"
   },
   {
    "duration": 123,
    "start_time": "2021-07-28T04:34:33.919Z"
   },
   {
    "duration": 20,
    "start_time": "2021-07-28T04:34:34.045Z"
   },
   {
    "duration": 27,
    "start_time": "2021-07-28T04:34:34.067Z"
   },
   {
    "duration": 437,
    "start_time": "2021-07-29T01:27:05.083Z"
   },
   {
    "duration": 979,
    "start_time": "2021-07-29T01:27:13.383Z"
   },
   {
    "duration": 742,
    "start_time": "2021-07-29T01:27:14.364Z"
   },
   {
    "duration": 5,
    "start_time": "2021-07-29T01:27:15.109Z"
   },
   {
    "duration": 1147,
    "start_time": "2021-07-29T01:27:15.116Z"
   },
   {
    "duration": 166,
    "start_time": "2021-07-29T01:27:16.265Z"
   },
   {
    "duration": 4,
    "start_time": "2021-07-29T01:27:16.433Z"
   },
   {
    "duration": 66,
    "start_time": "2021-07-29T01:27:16.439Z"
   },
   {
    "duration": 674,
    "start_time": "2021-07-29T01:27:16.508Z"
   },
   {
    "duration": 840,
    "start_time": "2021-07-29T01:27:17.185Z"
   },
   {
    "duration": 374,
    "start_time": "2021-07-29T01:27:18.028Z"
   },
   {
    "duration": 19,
    "start_time": "2021-07-29T01:27:18.405Z"
   },
   {
    "duration": 94,
    "start_time": "2021-07-29T01:27:18.427Z"
   },
   {
    "duration": 13,
    "start_time": "2021-07-29T01:27:18.523Z"
   },
   {
    "duration": 36,
    "start_time": "2021-07-29T01:27:18.539Z"
   },
   {
    "duration": 787,
    "start_time": "2021-07-29T01:27:18.578Z"
   },
   {
    "duration": 52,
    "start_time": "2021-07-29T01:27:19.367Z"
   },
   {
    "duration": 42,
    "start_time": "2021-07-29T01:27:19.421Z"
   },
   {
    "duration": 22,
    "start_time": "2021-07-29T01:27:19.466Z"
   },
   {
    "duration": 19,
    "start_time": "2021-07-29T01:27:19.490Z"
   },
   {
    "duration": 6,
    "start_time": "2021-07-29T01:27:19.511Z"
   },
   {
    "duration": 8,
    "start_time": "2021-07-29T01:27:19.520Z"
   },
   {
    "duration": 31,
    "start_time": "2021-07-29T01:27:19.530Z"
   },
   {
    "duration": 711,
    "start_time": "2021-07-29T01:27:19.568Z"
   },
   {
    "duration": 49,
    "start_time": "2021-07-29T01:27:20.283Z"
   },
   {
    "duration": 72,
    "start_time": "2021-07-29T01:27:20.334Z"
   },
   {
    "duration": 239,
    "start_time": "2021-07-29T01:27:20.409Z"
   },
   {
    "duration": 70,
    "start_time": "2021-07-29T01:27:20.650Z"
   },
   {
    "duration": 316,
    "start_time": "2021-07-29T01:27:20.722Z"
   },
   {
    "duration": 221,
    "start_time": "2021-07-29T01:27:21.040Z"
   },
   {
    "duration": 8,
    "start_time": "2021-07-29T01:27:21.263Z"
   },
   {
    "duration": 7,
    "start_time": "2021-07-29T01:27:21.273Z"
   },
   {
    "duration": 26,
    "start_time": "2021-07-29T01:27:21.283Z"
   },
   {
    "duration": 57,
    "start_time": "2021-07-29T01:27:21.311Z"
   },
   {
    "duration": 26,
    "start_time": "2021-07-29T01:27:21.370Z"
   },
   {
    "duration": 23,
    "start_time": "2021-07-29T01:27:21.399Z"
   },
   {
    "duration": 54,
    "start_time": "2021-07-29T01:27:21.425Z"
   },
   {
    "duration": 104,
    "start_time": "2021-07-29T01:27:21.482Z"
   },
   {
    "duration": 177,
    "start_time": "2021-07-29T01:27:21.588Z"
   },
   {
    "duration": 5,
    "start_time": "2021-07-29T01:27:21.767Z"
   },
   {
    "duration": 25,
    "start_time": "2021-07-29T01:27:21.774Z"
   },
   {
    "duration": 20,
    "start_time": "2021-07-29T01:27:21.802Z"
   },
   {
    "duration": 147,
    "start_time": "2021-07-29T01:27:21.825Z"
   },
   {
    "duration": 33,
    "start_time": "2021-07-29T01:27:21.974Z"
   },
   {
    "duration": 6,
    "start_time": "2021-07-29T01:27:22.009Z"
   },
   {
    "duration": 37945,
    "start_time": "2021-07-29T01:27:22.017Z"
   },
   {
    "duration": 41,
    "start_time": "2021-07-29T01:27:59.964Z"
   },
   {
    "duration": 12,
    "start_time": "2021-07-29T01:28:00.007Z"
   },
   {
    "duration": 47,
    "start_time": "2021-07-29T01:28:00.021Z"
   },
   {
    "duration": 11,
    "start_time": "2021-07-29T01:28:00.071Z"
   },
   {
    "duration": 35,
    "start_time": "2021-07-29T01:28:00.084Z"
   },
   {
    "duration": 34,
    "start_time": "2021-07-29T01:28:00.121Z"
   },
   {
    "duration": 198,
    "start_time": "2021-07-29T01:28:00.157Z"
   },
   {
    "duration": 31,
    "start_time": "2021-07-29T01:28:00.361Z"
   },
   {
    "duration": 6,
    "start_time": "2021-07-29T01:28:00.394Z"
   },
   {
    "duration": 43975,
    "start_time": "2021-07-29T01:28:00.403Z"
   },
   {
    "duration": 26,
    "start_time": "2021-07-29T01:28:44.381Z"
   },
   {
    "duration": 10,
    "start_time": "2021-07-29T01:28:44.409Z"
   },
   {
    "duration": 115,
    "start_time": "2021-07-29T01:28:44.422Z"
   },
   {
    "duration": 30,
    "start_time": "2021-07-29T01:28:44.540Z"
   },
   {
    "duration": 23,
    "start_time": "2021-07-29T01:28:44.572Z"
   },
   {
    "duration": 25,
    "start_time": "2021-07-29T01:28:44.597Z"
   },
   {
    "duration": 51,
    "start_time": "2021-07-29T01:28:44.625Z"
   },
   {
    "duration": 41,
    "start_time": "2021-07-29T01:28:44.679Z"
   },
   {
    "duration": 133,
    "start_time": "2021-07-29T01:28:44.722Z"
   },
   {
    "duration": 19,
    "start_time": "2021-07-29T01:28:44.857Z"
   },
   {
    "duration": 25,
    "start_time": "2021-07-29T01:28:44.879Z"
   },
   {
    "duration": 23,
    "start_time": "2021-07-29T01:28:44.907Z"
   },
   {
    "duration": 71,
    "start_time": "2021-07-29T01:28:44.963Z"
   },
   {
    "duration": 5,
    "start_time": "2021-07-29T01:28:45.038Z"
   },
   {
    "duration": 21,
    "start_time": "2021-07-29T01:28:45.062Z"
   },
   {
    "duration": 12,
    "start_time": "2021-07-29T01:28:45.086Z"
   },
   {
    "duration": 3,
    "start_time": "2021-07-29T01:28:45.100Z"
   },
   {
    "duration": 1068,
    "start_time": "2021-07-29T01:28:45.106Z"
   },
   {
    "duration": 1216,
    "start_time": "2021-07-29T01:28:46.176Z"
   },
   {
    "duration": 4,
    "start_time": "2021-07-29T01:28:47.394Z"
   },
   {
    "duration": 23,
    "start_time": "2021-07-29T01:28:47.400Z"
   },
   {
    "duration": 3,
    "start_time": "2021-07-29T01:28:47.425Z"
   },
   {
    "duration": 59,
    "start_time": "2021-07-29T01:28:47.430Z"
   },
   {
    "duration": 10,
    "start_time": "2021-07-29T01:28:47.491Z"
   },
   {
    "duration": 5,
    "start_time": "2021-07-29T01:28:47.504Z"
   },
   {
    "duration": 53,
    "start_time": "2021-07-29T01:28:47.511Z"
   },
   {
    "duration": 6,
    "start_time": "2021-07-29T01:28:47.566Z"
   },
   {
    "duration": 9,
    "start_time": "2021-07-29T01:28:47.574Z"
   },
   {
    "duration": 5,
    "start_time": "2021-07-29T01:28:47.585Z"
   },
   {
    "duration": 18,
    "start_time": "2021-07-29T01:28:47.592Z"
   },
   {
    "duration": 205,
    "start_time": "2021-07-29T01:28:47.612Z"
   },
   {
    "duration": 14,
    "start_time": "2021-07-29T01:28:47.819Z"
   },
   {
    "duration": 27,
    "start_time": "2021-07-29T01:28:47.836Z"
   },
   {
    "duration": 3,
    "start_time": "2021-07-29T01:28:47.866Z"
   },
   {
    "duration": 6,
    "start_time": "2021-07-29T01:28:47.872Z"
   },
   {
    "duration": 27871,
    "start_time": "2021-07-29T01:28:47.881Z"
   },
   {
    "duration": 5,
    "start_time": "2021-07-29T01:29:15.754Z"
   },
   {
    "duration": 308,
    "start_time": "2021-07-29T01:29:15.761Z"
   },
   {
    "duration": 8,
    "start_time": "2021-07-29T01:29:16.071Z"
   },
   {
    "duration": 10,
    "start_time": "2021-07-29T01:29:16.082Z"
   },
   {
    "duration": 14,
    "start_time": "2021-07-29T01:29:16.094Z"
   },
   {
    "duration": 9754,
    "start_time": "2021-07-29T01:29:16.110Z"
   },
   {
    "duration": 606,
    "start_time": "2021-07-29T01:29:25.867Z"
   },
   {
    "duration": 92,
    "start_time": "2021-07-29T01:29:26.476Z"
   },
   {
    "duration": 16,
    "start_time": "2021-07-29T01:29:26.570Z"
   },
   {
    "duration": 4,
    "start_time": "2021-07-29T01:29:26.588Z"
   },
   {
    "duration": 6,
    "start_time": "2021-07-29T01:29:26.594Z"
   },
   {
    "duration": 7,
    "start_time": "2021-07-29T01:29:26.602Z"
   },
   {
    "duration": 6,
    "start_time": "2021-07-29T01:29:26.611Z"
   },
   {
    "duration": 17904,
    "start_time": "2021-07-29T01:29:26.662Z"
   },
   {
    "duration": 1197,
    "start_time": "2021-07-29T01:29:44.569Z"
   },
   {
    "duration": 10,
    "start_time": "2021-07-29T01:29:45.769Z"
   },
   {
    "duration": 17,
    "start_time": "2021-07-29T01:29:45.782Z"
   },
   {
    "duration": 101,
    "start_time": "2021-07-29T01:29:45.802Z"
   },
   {
    "duration": 32003,
    "start_time": "2021-07-29T01:29:45.906Z"
   },
   {
    "duration": 454,
    "start_time": "2021-07-29T01:30:17.913Z"
   },
   {
    "duration": 10,
    "start_time": "2021-07-29T01:30:18.371Z"
   },
   {
    "duration": 19386,
    "start_time": "2021-07-29T01:30:18.385Z"
   },
   {
    "duration": 1211,
    "start_time": "2021-07-29T01:30:37.773Z"
   },
   {
    "duration": 9,
    "start_time": "2021-07-29T01:30:38.987Z"
   },
   {
    "duration": 73,
    "start_time": "2021-07-29T01:30:38.999Z"
   },
   {
    "duration": 1181,
    "start_time": "2021-07-30T03:20:45.070Z"
   },
   {
    "duration": 3,
    "start_time": "2021-07-30T03:21:00.933Z"
   },
   {
    "duration": 573,
    "start_time": "2021-07-30T03:24:28.532Z"
   },
   {
    "duration": 883,
    "start_time": "2021-07-30T03:24:48.773Z"
   },
   {
    "duration": 633,
    "start_time": "2021-07-30T03:24:49.658Z"
   },
   {
    "duration": 4,
    "start_time": "2021-07-30T03:24:50.294Z"
   },
   {
    "duration": 1018,
    "start_time": "2021-07-30T03:24:50.301Z"
   },
   {
    "duration": 156,
    "start_time": "2021-07-30T03:24:51.321Z"
   },
   {
    "duration": 3,
    "start_time": "2021-07-30T03:24:51.479Z"
   },
   {
    "duration": 52,
    "start_time": "2021-07-30T03:24:51.484Z"
   },
   {
    "duration": 583,
    "start_time": "2021-07-30T03:24:51.539Z"
   },
   {
    "duration": 701,
    "start_time": "2021-07-30T03:24:52.125Z"
   },
   {
    "duration": 342,
    "start_time": "2021-07-30T03:24:52.828Z"
   },
   {
    "duration": 15,
    "start_time": "2021-07-30T03:24:53.172Z"
   },
   {
    "duration": 89,
    "start_time": "2021-07-30T03:24:53.189Z"
   },
   {
    "duration": 12,
    "start_time": "2021-07-30T03:24:53.281Z"
   },
   {
    "duration": 17,
    "start_time": "2021-07-30T03:24:53.295Z"
   },
   {
    "duration": 770,
    "start_time": "2021-07-30T03:24:53.314Z"
   },
   {
    "duration": 48,
    "start_time": "2021-07-30T03:24:54.087Z"
   },
   {
    "duration": 32,
    "start_time": "2021-07-30T03:24:54.138Z"
   },
   {
    "duration": 21,
    "start_time": "2021-07-30T03:24:54.172Z"
   },
   {
    "duration": 5,
    "start_time": "2021-07-30T03:24:54.195Z"
   },
   {
    "duration": 6,
    "start_time": "2021-07-30T03:24:54.202Z"
   },
   {
    "duration": 7,
    "start_time": "2021-07-30T03:24:54.210Z"
   },
   {
    "duration": 3,
    "start_time": "2021-07-30T03:24:54.256Z"
   },
   {
    "duration": 642,
    "start_time": "2021-07-30T03:24:54.265Z"
   },
   {
    "duration": 59,
    "start_time": "2021-07-30T03:24:54.911Z"
   },
   {
    "duration": 46,
    "start_time": "2021-07-30T03:24:54.973Z"
   },
   {
    "duration": 218,
    "start_time": "2021-07-30T03:24:55.021Z"
   },
   {
    "duration": 62,
    "start_time": "2021-07-30T03:24:55.241Z"
   },
   {
    "duration": 298,
    "start_time": "2021-07-30T03:24:55.306Z"
   },
   {
    "duration": 223,
    "start_time": "2021-07-30T03:24:55.607Z"
   },
   {
    "duration": 8,
    "start_time": "2021-07-30T03:24:55.832Z"
   },
   {
    "duration": 5,
    "start_time": "2021-07-30T03:24:55.856Z"
   },
   {
    "duration": 26,
    "start_time": "2021-07-30T03:24:55.864Z"
   },
   {
    "duration": 26,
    "start_time": "2021-07-30T03:24:55.893Z"
   },
   {
    "duration": 57,
    "start_time": "2021-07-30T03:24:55.922Z"
   },
   {
    "duration": 21,
    "start_time": "2021-07-30T03:24:55.981Z"
   },
   {
    "duration": 23,
    "start_time": "2021-07-30T03:24:56.004Z"
   },
   {
    "duration": 91,
    "start_time": "2021-07-30T03:24:56.056Z"
   },
   {
    "duration": 172,
    "start_time": "2021-07-30T03:24:56.149Z"
   },
   {
    "duration": 4,
    "start_time": "2021-07-30T03:24:56.324Z"
   },
   {
    "duration": 39,
    "start_time": "2021-07-30T03:24:56.331Z"
   },
   {
    "duration": 21,
    "start_time": "2021-07-30T03:24:56.372Z"
   },
   {
    "duration": 123,
    "start_time": "2021-07-30T03:24:56.396Z"
   },
   {
    "duration": 39,
    "start_time": "2021-07-30T03:24:56.521Z"
   },
   {
    "duration": 5,
    "start_time": "2021-07-30T03:24:56.563Z"
   },
   {
    "duration": 34462,
    "start_time": "2021-07-30T03:24:56.571Z"
   },
   {
    "duration": 44,
    "start_time": "2021-07-30T03:25:31.036Z"
   },
   {
    "duration": 10,
    "start_time": "2021-07-30T03:25:31.083Z"
   },
   {
    "duration": 40,
    "start_time": "2021-07-30T03:25:31.095Z"
   },
   {
    "duration": 27,
    "start_time": "2021-07-30T03:25:31.137Z"
   },
   {
    "duration": 56,
    "start_time": "2021-07-30T03:25:31.166Z"
   },
   {
    "duration": 33,
    "start_time": "2021-07-30T03:25:31.224Z"
   },
   {
    "duration": 169,
    "start_time": "2021-07-30T03:25:31.259Z"
   },
   {
    "duration": 31,
    "start_time": "2021-07-30T03:25:31.430Z"
   },
   {
    "duration": 6,
    "start_time": "2021-07-30T03:25:31.463Z"
   },
   {
    "duration": 40079,
    "start_time": "2021-07-30T03:25:31.471Z"
   },
   {
    "duration": 25,
    "start_time": "2021-07-30T03:26:11.552Z"
   },
   {
    "duration": 10,
    "start_time": "2021-07-30T03:26:11.579Z"
   },
   {
    "duration": 110,
    "start_time": "2021-07-30T03:26:11.591Z"
   },
   {
    "duration": 22,
    "start_time": "2021-07-30T03:26:11.703Z"
   },
   {
    "duration": 36,
    "start_time": "2021-07-30T03:26:11.727Z"
   },
   {
    "duration": 33,
    "start_time": "2021-07-30T03:26:11.765Z"
   },
   {
    "duration": 25,
    "start_time": "2021-07-30T03:26:11.801Z"
   },
   {
    "duration": 56,
    "start_time": "2021-07-30T03:26:11.829Z"
   },
   {
    "duration": 117,
    "start_time": "2021-07-30T03:26:11.888Z"
   },
   {
    "duration": 18,
    "start_time": "2021-07-30T03:26:12.008Z"
   },
   {
    "duration": 36,
    "start_time": "2021-07-30T03:26:12.028Z"
   },
   {
    "duration": 25,
    "start_time": "2021-07-30T03:26:12.066Z"
   },
   {
    "duration": 85,
    "start_time": "2021-07-30T03:26:12.100Z"
   },
   {
    "duration": 7,
    "start_time": "2021-07-30T03:26:12.188Z"
   },
   {
    "duration": 30,
    "start_time": "2021-07-30T03:26:12.198Z"
   },
   {
    "duration": 30,
    "start_time": "2021-07-30T03:26:12.231Z"
   },
   {
    "duration": 4,
    "start_time": "2021-07-30T03:26:12.263Z"
   },
   {
    "duration": 524,
    "start_time": "2021-07-30T03:26:12.270Z"
   },
   {
    "duration": 1090,
    "start_time": "2021-07-30T03:26:12.797Z"
   },
   {
    "duration": 420,
    "start_time": "2021-07-30T03:26:13.890Z"
   },
   {
    "duration": 1016,
    "start_time": "2021-07-30T03:26:13.297Z"
   },
   {
    "duration": 1010,
    "start_time": "2021-07-30T03:26:13.305Z"
   },
   {
    "duration": 1007,
    "start_time": "2021-07-30T03:26:13.310Z"
   },
   {
    "duration": 1005,
    "start_time": "2021-07-30T03:26:13.314Z"
   },
   {
    "duration": 1003,
    "start_time": "2021-07-30T03:26:13.319Z"
   },
   {
    "duration": 993,
    "start_time": "2021-07-30T03:26:13.331Z"
   },
   {
    "duration": 983,
    "start_time": "2021-07-30T03:26:13.343Z"
   },
   {
    "duration": 981,
    "start_time": "2021-07-30T03:26:13.347Z"
   },
   {
    "duration": 978,
    "start_time": "2021-07-30T03:26:13.352Z"
   },
   {
    "duration": 976,
    "start_time": "2021-07-30T03:26:13.356Z"
   },
   {
    "duration": 973,
    "start_time": "2021-07-30T03:26:13.361Z"
   },
   {
    "duration": 971,
    "start_time": "2021-07-30T03:26:13.365Z"
   },
   {
    "duration": 969,
    "start_time": "2021-07-30T03:26:13.370Z"
   },
   {
    "duration": 967,
    "start_time": "2021-07-30T03:26:13.374Z"
   },
   {
    "duration": 963,
    "start_time": "2021-07-30T03:26:13.380Z"
   },
   {
    "duration": 961,
    "start_time": "2021-07-30T03:26:13.384Z"
   },
   {
    "duration": 959,
    "start_time": "2021-07-30T03:26:13.388Z"
   },
   {
    "duration": 957,
    "start_time": "2021-07-30T03:26:13.393Z"
   },
   {
    "duration": 959,
    "start_time": "2021-07-30T03:26:13.397Z"
   },
   {
    "duration": 957,
    "start_time": "2021-07-30T03:26:13.401Z"
   },
   {
    "duration": 944,
    "start_time": "2021-07-30T03:26:13.416Z"
   },
   {
    "duration": 942,
    "start_time": "2021-07-30T03:26:13.420Z"
   },
   {
    "duration": 939,
    "start_time": "2021-07-30T03:26:13.425Z"
   },
   {
    "duration": 937,
    "start_time": "2021-07-30T03:26:13.429Z"
   },
   {
    "duration": 854,
    "start_time": "2021-07-30T03:26:13.514Z"
   },
   {
    "duration": 852,
    "start_time": "2021-07-30T03:26:13.518Z"
   },
   {
    "duration": 849,
    "start_time": "2021-07-30T03:26:13.523Z"
   },
   {
    "duration": 834,
    "start_time": "2021-07-30T03:26:13.540Z"
   },
   {
    "duration": 832,
    "start_time": "2021-07-30T03:26:13.544Z"
   },
   {
    "duration": 831,
    "start_time": "2021-07-30T03:26:13.548Z"
   },
   {
    "duration": 827,
    "start_time": "2021-07-30T03:26:13.553Z"
   },
   {
    "duration": 826,
    "start_time": "2021-07-30T03:26:13.557Z"
   },
   {
    "duration": 824,
    "start_time": "2021-07-30T03:26:13.561Z"
   },
   {
    "duration": 698,
    "start_time": "2021-07-30T03:26:13.689Z"
   },
   {
    "duration": 695,
    "start_time": "2021-07-30T03:26:13.694Z"
   },
   {
    "duration": 693,
    "start_time": "2021-07-30T03:26:13.698Z"
   },
   {
    "duration": 690,
    "start_time": "2021-07-30T03:26:13.703Z"
   },
   {
    "duration": 688,
    "start_time": "2021-07-30T03:26:13.707Z"
   },
   {
    "duration": 745,
    "start_time": "2021-07-30T03:26:13.711Z"
   },
   {
    "duration": 734,
    "start_time": "2021-07-30T03:26:13.724Z"
   },
   {
    "duration": 731,
    "start_time": "2021-07-30T03:26:13.729Z"
   },
   {
    "duration": 729,
    "start_time": "2021-07-30T03:26:13.733Z"
   },
   {
    "duration": 3,
    "start_time": "2021-07-30T03:26:55.314Z"
   },
   {
    "duration": 142,
    "start_time": "2021-07-30T03:35:41.538Z"
   },
   {
    "duration": 8,
    "start_time": "2021-07-30T03:36:02.476Z"
   },
   {
    "duration": 4,
    "start_time": "2021-07-30T03:37:32.851Z"
   },
   {
    "duration": 284,
    "start_time": "2021-07-30T03:39:27.477Z"
   },
   {
    "duration": 20,
    "start_time": "2021-07-30T03:39:49.828Z"
   },
   {
    "duration": 140,
    "start_time": "2021-07-30T03:39:50.740Z"
   },
   {
    "duration": 9,
    "start_time": "2021-07-30T03:39:51.739Z"
   },
   {
    "duration": 288,
    "start_time": "2021-07-30T03:39:52.604Z"
   },
   {
    "duration": 14,
    "start_time": "2021-07-30T03:40:35.076Z"
   },
   {
    "duration": 4,
    "start_time": "2021-07-30T03:47:16.462Z"
   },
   {
    "duration": 6,
    "start_time": "2021-07-30T03:47:27.645Z"
   },
   {
    "duration": 266,
    "start_time": "2021-07-30T03:47:50.573Z"
   },
   {
    "duration": 266,
    "start_time": "2021-07-30T03:48:26.614Z"
   },
   {
    "duration": 290,
    "start_time": "2021-07-30T03:48:38.150Z"
   },
   {
    "duration": 100,
    "start_time": "2021-07-30T03:52:19.290Z"
   },
   {
    "duration": 697,
    "start_time": "2021-07-30T03:52:20.598Z"
   },
   {
    "duration": 14,
    "start_time": "2021-07-30T03:52:24.182Z"
   },
   {
    "duration": 22,
    "start_time": "2021-07-30T03:52:33.871Z"
   },
   {
    "duration": 15,
    "start_time": "2021-07-30T03:53:03.016Z"
   },
   {
    "duration": 283,
    "start_time": "2021-07-30T03:57:23.793Z"
   },
   {
    "duration": 13,
    "start_time": "2021-07-30T03:57:46.551Z"
   },
   {
    "duration": 106,
    "start_time": "2021-07-30T03:57:47.125Z"
   },
   {
    "duration": 791,
    "start_time": "2021-07-30T03:57:47.951Z"
   },
   {
    "duration": 18,
    "start_time": "2021-07-30T03:57:48.745Z"
   },
   {
    "duration": 75,
    "start_time": "2021-07-30T03:57:49.663Z"
   },
   {
    "duration": 4,
    "start_time": "2021-07-30T04:10:49.460Z"
   },
   {
    "duration": 8380,
    "start_time": "2021-07-30T04:10:51.154Z"
   },
   {
    "duration": 917,
    "start_time": "2021-07-30T04:10:58.620Z"
   },
   {
    "duration": 914,
    "start_time": "2021-07-30T04:10:58.625Z"
   },
   {
    "duration": 49499,
    "start_time": "2021-07-30T04:11:13.163Z"
   },
   {
    "duration": 903,
    "start_time": "2021-07-30T04:12:02.664Z"
   },
   {
    "duration": 307,
    "start_time": "2021-07-30T04:12:03.570Z"
   },
   {
    "duration": 4,
    "start_time": "2021-07-30T04:12:26.604Z"
   },
   {
    "duration": 275,
    "start_time": "2021-07-30T04:12:28.354Z"
   },
   {
    "duration": 10,
    "start_time": "2021-07-30T04:12:35.435Z"
   },
   {
    "duration": 9,
    "start_time": "2021-07-30T04:12:45.323Z"
   },
   {
    "duration": 887,
    "start_time": "2021-07-30T04:56:23.509Z"
   },
   {
    "duration": 591,
    "start_time": "2021-07-30T04:56:24.399Z"
   },
   {
    "duration": 5,
    "start_time": "2021-07-30T04:56:24.994Z"
   },
   {
    "duration": 1102,
    "start_time": "2021-07-30T04:56:25.003Z"
   },
   {
    "duration": 174,
    "start_time": "2021-07-30T04:56:26.107Z"
   },
   {
    "duration": 3,
    "start_time": "2021-07-30T04:56:26.284Z"
   },
   {
    "duration": 77,
    "start_time": "2021-07-30T04:56:26.289Z"
   },
   {
    "duration": 575,
    "start_time": "2021-07-30T04:56:26.370Z"
   },
   {
    "duration": 730,
    "start_time": "2021-07-30T04:56:26.956Z"
   },
   {
    "duration": 370,
    "start_time": "2021-07-30T04:56:27.689Z"
   },
   {
    "duration": 16,
    "start_time": "2021-07-30T04:56:28.061Z"
   },
   {
    "duration": 91,
    "start_time": "2021-07-30T04:56:28.079Z"
   },
   {
    "duration": 11,
    "start_time": "2021-07-30T04:56:28.173Z"
   },
   {
    "duration": 15,
    "start_time": "2021-07-30T04:56:28.187Z"
   },
   {
    "duration": 737,
    "start_time": "2021-07-30T04:56:28.205Z"
   },
   {
    "duration": 54,
    "start_time": "2021-07-30T04:56:28.944Z"
   },
   {
    "duration": 20,
    "start_time": "2021-07-30T04:56:29.000Z"
   },
   {
    "duration": 43,
    "start_time": "2021-07-30T04:56:29.022Z"
   },
   {
    "duration": 6,
    "start_time": "2021-07-30T04:56:29.067Z"
   },
   {
    "duration": 5,
    "start_time": "2021-07-30T04:56:29.076Z"
   },
   {
    "duration": 7,
    "start_time": "2021-07-30T04:56:29.083Z"
   },
   {
    "duration": 4,
    "start_time": "2021-07-30T04:56:29.092Z"
   },
   {
    "duration": 714,
    "start_time": "2021-07-30T04:56:29.102Z"
   },
   {
    "duration": 61,
    "start_time": "2021-07-30T04:56:29.820Z"
   },
   {
    "duration": 41,
    "start_time": "2021-07-30T04:56:29.884Z"
   },
   {
    "duration": 240,
    "start_time": "2021-07-30T04:56:29.927Z"
   },
   {
    "duration": 60,
    "start_time": "2021-07-30T04:56:30.169Z"
   },
   {
    "duration": 309,
    "start_time": "2021-07-30T04:56:30.231Z"
   },
   {
    "duration": 211,
    "start_time": "2021-07-30T04:56:30.542Z"
   },
   {
    "duration": 7,
    "start_time": "2021-07-30T04:56:30.756Z"
   },
   {
    "duration": 33,
    "start_time": "2021-07-30T04:56:30.766Z"
   },
   {
    "duration": 32,
    "start_time": "2021-07-30T04:56:30.801Z"
   },
   {
    "duration": 40,
    "start_time": "2021-07-30T04:56:30.835Z"
   },
   {
    "duration": 42,
    "start_time": "2021-07-30T04:56:30.878Z"
   },
   {
    "duration": 29,
    "start_time": "2021-07-30T04:56:30.923Z"
   },
   {
    "duration": 43,
    "start_time": "2021-07-30T04:56:30.954Z"
   },
   {
    "duration": 125,
    "start_time": "2021-07-30T04:56:30.999Z"
   },
   {
    "duration": 178,
    "start_time": "2021-07-30T04:56:31.127Z"
   },
   {
    "duration": 5,
    "start_time": "2021-07-30T04:56:31.307Z"
   },
   {
    "duration": 50,
    "start_time": "2021-07-30T04:56:31.314Z"
   },
   {
    "duration": 21,
    "start_time": "2021-07-30T04:56:31.366Z"
   },
   {
    "duration": 124,
    "start_time": "2021-07-30T04:56:31.390Z"
   },
   {
    "duration": 44,
    "start_time": "2021-07-30T04:56:31.517Z"
   },
   {
    "duration": 8,
    "start_time": "2021-07-30T04:56:31.564Z"
   },
   {
    "duration": 24235,
    "start_time": "2021-07-30T04:56:31.575Z"
   },
   {
    "duration": 50,
    "start_time": "2021-07-30T04:56:55.813Z"
   },
   {
    "duration": 13,
    "start_time": "2021-07-30T04:56:55.866Z"
   },
   {
    "duration": 16,
    "start_time": "2021-07-30T04:56:55.881Z"
   },
   {
    "duration": 5,
    "start_time": "2021-07-30T04:56:55.900Z"
   },
   {
    "duration": 70,
    "start_time": "2021-07-30T04:56:55.908Z"
   },
   {
    "duration": 24,
    "start_time": "2021-07-30T04:56:55.981Z"
   },
   {
    "duration": 208,
    "start_time": "2021-07-30T04:56:56.007Z"
   },
   {
    "duration": 39,
    "start_time": "2021-07-30T04:56:56.217Z"
   },
   {
    "duration": 7,
    "start_time": "2021-07-30T04:56:56.265Z"
   },
   {
    "duration": 36320,
    "start_time": "2021-07-30T04:56:56.274Z"
   },
   {
    "duration": 23,
    "start_time": "2021-07-30T04:57:32.596Z"
   },
   {
    "duration": 10,
    "start_time": "2021-07-30T04:57:32.621Z"
   },
   {
    "duration": 122,
    "start_time": "2021-07-30T04:57:32.633Z"
   },
   {
    "duration": 24,
    "start_time": "2021-07-30T04:57:32.760Z"
   },
   {
    "duration": 21,
    "start_time": "2021-07-30T04:57:32.786Z"
   },
   {
    "duration": 55,
    "start_time": "2021-07-30T04:57:32.809Z"
   },
   {
    "duration": 22,
    "start_time": "2021-07-30T04:57:32.867Z"
   },
   {
    "duration": 37,
    "start_time": "2021-07-30T04:57:32.892Z"
   },
   {
    "duration": 113,
    "start_time": "2021-07-30T04:57:32.931Z"
   },
   {
    "duration": 32,
    "start_time": "2021-07-30T04:57:33.046Z"
   },
   {
    "duration": 25,
    "start_time": "2021-07-30T04:57:33.081Z"
   },
   {
    "duration": 47,
    "start_time": "2021-07-30T04:57:33.109Z"
   },
   {
    "duration": 73,
    "start_time": "2021-07-30T04:57:33.166Z"
   },
   {
    "duration": 8,
    "start_time": "2021-07-30T04:57:33.257Z"
   },
   {
    "duration": 22,
    "start_time": "2021-07-30T04:57:33.270Z"
   },
   {
    "duration": 12,
    "start_time": "2021-07-30T04:57:33.295Z"
   },
   {
    "duration": 4,
    "start_time": "2021-07-30T04:57:33.309Z"
   },
   {
    "duration": 531,
    "start_time": "2021-07-30T04:57:33.315Z"
   },
   {
    "duration": 1196,
    "start_time": "2021-07-30T04:57:33.848Z"
   },
   {
    "duration": 17,
    "start_time": "2021-07-30T04:57:35.046Z"
   },
   {
    "duration": 120,
    "start_time": "2021-07-30T04:57:35.065Z"
   },
   {
    "duration": 756,
    "start_time": "2021-07-30T04:57:35.188Z"
   },
   {
    "duration": 21,
    "start_time": "2021-07-30T04:57:35.947Z"
   },
   {
    "duration": 87,
    "start_time": "2021-07-30T04:57:35.971Z"
   },
   {
    "duration": 4,
    "start_time": "2021-07-30T04:57:36.063Z"
   },
   {
    "duration": 25,
    "start_time": "2021-07-30T04:57:36.070Z"
   },
   {
    "duration": 3,
    "start_time": "2021-07-30T04:57:36.098Z"
   },
   {
    "duration": 3675,
    "start_time": "2021-07-30T04:57:36.103Z"
   },
   {
    "duration": 972,
    "start_time": "2021-07-30T04:57:38.809Z"
   },
   {
    "duration": 966,
    "start_time": "2021-07-30T04:57:38.816Z"
   },
   {
    "duration": 962,
    "start_time": "2021-07-30T04:57:38.822Z"
   },
   {
    "duration": 956,
    "start_time": "2021-07-30T04:57:38.829Z"
   },
   {
    "duration": 951,
    "start_time": "2021-07-30T04:57:38.835Z"
   },
   {
    "duration": 946,
    "start_time": "2021-07-30T04:57:38.842Z"
   },
   {
    "duration": 942,
    "start_time": "2021-07-30T04:57:38.847Z"
   },
   {
    "duration": 937,
    "start_time": "2021-07-30T04:57:38.854Z"
   },
   {
    "duration": 933,
    "start_time": "2021-07-30T04:57:38.859Z"
   },
   {
    "duration": 927,
    "start_time": "2021-07-30T04:57:38.866Z"
   },
   {
    "duration": 923,
    "start_time": "2021-07-30T04:57:38.871Z"
   },
   {
    "duration": 918,
    "start_time": "2021-07-30T04:57:38.877Z"
   },
   {
    "duration": 914,
    "start_time": "2021-07-30T04:57:38.883Z"
   },
   {
    "duration": 908,
    "start_time": "2021-07-30T04:57:38.890Z"
   },
   {
    "duration": 904,
    "start_time": "2021-07-30T04:57:38.895Z"
   },
   {
    "duration": 899,
    "start_time": "2021-07-30T04:57:38.902Z"
   },
   {
    "duration": 894,
    "start_time": "2021-07-30T04:57:38.908Z"
   },
   {
    "duration": 889,
    "start_time": "2021-07-30T04:57:38.914Z"
   },
   {
    "duration": 884,
    "start_time": "2021-07-30T04:57:38.920Z"
   },
   {
    "duration": 870,
    "start_time": "2021-07-30T04:57:38.935Z"
   },
   {
    "duration": 865,
    "start_time": "2021-07-30T04:57:38.942Z"
   },
   {
    "duration": 861,
    "start_time": "2021-07-30T04:57:38.947Z"
   },
   {
    "duration": 857,
    "start_time": "2021-07-30T04:57:38.952Z"
   },
   {
    "duration": 852,
    "start_time": "2021-07-30T04:57:38.958Z"
   },
   {
    "duration": 848,
    "start_time": "2021-07-30T04:57:38.963Z"
   },
   {
    "duration": 845,
    "start_time": "2021-07-30T04:57:38.968Z"
   },
   {
    "duration": 841,
    "start_time": "2021-07-30T04:57:38.973Z"
   },
   {
    "duration": 837,
    "start_time": "2021-07-30T04:57:38.978Z"
   },
   {
    "duration": 833,
    "start_time": "2021-07-30T04:57:38.983Z"
   },
   {
    "duration": 830,
    "start_time": "2021-07-30T04:57:38.988Z"
   },
   {
    "duration": 862,
    "start_time": "2021-07-30T04:57:38.993Z"
   },
   {
    "duration": 859,
    "start_time": "2021-07-30T04:57:38.998Z"
   },
   {
    "duration": 855,
    "start_time": "2021-07-30T04:57:39.003Z"
   },
   {
    "duration": 851,
    "start_time": "2021-07-30T04:57:39.008Z"
   },
   {
    "duration": 849,
    "start_time": "2021-07-30T04:57:39.012Z"
   },
   {
    "duration": 845,
    "start_time": "2021-07-30T04:57:39.017Z"
   },
   {
    "duration": 842,
    "start_time": "2021-07-30T04:57:39.022Z"
   },
   {
    "duration": 838,
    "start_time": "2021-07-30T04:57:39.027Z"
   },
   {
    "duration": 835,
    "start_time": "2021-07-30T04:57:39.032Z"
   },
   {
    "duration": 833,
    "start_time": "2021-07-30T04:57:39.037Z"
   },
   {
    "duration": 830,
    "start_time": "2021-07-30T04:57:39.042Z"
   },
   {
    "duration": 826,
    "start_time": "2021-07-30T04:57:39.047Z"
   },
   {
    "duration": 826,
    "start_time": "2021-07-30T04:57:39.051Z"
   },
   {
    "duration": 890,
    "start_time": "2021-07-30T04:58:49.600Z"
   },
   {
    "duration": 621,
    "start_time": "2021-07-30T04:58:50.492Z"
   },
   {
    "duration": 4,
    "start_time": "2021-07-30T04:58:51.116Z"
   },
   {
    "duration": 1089,
    "start_time": "2021-07-30T04:58:51.122Z"
   },
   {
    "duration": 166,
    "start_time": "2021-07-30T04:58:52.213Z"
   },
   {
    "duration": 3,
    "start_time": "2021-07-30T04:58:52.381Z"
   },
   {
    "duration": 73,
    "start_time": "2021-07-30T04:58:52.387Z"
   },
   {
    "duration": 592,
    "start_time": "2021-07-30T04:58:52.465Z"
   },
   {
    "duration": 736,
    "start_time": "2021-07-30T04:58:53.061Z"
   },
   {
    "duration": 370,
    "start_time": "2021-07-30T04:58:53.799Z"
   },
   {
    "duration": 15,
    "start_time": "2021-07-30T04:58:54.171Z"
   },
   {
    "duration": 82,
    "start_time": "2021-07-30T04:58:54.188Z"
   },
   {
    "duration": 12,
    "start_time": "2021-07-30T04:58:54.273Z"
   },
   {
    "duration": 15,
    "start_time": "2021-07-30T04:58:54.287Z"
   },
   {
    "duration": 778,
    "start_time": "2021-07-30T04:58:54.305Z"
   },
   {
    "duration": 46,
    "start_time": "2021-07-30T04:58:55.085Z"
   },
   {
    "duration": 46,
    "start_time": "2021-07-30T04:58:55.133Z"
   },
   {
    "duration": 21,
    "start_time": "2021-07-30T04:58:55.182Z"
   },
   {
    "duration": 10,
    "start_time": "2021-07-30T04:58:55.205Z"
   },
   {
    "duration": 19,
    "start_time": "2021-07-30T04:58:55.217Z"
   },
   {
    "duration": 11,
    "start_time": "2021-07-30T04:58:55.238Z"
   },
   {
    "duration": 4,
    "start_time": "2021-07-30T04:58:55.264Z"
   },
   {
    "duration": 703,
    "start_time": "2021-07-30T04:58:55.274Z"
   },
   {
    "duration": 46,
    "start_time": "2021-07-30T04:58:55.981Z"
   },
   {
    "duration": 65,
    "start_time": "2021-07-30T04:58:56.030Z"
   },
   {
    "duration": 227,
    "start_time": "2021-07-30T04:58:56.097Z"
   },
   {
    "duration": 74,
    "start_time": "2021-07-30T04:58:56.326Z"
   },
   {
    "duration": 297,
    "start_time": "2021-07-30T04:58:56.402Z"
   },
   {
    "duration": 202,
    "start_time": "2021-07-30T04:58:56.702Z"
   },
   {
    "duration": 7,
    "start_time": "2021-07-30T04:58:56.906Z"
   },
   {
    "duration": 15,
    "start_time": "2021-07-30T04:58:56.915Z"
   },
   {
    "duration": 50,
    "start_time": "2021-07-30T04:58:56.932Z"
   },
   {
    "duration": 22,
    "start_time": "2021-07-30T04:58:56.985Z"
   },
   {
    "duration": 31,
    "start_time": "2021-07-30T04:58:57.009Z"
   },
   {
    "duration": 39,
    "start_time": "2021-07-30T04:58:57.043Z"
   },
   {
    "duration": 34,
    "start_time": "2021-07-30T04:58:57.084Z"
   },
   {
    "duration": 108,
    "start_time": "2021-07-30T04:58:57.121Z"
   },
   {
    "duration": 172,
    "start_time": "2021-07-30T04:58:57.232Z"
   },
   {
    "duration": 6,
    "start_time": "2021-07-30T04:58:57.406Z"
   },
   {
    "duration": 44,
    "start_time": "2021-07-30T04:58:57.414Z"
   },
   {
    "duration": 31,
    "start_time": "2021-07-30T04:58:57.460Z"
   },
   {
    "duration": 115,
    "start_time": "2021-07-30T04:58:57.494Z"
   },
   {
    "duration": 26,
    "start_time": "2021-07-30T04:58:57.612Z"
   },
   {
    "duration": 30,
    "start_time": "2021-07-30T04:58:57.641Z"
   },
   {
    "duration": 24182,
    "start_time": "2021-07-30T04:58:57.674Z"
   },
   {
    "duration": 36,
    "start_time": "2021-07-30T04:59:21.865Z"
   },
   {
    "duration": 11,
    "start_time": "2021-07-30T04:59:21.903Z"
   },
   {
    "duration": 48,
    "start_time": "2021-07-30T04:59:21.916Z"
   },
   {
    "duration": 6,
    "start_time": "2021-07-30T04:59:21.966Z"
   },
   {
    "duration": 25,
    "start_time": "2021-07-30T04:59:21.974Z"
   },
   {
    "duration": 22,
    "start_time": "2021-07-30T04:59:22.001Z"
   },
   {
    "duration": 261,
    "start_time": "2021-07-30T04:59:22.025Z"
   },
   {
    "duration": 34,
    "start_time": "2021-07-30T04:59:22.289Z"
   },
   {
    "duration": 6,
    "start_time": "2021-07-30T04:59:22.325Z"
   },
   {
    "duration": 35988,
    "start_time": "2021-07-30T04:59:22.355Z"
   },
   {
    "duration": 27,
    "start_time": "2021-07-30T04:59:58.345Z"
   },
   {
    "duration": 12,
    "start_time": "2021-07-30T04:59:58.374Z"
   },
   {
    "duration": 117,
    "start_time": "2021-07-30T04:59:58.388Z"
   },
   {
    "duration": 20,
    "start_time": "2021-07-30T04:59:58.508Z"
   },
   {
    "duration": 38,
    "start_time": "2021-07-30T04:59:58.531Z"
   },
   {
    "duration": 22,
    "start_time": "2021-07-30T04:59:58.572Z"
   },
   {
    "duration": 23,
    "start_time": "2021-07-30T04:59:58.598Z"
   },
   {
    "duration": 72,
    "start_time": "2021-07-30T04:59:58.623Z"
   },
   {
    "duration": 93,
    "start_time": "2021-07-30T04:59:58.698Z"
   },
   {
    "duration": 19,
    "start_time": "2021-07-30T04:59:58.793Z"
   },
   {
    "duration": 45,
    "start_time": "2021-07-30T04:59:58.815Z"
   },
   {
    "duration": 24,
    "start_time": "2021-07-30T04:59:58.863Z"
   },
   {
    "duration": 77,
    "start_time": "2021-07-30T04:59:58.896Z"
   },
   {
    "duration": 5,
    "start_time": "2021-07-30T04:59:58.977Z"
   },
   {
    "duration": 23,
    "start_time": "2021-07-30T04:59:58.984Z"
   },
   {
    "duration": 12,
    "start_time": "2021-07-30T04:59:59.010Z"
   },
   {
    "duration": 40,
    "start_time": "2021-07-30T04:59:59.024Z"
   },
   {
    "duration": 515,
    "start_time": "2021-07-30T04:59:59.067Z"
   },
   {
    "duration": 1099,
    "start_time": "2021-07-30T04:59:59.585Z"
   },
   {
    "duration": 12,
    "start_time": "2021-07-30T05:00:00.686Z"
   },
   {
    "duration": 128,
    "start_time": "2021-07-30T05:00:00.701Z"
   },
   {
    "duration": 753,
    "start_time": "2021-07-30T05:00:00.832Z"
   },
   {
    "duration": 18,
    "start_time": "2021-07-30T05:00:01.588Z"
   },
   {
    "duration": 103,
    "start_time": "2021-07-30T05:00:01.608Z"
   },
   {
    "duration": 3,
    "start_time": "2021-07-30T05:00:01.713Z"
   },
   {
    "duration": 65,
    "start_time": "2021-07-30T05:00:01.718Z"
   },
   {
    "duration": 22,
    "start_time": "2021-07-30T05:00:01.786Z"
   },
   {
    "duration": 20,
    "start_time": "2021-07-30T05:00:01.810Z"
   },
   {
    "duration": 23,
    "start_time": "2021-07-30T05:00:01.833Z"
   },
   {
    "duration": 10,
    "start_time": "2021-07-30T05:00:01.859Z"
   },
   {
    "duration": 50,
    "start_time": "2021-07-30T05:00:01.871Z"
   },
   {
    "duration": 5,
    "start_time": "2021-07-30T05:00:01.924Z"
   },
   {
    "duration": 36,
    "start_time": "2021-07-30T05:00:01.931Z"
   },
   {
    "duration": 87,
    "start_time": "2021-07-30T05:00:01.969Z"
   },
   {
    "duration": 111,
    "start_time": "2021-07-30T05:00:02.059Z"
   },
   {
    "duration": 171,
    "start_time": "2021-07-30T05:00:02.173Z"
   },
   {
    "duration": 16,
    "start_time": "2021-07-30T05:00:02.347Z"
   },
   {
    "duration": 20,
    "start_time": "2021-07-30T05:00:02.365Z"
   },
   {
    "duration": 46,
    "start_time": "2021-07-30T05:00:02.388Z"
   },
   {
    "duration": 39,
    "start_time": "2021-07-30T05:00:02.436Z"
   },
   {
    "duration": 30456,
    "start_time": "2021-07-30T05:00:02.477Z"
   },
   {
    "duration": 4,
    "start_time": "2021-07-30T05:00:32.936Z"
   },
   {
    "duration": 258,
    "start_time": "2021-07-30T05:00:32.942Z"
   },
   {
    "duration": 9,
    "start_time": "2021-07-30T05:00:33.202Z"
   },
   {
    "duration": 3,
    "start_time": "2021-07-30T05:00:33.256Z"
   },
   {
    "duration": 10,
    "start_time": "2021-07-30T05:00:33.266Z"
   },
   {
    "duration": 31810,
    "start_time": "2021-07-30T05:00:33.279Z"
   },
   {
    "duration": 606,
    "start_time": "2021-07-30T05:01:05.165Z"
   },
   {
    "duration": 8,
    "start_time": "2021-07-30T05:01:05.774Z"
   },
   {
    "duration": 16,
    "start_time": "2021-07-30T05:01:05.785Z"
   },
   {
    "duration": 56,
    "start_time": "2021-07-30T05:01:05.803Z"
   },
   {
    "duration": 19,
    "start_time": "2021-07-30T05:01:05.862Z"
   },
   {
    "duration": 30,
    "start_time": "2021-07-30T05:01:05.884Z"
   },
   {
    "duration": 29,
    "start_time": "2021-07-30T05:01:05.917Z"
   },
   {
    "duration": 123432,
    "start_time": "2021-07-30T05:01:05.949Z"
   },
   {
    "duration": 1180,
    "start_time": "2021-07-30T05:03:09.384Z"
   },
   {
    "duration": 9,
    "start_time": "2021-07-30T05:03:10.570Z"
   },
   {
    "duration": 15,
    "start_time": "2021-07-30T05:03:10.583Z"
   },
   {
    "duration": 11,
    "start_time": "2021-07-30T05:03:10.600Z"
   },
   {
    "duration": 77351,
    "start_time": "2021-07-30T05:03:10.613Z"
   },
   {
    "duration": 885,
    "start_time": "2021-07-30T05:04:27.971Z"
   },
   {
    "duration": 9,
    "start_time": "2021-07-30T05:04:28.865Z"
   },
   {
    "duration": 91,
    "start_time": "2021-07-30T05:04:28.877Z"
   },
   {
    "duration": 4,
    "start_time": "2021-07-30T05:04:28.971Z"
   },
   {
    "duration": 32894,
    "start_time": "2021-07-30T05:04:28.977Z"
   },
   {
    "duration": 319,
    "start_time": "2021-07-30T05:05:01.874Z"
   },
   {
    "duration": 49,
    "start_time": "2021-07-30T05:05:02.197Z"
   },
   {
    "duration": 66424,
    "start_time": "2021-07-30T05:05:02.249Z"
   },
   {
    "duration": 1113,
    "start_time": "2021-07-30T05:06:08.676Z"
   },
   {
    "duration": 72,
    "start_time": "2021-07-30T05:06:09.791Z"
   },
   {
    "duration": 21,
    "start_time": "2021-07-30T05:06:09.866Z"
   },
   {
    "duration": 432,
    "start_time": "2021-07-30T05:11:37.713Z"
   },
   {
    "duration": 267,
    "start_time": "2021-07-30T05:11:56.849Z"
   },
   {
    "duration": 15,
    "start_time": "2021-07-30T05:12:19.625Z"
   },
   {
    "duration": 4,
    "start_time": "2021-07-30T05:18:31.348Z"
   },
   {
    "duration": 11,
    "start_time": "2021-07-30T05:19:23.868Z"
   },
   {
    "duration": 11,
    "start_time": "2021-07-30T05:19:36.883Z"
   },
   {
    "duration": 13,
    "start_time": "2021-07-30T05:19:39.834Z"
   },
   {
    "duration": 5,
    "start_time": "2021-07-30T05:19:58.692Z"
   },
   {
    "duration": 5,
    "start_time": "2021-07-30T05:21:21.221Z"
   },
   {
    "duration": 5,
    "start_time": "2021-07-30T05:25:02.196Z"
   },
   {
    "duration": 276,
    "start_time": "2021-07-30T05:50:45.642Z"
   },
   {
    "duration": 506,
    "start_time": "2021-07-30T05:51:07.657Z"
   },
   {
    "duration": 10,
    "start_time": "2021-07-30T05:51:12.849Z"
   },
   {
    "duration": 7,
    "start_time": "2021-07-30T05:51:32.210Z"
   },
   {
    "duration": 510,
    "start_time": "2021-07-30T05:51:45.226Z"
   },
   {
    "duration": 10,
    "start_time": "2021-07-30T05:52:47.226Z"
   },
   {
    "duration": 411,
    "start_time": "2021-07-30T05:53:15.490Z"
   },
   {
    "duration": 264,
    "start_time": "2021-07-30T05:58:28.884Z"
   },
   {
    "duration": 418,
    "start_time": "2021-07-30T05:59:21.898Z"
   },
   {
    "duration": 281,
    "start_time": "2021-07-30T06:00:27.372Z"
   },
   {
    "duration": 12,
    "start_time": "2021-07-30T06:00:55.668Z"
   },
   {
    "duration": 427,
    "start_time": "2021-07-30T06:01:05.771Z"
   },
   {
    "duration": 430,
    "start_time": "2021-07-30T06:01:43.931Z"
   },
   {
    "duration": 5,
    "start_time": "2021-07-30T06:02:02.924Z"
   },
   {
    "duration": 714,
    "start_time": "2021-07-30T06:02:07.931Z"
   },
   {
    "duration": 14,
    "start_time": "2021-07-30T06:02:22.956Z"
   },
   {
    "duration": 444,
    "start_time": "2021-07-30T06:02:30.853Z"
   },
   {
    "duration": 923,
    "start_time": "2021-07-30T06:18:40.405Z"
   },
   {
    "duration": 645,
    "start_time": "2021-07-30T06:18:41.331Z"
   },
   {
    "duration": 5,
    "start_time": "2021-07-30T06:18:41.979Z"
   },
   {
    "duration": 1079,
    "start_time": "2021-07-30T06:18:41.987Z"
   },
   {
    "duration": 166,
    "start_time": "2021-07-30T06:18:43.068Z"
   },
   {
    "duration": 5,
    "start_time": "2021-07-30T06:18:43.237Z"
   },
   {
    "duration": 70,
    "start_time": "2021-07-30T06:18:43.244Z"
   },
   {
    "duration": 704,
    "start_time": "2021-07-30T06:18:43.320Z"
   },
   {
    "duration": 707,
    "start_time": "2021-07-30T06:18:44.027Z"
   },
   {
    "duration": 353,
    "start_time": "2021-07-30T06:18:44.736Z"
   },
   {
    "duration": 15,
    "start_time": "2021-07-30T06:18:45.091Z"
   },
   {
    "duration": 86,
    "start_time": "2021-07-30T06:18:45.109Z"
   },
   {
    "duration": 13,
    "start_time": "2021-07-30T06:18:45.197Z"
   },
   {
    "duration": 16,
    "start_time": "2021-07-30T06:18:45.212Z"
   },
   {
    "duration": 693,
    "start_time": "2021-07-30T06:18:45.230Z"
   },
   {
    "duration": 59,
    "start_time": "2021-07-30T06:18:45.925Z"
   },
   {
    "duration": 20,
    "start_time": "2021-07-30T06:18:45.986Z"
   },
   {
    "duration": 21,
    "start_time": "2021-07-30T06:18:46.009Z"
   },
   {
    "duration": 27,
    "start_time": "2021-07-30T06:18:46.032Z"
   },
   {
    "duration": 13,
    "start_time": "2021-07-30T06:18:46.061Z"
   },
   {
    "duration": 21,
    "start_time": "2021-07-30T06:18:46.076Z"
   },
   {
    "duration": 14,
    "start_time": "2021-07-30T06:18:46.099Z"
   },
   {
    "duration": 650,
    "start_time": "2021-07-30T06:18:46.121Z"
   },
   {
    "duration": 48,
    "start_time": "2021-07-30T06:18:46.776Z"
   },
   {
    "duration": 65,
    "start_time": "2021-07-30T06:18:46.827Z"
   },
   {
    "duration": 234,
    "start_time": "2021-07-30T06:18:46.895Z"
   },
   {
    "duration": 73,
    "start_time": "2021-07-30T06:18:47.131Z"
   },
   {
    "duration": 306,
    "start_time": "2021-07-30T06:18:47.206Z"
   },
   {
    "duration": 197,
    "start_time": "2021-07-30T06:18:47.514Z"
   },
   {
    "duration": 7,
    "start_time": "2021-07-30T06:18:47.714Z"
   },
   {
    "duration": 14,
    "start_time": "2021-07-30T06:18:47.723Z"
   },
   {
    "duration": 38,
    "start_time": "2021-07-30T06:18:47.739Z"
   },
   {
    "duration": 25,
    "start_time": "2021-07-30T06:18:47.780Z"
   },
   {
    "duration": 35,
    "start_time": "2021-07-30T06:18:47.808Z"
   },
   {
    "duration": 23,
    "start_time": "2021-07-30T06:18:47.856Z"
   },
   {
    "duration": 29,
    "start_time": "2021-07-30T06:18:47.882Z"
   },
   {
    "duration": 103,
    "start_time": "2021-07-30T06:18:47.914Z"
   },
   {
    "duration": 168,
    "start_time": "2021-07-30T06:18:48.020Z"
   },
   {
    "duration": 5,
    "start_time": "2021-07-30T06:18:48.191Z"
   },
   {
    "duration": 34,
    "start_time": "2021-07-30T06:18:48.198Z"
   },
   {
    "duration": 29,
    "start_time": "2021-07-30T06:18:48.234Z"
   },
   {
    "duration": 123,
    "start_time": "2021-07-30T06:18:48.265Z"
   },
   {
    "duration": 25,
    "start_time": "2021-07-30T06:18:48.391Z"
   },
   {
    "duration": 12,
    "start_time": "2021-07-30T06:18:48.418Z"
   },
   {
    "duration": 24485,
    "start_time": "2021-07-30T06:18:48.432Z"
   },
   {
    "duration": 46,
    "start_time": "2021-07-30T06:19:12.919Z"
   },
   {
    "duration": 12,
    "start_time": "2021-07-30T06:19:12.968Z"
   },
   {
    "duration": 24,
    "start_time": "2021-07-30T06:19:12.983Z"
   },
   {
    "duration": 9,
    "start_time": "2021-07-30T06:19:13.009Z"
   },
   {
    "duration": 54,
    "start_time": "2021-07-30T06:19:13.020Z"
   },
   {
    "duration": 24,
    "start_time": "2021-07-30T06:19:13.076Z"
   },
   {
    "duration": 177,
    "start_time": "2021-07-30T06:19:13.102Z"
   },
   {
    "duration": 27,
    "start_time": "2021-07-30T06:19:13.281Z"
   },
   {
    "duration": 6,
    "start_time": "2021-07-30T06:19:13.310Z"
   },
   {
    "duration": 43743,
    "start_time": "2021-07-30T06:19:13.318Z"
   },
   {
    "duration": 24,
    "start_time": "2021-07-30T06:19:57.063Z"
   },
   {
    "duration": 10,
    "start_time": "2021-07-30T06:19:57.089Z"
   },
   {
    "duration": 108,
    "start_time": "2021-07-30T06:19:57.101Z"
   },
   {
    "duration": 20,
    "start_time": "2021-07-30T06:19:57.212Z"
   },
   {
    "duration": 38,
    "start_time": "2021-07-30T06:19:57.235Z"
   },
   {
    "duration": 28,
    "start_time": "2021-07-30T06:19:57.276Z"
   },
   {
    "duration": 21,
    "start_time": "2021-07-30T06:19:57.307Z"
   },
   {
    "duration": 58,
    "start_time": "2021-07-30T06:19:57.331Z"
   },
   {
    "duration": 102,
    "start_time": "2021-07-30T06:19:57.392Z"
   },
   {
    "duration": 21,
    "start_time": "2021-07-30T06:19:57.496Z"
   },
   {
    "duration": 44,
    "start_time": "2021-07-30T06:19:57.520Z"
   },
   {
    "duration": 25,
    "start_time": "2021-07-30T06:19:57.567Z"
   },
   {
    "duration": 80,
    "start_time": "2021-07-30T06:19:57.603Z"
   },
   {
    "duration": 5,
    "start_time": "2021-07-30T06:19:57.687Z"
   },
   {
    "duration": 24,
    "start_time": "2021-07-30T06:19:57.694Z"
   },
   {
    "duration": 36,
    "start_time": "2021-07-30T06:19:57.721Z"
   },
   {
    "duration": 3,
    "start_time": "2021-07-30T06:19:57.759Z"
   },
   {
    "duration": 710,
    "start_time": "2021-07-30T06:19:57.764Z"
   },
   {
    "duration": 1049,
    "start_time": "2021-07-30T06:19:58.477Z"
   },
   {
    "duration": 11,
    "start_time": "2021-07-30T06:19:59.529Z"
   },
   {
    "duration": 104,
    "start_time": "2021-07-30T06:19:59.556Z"
   },
   {
    "duration": 707,
    "start_time": "2021-07-30T06:19:59.663Z"
   },
   {
    "duration": 17,
    "start_time": "2021-07-30T06:20:00.373Z"
   },
   {
    "duration": 103,
    "start_time": "2021-07-30T06:20:00.393Z"
   },
   {
    "duration": 3,
    "start_time": "2021-07-30T06:20:00.499Z"
   },
   {
    "duration": 29,
    "start_time": "2021-07-30T06:20:00.505Z"
   },
   {
    "duration": 8,
    "start_time": "2021-07-30T06:20:00.537Z"
   },
   {
    "duration": 22,
    "start_time": "2021-07-30T06:20:00.557Z"
   },
   {
    "duration": 19,
    "start_time": "2021-07-30T06:20:00.582Z"
   },
   {
    "duration": 11,
    "start_time": "2021-07-30T06:20:00.604Z"
   },
   {
    "duration": 26,
    "start_time": "2021-07-30T06:20:00.618Z"
   },
   {
    "duration": 23,
    "start_time": "2021-07-30T06:20:00.647Z"
   },
   {
    "duration": 25,
    "start_time": "2021-07-30T06:20:00.673Z"
   },
   {
    "duration": 18,
    "start_time": "2021-07-30T06:20:00.701Z"
   },
   {
    "duration": 50,
    "start_time": "2021-07-30T06:20:00.722Z"
   },
   {
    "duration": 166,
    "start_time": "2021-07-30T06:20:00.775Z"
   },
   {
    "duration": 24,
    "start_time": "2021-07-30T06:20:00.943Z"
   },
   {
    "duration": 27,
    "start_time": "2021-07-30T06:20:00.969Z"
   },
   {
    "duration": 29,
    "start_time": "2021-07-30T06:20:00.999Z"
   },
   {
    "duration": 20,
    "start_time": "2021-07-30T06:20:01.031Z"
   },
   {
    "duration": 30450,
    "start_time": "2021-07-30T06:20:01.053Z"
   },
   {
    "duration": 5,
    "start_time": "2021-07-30T06:20:31.506Z"
   },
   {
    "duration": 248,
    "start_time": "2021-07-30T06:20:31.514Z"
   },
   {
    "duration": 9,
    "start_time": "2021-07-30T06:20:31.764Z"
   },
   {
    "duration": 4,
    "start_time": "2021-07-30T06:20:31.775Z"
   },
   {
    "duration": 6,
    "start_time": "2021-07-30T06:20:31.782Z"
   },
   {
    "duration": 8868,
    "start_time": "2021-07-30T06:20:31.790Z"
   },
   {
    "duration": 598,
    "start_time": "2021-07-30T06:20:40.661Z"
   },
   {
    "duration": 8,
    "start_time": "2021-07-30T06:20:41.262Z"
   },
   {
    "duration": 20,
    "start_time": "2021-07-30T06:20:41.273Z"
   },
   {
    "duration": 5,
    "start_time": "2021-07-30T06:20:41.295Z"
   },
   {
    "duration": 54,
    "start_time": "2021-07-30T06:20:41.302Z"
   },
   {
    "duration": 8,
    "start_time": "2021-07-30T06:20:41.359Z"
   },
   {
    "duration": 11,
    "start_time": "2021-07-30T06:20:41.370Z"
   },
   {
    "duration": 17893,
    "start_time": "2021-07-30T06:20:41.383Z"
   },
   {
    "duration": 1200,
    "start_time": "2021-07-30T06:20:59.278Z"
   },
   {
    "duration": 9,
    "start_time": "2021-07-30T06:21:00.480Z"
   },
   {
    "duration": 75,
    "start_time": "2021-07-30T06:21:00.491Z"
   },
   {
    "duration": 7,
    "start_time": "2021-07-30T06:21:00.569Z"
   },
   {
    "duration": 17778,
    "start_time": "2021-07-30T06:21:00.579Z"
   },
   {
    "duration": 806,
    "start_time": "2021-07-30T06:21:18.360Z"
   },
   {
    "duration": 86,
    "start_time": "2021-07-30T06:21:19.169Z"
   },
   {
    "duration": 6,
    "start_time": "2021-07-30T06:21:19.258Z"
   },
   {
    "duration": 7,
    "start_time": "2021-07-30T06:21:19.266Z"
   },
   {
    "duration": 14,
    "start_time": "2021-07-30T06:21:19.276Z"
   },
   {
    "duration": 104,
    "start_time": "2021-07-30T06:21:19.293Z"
   },
   {
    "duration": 4,
    "start_time": "2021-07-30T06:21:19.399Z"
   },
   {
    "duration": 30816,
    "start_time": "2021-07-30T06:21:19.406Z"
   },
   {
    "duration": 244,
    "start_time": "2021-07-30T06:21:50.225Z"
   },
   {
    "duration": 9,
    "start_time": "2021-07-30T06:21:50.471Z"
   },
   {
    "duration": 16582,
    "start_time": "2021-07-30T06:21:50.482Z"
   },
   {
    "duration": 1201,
    "start_time": "2021-07-30T06:22:07.066Z"
   },
   {
    "duration": 8,
    "start_time": "2021-07-30T06:22:08.269Z"
   },
   {
    "duration": 90,
    "start_time": "2021-07-30T06:22:08.279Z"
   },
   {
    "duration": 434,
    "start_time": "2021-07-30T06:22:08.372Z"
   }
  ],
  "kernelspec": {
   "display_name": "Python 3",
   "language": "python",
   "name": "python3"
  },
  "language_info": {
   "codemirror_mode": {
    "name": "ipython",
    "version": 3
   },
   "file_extension": ".py",
   "mimetype": "text/x-python",
   "name": "python",
   "nbconvert_exporter": "python",
   "pygments_lexer": "ipython3",
   "version": "3.8.5"
  },
  "toc": {
   "base_numbering": 1,
   "nav_menu": {},
   "number_sections": true,
   "sideBar": true,
   "skip_h1_title": true,
   "title_cell": "Table of Contents",
   "title_sidebar": "Contents",
   "toc_cell": false,
   "toc_position": {
    "height": "calc(100% - 180px)",
    "left": "10px",
    "top": "150px",
    "width": "165px"
   },
   "toc_section_display": true,
   "toc_window_display": true
  }
 },
 "nbformat": 4,
 "nbformat_minor": 2
}
