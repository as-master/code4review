{
 "cells": [
  {
   "cell_type": "markdown",
   "metadata": {},
   "source": [
    "# Выбор локации для скважины"
   ]
  },
  {
   "cell_type": "markdown",
   "metadata": {},
   "source": [
    "Допустим, вы работаете в добывающей компании «ГлавРосГосНефть». Нужно решить, где бурить новую скважину.\n",
    "\n",
    "Вам предоставлены пробы нефти в трёх регионах: в каждом 10 000 месторождений, где измерили качество нефти и объём её запасов. Постройте модель машинного обучения, которая поможет определить регион, где добыча принесёт наибольшую прибыль. Проанализируйте возможную прибыль и риски техникой *Bootstrap.*\n",
    "\n",
    "Шаги для выбора локации:\n",
    "\n",
    "- В избранном регионе ищут месторождения, для каждого определяют значения признаков;\n",
    "- Строят модель и оценивают объём запасов;\n",
    "- Выбирают месторождения с самым высокими оценками значений. Количество месторождений зависит от бюджета компании и стоимости разработки одной скважины;\n",
    "- Прибыль равна суммарной прибыли отобранных месторождений."
   ]
  },
  {
   "cell_type": "markdown",
   "metadata": {},
   "source": [
    "## Загрузка и подготовка данных"
   ]
  },
  {
   "cell_type": "code",
   "execution_count": 1,
   "metadata": {},
   "outputs": [],
   "source": [
    "# Импорт необходимых библиотек для дальнейщего анализа данных: \n",
    "import pandas as pd\n",
    "import numpy as np\n",
    "import itertools \n",
    "import matplotlib.pyplot as plt\n",
    "import seaborn as sn\n",
    "from heapq import nlargest"
   ]
  },
  {
   "cell_type": "code",
   "execution_count": 2,
   "metadata": {},
   "outputs": [],
   "source": [
    "# Импорт библиотек из sklearn\n",
    "from sklearn.model_selection import train_test_split\n",
    "from sklearn.preprocessing import StandardScaler\n",
    "from sklearn.linear_model import LinearRegression\n",
    "from sklearn.metrics import mean_squared_error"
   ]
  },
  {
   "cell_type": "code",
   "execution_count": 3,
   "metadata": {},
   "outputs": [],
   "source": [
    "try:\n",
    "    df_1 = pd.read_csv('/datasets/geo_data_0.csv')\n",
    "    df_2 = pd.read_csv('/datasets/geo_data_1.csv')\n",
    "    df_3 = pd.read_csv('/datasets/geo_data_2.csv')\n",
    "except FileNotFoundError as err:\n",
    "    print ('Упс! Нет данных по адресу:', err)\n",
    "    df_1 = pd.read_csv('geo_data_0.csv')\n",
    "    df_2 = pd.read_csv('geo_data_1.csv')\n",
    "    df_3 = pd.read_csv('geo_data_2.csv')"
   ]
  },
  {
   "cell_type": "code",
   "execution_count": 4,
   "metadata": {},
   "outputs": [
    {
     "name": "stdout",
     "output_type": "stream",
     "text": [
      "<class 'pandas.core.frame.DataFrame'>\n",
      "RangeIndex: 100000 entries, 0 to 99999\n",
      "Data columns (total 5 columns):\n",
      "id         100000 non-null object\n",
      "f0         100000 non-null float64\n",
      "f1         100000 non-null float64\n",
      "f2         100000 non-null float64\n",
      "product    100000 non-null float64\n",
      "dtypes: float64(4), object(1)\n",
      "memory usage: 3.8+ MB\n",
      "None\n"
     ]
    },
    {
     "data": {
      "text/html": [
       "<div>\n",
       "<style scoped>\n",
       "    .dataframe tbody tr th:only-of-type {\n",
       "        vertical-align: middle;\n",
       "    }\n",
       "\n",
       "    .dataframe tbody tr th {\n",
       "        vertical-align: top;\n",
       "    }\n",
       "\n",
       "    .dataframe thead th {\n",
       "        text-align: right;\n",
       "    }\n",
       "</style>\n",
       "<table border=\"1\" class=\"dataframe\">\n",
       "  <thead>\n",
       "    <tr style=\"text-align: right;\">\n",
       "      <th></th>\n",
       "      <th>id</th>\n",
       "      <th>f0</th>\n",
       "      <th>f1</th>\n",
       "      <th>f2</th>\n",
       "      <th>product</th>\n",
       "    </tr>\n",
       "  </thead>\n",
       "  <tbody>\n",
       "    <tr>\n",
       "      <td>0</td>\n",
       "      <td>txEyH</td>\n",
       "      <td>0.705745</td>\n",
       "      <td>-0.497823</td>\n",
       "      <td>1.221170</td>\n",
       "      <td>105.280062</td>\n",
       "    </tr>\n",
       "    <tr>\n",
       "      <td>1</td>\n",
       "      <td>2acmU</td>\n",
       "      <td>1.334711</td>\n",
       "      <td>-0.340164</td>\n",
       "      <td>4.365080</td>\n",
       "      <td>73.037750</td>\n",
       "    </tr>\n",
       "    <tr>\n",
       "      <td>2</td>\n",
       "      <td>409Wp</td>\n",
       "      <td>1.022732</td>\n",
       "      <td>0.151990</td>\n",
       "      <td>1.419926</td>\n",
       "      <td>85.265647</td>\n",
       "    </tr>\n",
       "  </tbody>\n",
       "</table>\n",
       "</div>"
      ],
      "text/plain": [
       "      id        f0        f1        f2     product\n",
       "0  txEyH  0.705745 -0.497823  1.221170  105.280062\n",
       "1  2acmU  1.334711 -0.340164  4.365080   73.037750\n",
       "2  409Wp  1.022732  0.151990  1.419926   85.265647"
      ]
     },
     "execution_count": 4,
     "metadata": {},
     "output_type": "execute_result"
    }
   ],
   "source": [
    "# Данные геологоразведки 1 региона\n",
    "print(df_1.info())\n",
    "df_1.head(3)"
   ]
  },
  {
   "cell_type": "code",
   "execution_count": 5,
   "metadata": {},
   "outputs": [
    {
     "name": "stdout",
     "output_type": "stream",
     "text": [
      "<class 'pandas.core.frame.DataFrame'>\n",
      "RangeIndex: 100000 entries, 0 to 99999\n",
      "Data columns (total 5 columns):\n",
      "id         100000 non-null object\n",
      "f0         100000 non-null float64\n",
      "f1         100000 non-null float64\n",
      "f2         100000 non-null float64\n",
      "product    100000 non-null float64\n",
      "dtypes: float64(4), object(1)\n",
      "memory usage: 3.8+ MB\n",
      "None\n"
     ]
    },
    {
     "data": {
      "text/html": [
       "<div>\n",
       "<style scoped>\n",
       "    .dataframe tbody tr th:only-of-type {\n",
       "        vertical-align: middle;\n",
       "    }\n",
       "\n",
       "    .dataframe tbody tr th {\n",
       "        vertical-align: top;\n",
       "    }\n",
       "\n",
       "    .dataframe thead th {\n",
       "        text-align: right;\n",
       "    }\n",
       "</style>\n",
       "<table border=\"1\" class=\"dataframe\">\n",
       "  <thead>\n",
       "    <tr style=\"text-align: right;\">\n",
       "      <th></th>\n",
       "      <th>id</th>\n",
       "      <th>f0</th>\n",
       "      <th>f1</th>\n",
       "      <th>f2</th>\n",
       "      <th>product</th>\n",
       "    </tr>\n",
       "  </thead>\n",
       "  <tbody>\n",
       "    <tr>\n",
       "      <td>0</td>\n",
       "      <td>kBEdx</td>\n",
       "      <td>-15.001348</td>\n",
       "      <td>-8.276000</td>\n",
       "      <td>-0.005876</td>\n",
       "      <td>3.179103</td>\n",
       "    </tr>\n",
       "    <tr>\n",
       "      <td>1</td>\n",
       "      <td>62mP7</td>\n",
       "      <td>14.272088</td>\n",
       "      <td>-3.475083</td>\n",
       "      <td>0.999183</td>\n",
       "      <td>26.953261</td>\n",
       "    </tr>\n",
       "    <tr>\n",
       "      <td>2</td>\n",
       "      <td>vyE1P</td>\n",
       "      <td>6.263187</td>\n",
       "      <td>-5.948386</td>\n",
       "      <td>5.001160</td>\n",
       "      <td>134.766305</td>\n",
       "    </tr>\n",
       "    <tr>\n",
       "      <td>3</td>\n",
       "      <td>KcrkZ</td>\n",
       "      <td>-13.081196</td>\n",
       "      <td>-11.506057</td>\n",
       "      <td>4.999415</td>\n",
       "      <td>137.945408</td>\n",
       "    </tr>\n",
       "    <tr>\n",
       "      <td>4</td>\n",
       "      <td>AHL4O</td>\n",
       "      <td>12.702195</td>\n",
       "      <td>-8.147433</td>\n",
       "      <td>5.004363</td>\n",
       "      <td>134.766305</td>\n",
       "    </tr>\n",
       "    <tr>\n",
       "      <td>5</td>\n",
       "      <td>HHckp</td>\n",
       "      <td>-3.327590</td>\n",
       "      <td>-2.205276</td>\n",
       "      <td>3.003647</td>\n",
       "      <td>84.038886</td>\n",
       "    </tr>\n",
       "    <tr>\n",
       "      <td>6</td>\n",
       "      <td>h5Ujo</td>\n",
       "      <td>-11.142655</td>\n",
       "      <td>-10.133399</td>\n",
       "      <td>4.002382</td>\n",
       "      <td>110.992147</td>\n",
       "    </tr>\n",
       "    <tr>\n",
       "      <td>7</td>\n",
       "      <td>muH9x</td>\n",
       "      <td>4.234715</td>\n",
       "      <td>-0.001354</td>\n",
       "      <td>2.004588</td>\n",
       "      <td>53.906522</td>\n",
       "    </tr>\n",
       "  </tbody>\n",
       "</table>\n",
       "</div>"
      ],
      "text/plain": [
       "      id         f0         f1        f2     product\n",
       "0  kBEdx -15.001348  -8.276000 -0.005876    3.179103\n",
       "1  62mP7  14.272088  -3.475083  0.999183   26.953261\n",
       "2  vyE1P   6.263187  -5.948386  5.001160  134.766305\n",
       "3  KcrkZ -13.081196 -11.506057  4.999415  137.945408\n",
       "4  AHL4O  12.702195  -8.147433  5.004363  134.766305\n",
       "5  HHckp  -3.327590  -2.205276  3.003647   84.038886\n",
       "6  h5Ujo -11.142655 -10.133399  4.002382  110.992147\n",
       "7  muH9x   4.234715  -0.001354  2.004588   53.906522"
      ]
     },
     "execution_count": 5,
     "metadata": {},
     "output_type": "execute_result"
    }
   ],
   "source": [
    "# Данные геологоразведки 2 региона\n",
    "print(df_2.info())\n",
    "df_2.head(8)"
   ]
  },
  {
   "cell_type": "code",
   "execution_count": 6,
   "metadata": {},
   "outputs": [
    {
     "name": "stdout",
     "output_type": "stream",
     "text": [
      "<class 'pandas.core.frame.DataFrame'>\n",
      "RangeIndex: 100000 entries, 0 to 99999\n",
      "Data columns (total 5 columns):\n",
      "id         100000 non-null object\n",
      "f0         100000 non-null float64\n",
      "f1         100000 non-null float64\n",
      "f2         100000 non-null float64\n",
      "product    100000 non-null float64\n",
      "dtypes: float64(4), object(1)\n",
      "memory usage: 3.8+ MB\n",
      "None\n"
     ]
    },
    {
     "data": {
      "text/html": [
       "<div>\n",
       "<style scoped>\n",
       "    .dataframe tbody tr th:only-of-type {\n",
       "        vertical-align: middle;\n",
       "    }\n",
       "\n",
       "    .dataframe tbody tr th {\n",
       "        vertical-align: top;\n",
       "    }\n",
       "\n",
       "    .dataframe thead th {\n",
       "        text-align: right;\n",
       "    }\n",
       "</style>\n",
       "<table border=\"1\" class=\"dataframe\">\n",
       "  <thead>\n",
       "    <tr style=\"text-align: right;\">\n",
       "      <th></th>\n",
       "      <th>id</th>\n",
       "      <th>f0</th>\n",
       "      <th>f1</th>\n",
       "      <th>f2</th>\n",
       "      <th>product</th>\n",
       "    </tr>\n",
       "  </thead>\n",
       "  <tbody>\n",
       "    <tr>\n",
       "      <td>0</td>\n",
       "      <td>fwXo0</td>\n",
       "      <td>-1.146987</td>\n",
       "      <td>0.963328</td>\n",
       "      <td>-0.828965</td>\n",
       "      <td>27.758673</td>\n",
       "    </tr>\n",
       "    <tr>\n",
       "      <td>1</td>\n",
       "      <td>WJtFt</td>\n",
       "      <td>0.262778</td>\n",
       "      <td>0.269839</td>\n",
       "      <td>-2.530187</td>\n",
       "      <td>56.069697</td>\n",
       "    </tr>\n",
       "    <tr>\n",
       "      <td>2</td>\n",
       "      <td>ovLUW</td>\n",
       "      <td>0.194587</td>\n",
       "      <td>0.289035</td>\n",
       "      <td>-5.586433</td>\n",
       "      <td>62.871910</td>\n",
       "    </tr>\n",
       "  </tbody>\n",
       "</table>\n",
       "</div>"
      ],
      "text/plain": [
       "      id        f0        f1        f2    product\n",
       "0  fwXo0 -1.146987  0.963328 -0.828965  27.758673\n",
       "1  WJtFt  0.262778  0.269839 -2.530187  56.069697\n",
       "2  ovLUW  0.194587  0.289035 -5.586433  62.871910"
      ]
     },
     "execution_count": 6,
     "metadata": {},
     "output_type": "execute_result"
    }
   ],
   "source": [
    "# Данные геологоразведки 3 региона\n",
    "print(df_3.info())\n",
    "df_3.head(3)"
   ]
  },
  {
   "cell_type": "markdown",
   "metadata": {},
   "source": [
    "<b>Признаки</b>  \n",
    "id — уникальный идентификатор скважины;  \n",
    "f0, f1, f2 — три признака точек (неважно, что они означают, но сами признаки значимы);  \n",
    "product — объём запасов в скважине (тыс. баррелей)."
   ]
  },
  {
   "cell_type": "markdown",
   "metadata": {},
   "source": [
    "Проверим разброс данных по трем основным признакам"
   ]
  },
  {
   "cell_type": "code",
   "execution_count": 7,
   "metadata": {},
   "outputs": [],
   "source": [
    "def boxplot_kit(data):\n",
    "    fig = plt.figure(figsize=(18, 6))\n",
    "    \n",
    "    plt.subplot(1, 4, 1).set(title = 'Первый признак')\n",
    "    plt.boxplot(data['f0'])\n",
    "\n",
    "    plt.subplot(1, 4, 2).set(title = 'Второй признак')\n",
    "    plt.boxplot(data['f1'])\n",
    "\n",
    "    plt.subplot(1, 4, 3).set(title = 'Третий признак')\n",
    "    plt.boxplot(data['f2'])\n",
    "    \n",
    "    plt.subplot(1, 4, 4).set(title = 'Запас, тыс.баррелей')\n",
    "    plt.boxplot(data['product'])\n",
    "    \n",
    "    return plt.show()"
   ]
  },
  {
   "cell_type": "code",
   "execution_count": 8,
   "metadata": {},
   "outputs": [
    {
     "data": {
      "image/png": "[encoded data removed]",
      "text/plain": [
       "<Figure size 1296x432 with 4 Axes>"
      ]
     },
     "metadata": {
      "needs_background": "light"
     },
     "output_type": "display_data"
    }
   ],
   "source": [
    "# Первое месторождение\n",
    "boxplot_kit(df_1)"
   ]
  },
  {
   "cell_type": "code",
   "execution_count": 9,
   "metadata": {},
   "outputs": [
    {
     "data": {
      "image/png": "[encoded data removed]",
      "text/plain": [
       "<Figure size 1296x432 with 4 Axes>"
      ]
     },
     "metadata": {
      "needs_background": "light"
     },
     "output_type": "display_data"
    }
   ],
   "source": [
    "# Второе месторождение\n",
    "boxplot_kit(df_2)"
   ]
  },
  {
   "cell_type": "code",
   "execution_count": 10,
   "metadata": {},
   "outputs": [
    {
     "data": {
      "image/png": "[encoded data removed]",
      "text/plain": [
       "<Figure size 1296x432 with 4 Axes>"
      ]
     },
     "metadata": {
      "needs_background": "light"
     },
     "output_type": "display_data"
    }
   ],
   "source": [
    "# Третье месторождение\n",
    "boxplot_kit(df_3)"
   ]
  },
  {
   "cell_type": "code",
   "execution_count": 49,
   "metadata": {},
   "outputs": [
    {
     "name": "stdout",
     "output_type": "stream",
     "text": [
      "количество дубликатов в данных\n",
      "регион №1: 0\n",
      "регион №2: 0\n",
      "регион №3: 0\n"
     ]
    }
   ],
   "source": [
    "#Найдем общее количество дубликатов\n",
    "print('количество дубликатов в данных')\n",
    "print('регион №1:',df_1.duplicated().sum())\n",
    "print('регион №2:',df_2.duplicated().sum())\n",
    "print('регион №3:',df_3.duplicated().sum())"
   ]
  },
  {
   "cell_type": "code",
   "execution_count": 11,
   "metadata": {},
   "outputs": [],
   "source": [
    "num_data = ['f0', 'f1', 'f2', 'product']"
   ]
  },
  {
   "cell_type": "code",
   "execution_count": 12,
   "metadata": {},
   "outputs": [
    {
     "name": "stdout",
     "output_type": "stream",
     "text": [
      "Матрица корреляции для данных 1го региона\n"
     ]
    },
    {
     "data": {
      "text/html": [
       "<div>\n",
       "<style scoped>\n",
       "    .dataframe tbody tr th:only-of-type {\n",
       "        vertical-align: middle;\n",
       "    }\n",
       "\n",
       "    .dataframe tbody tr th {\n",
       "        vertical-align: top;\n",
       "    }\n",
       "\n",
       "    .dataframe thead th {\n",
       "        text-align: right;\n",
       "    }\n",
       "</style>\n",
       "<table border=\"1\" class=\"dataframe\">\n",
       "  <thead>\n",
       "    <tr style=\"text-align: right;\">\n",
       "      <th></th>\n",
       "      <th>f0</th>\n",
       "      <th>f1</th>\n",
       "      <th>f2</th>\n",
       "      <th>product</th>\n",
       "    </tr>\n",
       "  </thead>\n",
       "  <tbody>\n",
       "    <tr>\n",
       "      <td>f0</td>\n",
       "      <td>1.000000</td>\n",
       "      <td>-0.440723</td>\n",
       "      <td>-0.003153</td>\n",
       "      <td>0.143536</td>\n",
       "    </tr>\n",
       "    <tr>\n",
       "      <td>f1</td>\n",
       "      <td>-0.440723</td>\n",
       "      <td>1.000000</td>\n",
       "      <td>0.001724</td>\n",
       "      <td>-0.192356</td>\n",
       "    </tr>\n",
       "    <tr>\n",
       "      <td>f2</td>\n",
       "      <td>-0.003153</td>\n",
       "      <td>0.001724</td>\n",
       "      <td>1.000000</td>\n",
       "      <td>0.483663</td>\n",
       "    </tr>\n",
       "    <tr>\n",
       "      <td>product</td>\n",
       "      <td>0.143536</td>\n",
       "      <td>-0.192356</td>\n",
       "      <td>0.483663</td>\n",
       "      <td>1.000000</td>\n",
       "    </tr>\n",
       "  </tbody>\n",
       "</table>\n",
       "</div>"
      ],
      "text/plain": [
       "               f0        f1        f2   product\n",
       "f0       1.000000 -0.440723 -0.003153  0.143536\n",
       "f1      -0.440723  1.000000  0.001724 -0.192356\n",
       "f2      -0.003153  0.001724  1.000000  0.483663\n",
       "product  0.143536 -0.192356  0.483663  1.000000"
      ]
     },
     "execution_count": 12,
     "metadata": {},
     "output_type": "execute_result"
    }
   ],
   "source": [
    "corr_matrix = df_1[num_data].corr()\n",
    "print('Матрица корреляции для данных 1го региона')\n",
    "corr_matrix"
   ]
  },
  {
   "cell_type": "code",
   "execution_count": 13,
   "metadata": {},
   "outputs": [
    {
     "name": "stdout",
     "output_type": "stream",
     "text": [
      "Матрица корреляции для данных 2го региона\n"
     ]
    },
    {
     "data": {
      "text/html": [
       "<div>\n",
       "<style scoped>\n",
       "    .dataframe tbody tr th:only-of-type {\n",
       "        vertical-align: middle;\n",
       "    }\n",
       "\n",
       "    .dataframe tbody tr th {\n",
       "        vertical-align: top;\n",
       "    }\n",
       "\n",
       "    .dataframe thead th {\n",
       "        text-align: right;\n",
       "    }\n",
       "</style>\n",
       "<table border=\"1\" class=\"dataframe\">\n",
       "  <thead>\n",
       "    <tr style=\"text-align: right;\">\n",
       "      <th></th>\n",
       "      <th>f0</th>\n",
       "      <th>f1</th>\n",
       "      <th>f2</th>\n",
       "      <th>product</th>\n",
       "    </tr>\n",
       "  </thead>\n",
       "  <tbody>\n",
       "    <tr>\n",
       "      <td>f0</td>\n",
       "      <td>1.000000</td>\n",
       "      <td>0.182287</td>\n",
       "      <td>-0.001777</td>\n",
       "      <td>-0.030491</td>\n",
       "    </tr>\n",
       "    <tr>\n",
       "      <td>f1</td>\n",
       "      <td>0.182287</td>\n",
       "      <td>1.000000</td>\n",
       "      <td>-0.002595</td>\n",
       "      <td>-0.010155</td>\n",
       "    </tr>\n",
       "    <tr>\n",
       "      <td>f2</td>\n",
       "      <td>-0.001777</td>\n",
       "      <td>-0.002595</td>\n",
       "      <td>1.000000</td>\n",
       "      <td>0.999397</td>\n",
       "    </tr>\n",
       "    <tr>\n",
       "      <td>product</td>\n",
       "      <td>-0.030491</td>\n",
       "      <td>-0.010155</td>\n",
       "      <td>0.999397</td>\n",
       "      <td>1.000000</td>\n",
       "    </tr>\n",
       "  </tbody>\n",
       "</table>\n",
       "</div>"
      ],
      "text/plain": [
       "               f0        f1        f2   product\n",
       "f0       1.000000  0.182287 -0.001777 -0.030491\n",
       "f1       0.182287  1.000000 -0.002595 -0.010155\n",
       "f2      -0.001777 -0.002595  1.000000  0.999397\n",
       "product -0.030491 -0.010155  0.999397  1.000000"
      ]
     },
     "execution_count": 13,
     "metadata": {},
     "output_type": "execute_result"
    }
   ],
   "source": [
    "corr_matrix = df_2[num_data].corr()\n",
    "print('Матрица корреляции для данных 2го региона')\n",
    "corr_matrix"
   ]
  },
  {
   "cell_type": "code",
   "execution_count": 14,
   "metadata": {},
   "outputs": [
    {
     "name": "stdout",
     "output_type": "stream",
     "text": [
      "Матрица корреляции для данных 3го региона\n"
     ]
    },
    {
     "data": {
      "text/html": [
       "<div>\n",
       "<style scoped>\n",
       "    .dataframe tbody tr th:only-of-type {\n",
       "        vertical-align: middle;\n",
       "    }\n",
       "\n",
       "    .dataframe tbody tr th {\n",
       "        vertical-align: top;\n",
       "    }\n",
       "\n",
       "    .dataframe thead th {\n",
       "        text-align: right;\n",
       "    }\n",
       "</style>\n",
       "<table border=\"1\" class=\"dataframe\">\n",
       "  <thead>\n",
       "    <tr style=\"text-align: right;\">\n",
       "      <th></th>\n",
       "      <th>f0</th>\n",
       "      <th>f1</th>\n",
       "      <th>f2</th>\n",
       "      <th>product</th>\n",
       "    </tr>\n",
       "  </thead>\n",
       "  <tbody>\n",
       "    <tr>\n",
       "      <td>f0</td>\n",
       "      <td>1.000000</td>\n",
       "      <td>0.000528</td>\n",
       "      <td>-0.000448</td>\n",
       "      <td>-0.001987</td>\n",
       "    </tr>\n",
       "    <tr>\n",
       "      <td>f1</td>\n",
       "      <td>0.000528</td>\n",
       "      <td>1.000000</td>\n",
       "      <td>0.000779</td>\n",
       "      <td>-0.001012</td>\n",
       "    </tr>\n",
       "    <tr>\n",
       "      <td>f2</td>\n",
       "      <td>-0.000448</td>\n",
       "      <td>0.000779</td>\n",
       "      <td>1.000000</td>\n",
       "      <td>0.445871</td>\n",
       "    </tr>\n",
       "    <tr>\n",
       "      <td>product</td>\n",
       "      <td>-0.001987</td>\n",
       "      <td>-0.001012</td>\n",
       "      <td>0.445871</td>\n",
       "      <td>1.000000</td>\n",
       "    </tr>\n",
       "  </tbody>\n",
       "</table>\n",
       "</div>"
      ],
      "text/plain": [
       "               f0        f1        f2   product\n",
       "f0       1.000000  0.000528 -0.000448 -0.001987\n",
       "f1       0.000528  1.000000  0.000779 -0.001012\n",
       "f2      -0.000448  0.000779  1.000000  0.445871\n",
       "product -0.001987 -0.001012  0.445871  1.000000"
      ]
     },
     "execution_count": 14,
     "metadata": {},
     "output_type": "execute_result"
    }
   ],
   "source": [
    "corr_matrix = df_3[num_data].corr()\n",
    "print('Матрица корреляции для данных 3го региона')\n",
    "corr_matrix"
   ]
  },
  {
   "cell_type": "markdown",
   "metadata": {},
   "source": [
    "<b>Вывод</b>   \n",
    "В качестве входных данных имеем 3 датафрейма. Данные в целом хорошо подготовлены, отсутствуют пропуски, значимые выбросы, несоответствия типов данных. Характер распределения значений признаков и целевого признака практически является нормальным.  \n",
    "  \n",
    "В данных второго региона замечена аномальная величина корреляции между признаком f2 и целевым признаком product   "
   ]
  },
  {
   "cell_type": "markdown",
   "metadata": {},
   "source": [
    "## Обучение и проверка модели"
   ]
  },
  {
   "cell_type": "markdown",
   "metadata": {},
   "source": [
    "Напишем функцию по подготовке данных к обучению модели и функцию по оценке точности ее предсказаний."
   ]
  },
  {
   "cell_type": "code",
   "execution_count": 15,
   "metadata": {},
   "outputs": [],
   "source": [
    "# Избавимся от предупреждения о изменение исходных данных в датафрейме.\n",
    "pd.options.mode.chained_assignment = None"
   ]
  },
  {
   "cell_type": "code",
   "execution_count": 16,
   "metadata": {},
   "outputs": [],
   "source": [
    "def data_preparetion(data):\n",
    "# Разделим данные  на целевой признак и остальные признаки используемые для обучения\n",
    "    features = data.drop(['id', 'product'], axis=1)\n",
    "    target = data['product']\n",
    "    \n",
    "# Получим валидационный и обучающий наборы данных\n",
    "    division_random_state = 12345\n",
    "\n",
    "    features_valid, features_train, target_valid, target_train = train_test_split(\n",
    "    features, target, test_size=0.25, random_state=division_random_state)\n",
    "    \n",
    "# Проверим разделение исходных данных\n",
    "    print('Размер обучающего набора признаков:',  features_train.shape)\n",
    "    print('Размер валидационного набора признаков:',  features_valid.shape)\n",
    "    \n",
    "# Численные признаки\n",
    "    numeric = ['f0', 'f1', 'f2']\n",
    "\n",
    "# Настроим структуру для масштабирования признаков \n",
    "    scaler = StandardScaler()\n",
    "    scaler.fit(features_train[numeric])\n",
    "# Вид признаков до маштабирования    \n",
    "    print()\n",
    "    print('Вид обучающего набора признаков до маштабирования:\\n', features_train.head(3))\n",
    "    print('Вид валидационного набора признаков до маштабирования:\\n',  features_valid.head(3))\n",
    "    \n",
    "# Произведем маштабирование\n",
    "    features_train[numeric] = scaler.transform(features_train[numeric])\n",
    "    features_valid[numeric] = scaler.transform(features_valid[numeric])\n",
    "    \n",
    "# Вид признаков после маштабирования \n",
    "    print()\n",
    "    print('Вид обучающего набора признаков после маштабирования:\\n',  features_train.head(3))\n",
    "    print('Вид валидационного набора признаков после маштабирования:\\n',  features_valid.head(3))\n",
    "   \n",
    "    return features_valid, features_train, target_valid, target_train"
   ]
  },
  {
   "cell_type": "markdown",
   "metadata": {},
   "source": [
    "Функция оценки точности"
   ]
  },
  {
   "cell_type": "code",
   "execution_count": 17,
   "metadata": {},
   "outputs": [],
   "source": [
    "def model_accuracy(model, data, features_valid, target_valid):\n",
    "    \n",
    "    predictions_valid = model.predict(features_valid) #  предсказания модели на валидационной выборке \n",
    "    \n",
    "    RMSE = mean_squared_error(target_valid, predictions_valid)**0.5  #значение метрики RMSE на валидационной выборке\n",
    "    print('Среднеквадратичная ошибка модели по оценке запасов нефти, тыс. баррелей:', RMSE.round(2))\n",
    "   \n",
    "    predict_oil_reserve = predictions_valid.mean()\n",
    "    print('Cредний запас предсказанного сырья:', predict_oil_reserve)    \n",
    "        \n",
    "    oil_reserve = data['product'].mean()\n",
    "    print()\n",
    "    print('Средней реальных запас нефти, тыс. баррелей:\\n', oil_reserve)\n",
    "    \n",
    "    real_product_quantiles = data.quantile([.1, .25, .5, .75], axis = 0)['product']\n",
    "    print()\n",
    "    print('Стандартные квантили реальных запасов нефти, тыс. баррелей:\\n', real_product_quantiles)\n",
    "\n",
    "    \n",
    "    return RMSE, predictions_valid"
   ]
  },
  {
   "cell_type": "markdown",
   "metadata": {},
   "source": [
    "### Модель оценки запасов нефти 1-го региона"
   ]
  },
  {
   "cell_type": "code",
   "execution_count": 18,
   "metadata": {},
   "outputs": [
    {
     "name": "stdout",
     "output_type": "stream",
     "text": [
      "Размер обучающего набора признаков: (25000, 3)\n",
      "Размер валидационного набора признаков: (75000, 3)\n",
      "\n",
      "Вид обучающего набора признаков до маштабирования:\n",
      "              f0        f1        f2\n",
      "71751  0.948970 -0.057547  2.095727\n",
      "80493  0.992974  0.206671 -0.142278\n",
      "2655   1.199854 -0.563356 -1.852991\n",
      "Вид валидационного набора признаков до маштабирования:\n",
      "              f0        f1        f2\n",
      "27212  0.022450  0.951034  2.197333\n",
      "7866   1.766731  0.007835  6.436602\n",
      "62041  0.724514  0.666063  1.840177\n",
      "\n",
      "Вид обучающего набора признаков после маштабирования:\n",
      "              f0        f1        f2\n",
      "71751  0.504264 -0.609611 -0.122417\n",
      "80493  0.554739 -0.086533 -0.812326\n",
      "2655   0.792043 -1.610973 -1.339686\n",
      "Вид валидационного набора признаков после маштабирования:\n",
      "              f0        f1        f2\n",
      "27212 -0.558510  1.387099 -0.091095\n",
      "7866   1.442285 -0.480172  1.215742\n",
      "62041  0.246800  0.822935 -0.201195\n"
     ]
    }
   ],
   "source": [
    "# Подготовим данные\n",
    "features_valid_1, features_train_1, target_valid_1, target_train_1 = data_preparetion(df_1)"
   ]
  },
  {
   "cell_type": "markdown",
   "metadata": {},
   "source": [
    "Обучение модели на подготовленных данных. В качестве алгоритма выбирается линейная регрессия в соответствии с требованием ТЗ."
   ]
  },
  {
   "cell_type": "code",
   "execution_count": 19,
   "metadata": {},
   "outputs": [
    {
     "data": {
      "text/plain": [
       "LinearRegression(copy_X=True, fit_intercept=True, n_jobs=None, normalize=False)"
      ]
     },
     "execution_count": 19,
     "metadata": {},
     "output_type": "execute_result"
    }
   ],
   "source": [
    "model_reg_1 = LinearRegression()  # инициализируем модель LinearRegression\n",
    "model_reg_1.fit(features_train_1, target_train_1) # обучим модель на тренировочной выборке"
   ]
  },
  {
   "cell_type": "code",
   "execution_count": 20,
   "metadata": {},
   "outputs": [
    {
     "name": "stdout",
     "output_type": "stream",
     "text": [
      "Среднеквадратичная ошибка модели по оценке запасов нефти, тыс. баррелей: 37.74\n",
      "Cредний запас предсказанного сырья: 92.1180112790598\n",
      "\n",
      "Средней реальных запас нефти, тыс. баррелей:\n",
      " 92.50000000000001\n",
      "\n",
      "Стандартные квантили реальных запасов нефти, тыс. баррелей:\n",
      " 0.10     32.585911\n",
      "0.25     56.497507\n",
      "0.50     91.849972\n",
      "0.75    128.564089\n",
      "Name: product, dtype: float64\n"
     ]
    }
   ],
   "source": [
    "# Произведем оценку запасов нефти\n",
    "RMSE_reg_1, predict_oil_reserve_reg_1 = model_accuracy(model_reg_1, df_1, features_valid_1, target_valid_1)"
   ]
  },
  {
   "cell_type": "markdown",
   "metadata": {},
   "source": [
    "### Модель оценки запасов нефти 2-го региона"
   ]
  },
  {
   "cell_type": "code",
   "execution_count": 21,
   "metadata": {},
   "outputs": [
    {
     "name": "stdout",
     "output_type": "stream",
     "text": [
      "Размер обучающего набора признаков: (25000, 3)\n",
      "Размер валидационного набора признаков: (75000, 3)\n",
      "\n",
      "Вид обучающего набора признаков до маштабирования:\n",
      "              f0         f1        f2\n",
      "71751 -0.371866  -1.862494  3.002210\n",
      "80493  9.015122 -13.881455  1.995363\n",
      "2655  -6.507568  -4.817448  1.003449\n",
      "Вид валидационного набора признаков до маштабирования:\n",
      "               f0        f1        f2\n",
      "27212  -6.488552 -1.590478  3.001311\n",
      "7866   18.819463  4.602079  2.996867\n",
      "62041  10.816499 -3.919653  1.991077\n",
      "\n",
      "Вид обучающего набора признаков после маштабирования:\n",
      "              f0        f1        f2\n",
      "71751 -0.169227  0.578245  0.299601\n",
      "80493  0.877640 -1.779118 -0.290386\n",
      "2655  -0.853501 -0.001331 -0.871621\n",
      "Вид валидационного набора признаков после маштабирования:\n",
      "              f0        f1        f2\n",
      "27212 -0.851380  0.631597  0.299074\n",
      "7866   1.971052  1.846187  0.296470\n",
      "62041  1.078535  0.174760 -0.292897\n"
     ]
    }
   ],
   "source": [
    "# Подготовим данные\n",
    "features_valid_2, features_train_2, target_valid_2, target_train_2 = data_preparetion(df_2)"
   ]
  },
  {
   "cell_type": "code",
   "execution_count": 22,
   "metadata": {},
   "outputs": [
    {
     "data": {
      "text/plain": [
       "LinearRegression(copy_X=True, fit_intercept=True, n_jobs=None, normalize=False)"
      ]
     },
     "execution_count": 22,
     "metadata": {},
     "output_type": "execute_result"
    }
   ],
   "source": [
    "model_reg_2 = LinearRegression()  # инициализируем модель LinearRegression\n",
    "model_reg_2.fit(features_train_2, target_train_2) # обучим модель на тренировочной выборке"
   ]
  },
  {
   "cell_type": "code",
   "execution_count": 23,
   "metadata": {},
   "outputs": [
    {
     "name": "stdout",
     "output_type": "stream",
     "text": [
      "Среднеквадратичная ошибка модели по оценке запасов нефти, тыс. баррелей: 0.89\n",
      "Cредний запас предсказанного сырья: 68.85358463662438\n",
      "\n",
      "Средней реальных запас нефти, тыс. баррелей:\n",
      " 68.82500000000002\n",
      "\n",
      "Стандартные квантили реальных запасов нефти, тыс. баррелей:\n",
      " 0.10      3.179103\n",
      "0.25     26.953261\n",
      "0.50     57.085625\n",
      "0.75    107.813044\n",
      "Name: product, dtype: float64\n"
     ]
    }
   ],
   "source": [
    "# Произведем оценку запасов нефти\n",
    "RMSE_reg_2, predict_oil_reserve_reg_2 = model_accuracy(model_reg_2, df_2, features_valid_2, target_valid_2)"
   ]
  },
  {
   "cell_type": "markdown",
   "metadata": {},
   "source": [
    "### Модель оценки запасов нефти 3-го региона"
   ]
  },
  {
   "cell_type": "code",
   "execution_count": 24,
   "metadata": {},
   "outputs": [
    {
     "name": "stdout",
     "output_type": "stream",
     "text": [
      "Размер обучающего набора признаков: (25000, 3)\n",
      "Размер валидационного набора признаков: (75000, 3)\n",
      "\n",
      "Вид обучающего набора признаков до маштабирования:\n",
      "              f0        f1        f2\n",
      "71751 -1.444717 -3.861599  2.225805\n",
      "80493 -1.418617  1.276544 -0.976433\n",
      "2655  -4.587649 -0.413199  1.649268\n",
      "Вид валидационного набора признаков до маштабирования:\n",
      "              f0        f1        f2\n",
      "27212 -0.906828  1.339033  1.106789\n",
      "7866  -1.536353 -0.704673 -1.747632\n",
      "62041 -1.959584  0.356044  3.528659\n",
      "\n",
      "Вид обучающего набора признаков после маштабирования:\n",
      "              f0        f1        f2\n",
      "71751 -0.830988 -2.239384 -0.074691\n",
      "80493 -0.815920  0.734955 -0.995429\n",
      "2655  -2.645507 -0.243194 -0.240462\n",
      "Вид валидационного набора признаков после маштабирования:\n",
      "              f0        f1        f2\n",
      "27212 -0.520447  0.771128 -0.396441\n",
      "7866  -0.883893 -0.411921 -1.217172\n",
      "62041 -1.128238  0.202101  0.299919\n"
     ]
    }
   ],
   "source": [
    "# Подготовим данные\n",
    "features_valid_3, features_train_3, target_valid_3, target_train_3 = data_preparetion(df_3)"
   ]
  },
  {
   "cell_type": "code",
   "execution_count": 25,
   "metadata": {},
   "outputs": [
    {
     "data": {
      "text/plain": [
       "LinearRegression(copy_X=True, fit_intercept=True, n_jobs=None, normalize=False)"
      ]
     },
     "execution_count": 25,
     "metadata": {},
     "output_type": "execute_result"
    }
   ],
   "source": [
    "model_reg_3 = LinearRegression()  # инициализируем модель LinearRegression\n",
    "model_reg_3.fit(features_train_3, target_train_3) # обучим модель на тренировочной выборке"
   ]
  },
  {
   "cell_type": "code",
   "execution_count": 26,
   "metadata": {},
   "outputs": [
    {
     "name": "stdout",
     "output_type": "stream",
     "text": [
      "Среднеквадратичная ошибка модели по оценке запасов нефти, тыс. баррелей: 40.07\n",
      "Cредний запас предсказанного сырья: 94.95624523467869\n",
      "\n",
      "Средней реальных запас нефти, тыс. баррелей:\n",
      " 95.00000000000004\n",
      "\n",
      "Стандартные квантили реальных запасов нефти, тыс. баррелей:\n",
      " 0.10     34.592284\n",
      "0.25     59.450441\n",
      "0.50     94.925613\n",
      "0.75    130.595027\n",
      "Name: product, dtype: float64\n"
     ]
    }
   ],
   "source": [
    "# Произведем оценку запасов нефти\n",
    "RMSE_reg_3, predict_oil_reserve_reg_3 = model_accuracy(model_reg_3, df_3, features_valid_3, target_valid_3)"
   ]
  },
  {
   "cell_type": "markdown",
   "metadata": {},
   "source": [
    "<b> Вывод </b>  \n",
    "Произведено предсказание запасов нефти в трех регионах. Как было показано выше распределение запасов нефти по указанным точкам имеет нормальное распределение, что подтверждается равенством медианных и среднеарифметических значений 1 и 3 региона. Во втором регионе имеется отклонение в распределении. Не смотря на наличие среднеквадратичной ошибки предсказанных запасов нефти, Средний предсказанный запас практически идеально совпадает с реальным. То есть ошибки модели компенсируют друг друга, следовательно при достаточном числе точек модель будет предсказывать запасы нефти с очень высокой точностью, которая соизмерима с точностью прямых/косвенных измерений запасов нефти.  \n",
    "\n",
    "Исходя из того что в данных существует корреляции между признаком f2 и целевым признаком product равная практически единице, то модель соответствеено \"обучилась\" делать предсказания тоже с точностью близкой к 100%, о чем свидетельствует среднеквадратичная ошибка стремящияся к очень малой величине.\n",
    "\n",
    "Предварительно можно сказать, что наиболее перспективным считаем 3 регион имеющим наибольшее значение среднего запаса нефти.\n"
   ]
  },
  {
   "cell_type": "markdown",
   "metadata": {},
   "source": [
    "## Подготовка к расчёту прибыли"
   ]
  },
  {
   "cell_type": "markdown",
   "metadata": {},
   "source": [
    "Рассчитайем достаточный объём сырья для безубыточной разработки новой скважины.   "
   ]
  },
  {
   "cell_type": "code",
   "execution_count": 27,
   "metadata": {},
   "outputs": [],
   "source": [
    "# Исходнные данные:\n",
    "N = 500  # Число скважин планируемых к разведке\n",
    "n = 200  # Число планируемых скважин к разработке\n",
    "budget = 10**7  # Бюджет на разработку скважин в регионе,тыс. рублей;  \n",
    "barrel_income = 450 # Доход с каждой единицы продукта составляет 450 тыс. рублей, поскольку объём указан в тысячах баррелей."
   ]
  },
  {
   "cell_type": "code",
   "execution_count": 28,
   "metadata": {},
   "outputs": [
    {
     "data": {
      "text/plain": [
       "50000.0"
      ]
     },
     "execution_count": 28,
     "metadata": {},
     "output_type": "execute_result"
    }
   ],
   "source": [
    "# Максимально допустимая стоимость скважины, тыс.рублей\n",
    "oilwell_price = budget / n \n",
    "oilwell_price"
   ]
  },
  {
   "cell_type": "code",
   "execution_count": 29,
   "metadata": {},
   "outputs": [
    {
     "data": {
      "text/plain": [
       "111.11111111111111"
      ]
     },
     "execution_count": 29,
     "metadata": {},
     "output_type": "execute_result"
    }
   ],
   "source": [
    "# Минимальный объем запасов при которых рентабельна разработка скважины, тыс. баррелей\n",
    "threshold_oilwell_reserve = oilwell_price / barrel_income\n",
    "threshold_oilwell_reserve"
   ]
  },
  {
   "cell_type": "markdown",
   "metadata": {},
   "source": [
    "Посчитаем запасы нефти у 40% скважин с наибольшими запасами"
   ]
  },
  {
   "cell_type": "code",
   "execution_count": 30,
   "metadata": {},
   "outputs": [
    {
     "name": "stdout",
     "output_type": "stream",
     "text": [
      "Регион №1 0    98.191135\n",
      "Name: 0.6, dtype: float64\n",
      "Регион №2 0    82.942461\n",
      "Name: 0.6, dtype: float64\n",
      "Регион №3 0    99.996286\n",
      "Name: 0.6, dtype: float64\n"
     ]
    }
   ],
   "source": [
    "print('Регион №1', pd.DataFrame(predict_oil_reserve_reg_1).quantile(0.6))\n",
    "print('Регион №2', pd.DataFrame(predict_oil_reserve_reg_2).quantile(0.6))\n",
    "print('Регион №3', pd.DataFrame(predict_oil_reserve_reg_3).quantile(0.6))"
   ]
  },
  {
   "cell_type": "markdown",
   "metadata": {},
   "source": [
    "<b> Вывод </b>  \n",
    "Пороговое значение запасов нефти, при котором скважина становиться рентабельной превышает на 27% среднее значение запасов в наиболее перспективном 3 регионе. Исходя из дальнейших планов исследовать 500 точек, из которых к разработке выберут 200 наиболее перспективных, то можно сказать, что 60 % точек будут откинуто, однако оставшиеся 40% все еще будут включать скважины с уровнем запасов нефти ниже порогового, при котором достигается рентабельность производства. Отсюда следует рекомендация: либо увеличить число точек к исследованию, либо снизить количество скважин, так как они все равно принесут убыток."
   ]
  },
  {
   "cell_type": "markdown",
   "metadata": {},
   "source": [
    "## Расчёт прибыли и рисков "
   ]
  },
  {
   "cell_type": "markdown",
   "metadata": {},
   "source": [
    "Сделаем произвольную подвыборку из 500 точек для исследования и с помощью ранее обученной модели выберем 200 наиболее перспективных точек для разработки. Оценим прибыль, которую потенциально можно получить с данного месторождения."
   ]
  },
  {
   "cell_type": "markdown",
   "metadata": {},
   "source": [
    "Функция для техники Bootstrap с 1000 выборок, чтобы найти распределение прибыли"
   ]
  },
  {
   "cell_type": "code",
   "execution_count": 31,
   "metadata": {},
   "outputs": [],
   "source": [
    "# state = np.random.RandomState(123)\n",
    "\n",
    "# def gross_profit_calculation(features_valid, target_valid, model):\n",
    "#     gross_profits = []\n",
    "#     for i in range(1000):\n",
    "#         # Произведем выборку 500 точек из валидационного набора:\n",
    "#         features_subsample = features_valid.sample(n=500, replace=True, random_state=state) \n",
    "        \n",
    "#         # Реальный запас нефти на подвыборке\n",
    "#         real_reserves = target_valid[features_subsample.index]\n",
    "        \n",
    "#         # Предсказанный запас нефти на подвыборке\n",
    "#         subsample_predictions = model.predict(features_subsample)\n",
    "        \n",
    "#         #  200 точек с наибольшим реальным запасом нефти\n",
    "#         best_oil_real_reserve = nlargest(200, real_reserves)\n",
    "        \n",
    "#         #  200 точек с наибольшим предсказанным запасом нефти\n",
    "#         best_oil_predict_reserve = nlargest(200, subsample_predictions)\n",
    "        \n",
    "#         # Суммарная прибыль \n",
    "#         profit = sum(best_oil_predict_reserve) * barrel_income\n",
    "        \n",
    "#         # Валовая прибыль, млн. рублей\n",
    "#         gross_profit = round((profit - budget)) / 1000\n",
    "#         gross_profits.append(gross_profit)  \n",
    "        \n",
    "#     df_gross_profits = pd.DataFrame(gross_profits, columns=['gross_profits'])\n",
    "    \n",
    "#     # Расчитаем 95% доверительный интервал для валовой выручки\n",
    "#     lower_profit = df_gross_profits['gross_profits'].quantile(0.025)\n",
    "#     higher_profit = df_gross_profits['gross_profits'].quantile(0.975)\n",
    "#     print('С вероятностью 95% валовая выручка будет от', lower_profit, 'до', higher_profit, ',млн.рублей')\n",
    "    \n",
    "#     maen_profit = df_gross_profits['gross_profits'].mean()\n",
    "#     print('Средняя выручка:', maen_profit, ',млн.рублей')\n",
    "    \n",
    "#     print('Общие статистические данные распределения валовой выручки')\n",
    "#     print(df_gross_profits['gross_profits'].describe())\n",
    "    \n",
    "#     return df_gross_profits, maen_profit, lower_profit, higher_profit"
   ]
  },
  {
   "cell_type": "code",
   "execution_count": 32,
   "metadata": {},
   "outputs": [],
   "source": [
    "state = np.random.RandomState(123)\n",
    "\n",
    "def gross_profit_calculation(features_valid, target_valid, model):\n",
    "    gross_profits = []\n",
    "    for i in range(1000):\n",
    "        # Произведем выборку 500 точек из валидационного набора:\n",
    "        features_subsample = features_valid.sample(n=500, replace=True, random_state=state) \n",
    "        \n",
    "        # Создадим датафрейм реальных запасов нефти на подвыборке\n",
    "        real_reserves = target_valid[features_subsample.index]\n",
    "        df = pd.DataFrame(real_reserves)\n",
    "        \n",
    "        # Предскажем запас нефти на подвыборке и добавим предсказания в датафрейм\n",
    "        subsample_predictions = model.predict(features_subsample)\n",
    "        df.insert(1, 'predictions',subsample_predictions, True)\n",
    "        \n",
    "        # Отсортируем в порядке убывания по столбцу с предсказаниями и сбросим индексы\n",
    "        df = df.sort_values(by='predictions', ascending = False)\n",
    "        df.reset_index(inplace = True, drop = True)\n",
    "        \n",
    "        #  200 точек с наибольшим предсказанным запасом нефти\n",
    "        best_oil_predict_reserve = df['predictions'].loc[:199]\n",
    "        \n",
    "        # Реальные запасы нефти в 200х выбранных точках\n",
    "        best_oil_real_reserve = df['product'].loc[:199]\n",
    "        \n",
    "        # Суммарная прибыль при разработке данных месторождений нефти\n",
    "        profit = sum(best_oil_real_reserve) * barrel_income\n",
    "        \n",
    "        # Валовая прибыль, млн. рублей\n",
    "        gross_profit = round((profit - budget)) / 1000\n",
    "        gross_profits.append(gross_profit)  \n",
    "        \n",
    "    df_gross_profits = pd.DataFrame(gross_profits, columns=['gross_profits'])\n",
    "    \n",
    "    # Расчитаем 95% доверительный интервал для валовой выручки\n",
    "    lower_profit = df_gross_profits['gross_profits'].quantile(0.025)\n",
    "    higher_profit = df_gross_profits['gross_profits'].quantile(0.975)\n",
    "    print('С вероятностью 95% валовая выручка будет от', lower_profit, 'до', higher_profit, ',млн.рублей')\n",
    "    \n",
    "    maen_profit = df_gross_profits['gross_profits'].mean()\n",
    "    print('Средняя выручка:', maen_profit, ',млн.рублей')\n",
    "    \n",
    "    print('Общие статистические данные распределения валовой выручки')\n",
    "    print(df_gross_profits['gross_profits'].describe())\n",
    "    \n",
    "    return df_gross_profits, maen_profit, lower_profit, higher_profit"
   ]
  },
  {
   "cell_type": "markdown",
   "metadata": {},
   "source": [
    "Функция оценки рисков получения убытка"
   ]
  },
  {
   "cell_type": "code",
   "execution_count": 33,
   "metadata": {},
   "outputs": [],
   "source": [
    "def risk_assessment(profit_df):\n",
    "    \n",
    "    negative_profit = profit_df[profit_df['gross_profits'] < 0].shape[0]\n",
    "    positive_profit = profit_df[profit_df['gross_profits'] >= 0].shape[0]\n",
    "    \n",
    "    risk = negative_profit / (negative_profit + positive_profit) * 100\n",
    "    print('Вероятность убытка состовляет, %:', risk)\n",
    "    return risk"
   ]
  },
  {
   "cell_type": "markdown",
   "metadata": {},
   "source": [
    "### Расчет прибыли добычи нефти в 1-ом регионе"
   ]
  },
  {
   "cell_type": "code",
   "execution_count": 34,
   "metadata": {},
   "outputs": [
    {
     "name": "stdout",
     "output_type": "stream",
     "text": [
      "С вероятностью 95% валовая выручка будет от -82.968925 до 927.7679999999999 ,млн.рублей\n",
      "Средняя выручка: 436.447898 ,млн.рублей\n",
      "Общие статистические данные распределения валовой выручки\n",
      "count    1000.000000\n",
      "mean      436.447898\n",
      "std       261.944443\n",
      "min      -401.079000\n",
      "25%       267.835250\n",
      "50%       442.282500\n",
      "75%       627.376250\n",
      "max      1374.635000\n",
      "Name: gross_profits, dtype: float64\n"
     ]
    }
   ],
   "source": [
    "df_gross_profits_1, maen_profit_1, lower_profit_1, higher_profit_1 =\\\n",
    "gross_profit_calculation(features_valid_1, target_valid_1, model_reg_1)"
   ]
  },
  {
   "cell_type": "code",
   "execution_count": 44,
   "metadata": {},
   "outputs": [
    {
     "data": {
      "text/plain": [
       "Text(0, 0.5, 'Число эксперементов, шт')"
      ]
     },
     "execution_count": 44,
     "metadata": {},
     "output_type": "execute_result"
    },
    {
     "data": {
      "image/png": "[encoded data removed]",
      "text/plain": [
       "<Figure size 432x288 with 1 Axes>"
      ]
     },
     "metadata": {
      "needs_background": "light"
     },
     "output_type": "display_data"
    }
   ],
   "source": [
    "df_gross_profits_1['gross_profits'].hist(bins = 25, range = (-500,1500))\n",
    "plt.title('Распределение прибыли добычи в 1ом регионе')\n",
    "plt.xlabel('Валовая прибыль, млн. рублей')\n",
    "plt.ylabel('Число эксперементов, шт')"
   ]
  },
  {
   "cell_type": "code",
   "execution_count": 36,
   "metadata": {},
   "outputs": [
    {
     "name": "stdout",
     "output_type": "stream",
     "text": [
      "Вероятность убытка состовляет, %: 5.5\n"
     ]
    }
   ],
   "source": [
    "risk_1 = risk_assessment(df_gross_profits_1)"
   ]
  },
  {
   "cell_type": "markdown",
   "metadata": {},
   "source": [
    "### Расчет прибыли добычи нефти в 2-ом регионе"
   ]
  },
  {
   "cell_type": "code",
   "execution_count": 37,
   "metadata": {},
   "outputs": [
    {
     "name": "stdout",
     "output_type": "stream",
     "text": [
      "С вероятностью 95% валовая выручка будет от 51.00512500000001 до 883.70075 ,млн.рублей\n",
      "Средняя выручка: 450.506596 ,млн.рублей\n",
      "Общие статистические данные распределения валовой выручки\n",
      "count    1000.000000\n",
      "mean      450.506596\n",
      "std       211.724954\n",
      "min      -208.627000\n",
      "25%       305.766000\n",
      "50%       450.287000\n",
      "75%       582.555000\n",
      "max      1226.821000\n",
      "Name: gross_profits, dtype: float64\n"
     ]
    }
   ],
   "source": [
    "df_gross_profits_2, maen_profit_2, lower_profit_2, higher_profit_2 =\\\n",
    "gross_profit_calculation(features_valid_2, target_valid_2, model_reg_2)"
   ]
  },
  {
   "cell_type": "code",
   "execution_count": 48,
   "metadata": {},
   "outputs": [
    {
     "data": {
      "text/plain": [
       "Text(0, 0.5, 'Число эксперементов, шт')"
      ]
     },
     "execution_count": 48,
     "metadata": {},
     "output_type": "execute_result"
    },
    {
     "data": {
      "image/png": "[encoded data removed]",
      "text/plain": [
       "<Figure size 432x288 with 1 Axes>"
      ]
     },
     "metadata": {
      "needs_background": "light"
     },
     "output_type": "display_data"
    }
   ],
   "source": [
    "df_gross_profits_2['gross_profits'].hist(bins = 30, range = (-300,1200))\n",
    "plt.title('Распределение прибыли добычи в 2ом регионе')\n",
    "plt.xlabel('Валовая прибыль, млн. рублей')\n",
    "plt.ylabel('Число эксперементов, шт')"
   ]
  },
  {
   "cell_type": "code",
   "execution_count": 39,
   "metadata": {},
   "outputs": [
    {
     "name": "stdout",
     "output_type": "stream",
     "text": [
      "Вероятность убытка состовляет, %: 1.3\n"
     ]
    }
   ],
   "source": [
    "risk_2 = risk_assessment(df_gross_profits_2)"
   ]
  },
  {
   "cell_type": "markdown",
   "metadata": {},
   "source": [
    "### Расчет прибыли добычи нефти в 3-ем регионе"
   ]
  },
  {
   "cell_type": "code",
   "execution_count": 40,
   "metadata": {},
   "outputs": [
    {
     "name": "stdout",
     "output_type": "stream",
     "text": [
      "С вероятностью 95% валовая выручка будет от -165.42709999999997 до 872.6257999999998 ,млн.рублей\n",
      "Средняя выручка: 365.47411100000005 ,млн.рублей\n",
      "Общие статистические данные распределения валовой выручки\n",
      "count    1000.000000\n",
      "mean      365.474111\n",
      "std       267.300223\n",
      "min      -555.483000\n",
      "25%       189.371000\n",
      "50%       372.040000\n",
      "75%       544.747750\n",
      "max      1298.188000\n",
      "Name: gross_profits, dtype: float64\n"
     ]
    }
   ],
   "source": [
    "df_gross_profits_3, maen_profit_3, lower_profit_3, higher_profit_3 =\\\n",
    "gross_profit_calculation(features_valid_3, target_valid_3, model_reg_3)"
   ]
  },
  {
   "cell_type": "code",
   "execution_count": 47,
   "metadata": {},
   "outputs": [
    {
     "data": {
      "text/plain": [
       "Text(0, 0.5, 'Число эксперементов, шт')"
      ]
     },
     "execution_count": 47,
     "metadata": {},
     "output_type": "execute_result"
    },
    {
     "data": {
      "image/png": "[encoded data removed]",
      "text/plain": [
       "<Figure size 432x288 with 1 Axes>"
      ]
     },
     "metadata": {
      "needs_background": "light"
     },
     "output_type": "display_data"
    }
   ],
   "source": [
    "df_gross_profits_3['gross_profits'].hist(bins = 20, range = (-600,1400))\n",
    "plt.title('Распределение прибыли добычи в 3ем регионе')\n",
    "plt.xlabel('Валовая прибыль, млн. рублей')\n",
    "plt.ylabel('Число эксперементов, шт')"
   ]
  },
  {
   "cell_type": "code",
   "execution_count": 42,
   "metadata": {},
   "outputs": [
    {
     "name": "stdout",
     "output_type": "stream",
     "text": [
      "Вероятность убытка состовляет, %: 9.2\n"
     ]
    }
   ],
   "source": [
    "risk_3 = risk_assessment(df_gross_profits_3)"
   ]
  },
  {
   "cell_type": "markdown",
   "metadata": {},
   "source": [
    "## Вывод"
   ]
  },
  {
   "cell_type": "markdown",
   "metadata": {},
   "source": [
    "Для наглядного сравнения всех регионов с месторождениями нефти, составим единую сводную таблицу с основными экономическими характеристиками."
   ]
  },
  {
   "cell_type": "code",
   "execution_count": 43,
   "metadata": {},
   "outputs": [
    {
     "data": {
      "text/html": [
       "<div>\n",
       "<style scoped>\n",
       "    .dataframe tbody tr th:only-of-type {\n",
       "        vertical-align: middle;\n",
       "    }\n",
       "\n",
       "    .dataframe tbody tr th {\n",
       "        vertical-align: top;\n",
       "    }\n",
       "\n",
       "    .dataframe thead th {\n",
       "        text-align: right;\n",
       "    }\n",
       "</style>\n",
       "<table border=\"1\" class=\"dataframe\">\n",
       "  <thead>\n",
       "    <tr style=\"text-align: right;\">\n",
       "      <th></th>\n",
       "      <th>Регион</th>\n",
       "      <th>Средняя выручка, млн.руб</th>\n",
       "      <th>С вероятностью 95% выручка составит,от и доб млн.руб</th>\n",
       "      <th>Риск убытка, %</th>\n",
       "    </tr>\n",
       "  </thead>\n",
       "  <tbody>\n",
       "    <tr>\n",
       "      <td>0</td>\n",
       "      <td>Месторождение 1</td>\n",
       "      <td>436.447898</td>\n",
       "      <td>[-82.968925, 927.7679999999999]</td>\n",
       "      <td>5.5</td>\n",
       "    </tr>\n",
       "    <tr>\n",
       "      <td>1</td>\n",
       "      <td>Месторождение 2</td>\n",
       "      <td>450.506596</td>\n",
       "      <td>[51.00512500000001, 883.70075]</td>\n",
       "      <td>1.3</td>\n",
       "    </tr>\n",
       "    <tr>\n",
       "      <td>2</td>\n",
       "      <td>Месторождение 3</td>\n",
       "      <td>365.474111</td>\n",
       "      <td>[-165.42709999999997, 872.6257999999998]</td>\n",
       "      <td>9.2</td>\n",
       "    </tr>\n",
       "  </tbody>\n",
       "</table>\n",
       "</div>"
      ],
      "text/plain": [
       "            Регион  Средняя выручка, млн.руб  \\\n",
       "0  Месторождение 1                436.447898   \n",
       "1  Месторождение 2                450.506596   \n",
       "2  Месторождение 3                365.474111   \n",
       "\n",
       "  С вероятностью 95% выручка составит,от и доб млн.руб  Риск убытка, %  \n",
       "0                    [-82.968925, 927.7679999999999]               5.5  \n",
       "1                     [51.00512500000001, 883.70075]               1.3  \n",
       "2           [-165.42709999999997, 872.6257999999998]               9.2  "
      ]
     },
     "execution_count": 43,
     "metadata": {},
     "output_type": "execute_result"
    }
   ],
   "source": [
    "df = pd.DataFrame(\n",
    "{'Регион':['Месторождение 1', 'Месторождение 2', 'Месторождение 3'], \n",
    "'Средняя выручка, млн.руб':[maen_profit_1, maen_profit_2, maen_profit_3],\n",
    "'С вероятностью 95% выручка составит,от и доб млн.руб':\n",
    "([lower_profit_1, higher_profit_1],[lower_profit_2, higher_profit_2],[lower_profit_3, higher_profit_3]), \n",
    "'Риск убытка, %':[risk_1, risk_2, risk_3] \n",
    "})\n",
    "df"
   ]
  },
  {
   "cell_type": "markdown",
   "metadata": {},
   "source": [
    "<b> Вывод (старый)</b>  \n",
    "Месторождение №2 показывает наибольшую среднюю выручку, однако большой разброс 95% доверительного интервала и высокий риск получения убытков, весьма значительных, вплоть до 329.25 млн. руб., не позволяет рекомендовать данное месторождение к разработке. Месторождения №1 и №3 достаточно похожи, но первый номер немного выигрывает по всем метрикам, что и делает его нашим фаворитом в рекомендации на дальнейшее освоение.    \n",
    "Повысить валовую прибыль так же можно путем увеличения числа точек, рассматриваемых к бурению, так как часть выбранных скважин все же имеют запасы ниже порогового, при котором достигается рентабельность производства. Следовательно, нужно исследовать больше 500 точек, из которых будут выбираться места для бурения, либо вообще не бурить скважины с запасами меньше порогового.\n"
   ]
  },
  {
   "cell_type": "markdown",
   "metadata": {},
   "source": [
    "<b> Вывод </b>  \n",
    "Риски получить убыток при добыче нефти в первом и третьем регионах превышают допустимый порог 2.5 % и соответственно не могут быть рекомендованы к разработке, по крайней мере на текущем уровне исследований. Улучшение работы модели потенциально может сократить эти риски.  \n",
    "  \n",
    "Во втором регион, не смотря на изначально значительно худшие показатели запасов нефти, вероятность получить убытки наименьшая и находится в допустимых пределах, установленных в ТЗ. Так же величина среднее выручки наибольшая среди изученных регионов. Таких результатов получилось добиться благодаря очень высокой точности предсказаний модели. \n",
    "\n",
    "Таким образом бурение скважин в втором регионе является наиболее выгодным с точки зрения минимальных рисков и наибольшего среднего потенциального дохода.\n",
    "    "
   ]
  },
  {
   "cell_type": "code",
   "execution_count": null,
   "metadata": {},
   "outputs": [],
   "source": []
  }
 ],
 "metadata": {
  "kernelspec": {
   "display_name": "Python 3",
   "language": "python",
   "name": "python3"
  },
  "language_info": {
   "codemirror_mode": {
    "name": "ipython",
    "version": 3
   },
   "file_extension": ".py",
   "mimetype": "text/x-python",
   "name": "python",
   "nbconvert_exporter": "python",
   "pygments_lexer": "ipython3",
   "version": "3.8.5"
  },
  "toc": {
   "base_numbering": 1,
   "nav_menu": {},
   "number_sections": true,
   "sideBar": true,
   "skip_h1_title": true,
   "title_cell": "Table of Contents",
   "title_sidebar": "Contents",
   "toc_cell": false,
   "toc_position": {
    "height": "calc(100% - 180px)",
    "left": "10px",
    "top": "150px",
    "width": "260.868px"
   },
   "toc_section_display": true,
   "toc_window_display": true
  }
 },
 "nbformat": 4,
 "nbformat_minor": 2
}
