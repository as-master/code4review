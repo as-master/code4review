{
 "cells": [
  {
   "cell_type": "code",
   "execution_count": 6,
   "metadata": {},
   "outputs": [],
   "source": [
    "import catboost\n",
    "from catboost import CatBoostClassifier\n",
    "import pandas as pd\n",
    "import numpy as np\n",
    "import seaborn as sns\n",
    "import matplotlib.pyplot as plt\n",
    "import os\n",
    "import random"
   ]
  },
  {
   "cell_type": "code",
   "execution_count": 17,
   "metadata": {},
   "outputs": [],
   "source": [
    "from sklearn.metrics import precision_score, plot_roc_curve, recall_score, \\\n",
    "roc_curve, auc, plot_confusion_matrix, accuracy_score"
   ]
  },
  {
   "cell_type": "code",
   "execution_count": 25,
   "metadata": {},
   "outputs": [],
   "source": [
    "random.seed(42)\n",
    "np.random.seed(42)"
   ]
  },
  {
   "cell_type": "code",
   "execution_count": 7,
   "metadata": {},
   "outputs": [],
   "source": [
    "cat_model = CatBoostClassifier()"
   ]
  },
  {
   "cell_type": "code",
   "execution_count": 8,
   "metadata": {},
   "outputs": [
    {
     "data": {
      "text/plain": [
       "<catboost.core.CatBoostClassifier at 0x24fb64c5970>"
      ]
     },
     "execution_count": 8,
     "metadata": {},
     "output_type": "execute_result"
    }
   ],
   "source": [
    "cat_model.load_model('heart_attack_pred_model', format='cbm')"
   ]
  },
  {
   "cell_type": "code",
   "execution_count": 22,
   "metadata": {},
   "outputs": [],
   "source": [
    "X_test = pd.read_csv('X_test.csv')\n",
    "del X_test['Unnamed: 0']\n",
    "y_test = pd.read_csv('y_test.csv')\n",
    "del y_test['Unnamed: 0']"
   ]
  },
  {
   "cell_type": "code",
   "execution_count": 16,
   "metadata": {
    "scrolled": true
   },
   "outputs": [],
   "source": [
    "y_pred = cat_model.predict(X_test)"
   ]
  },
  {
   "cell_type": "code",
   "execution_count": 18,
   "metadata": {},
   "outputs": [],
   "source": [
    "def get_metrics(y_test, y_pred, print_metrics = True):\n",
    "    model_precision = round(precision_score(y_test, y_pred, average='binary'), 4)\n",
    "    model_recall = round(recall_score(y_test, y_pred), 4)\n",
    "    model_acc = round(accuracy_score(y_test, y_pred), 4)\n",
    "    if print_metrics:\n",
    "        print('precision: ', model_precision, '\\n'\n",
    "          'recall: ', model_recall, '\\n'\n",
    "          'accuracy: ', model_acc)\n",
    "    return model_precision, model_recall, model_acc"
   ]
  },
  {
   "cell_type": "code",
   "execution_count": 26,
   "metadata": {},
   "outputs": [
    {
     "name": "stdout",
     "output_type": "stream",
     "text": [
      "precision:  0.7059 \n",
      "recall:  0.878 \n",
      "accuracy:  0.7368\n"
     ]
    }
   ],
   "source": [
    "cat_precision, cat_recall, cat_acc = get_metrics(y_test, y_pred)"
   ]
  },
  {
   "cell_type": "code",
   "execution_count": 27,
   "metadata": {},
   "outputs": [
    {
     "name": "stdout",
     "output_type": "stream",
     "text": [
      "Collecting PyInstallerNote: you may need to restart the kernel to use updated packages.\n",
      "  Downloading pyinstaller-4.9-py3-none-win_amd64.whl (2.0 MB)\n",
      "Collecting pefile>=2017.8.1; sys_platform == \"win32\"\n",
      "  Downloading pefile-2021.9.3.tar.gz (72 kB)\n",
      "Collecting pyinstaller-hooks-contrib>=2020.6\n",
      "  Downloading pyinstaller_hooks_contrib-2022.2-py2.py3-none-any.whl (223 kB)\n",
      "Collecting altgraph\n",
      "  Downloading altgraph-0.17.2-py2.py3-none-any.whl (21 kB)\n",
      "Requirement already satisfied: setuptools in c:\\users\\professional\\anaconda\\anaconda3\\lib\\site-packages (from PyInstaller) (50.3.1.post20201107)\n",
      "Requirement already satisfied: pywin32-ctypes>=0.2.0; sys_platform == \"win32\" in c:\\users\\professional\\anaconda\\anaconda3\\lib\\site-packages (from PyInstaller) (0.2.0)\n",
      "Requirement already satisfied: future in c:\\users\\professional\\anaconda\\anaconda3\\lib\\site-packages (from pefile>=2017.8.1; sys_platform == \"win32\"->PyInstaller) (0.18.2)\n",
      "Building wheels for collected packages: pefile\n",
      "  Building wheel for pefile (setup.py): started\n",
      "  Building wheel for pefile (setup.py): finished with status 'done'\n",
      "  Created wheel for pefile: filename=pefile-2021.9.3-py3-none-any.whl size=68835 sha256=d680ad5f847b1e063b7ee9562620423813708e8320bfbfc3ac7bc3de97ff7cac\n",
      "  Stored in directory: c:\\users\\professional\\appdata\\local\\pip\\cache\\wheels\\ee\\a0\\e1\\ff2dafe5ae846f536acf0a4cc4a8b8d4ccb3044ab87f3ef174\n",
      "Successfully built pefile\n",
      "Installing collected packages: pefile, pyinstaller-hooks-contrib, altgraph, PyInstaller\n",
      "Successfully installed PyInstaller-4.9 altgraph-0.17.2 pefile-2021.9.3 pyinstaller-hooks-contrib-2022.2\n",
      "\n"
     ]
    }
   ],
   "source": [
    "pip install PyInstaller"
   ]
  },
  {
   "cell_type": "code",
   "execution_count": null,
   "metadata": {},
   "outputs": [],
   "source": []
  }
 ],
 "metadata": {
  "kernelspec": {
   "display_name": "Python 3",
   "language": "python",
   "name": "python3"
  },
  "language_info": {
   "codemirror_mode": {
    "name": "ipython",
    "version": 3
   },
   "file_extension": ".py",
   "mimetype": "text/x-python",
   "name": "python",
   "nbconvert_exporter": "python",
   "pygments_lexer": "ipython3",
   "version": "3.8.5"
  }
 },
 "nbformat": 4,
 "nbformat_minor": 4
}
